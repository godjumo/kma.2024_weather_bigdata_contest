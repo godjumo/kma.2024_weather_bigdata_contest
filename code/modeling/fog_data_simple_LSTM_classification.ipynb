{
 "cells": [
  {
   "cell_type": "code",
   "execution_count": 1,
   "metadata": {},
   "outputs": [],
   "source": [
    "import pandas as pd\n",
    "import numpy as np\n",
    "import matplotlib.pyplot as plt\n",
    "import matplotlib.font_manager as fm\n",
    "fe = fm.FontEntry(\n",
    "    fname=r'/usr/share/fonts/truetype/nanum/NanumGothic.ttf',\n",
    "    name='NanumGothic'\n",
    ")\n",
    "fm.fontManager.ttflist.insert(0, fe)\n",
    "plt.rcParams.update({\"font.size\" : 10, \n",
    "                     \"font.family\" : 'NanumGothic',\n",
    "                     \"axes.unicode_minus\" : False})\n",
    "plt.rc(\"font\", family = 'NanumGothic')\n",
    "import seaborn as sns\n",
    "from pathlib import Path"
   ]
  },
  {
   "cell_type": "code",
   "execution_count": 2,
   "metadata": {},
   "outputs": [],
   "source": [
    "DATA = Path(\"../../data\")"
   ]
  },
  {
   "cell_type": "code",
   "execution_count": 3,
   "metadata": {},
   "outputs": [],
   "source": [
    "train = pd.read_csv(DATA / \"fog_train_knn-imputate_robust.csv\")\n",
    "test = pd.read_csv(DATA / \"fog_test_knn-imputate_robust.csv\")"
   ]
  },
  {
   "cell_type": "code",
   "execution_count": 4,
   "metadata": {},
   "outputs": [
    {
     "data": {
      "text/html": [
       "<div>\n",
       "<style scoped>\n",
       "    .dataframe tbody tr th:only-of-type {\n",
       "        vertical-align: middle;\n",
       "    }\n",
       "\n",
       "    .dataframe tbody tr th {\n",
       "        vertical-align: top;\n",
       "    }\n",
       "\n",
       "    .dataframe thead th {\n",
       "        text-align: right;\n",
       "    }\n",
       "</style>\n",
       "<table border=\"1\" class=\"dataframe\">\n",
       "  <thead>\n",
       "    <tr style=\"text-align: right;\">\n",
       "      <th></th>\n",
       "      <th>년월일시분</th>\n",
       "      <th>년도</th>\n",
       "      <th>월</th>\n",
       "      <th>일</th>\n",
       "      <th>시간</th>\n",
       "      <th>분</th>\n",
       "      <th>지점번호</th>\n",
       "      <th>지점번호1</th>\n",
       "      <th>지점번호2</th>\n",
       "      <th>NaN유무</th>\n",
       "      <th>시정구간</th>\n",
       "      <th>10분평균풍향</th>\n",
       "      <th>10분평균풍속</th>\n",
       "      <th>10분평균기온</th>\n",
       "      <th>강수유무</th>\n",
       "      <th>10분평균상대습도</th>\n",
       "      <th>10분일사량합</th>\n",
       "      <th>10분평균지면온도</th>\n",
       "      <th>10분평균시정</th>\n",
       "    </tr>\n",
       "  </thead>\n",
       "  <tbody>\n",
       "    <tr>\n",
       "      <th>0</th>\n",
       "      <td>2020-01-01 00:10:00</td>\n",
       "      <td>I</td>\n",
       "      <td>1</td>\n",
       "      <td>1</td>\n",
       "      <td>0</td>\n",
       "      <td>10</td>\n",
       "      <td>AA</td>\n",
       "      <td>A</td>\n",
       "      <td>A</td>\n",
       "      <td>0</td>\n",
       "      <td>4</td>\n",
       "      <td>0.0</td>\n",
       "      <td>0.0</td>\n",
       "      <td>-6.4</td>\n",
       "      <td>0.0</td>\n",
       "      <td>38.9</td>\n",
       "      <td>0.0</td>\n",
       "      <td>-2.8</td>\n",
       "      <td>20000.0</td>\n",
       "    </tr>\n",
       "    <tr>\n",
       "      <th>1</th>\n",
       "      <td>2020-01-01 00:20:00</td>\n",
       "      <td>I</td>\n",
       "      <td>1</td>\n",
       "      <td>1</td>\n",
       "      <td>0</td>\n",
       "      <td>20</td>\n",
       "      <td>AA</td>\n",
       "      <td>A</td>\n",
       "      <td>A</td>\n",
       "      <td>0</td>\n",
       "      <td>4</td>\n",
       "      <td>0.0</td>\n",
       "      <td>0.0</td>\n",
       "      <td>-6.3</td>\n",
       "      <td>0.0</td>\n",
       "      <td>37.9</td>\n",
       "      <td>0.0</td>\n",
       "      <td>-2.7</td>\n",
       "      <td>20000.0</td>\n",
       "    </tr>\n",
       "    <tr>\n",
       "      <th>2</th>\n",
       "      <td>2020-01-01 00:30:00</td>\n",
       "      <td>I</td>\n",
       "      <td>1</td>\n",
       "      <td>1</td>\n",
       "      <td>0</td>\n",
       "      <td>30</td>\n",
       "      <td>AA</td>\n",
       "      <td>A</td>\n",
       "      <td>A</td>\n",
       "      <td>0</td>\n",
       "      <td>4</td>\n",
       "      <td>0.0</td>\n",
       "      <td>0.0</td>\n",
       "      <td>-6.3</td>\n",
       "      <td>0.0</td>\n",
       "      <td>40.0</td>\n",
       "      <td>0.0</td>\n",
       "      <td>-2.6</td>\n",
       "      <td>20000.0</td>\n",
       "    </tr>\n",
       "    <tr>\n",
       "      <th>3</th>\n",
       "      <td>2020-01-01 00:40:00</td>\n",
       "      <td>I</td>\n",
       "      <td>1</td>\n",
       "      <td>1</td>\n",
       "      <td>0</td>\n",
       "      <td>40</td>\n",
       "      <td>AA</td>\n",
       "      <td>A</td>\n",
       "      <td>A</td>\n",
       "      <td>0</td>\n",
       "      <td>4</td>\n",
       "      <td>27.8</td>\n",
       "      <td>0.4</td>\n",
       "      <td>-6.2</td>\n",
       "      <td>0.0</td>\n",
       "      <td>39.5</td>\n",
       "      <td>0.0</td>\n",
       "      <td>-2.6</td>\n",
       "      <td>20000.0</td>\n",
       "    </tr>\n",
       "    <tr>\n",
       "      <th>4</th>\n",
       "      <td>2020-01-01 00:50:00</td>\n",
       "      <td>I</td>\n",
       "      <td>1</td>\n",
       "      <td>1</td>\n",
       "      <td>0</td>\n",
       "      <td>50</td>\n",
       "      <td>AA</td>\n",
       "      <td>A</td>\n",
       "      <td>A</td>\n",
       "      <td>0</td>\n",
       "      <td>4</td>\n",
       "      <td>59.7</td>\n",
       "      <td>0.5</td>\n",
       "      <td>-6.1</td>\n",
       "      <td>0.0</td>\n",
       "      <td>39.8</td>\n",
       "      <td>0.0</td>\n",
       "      <td>-2.5</td>\n",
       "      <td>20000.0</td>\n",
       "    </tr>\n",
       "    <tr>\n",
       "      <th>...</th>\n",
       "      <td>...</td>\n",
       "      <td>...</td>\n",
       "      <td>...</td>\n",
       "      <td>...</td>\n",
       "      <td>...</td>\n",
       "      <td>...</td>\n",
       "      <td>...</td>\n",
       "      <td>...</td>\n",
       "      <td>...</td>\n",
       "      <td>...</td>\n",
       "      <td>...</td>\n",
       "      <td>...</td>\n",
       "      <td>...</td>\n",
       "      <td>...</td>\n",
       "      <td>...</td>\n",
       "      <td>...</td>\n",
       "      <td>...</td>\n",
       "      <td>...</td>\n",
       "      <td>...</td>\n",
       "    </tr>\n",
       "    <tr>\n",
       "      <th>3156454</th>\n",
       "      <td>2022-12-31 23:10:00</td>\n",
       "      <td>K</td>\n",
       "      <td>12</td>\n",
       "      <td>31</td>\n",
       "      <td>23</td>\n",
       "      <td>10</td>\n",
       "      <td>EC</td>\n",
       "      <td>E</td>\n",
       "      <td>C</td>\n",
       "      <td>0</td>\n",
       "      <td>4</td>\n",
       "      <td>305.3</td>\n",
       "      <td>7.7</td>\n",
       "      <td>2.5</td>\n",
       "      <td>0.0</td>\n",
       "      <td>50.2</td>\n",
       "      <td>0.0</td>\n",
       "      <td>-0.9</td>\n",
       "      <td>20000.0</td>\n",
       "    </tr>\n",
       "    <tr>\n",
       "      <th>3156455</th>\n",
       "      <td>2022-12-31 23:20:00</td>\n",
       "      <td>K</td>\n",
       "      <td>12</td>\n",
       "      <td>31</td>\n",
       "      <td>23</td>\n",
       "      <td>20</td>\n",
       "      <td>EC</td>\n",
       "      <td>E</td>\n",
       "      <td>C</td>\n",
       "      <td>0</td>\n",
       "      <td>4</td>\n",
       "      <td>293.8</td>\n",
       "      <td>5.7</td>\n",
       "      <td>2.3</td>\n",
       "      <td>0.0</td>\n",
       "      <td>50.1</td>\n",
       "      <td>0.0</td>\n",
       "      <td>-1.3</td>\n",
       "      <td>20000.0</td>\n",
       "    </tr>\n",
       "    <tr>\n",
       "      <th>3156456</th>\n",
       "      <td>2022-12-31 23:30:00</td>\n",
       "      <td>K</td>\n",
       "      <td>12</td>\n",
       "      <td>31</td>\n",
       "      <td>23</td>\n",
       "      <td>30</td>\n",
       "      <td>EC</td>\n",
       "      <td>E</td>\n",
       "      <td>C</td>\n",
       "      <td>0</td>\n",
       "      <td>4</td>\n",
       "      <td>274.2</td>\n",
       "      <td>4.9</td>\n",
       "      <td>2.2</td>\n",
       "      <td>0.0</td>\n",
       "      <td>51.0</td>\n",
       "      <td>0.0</td>\n",
       "      <td>-1.4</td>\n",
       "      <td>20000.0</td>\n",
       "    </tr>\n",
       "    <tr>\n",
       "      <th>3156457</th>\n",
       "      <td>2022-12-31 23:40:00</td>\n",
       "      <td>K</td>\n",
       "      <td>12</td>\n",
       "      <td>31</td>\n",
       "      <td>23</td>\n",
       "      <td>40</td>\n",
       "      <td>EC</td>\n",
       "      <td>E</td>\n",
       "      <td>C</td>\n",
       "      <td>0</td>\n",
       "      <td>4</td>\n",
       "      <td>270.3</td>\n",
       "      <td>4.6</td>\n",
       "      <td>2.1</td>\n",
       "      <td>0.0</td>\n",
       "      <td>51.7</td>\n",
       "      <td>0.0</td>\n",
       "      <td>-1.6</td>\n",
       "      <td>20000.0</td>\n",
       "    </tr>\n",
       "    <tr>\n",
       "      <th>3156458</th>\n",
       "      <td>2022-12-31 23:50:00</td>\n",
       "      <td>K</td>\n",
       "      <td>12</td>\n",
       "      <td>31</td>\n",
       "      <td>23</td>\n",
       "      <td>50</td>\n",
       "      <td>EC</td>\n",
       "      <td>E</td>\n",
       "      <td>C</td>\n",
       "      <td>0</td>\n",
       "      <td>4</td>\n",
       "      <td>254.8</td>\n",
       "      <td>4.1</td>\n",
       "      <td>2.1</td>\n",
       "      <td>0.0</td>\n",
       "      <td>53.3</td>\n",
       "      <td>0.0</td>\n",
       "      <td>-1.7</td>\n",
       "      <td>20000.0</td>\n",
       "    </tr>\n",
       "  </tbody>\n",
       "</table>\n",
       "<p>3156459 rows × 19 columns</p>\n",
       "</div>"
      ],
      "text/plain": [
       "                       년월일시분 년도   월   일  시간   분 지점번호 지점번호1 지점번호2  NaN유무  시정구간  \\\n",
       "0        2020-01-01 00:10:00  I   1   1   0  10   AA     A     A      0     4   \n",
       "1        2020-01-01 00:20:00  I   1   1   0  20   AA     A     A      0     4   \n",
       "2        2020-01-01 00:30:00  I   1   1   0  30   AA     A     A      0     4   \n",
       "3        2020-01-01 00:40:00  I   1   1   0  40   AA     A     A      0     4   \n",
       "4        2020-01-01 00:50:00  I   1   1   0  50   AA     A     A      0     4   \n",
       "...                      ... ..  ..  ..  ..  ..  ...   ...   ...    ...   ...   \n",
       "3156454  2022-12-31 23:10:00  K  12  31  23  10   EC     E     C      0     4   \n",
       "3156455  2022-12-31 23:20:00  K  12  31  23  20   EC     E     C      0     4   \n",
       "3156456  2022-12-31 23:30:00  K  12  31  23  30   EC     E     C      0     4   \n",
       "3156457  2022-12-31 23:40:00  K  12  31  23  40   EC     E     C      0     4   \n",
       "3156458  2022-12-31 23:50:00  K  12  31  23  50   EC     E     C      0     4   \n",
       "\n",
       "         10분평균풍향  10분평균풍속  10분평균기온  강수유무  10분평균상대습도  10분일사량합  10분평균지면온도  \\\n",
       "0            0.0      0.0     -6.4   0.0       38.9      0.0       -2.8   \n",
       "1            0.0      0.0     -6.3   0.0       37.9      0.0       -2.7   \n",
       "2            0.0      0.0     -6.3   0.0       40.0      0.0       -2.6   \n",
       "3           27.8      0.4     -6.2   0.0       39.5      0.0       -2.6   \n",
       "4           59.7      0.5     -6.1   0.0       39.8      0.0       -2.5   \n",
       "...          ...      ...      ...   ...        ...      ...        ...   \n",
       "3156454    305.3      7.7      2.5   0.0       50.2      0.0       -0.9   \n",
       "3156455    293.8      5.7      2.3   0.0       50.1      0.0       -1.3   \n",
       "3156456    274.2      4.9      2.2   0.0       51.0      0.0       -1.4   \n",
       "3156457    270.3      4.6      2.1   0.0       51.7      0.0       -1.6   \n",
       "3156458    254.8      4.1      2.1   0.0       53.3      0.0       -1.7   \n",
       "\n",
       "         10분평균시정  \n",
       "0        20000.0  \n",
       "1        20000.0  \n",
       "2        20000.0  \n",
       "3        20000.0  \n",
       "4        20000.0  \n",
       "...          ...  \n",
       "3156454  20000.0  \n",
       "3156455  20000.0  \n",
       "3156456  20000.0  \n",
       "3156457  20000.0  \n",
       "3156458  20000.0  \n",
       "\n",
       "[3156459 rows x 19 columns]"
      ]
     },
     "execution_count": 4,
     "metadata": {},
     "output_type": "execute_result"
    }
   ],
   "source": [
    "train"
   ]
  },
  {
   "cell_type": "code",
   "execution_count": 5,
   "metadata": {},
   "outputs": [
    {
     "data": {
      "text/html": [
       "<div>\n",
       "<style scoped>\n",
       "    .dataframe tbody tr th:only-of-type {\n",
       "        vertical-align: middle;\n",
       "    }\n",
       "\n",
       "    .dataframe tbody tr th {\n",
       "        vertical-align: top;\n",
       "    }\n",
       "\n",
       "    .dataframe thead th {\n",
       "        text-align: right;\n",
       "    }\n",
       "</style>\n",
       "<table border=\"1\" class=\"dataframe\">\n",
       "  <thead>\n",
       "    <tr style=\"text-align: right;\">\n",
       "      <th></th>\n",
       "      <th>년월일시분</th>\n",
       "      <th>년도</th>\n",
       "      <th>월</th>\n",
       "      <th>일</th>\n",
       "      <th>시간</th>\n",
       "      <th>분</th>\n",
       "      <th>지점번호</th>\n",
       "      <th>지점번호1</th>\n",
       "      <th>지점번호2</th>\n",
       "      <th>NaN유무</th>\n",
       "      <th>시정구간</th>\n",
       "      <th>10분평균풍향</th>\n",
       "      <th>10분평균풍속</th>\n",
       "      <th>10분평균기온</th>\n",
       "      <th>강수유무</th>\n",
       "      <th>10분평균상대습도</th>\n",
       "      <th>10분일사량합</th>\n",
       "      <th>10분평균지면온도</th>\n",
       "    </tr>\n",
       "  </thead>\n",
       "  <tbody>\n",
       "    <tr>\n",
       "      <th>0</th>\n",
       "      <td>2024-01-01 00:00:00</td>\n",
       "      <td>L</td>\n",
       "      <td>1</td>\n",
       "      <td>1</td>\n",
       "      <td>0</td>\n",
       "      <td>0</td>\n",
       "      <td>AI</td>\n",
       "      <td>A</td>\n",
       "      <td>I</td>\n",
       "      <td>1</td>\n",
       "      <td>NaN</td>\n",
       "      <td>329.5</td>\n",
       "      <td>0.6</td>\n",
       "      <td>-2.5</td>\n",
       "      <td>0.0</td>\n",
       "      <td>87.5</td>\n",
       "      <td>0.0</td>\n",
       "      <td>-1.6</td>\n",
       "    </tr>\n",
       "    <tr>\n",
       "      <th>1</th>\n",
       "      <td>2024-01-01 00:10:00</td>\n",
       "      <td>L</td>\n",
       "      <td>1</td>\n",
       "      <td>1</td>\n",
       "      <td>0</td>\n",
       "      <td>10</td>\n",
       "      <td>AI</td>\n",
       "      <td>A</td>\n",
       "      <td>I</td>\n",
       "      <td>1</td>\n",
       "      <td>NaN</td>\n",
       "      <td>321.8</td>\n",
       "      <td>1.2</td>\n",
       "      <td>-2.5</td>\n",
       "      <td>0.0</td>\n",
       "      <td>88.2</td>\n",
       "      <td>0.0</td>\n",
       "      <td>-1.6</td>\n",
       "    </tr>\n",
       "    <tr>\n",
       "      <th>2</th>\n",
       "      <td>2024-01-01 00:20:00</td>\n",
       "      <td>L</td>\n",
       "      <td>1</td>\n",
       "      <td>1</td>\n",
       "      <td>0</td>\n",
       "      <td>20</td>\n",
       "      <td>AI</td>\n",
       "      <td>A</td>\n",
       "      <td>I</td>\n",
       "      <td>1</td>\n",
       "      <td>NaN</td>\n",
       "      <td>0.4</td>\n",
       "      <td>0.4</td>\n",
       "      <td>-2.5</td>\n",
       "      <td>0.0</td>\n",
       "      <td>88.6</td>\n",
       "      <td>0.0</td>\n",
       "      <td>-1.7</td>\n",
       "    </tr>\n",
       "    <tr>\n",
       "      <th>3</th>\n",
       "      <td>2024-01-01 00:30:00</td>\n",
       "      <td>L</td>\n",
       "      <td>1</td>\n",
       "      <td>1</td>\n",
       "      <td>0</td>\n",
       "      <td>30</td>\n",
       "      <td>AI</td>\n",
       "      <td>A</td>\n",
       "      <td>I</td>\n",
       "      <td>1</td>\n",
       "      <td>NaN</td>\n",
       "      <td>323.6</td>\n",
       "      <td>0.7</td>\n",
       "      <td>-2.6</td>\n",
       "      <td>0.0</td>\n",
       "      <td>88.7</td>\n",
       "      <td>0.0</td>\n",
       "      <td>-1.6</td>\n",
       "    </tr>\n",
       "    <tr>\n",
       "      <th>4</th>\n",
       "      <td>2024-01-01 00:40:00</td>\n",
       "      <td>L</td>\n",
       "      <td>1</td>\n",
       "      <td>1</td>\n",
       "      <td>0</td>\n",
       "      <td>40</td>\n",
       "      <td>AI</td>\n",
       "      <td>A</td>\n",
       "      <td>I</td>\n",
       "      <td>1</td>\n",
       "      <td>NaN</td>\n",
       "      <td>208.4</td>\n",
       "      <td>0.2</td>\n",
       "      <td>-2.6</td>\n",
       "      <td>0.0</td>\n",
       "      <td>89.0</td>\n",
       "      <td>0.0</td>\n",
       "      <td>-1.6</td>\n",
       "    </tr>\n",
       "    <tr>\n",
       "      <th>...</th>\n",
       "      <td>...</td>\n",
       "      <td>...</td>\n",
       "      <td>...</td>\n",
       "      <td>...</td>\n",
       "      <td>...</td>\n",
       "      <td>...</td>\n",
       "      <td>...</td>\n",
       "      <td>...</td>\n",
       "      <td>...</td>\n",
       "      <td>...</td>\n",
       "      <td>...</td>\n",
       "      <td>...</td>\n",
       "      <td>...</td>\n",
       "      <td>...</td>\n",
       "      <td>...</td>\n",
       "      <td>...</td>\n",
       "      <td>...</td>\n",
       "      <td>...</td>\n",
       "    </tr>\n",
       "    <tr>\n",
       "      <th>262795</th>\n",
       "      <td>2024-12-31 23:10:00</td>\n",
       "      <td>L</td>\n",
       "      <td>12</td>\n",
       "      <td>31</td>\n",
       "      <td>23</td>\n",
       "      <td>10</td>\n",
       "      <td>ED</td>\n",
       "      <td>E</td>\n",
       "      <td>D</td>\n",
       "      <td>1</td>\n",
       "      <td>NaN</td>\n",
       "      <td>338.8</td>\n",
       "      <td>6.1</td>\n",
       "      <td>4.5</td>\n",
       "      <td>0.0</td>\n",
       "      <td>71.3</td>\n",
       "      <td>0.0</td>\n",
       "      <td>1.9</td>\n",
       "    </tr>\n",
       "    <tr>\n",
       "      <th>262796</th>\n",
       "      <td>2024-12-31 23:20:00</td>\n",
       "      <td>L</td>\n",
       "      <td>12</td>\n",
       "      <td>31</td>\n",
       "      <td>23</td>\n",
       "      <td>20</td>\n",
       "      <td>ED</td>\n",
       "      <td>E</td>\n",
       "      <td>D</td>\n",
       "      <td>1</td>\n",
       "      <td>NaN</td>\n",
       "      <td>335.2</td>\n",
       "      <td>5.8</td>\n",
       "      <td>4.6</td>\n",
       "      <td>0.0</td>\n",
       "      <td>71.4</td>\n",
       "      <td>0.0</td>\n",
       "      <td>1.9</td>\n",
       "    </tr>\n",
       "    <tr>\n",
       "      <th>262797</th>\n",
       "      <td>2024-12-31 23:30:00</td>\n",
       "      <td>L</td>\n",
       "      <td>12</td>\n",
       "      <td>31</td>\n",
       "      <td>23</td>\n",
       "      <td>30</td>\n",
       "      <td>ED</td>\n",
       "      <td>E</td>\n",
       "      <td>D</td>\n",
       "      <td>1</td>\n",
       "      <td>NaN</td>\n",
       "      <td>337.1</td>\n",
       "      <td>5.3</td>\n",
       "      <td>4.5</td>\n",
       "      <td>0.0</td>\n",
       "      <td>72.1</td>\n",
       "      <td>0.0</td>\n",
       "      <td>1.8</td>\n",
       "    </tr>\n",
       "    <tr>\n",
       "      <th>262798</th>\n",
       "      <td>2024-12-31 23:40:00</td>\n",
       "      <td>L</td>\n",
       "      <td>12</td>\n",
       "      <td>31</td>\n",
       "      <td>23</td>\n",
       "      <td>40</td>\n",
       "      <td>ED</td>\n",
       "      <td>E</td>\n",
       "      <td>D</td>\n",
       "      <td>1</td>\n",
       "      <td>NaN</td>\n",
       "      <td>322.0</td>\n",
       "      <td>3.7</td>\n",
       "      <td>4.3</td>\n",
       "      <td>0.0</td>\n",
       "      <td>72.5</td>\n",
       "      <td>0.0</td>\n",
       "      <td>1.4</td>\n",
       "    </tr>\n",
       "    <tr>\n",
       "      <th>262799</th>\n",
       "      <td>2024-12-31 23:50:00</td>\n",
       "      <td>L</td>\n",
       "      <td>12</td>\n",
       "      <td>31</td>\n",
       "      <td>23</td>\n",
       "      <td>50</td>\n",
       "      <td>ED</td>\n",
       "      <td>E</td>\n",
       "      <td>D</td>\n",
       "      <td>1</td>\n",
       "      <td>NaN</td>\n",
       "      <td>33.6</td>\n",
       "      <td>2.8</td>\n",
       "      <td>4.3</td>\n",
       "      <td>0.0</td>\n",
       "      <td>73.7</td>\n",
       "      <td>0.0</td>\n",
       "      <td>1.3</td>\n",
       "    </tr>\n",
       "  </tbody>\n",
       "</table>\n",
       "<p>262800 rows × 18 columns</p>\n",
       "</div>"
      ],
      "text/plain": [
       "                      년월일시분 년도   월   일  시간   분 지점번호 지점번호1 지점번호2  NaN유무  시정구간  \\\n",
       "0       2024-01-01 00:00:00  L   1   1   0   0   AI     A     I      1   NaN   \n",
       "1       2024-01-01 00:10:00  L   1   1   0  10   AI     A     I      1   NaN   \n",
       "2       2024-01-01 00:20:00  L   1   1   0  20   AI     A     I      1   NaN   \n",
       "3       2024-01-01 00:30:00  L   1   1   0  30   AI     A     I      1   NaN   \n",
       "4       2024-01-01 00:40:00  L   1   1   0  40   AI     A     I      1   NaN   \n",
       "...                     ... ..  ..  ..  ..  ..  ...   ...   ...    ...   ...   \n",
       "262795  2024-12-31 23:10:00  L  12  31  23  10   ED     E     D      1   NaN   \n",
       "262796  2024-12-31 23:20:00  L  12  31  23  20   ED     E     D      1   NaN   \n",
       "262797  2024-12-31 23:30:00  L  12  31  23  30   ED     E     D      1   NaN   \n",
       "262798  2024-12-31 23:40:00  L  12  31  23  40   ED     E     D      1   NaN   \n",
       "262799  2024-12-31 23:50:00  L  12  31  23  50   ED     E     D      1   NaN   \n",
       "\n",
       "        10분평균풍향  10분평균풍속  10분평균기온  강수유무  10분평균상대습도  10분일사량합  10분평균지면온도  \n",
       "0         329.5      0.6     -2.5   0.0       87.5      0.0       -1.6  \n",
       "1         321.8      1.2     -2.5   0.0       88.2      0.0       -1.6  \n",
       "2           0.4      0.4     -2.5   0.0       88.6      0.0       -1.7  \n",
       "3         323.6      0.7     -2.6   0.0       88.7      0.0       -1.6  \n",
       "4         208.4      0.2     -2.6   0.0       89.0      0.0       -1.6  \n",
       "...         ...      ...      ...   ...        ...      ...        ...  \n",
       "262795    338.8      6.1      4.5   0.0       71.3      0.0        1.9  \n",
       "262796    335.2      5.8      4.6   0.0       71.4      0.0        1.9  \n",
       "262797    337.1      5.3      4.5   0.0       72.1      0.0        1.8  \n",
       "262798    322.0      3.7      4.3   0.0       72.5      0.0        1.4  \n",
       "262799     33.6      2.8      4.3   0.0       73.7      0.0        1.3  \n",
       "\n",
       "[262800 rows x 18 columns]"
      ]
     },
     "execution_count": 5,
     "metadata": {},
     "output_type": "execute_result"
    }
   ],
   "source": [
    "test"
   ]
  },
  {
   "cell_type": "code",
   "execution_count": 6,
   "metadata": {},
   "outputs": [],
   "source": [
    "import torch\n",
    "import torch.nn as nn\n",
    "import torch.optim as optim"
   ]
  },
  {
   "cell_type": "code",
   "execution_count": 7,
   "metadata": {},
   "outputs": [],
   "source": [
    "train_df = train.loc[:, [\"년도\", \"10분평균풍향\", \"10분평균풍속\", \"10분평균기온\", \"10분평균상대습도\", \"10분일사량합\", \"10분평균지면온도\", \"강수유무\", \"시정구간\"]]\n",
    "test_df = test.loc[:, [\"10분평균풍향\", \"10분평균풍속\", \"10분평균기온\", \"10분평균상대습도\", \"10분일사량합\", \"10분평균지면온도\", \"강수유무\"]]"
   ]
  },
  {
   "cell_type": "code",
   "execution_count": 8,
   "metadata": {},
   "outputs": [
    {
     "data": {
      "text/html": [
       "<div>\n",
       "<style scoped>\n",
       "    .dataframe tbody tr th:only-of-type {\n",
       "        vertical-align: middle;\n",
       "    }\n",
       "\n",
       "    .dataframe tbody tr th {\n",
       "        vertical-align: top;\n",
       "    }\n",
       "\n",
       "    .dataframe thead th {\n",
       "        text-align: right;\n",
       "    }\n",
       "</style>\n",
       "<table border=\"1\" class=\"dataframe\">\n",
       "  <thead>\n",
       "    <tr style=\"text-align: right;\">\n",
       "      <th></th>\n",
       "      <th>년도</th>\n",
       "      <th>10분평균풍향</th>\n",
       "      <th>10분평균풍속</th>\n",
       "      <th>10분평균기온</th>\n",
       "      <th>10분평균상대습도</th>\n",
       "      <th>10분일사량합</th>\n",
       "      <th>10분평균지면온도</th>\n",
       "      <th>강수유무</th>\n",
       "      <th>시정구간</th>\n",
       "    </tr>\n",
       "  </thead>\n",
       "  <tbody>\n",
       "    <tr>\n",
       "      <th>0</th>\n",
       "      <td>I</td>\n",
       "      <td>0.0</td>\n",
       "      <td>0.0</td>\n",
       "      <td>-6.4</td>\n",
       "      <td>38.9</td>\n",
       "      <td>0.0</td>\n",
       "      <td>-2.8</td>\n",
       "      <td>0.0</td>\n",
       "      <td>4</td>\n",
       "    </tr>\n",
       "    <tr>\n",
       "      <th>1</th>\n",
       "      <td>I</td>\n",
       "      <td>0.0</td>\n",
       "      <td>0.0</td>\n",
       "      <td>-6.3</td>\n",
       "      <td>37.9</td>\n",
       "      <td>0.0</td>\n",
       "      <td>-2.7</td>\n",
       "      <td>0.0</td>\n",
       "      <td>4</td>\n",
       "    </tr>\n",
       "    <tr>\n",
       "      <th>2</th>\n",
       "      <td>I</td>\n",
       "      <td>0.0</td>\n",
       "      <td>0.0</td>\n",
       "      <td>-6.3</td>\n",
       "      <td>40.0</td>\n",
       "      <td>0.0</td>\n",
       "      <td>-2.6</td>\n",
       "      <td>0.0</td>\n",
       "      <td>4</td>\n",
       "    </tr>\n",
       "    <tr>\n",
       "      <th>3</th>\n",
       "      <td>I</td>\n",
       "      <td>27.8</td>\n",
       "      <td>0.4</td>\n",
       "      <td>-6.2</td>\n",
       "      <td>39.5</td>\n",
       "      <td>0.0</td>\n",
       "      <td>-2.6</td>\n",
       "      <td>0.0</td>\n",
       "      <td>4</td>\n",
       "    </tr>\n",
       "    <tr>\n",
       "      <th>4</th>\n",
       "      <td>I</td>\n",
       "      <td>59.7</td>\n",
       "      <td>0.5</td>\n",
       "      <td>-6.1</td>\n",
       "      <td>39.8</td>\n",
       "      <td>0.0</td>\n",
       "      <td>-2.5</td>\n",
       "      <td>0.0</td>\n",
       "      <td>4</td>\n",
       "    </tr>\n",
       "    <tr>\n",
       "      <th>...</th>\n",
       "      <td>...</td>\n",
       "      <td>...</td>\n",
       "      <td>...</td>\n",
       "      <td>...</td>\n",
       "      <td>...</td>\n",
       "      <td>...</td>\n",
       "      <td>...</td>\n",
       "      <td>...</td>\n",
       "      <td>...</td>\n",
       "    </tr>\n",
       "    <tr>\n",
       "      <th>3156454</th>\n",
       "      <td>K</td>\n",
       "      <td>305.3</td>\n",
       "      <td>7.7</td>\n",
       "      <td>2.5</td>\n",
       "      <td>50.2</td>\n",
       "      <td>0.0</td>\n",
       "      <td>-0.9</td>\n",
       "      <td>0.0</td>\n",
       "      <td>4</td>\n",
       "    </tr>\n",
       "    <tr>\n",
       "      <th>3156455</th>\n",
       "      <td>K</td>\n",
       "      <td>293.8</td>\n",
       "      <td>5.7</td>\n",
       "      <td>2.3</td>\n",
       "      <td>50.1</td>\n",
       "      <td>0.0</td>\n",
       "      <td>-1.3</td>\n",
       "      <td>0.0</td>\n",
       "      <td>4</td>\n",
       "    </tr>\n",
       "    <tr>\n",
       "      <th>3156456</th>\n",
       "      <td>K</td>\n",
       "      <td>274.2</td>\n",
       "      <td>4.9</td>\n",
       "      <td>2.2</td>\n",
       "      <td>51.0</td>\n",
       "      <td>0.0</td>\n",
       "      <td>-1.4</td>\n",
       "      <td>0.0</td>\n",
       "      <td>4</td>\n",
       "    </tr>\n",
       "    <tr>\n",
       "      <th>3156457</th>\n",
       "      <td>K</td>\n",
       "      <td>270.3</td>\n",
       "      <td>4.6</td>\n",
       "      <td>2.1</td>\n",
       "      <td>51.7</td>\n",
       "      <td>0.0</td>\n",
       "      <td>-1.6</td>\n",
       "      <td>0.0</td>\n",
       "      <td>4</td>\n",
       "    </tr>\n",
       "    <tr>\n",
       "      <th>3156458</th>\n",
       "      <td>K</td>\n",
       "      <td>254.8</td>\n",
       "      <td>4.1</td>\n",
       "      <td>2.1</td>\n",
       "      <td>53.3</td>\n",
       "      <td>0.0</td>\n",
       "      <td>-1.7</td>\n",
       "      <td>0.0</td>\n",
       "      <td>4</td>\n",
       "    </tr>\n",
       "  </tbody>\n",
       "</table>\n",
       "<p>3156459 rows × 9 columns</p>\n",
       "</div>"
      ],
      "text/plain": [
       "        년도  10분평균풍향  10분평균풍속  10분평균기온  10분평균상대습도  10분일사량합  10분평균지면온도  강수유무  \\\n",
       "0        I      0.0      0.0     -6.4       38.9      0.0       -2.8   0.0   \n",
       "1        I      0.0      0.0     -6.3       37.9      0.0       -2.7   0.0   \n",
       "2        I      0.0      0.0     -6.3       40.0      0.0       -2.6   0.0   \n",
       "3        I     27.8      0.4     -6.2       39.5      0.0       -2.6   0.0   \n",
       "4        I     59.7      0.5     -6.1       39.8      0.0       -2.5   0.0   \n",
       "...     ..      ...      ...      ...        ...      ...        ...   ...   \n",
       "3156454  K    305.3      7.7      2.5       50.2      0.0       -0.9   0.0   \n",
       "3156455  K    293.8      5.7      2.3       50.1      0.0       -1.3   0.0   \n",
       "3156456  K    274.2      4.9      2.2       51.0      0.0       -1.4   0.0   \n",
       "3156457  K    270.3      4.6      2.1       51.7      0.0       -1.6   0.0   \n",
       "3156458  K    254.8      4.1      2.1       53.3      0.0       -1.7   0.0   \n",
       "\n",
       "         시정구간  \n",
       "0           4  \n",
       "1           4  \n",
       "2           4  \n",
       "3           4  \n",
       "4           4  \n",
       "...       ...  \n",
       "3156454     4  \n",
       "3156455     4  \n",
       "3156456     4  \n",
       "3156457     4  \n",
       "3156458     4  \n",
       "\n",
       "[3156459 rows x 9 columns]"
      ]
     },
     "execution_count": 8,
     "metadata": {},
     "output_type": "execute_result"
    }
   ],
   "source": [
    "train_df"
   ]
  },
  {
   "cell_type": "code",
   "execution_count": 9,
   "metadata": {},
   "outputs": [
    {
     "data": {
      "text/html": [
       "<div>\n",
       "<style scoped>\n",
       "    .dataframe tbody tr th:only-of-type {\n",
       "        vertical-align: middle;\n",
       "    }\n",
       "\n",
       "    .dataframe tbody tr th {\n",
       "        vertical-align: top;\n",
       "    }\n",
       "\n",
       "    .dataframe thead th {\n",
       "        text-align: right;\n",
       "    }\n",
       "</style>\n",
       "<table border=\"1\" class=\"dataframe\">\n",
       "  <thead>\n",
       "    <tr style=\"text-align: right;\">\n",
       "      <th></th>\n",
       "      <th>10분평균풍향</th>\n",
       "      <th>10분평균풍속</th>\n",
       "      <th>10분평균기온</th>\n",
       "      <th>10분평균상대습도</th>\n",
       "      <th>10분일사량합</th>\n",
       "      <th>10분평균지면온도</th>\n",
       "      <th>강수유무</th>\n",
       "    </tr>\n",
       "  </thead>\n",
       "  <tbody>\n",
       "    <tr>\n",
       "      <th>0</th>\n",
       "      <td>329.5</td>\n",
       "      <td>0.6</td>\n",
       "      <td>-2.5</td>\n",
       "      <td>87.5</td>\n",
       "      <td>0.0</td>\n",
       "      <td>-1.6</td>\n",
       "      <td>0.0</td>\n",
       "    </tr>\n",
       "    <tr>\n",
       "      <th>1</th>\n",
       "      <td>321.8</td>\n",
       "      <td>1.2</td>\n",
       "      <td>-2.5</td>\n",
       "      <td>88.2</td>\n",
       "      <td>0.0</td>\n",
       "      <td>-1.6</td>\n",
       "      <td>0.0</td>\n",
       "    </tr>\n",
       "    <tr>\n",
       "      <th>2</th>\n",
       "      <td>0.4</td>\n",
       "      <td>0.4</td>\n",
       "      <td>-2.5</td>\n",
       "      <td>88.6</td>\n",
       "      <td>0.0</td>\n",
       "      <td>-1.7</td>\n",
       "      <td>0.0</td>\n",
       "    </tr>\n",
       "    <tr>\n",
       "      <th>3</th>\n",
       "      <td>323.6</td>\n",
       "      <td>0.7</td>\n",
       "      <td>-2.6</td>\n",
       "      <td>88.7</td>\n",
       "      <td>0.0</td>\n",
       "      <td>-1.6</td>\n",
       "      <td>0.0</td>\n",
       "    </tr>\n",
       "    <tr>\n",
       "      <th>4</th>\n",
       "      <td>208.4</td>\n",
       "      <td>0.2</td>\n",
       "      <td>-2.6</td>\n",
       "      <td>89.0</td>\n",
       "      <td>0.0</td>\n",
       "      <td>-1.6</td>\n",
       "      <td>0.0</td>\n",
       "    </tr>\n",
       "    <tr>\n",
       "      <th>...</th>\n",
       "      <td>...</td>\n",
       "      <td>...</td>\n",
       "      <td>...</td>\n",
       "      <td>...</td>\n",
       "      <td>...</td>\n",
       "      <td>...</td>\n",
       "      <td>...</td>\n",
       "    </tr>\n",
       "    <tr>\n",
       "      <th>262795</th>\n",
       "      <td>338.8</td>\n",
       "      <td>6.1</td>\n",
       "      <td>4.5</td>\n",
       "      <td>71.3</td>\n",
       "      <td>0.0</td>\n",
       "      <td>1.9</td>\n",
       "      <td>0.0</td>\n",
       "    </tr>\n",
       "    <tr>\n",
       "      <th>262796</th>\n",
       "      <td>335.2</td>\n",
       "      <td>5.8</td>\n",
       "      <td>4.6</td>\n",
       "      <td>71.4</td>\n",
       "      <td>0.0</td>\n",
       "      <td>1.9</td>\n",
       "      <td>0.0</td>\n",
       "    </tr>\n",
       "    <tr>\n",
       "      <th>262797</th>\n",
       "      <td>337.1</td>\n",
       "      <td>5.3</td>\n",
       "      <td>4.5</td>\n",
       "      <td>72.1</td>\n",
       "      <td>0.0</td>\n",
       "      <td>1.8</td>\n",
       "      <td>0.0</td>\n",
       "    </tr>\n",
       "    <tr>\n",
       "      <th>262798</th>\n",
       "      <td>322.0</td>\n",
       "      <td>3.7</td>\n",
       "      <td>4.3</td>\n",
       "      <td>72.5</td>\n",
       "      <td>0.0</td>\n",
       "      <td>1.4</td>\n",
       "      <td>0.0</td>\n",
       "    </tr>\n",
       "    <tr>\n",
       "      <th>262799</th>\n",
       "      <td>33.6</td>\n",
       "      <td>2.8</td>\n",
       "      <td>4.3</td>\n",
       "      <td>73.7</td>\n",
       "      <td>0.0</td>\n",
       "      <td>1.3</td>\n",
       "      <td>0.0</td>\n",
       "    </tr>\n",
       "  </tbody>\n",
       "</table>\n",
       "<p>262800 rows × 7 columns</p>\n",
       "</div>"
      ],
      "text/plain": [
       "        10분평균풍향  10분평균풍속  10분평균기온  10분평균상대습도  10분일사량합  10분평균지면온도  강수유무\n",
       "0         329.5      0.6     -2.5       87.5      0.0       -1.6   0.0\n",
       "1         321.8      1.2     -2.5       88.2      0.0       -1.6   0.0\n",
       "2           0.4      0.4     -2.5       88.6      0.0       -1.7   0.0\n",
       "3         323.6      0.7     -2.6       88.7      0.0       -1.6   0.0\n",
       "4         208.4      0.2     -2.6       89.0      0.0       -1.6   0.0\n",
       "...         ...      ...      ...        ...      ...        ...   ...\n",
       "262795    338.8      6.1      4.5       71.3      0.0        1.9   0.0\n",
       "262796    335.2      5.8      4.6       71.4      0.0        1.9   0.0\n",
       "262797    337.1      5.3      4.5       72.1      0.0        1.8   0.0\n",
       "262798    322.0      3.7      4.3       72.5      0.0        1.4   0.0\n",
       "262799     33.6      2.8      4.3       73.7      0.0        1.3   0.0\n",
       "\n",
       "[262800 rows x 7 columns]"
      ]
     },
     "execution_count": 9,
     "metadata": {},
     "output_type": "execute_result"
    }
   ],
   "source": [
    "test_df"
   ]
  },
  {
   "cell_type": "code",
   "execution_count": 10,
   "metadata": {},
   "outputs": [],
   "source": [
    "# min-max scaler\n",
    "from sklearn.preprocessing import RobustScaler\n",
    "\n",
    "X_scaler = RobustScaler()\n",
    "X_cols = [\"10분평균풍향\", \"10분평균풍속\", \"10분평균기온\", \"10분평균상대습도\", \"10분일사량합\", \"10분평균지면온도\", \"강수유무\"]\n",
    "y_cols = \"시정구간\"\n",
    "train_df.loc[:, X_cols] = X_scaler.fit_transform(train_df[X_cols])\n",
    "train_y = np.array(train_df.loc[:, y_cols]) # Class Wights 계산을 위해\n",
    "test_df.loc[:, X_cols] = X_scaler.transform(test_df[X_cols])"
   ]
  },
  {
   "cell_type": "code",
   "execution_count": 11,
   "metadata": {},
   "outputs": [
    {
     "data": {
      "text/html": [
       "<div>\n",
       "<style scoped>\n",
       "    .dataframe tbody tr th:only-of-type {\n",
       "        vertical-align: middle;\n",
       "    }\n",
       "\n",
       "    .dataframe tbody tr th {\n",
       "        vertical-align: top;\n",
       "    }\n",
       "\n",
       "    .dataframe thead th {\n",
       "        text-align: right;\n",
       "    }\n",
       "</style>\n",
       "<table border=\"1\" class=\"dataframe\">\n",
       "  <thead>\n",
       "    <tr style=\"text-align: right;\">\n",
       "      <th></th>\n",
       "      <th>년도</th>\n",
       "      <th>10분평균풍향</th>\n",
       "      <th>10분평균풍속</th>\n",
       "      <th>10분평균기온</th>\n",
       "      <th>10분평균상대습도</th>\n",
       "      <th>10분일사량합</th>\n",
       "      <th>10분평균지면온도</th>\n",
       "      <th>강수유무</th>\n",
       "      <th>시정구간</th>\n",
       "    </tr>\n",
       "  </thead>\n",
       "  <tbody>\n",
       "    <tr>\n",
       "      <th>0</th>\n",
       "      <td>I</td>\n",
       "      <td>-1.095089</td>\n",
       "      <td>-0.857143</td>\n",
       "      <td>-1.254545</td>\n",
       "      <td>-0.892216</td>\n",
       "      <td>-0.058824</td>\n",
       "      <td>-0.994709</td>\n",
       "      <td>0.0</td>\n",
       "      <td>4</td>\n",
       "    </tr>\n",
       "    <tr>\n",
       "      <th>1</th>\n",
       "      <td>I</td>\n",
       "      <td>-1.095089</td>\n",
       "      <td>-0.857143</td>\n",
       "      <td>-1.248485</td>\n",
       "      <td>-0.922156</td>\n",
       "      <td>-0.058824</td>\n",
       "      <td>-0.989418</td>\n",
       "      <td>0.0</td>\n",
       "      <td>4</td>\n",
       "    </tr>\n",
       "    <tr>\n",
       "      <th>2</th>\n",
       "      <td>I</td>\n",
       "      <td>-1.095089</td>\n",
       "      <td>-0.857143</td>\n",
       "      <td>-1.248485</td>\n",
       "      <td>-0.859281</td>\n",
       "      <td>-0.058824</td>\n",
       "      <td>-0.984127</td>\n",
       "      <td>0.0</td>\n",
       "      <td>4</td>\n",
       "    </tr>\n",
       "    <tr>\n",
       "      <th>3</th>\n",
       "      <td>I</td>\n",
       "      <td>-0.949843</td>\n",
       "      <td>-0.666667</td>\n",
       "      <td>-1.242424</td>\n",
       "      <td>-0.874251</td>\n",
       "      <td>-0.058824</td>\n",
       "      <td>-0.984127</td>\n",
       "      <td>0.0</td>\n",
       "      <td>4</td>\n",
       "    </tr>\n",
       "    <tr>\n",
       "      <th>4</th>\n",
       "      <td>I</td>\n",
       "      <td>-0.783177</td>\n",
       "      <td>-0.619048</td>\n",
       "      <td>-1.236364</td>\n",
       "      <td>-0.865269</td>\n",
       "      <td>-0.058824</td>\n",
       "      <td>-0.978836</td>\n",
       "      <td>0.0</td>\n",
       "      <td>4</td>\n",
       "    </tr>\n",
       "    <tr>\n",
       "      <th>...</th>\n",
       "      <td>...</td>\n",
       "      <td>...</td>\n",
       "      <td>...</td>\n",
       "      <td>...</td>\n",
       "      <td>...</td>\n",
       "      <td>...</td>\n",
       "      <td>...</td>\n",
       "      <td>...</td>\n",
       "      <td>...</td>\n",
       "    </tr>\n",
       "    <tr>\n",
       "      <th>3156454</th>\n",
       "      <td>K</td>\n",
       "      <td>0.500000</td>\n",
       "      <td>2.809524</td>\n",
       "      <td>-0.715152</td>\n",
       "      <td>-0.553892</td>\n",
       "      <td>-0.058824</td>\n",
       "      <td>-0.894180</td>\n",
       "      <td>0.0</td>\n",
       "      <td>4</td>\n",
       "    </tr>\n",
       "    <tr>\n",
       "      <th>3156455</th>\n",
       "      <td>K</td>\n",
       "      <td>0.439916</td>\n",
       "      <td>1.857143</td>\n",
       "      <td>-0.727273</td>\n",
       "      <td>-0.556886</td>\n",
       "      <td>-0.058824</td>\n",
       "      <td>-0.915344</td>\n",
       "      <td>0.0</td>\n",
       "      <td>4</td>\n",
       "    </tr>\n",
       "    <tr>\n",
       "      <th>3156456</th>\n",
       "      <td>K</td>\n",
       "      <td>0.337513</td>\n",
       "      <td>1.476190</td>\n",
       "      <td>-0.733333</td>\n",
       "      <td>-0.529940</td>\n",
       "      <td>-0.058824</td>\n",
       "      <td>-0.920635</td>\n",
       "      <td>0.0</td>\n",
       "      <td>4</td>\n",
       "    </tr>\n",
       "    <tr>\n",
       "      <th>3156457</th>\n",
       "      <td>K</td>\n",
       "      <td>0.317137</td>\n",
       "      <td>1.333333</td>\n",
       "      <td>-0.739394</td>\n",
       "      <td>-0.508982</td>\n",
       "      <td>-0.058824</td>\n",
       "      <td>-0.931217</td>\n",
       "      <td>0.0</td>\n",
       "      <td>4</td>\n",
       "    </tr>\n",
       "    <tr>\n",
       "      <th>3156458</th>\n",
       "      <td>K</td>\n",
       "      <td>0.236155</td>\n",
       "      <td>1.095238</td>\n",
       "      <td>-0.739394</td>\n",
       "      <td>-0.461078</td>\n",
       "      <td>-0.058824</td>\n",
       "      <td>-0.936508</td>\n",
       "      <td>0.0</td>\n",
       "      <td>4</td>\n",
       "    </tr>\n",
       "  </tbody>\n",
       "</table>\n",
       "<p>3156459 rows × 9 columns</p>\n",
       "</div>"
      ],
      "text/plain": [
       "        년도   10분평균풍향   10분평균풍속   10분평균기온  10분평균상대습도   10분일사량합  10분평균지면온도  \\\n",
       "0        I -1.095089 -0.857143 -1.254545  -0.892216 -0.058824  -0.994709   \n",
       "1        I -1.095089 -0.857143 -1.248485  -0.922156 -0.058824  -0.989418   \n",
       "2        I -1.095089 -0.857143 -1.248485  -0.859281 -0.058824  -0.984127   \n",
       "3        I -0.949843 -0.666667 -1.242424  -0.874251 -0.058824  -0.984127   \n",
       "4        I -0.783177 -0.619048 -1.236364  -0.865269 -0.058824  -0.978836   \n",
       "...     ..       ...       ...       ...        ...       ...        ...   \n",
       "3156454  K  0.500000  2.809524 -0.715152  -0.553892 -0.058824  -0.894180   \n",
       "3156455  K  0.439916  1.857143 -0.727273  -0.556886 -0.058824  -0.915344   \n",
       "3156456  K  0.337513  1.476190 -0.733333  -0.529940 -0.058824  -0.920635   \n",
       "3156457  K  0.317137  1.333333 -0.739394  -0.508982 -0.058824  -0.931217   \n",
       "3156458  K  0.236155  1.095238 -0.739394  -0.461078 -0.058824  -0.936508   \n",
       "\n",
       "         강수유무  시정구간  \n",
       "0         0.0     4  \n",
       "1         0.0     4  \n",
       "2         0.0     4  \n",
       "3         0.0     4  \n",
       "4         0.0     4  \n",
       "...       ...   ...  \n",
       "3156454   0.0     4  \n",
       "3156455   0.0     4  \n",
       "3156456   0.0     4  \n",
       "3156457   0.0     4  \n",
       "3156458   0.0     4  \n",
       "\n",
       "[3156459 rows x 9 columns]"
      ]
     },
     "execution_count": 11,
     "metadata": {},
     "output_type": "execute_result"
    }
   ],
   "source": [
    "train_df"
   ]
  },
  {
   "cell_type": "code",
   "execution_count": 12,
   "metadata": {},
   "outputs": [
    {
     "data": {
      "text/html": [
       "<div>\n",
       "<style scoped>\n",
       "    .dataframe tbody tr th:only-of-type {\n",
       "        vertical-align: middle;\n",
       "    }\n",
       "\n",
       "    .dataframe tbody tr th {\n",
       "        vertical-align: top;\n",
       "    }\n",
       "\n",
       "    .dataframe thead th {\n",
       "        text-align: right;\n",
       "    }\n",
       "</style>\n",
       "<table border=\"1\" class=\"dataframe\">\n",
       "  <thead>\n",
       "    <tr style=\"text-align: right;\">\n",
       "      <th></th>\n",
       "      <th>10분평균풍향</th>\n",
       "      <th>10분평균풍속</th>\n",
       "      <th>10분평균기온</th>\n",
       "      <th>10분평균상대습도</th>\n",
       "      <th>10분일사량합</th>\n",
       "      <th>10분평균지면온도</th>\n",
       "      <th>강수유무</th>\n",
       "    </tr>\n",
       "  </thead>\n",
       "  <tbody>\n",
       "    <tr>\n",
       "      <th>0</th>\n",
       "      <td>0.626437</td>\n",
       "      <td>-0.571429</td>\n",
       "      <td>-1.018182</td>\n",
       "      <td>0.562874</td>\n",
       "      <td>-0.058824</td>\n",
       "      <td>-0.931217</td>\n",
       "      <td>0.0</td>\n",
       "    </tr>\n",
       "    <tr>\n",
       "      <th>1</th>\n",
       "      <td>0.586207</td>\n",
       "      <td>-0.285714</td>\n",
       "      <td>-1.018182</td>\n",
       "      <td>0.583832</td>\n",
       "      <td>-0.058824</td>\n",
       "      <td>-0.931217</td>\n",
       "      <td>0.0</td>\n",
       "    </tr>\n",
       "    <tr>\n",
       "      <th>2</th>\n",
       "      <td>-1.092999</td>\n",
       "      <td>-0.666667</td>\n",
       "      <td>-1.018182</td>\n",
       "      <td>0.595808</td>\n",
       "      <td>-0.058824</td>\n",
       "      <td>-0.936508</td>\n",
       "      <td>0.0</td>\n",
       "    </tr>\n",
       "    <tr>\n",
       "      <th>3</th>\n",
       "      <td>0.595611</td>\n",
       "      <td>-0.523810</td>\n",
       "      <td>-1.024242</td>\n",
       "      <td>0.598802</td>\n",
       "      <td>-0.058824</td>\n",
       "      <td>-0.931217</td>\n",
       "      <td>0.0</td>\n",
       "    </tr>\n",
       "    <tr>\n",
       "      <th>4</th>\n",
       "      <td>-0.006270</td>\n",
       "      <td>-0.761905</td>\n",
       "      <td>-1.024242</td>\n",
       "      <td>0.607784</td>\n",
       "      <td>-0.058824</td>\n",
       "      <td>-0.931217</td>\n",
       "      <td>0.0</td>\n",
       "    </tr>\n",
       "    <tr>\n",
       "      <th>...</th>\n",
       "      <td>...</td>\n",
       "      <td>...</td>\n",
       "      <td>...</td>\n",
       "      <td>...</td>\n",
       "      <td>...</td>\n",
       "      <td>...</td>\n",
       "      <td>...</td>\n",
       "    </tr>\n",
       "    <tr>\n",
       "      <th>262795</th>\n",
       "      <td>0.675026</td>\n",
       "      <td>2.047619</td>\n",
       "      <td>-0.593939</td>\n",
       "      <td>0.077844</td>\n",
       "      <td>-0.058824</td>\n",
       "      <td>-0.746032</td>\n",
       "      <td>0.0</td>\n",
       "    </tr>\n",
       "    <tr>\n",
       "      <th>262796</th>\n",
       "      <td>0.656217</td>\n",
       "      <td>1.904762</td>\n",
       "      <td>-0.587879</td>\n",
       "      <td>0.080838</td>\n",
       "      <td>-0.058824</td>\n",
       "      <td>-0.746032</td>\n",
       "      <td>0.0</td>\n",
       "    </tr>\n",
       "    <tr>\n",
       "      <th>262797</th>\n",
       "      <td>0.666144</td>\n",
       "      <td>1.666667</td>\n",
       "      <td>-0.593939</td>\n",
       "      <td>0.101796</td>\n",
       "      <td>-0.058824</td>\n",
       "      <td>-0.751323</td>\n",
       "      <td>0.0</td>\n",
       "    </tr>\n",
       "    <tr>\n",
       "      <th>262798</th>\n",
       "      <td>0.587252</td>\n",
       "      <td>0.904762</td>\n",
       "      <td>-0.606061</td>\n",
       "      <td>0.113772</td>\n",
       "      <td>-0.058824</td>\n",
       "      <td>-0.772487</td>\n",
       "      <td>0.0</td>\n",
       "    </tr>\n",
       "    <tr>\n",
       "      <th>262799</th>\n",
       "      <td>-0.919540</td>\n",
       "      <td>0.476190</td>\n",
       "      <td>-0.606061</td>\n",
       "      <td>0.149701</td>\n",
       "      <td>-0.058824</td>\n",
       "      <td>-0.777778</td>\n",
       "      <td>0.0</td>\n",
       "    </tr>\n",
       "  </tbody>\n",
       "</table>\n",
       "<p>262800 rows × 7 columns</p>\n",
       "</div>"
      ],
      "text/plain": [
       "         10분평균풍향   10분평균풍속   10분평균기온  10분평균상대습도   10분일사량합  10분평균지면온도  강수유무\n",
       "0       0.626437 -0.571429 -1.018182   0.562874 -0.058824  -0.931217   0.0\n",
       "1       0.586207 -0.285714 -1.018182   0.583832 -0.058824  -0.931217   0.0\n",
       "2      -1.092999 -0.666667 -1.018182   0.595808 -0.058824  -0.936508   0.0\n",
       "3       0.595611 -0.523810 -1.024242   0.598802 -0.058824  -0.931217   0.0\n",
       "4      -0.006270 -0.761905 -1.024242   0.607784 -0.058824  -0.931217   0.0\n",
       "...          ...       ...       ...        ...       ...        ...   ...\n",
       "262795  0.675026  2.047619 -0.593939   0.077844 -0.058824  -0.746032   0.0\n",
       "262796  0.656217  1.904762 -0.587879   0.080838 -0.058824  -0.746032   0.0\n",
       "262797  0.666144  1.666667 -0.593939   0.101796 -0.058824  -0.751323   0.0\n",
       "262798  0.587252  0.904762 -0.606061   0.113772 -0.058824  -0.772487   0.0\n",
       "262799 -0.919540  0.476190 -0.606061   0.149701 -0.058824  -0.777778   0.0\n",
       "\n",
       "[262800 rows x 7 columns]"
      ]
     },
     "execution_count": 12,
     "metadata": {},
     "output_type": "execute_result"
    }
   ],
   "source": [
    "test_df"
   ]
  },
  {
   "cell_type": "code",
   "execution_count": 13,
   "metadata": {},
   "outputs": [
    {
     "name": "stdout",
     "output_type": "stream",
     "text": [
      "<class 'pandas.core.frame.DataFrame'>\n",
      "RangeIndex: 262800 entries, 0 to 262799\n",
      "Data columns (total 7 columns):\n",
      " #   Column     Non-Null Count   Dtype  \n",
      "---  ------     --------------   -----  \n",
      " 0   10분평균풍향    262800 non-null  float64\n",
      " 1   10분평균풍속    262800 non-null  float64\n",
      " 2   10분평균기온    262800 non-null  float64\n",
      " 3   10분평균상대습도  262800 non-null  float64\n",
      " 4   10분일사량합    262800 non-null  float64\n",
      " 5   10분평균지면온도  262800 non-null  float64\n",
      " 6   강수유무       262800 non-null  float64\n",
      "dtypes: float64(7)\n",
      "memory usage: 14.0 MB\n"
     ]
    }
   ],
   "source": [
    "test_df.info()"
   ]
  },
  {
   "cell_type": "code",
   "execution_count": 14,
   "metadata": {},
   "outputs": [],
   "source": [
    "# Holdout (I,J : K)\n",
    "\n",
    "train_data = train_df.query(\"년도!='K'\").iloc[:, 1:]\n",
    "valid_data = train_df.query(\"년도=='K'\").iloc[:, 1:]"
   ]
  },
  {
   "cell_type": "code",
   "execution_count": 15,
   "metadata": {},
   "outputs": [
    {
     "data": {
      "text/html": [
       "<div>\n",
       "<style scoped>\n",
       "    .dataframe tbody tr th:only-of-type {\n",
       "        vertical-align: middle;\n",
       "    }\n",
       "\n",
       "    .dataframe tbody tr th {\n",
       "        vertical-align: top;\n",
       "    }\n",
       "\n",
       "    .dataframe thead th {\n",
       "        text-align: right;\n",
       "    }\n",
       "</style>\n",
       "<table border=\"1\" class=\"dataframe\">\n",
       "  <thead>\n",
       "    <tr style=\"text-align: right;\">\n",
       "      <th></th>\n",
       "      <th>10분평균풍향</th>\n",
       "      <th>10분평균풍속</th>\n",
       "      <th>10분평균기온</th>\n",
       "      <th>10분평균상대습도</th>\n",
       "      <th>10분일사량합</th>\n",
       "      <th>10분평균지면온도</th>\n",
       "      <th>강수유무</th>\n",
       "      <th>시정구간</th>\n",
       "    </tr>\n",
       "  </thead>\n",
       "  <tbody>\n",
       "    <tr>\n",
       "      <th>0</th>\n",
       "      <td>-1.095089</td>\n",
       "      <td>-0.857143</td>\n",
       "      <td>-1.254545</td>\n",
       "      <td>-0.892216</td>\n",
       "      <td>-0.058824</td>\n",
       "      <td>-0.994709</td>\n",
       "      <td>0.0</td>\n",
       "      <td>4</td>\n",
       "    </tr>\n",
       "    <tr>\n",
       "      <th>1</th>\n",
       "      <td>-1.095089</td>\n",
       "      <td>-0.857143</td>\n",
       "      <td>-1.248485</td>\n",
       "      <td>-0.922156</td>\n",
       "      <td>-0.058824</td>\n",
       "      <td>-0.989418</td>\n",
       "      <td>0.0</td>\n",
       "      <td>4</td>\n",
       "    </tr>\n",
       "    <tr>\n",
       "      <th>2</th>\n",
       "      <td>-1.095089</td>\n",
       "      <td>-0.857143</td>\n",
       "      <td>-1.248485</td>\n",
       "      <td>-0.859281</td>\n",
       "      <td>-0.058824</td>\n",
       "      <td>-0.984127</td>\n",
       "      <td>0.0</td>\n",
       "      <td>4</td>\n",
       "    </tr>\n",
       "    <tr>\n",
       "      <th>3</th>\n",
       "      <td>-0.949843</td>\n",
       "      <td>-0.666667</td>\n",
       "      <td>-1.242424</td>\n",
       "      <td>-0.874251</td>\n",
       "      <td>-0.058824</td>\n",
       "      <td>-0.984127</td>\n",
       "      <td>0.0</td>\n",
       "      <td>4</td>\n",
       "    </tr>\n",
       "    <tr>\n",
       "      <th>4</th>\n",
       "      <td>-0.783177</td>\n",
       "      <td>-0.619048</td>\n",
       "      <td>-1.236364</td>\n",
       "      <td>-0.865269</td>\n",
       "      <td>-0.058824</td>\n",
       "      <td>-0.978836</td>\n",
       "      <td>0.0</td>\n",
       "      <td>4</td>\n",
       "    </tr>\n",
       "    <tr>\n",
       "      <th>...</th>\n",
       "      <td>...</td>\n",
       "      <td>...</td>\n",
       "      <td>...</td>\n",
       "      <td>...</td>\n",
       "      <td>...</td>\n",
       "      <td>...</td>\n",
       "      <td>...</td>\n",
       "      <td>...</td>\n",
       "    </tr>\n",
       "    <tr>\n",
       "      <th>2998774</th>\n",
       "      <td>0.539185</td>\n",
       "      <td>2.523810</td>\n",
       "      <td>-1.006061</td>\n",
       "      <td>-0.637725</td>\n",
       "      <td>-0.058824</td>\n",
       "      <td>-1.000000</td>\n",
       "      <td>0.0</td>\n",
       "      <td>4</td>\n",
       "    </tr>\n",
       "    <tr>\n",
       "      <th>2998775</th>\n",
       "      <td>0.552247</td>\n",
       "      <td>2.571429</td>\n",
       "      <td>-1.006061</td>\n",
       "      <td>-0.670659</td>\n",
       "      <td>-0.058824</td>\n",
       "      <td>-1.005291</td>\n",
       "      <td>0.0</td>\n",
       "      <td>4</td>\n",
       "    </tr>\n",
       "    <tr>\n",
       "      <th>2998776</th>\n",
       "      <td>0.553814</td>\n",
       "      <td>2.571429</td>\n",
       "      <td>-1.006061</td>\n",
       "      <td>-0.694611</td>\n",
       "      <td>-0.058824</td>\n",
       "      <td>-1.000000</td>\n",
       "      <td>0.0</td>\n",
       "      <td>4</td>\n",
       "    </tr>\n",
       "    <tr>\n",
       "      <th>2998777</th>\n",
       "      <td>0.536573</td>\n",
       "      <td>2.571429</td>\n",
       "      <td>-1.006061</td>\n",
       "      <td>-0.721557</td>\n",
       "      <td>-0.058824</td>\n",
       "      <td>-1.005291</td>\n",
       "      <td>0.0</td>\n",
       "      <td>4</td>\n",
       "    </tr>\n",
       "    <tr>\n",
       "      <th>2998778</th>\n",
       "      <td>0.544410</td>\n",
       "      <td>2.523810</td>\n",
       "      <td>-1.012121</td>\n",
       "      <td>-0.742515</td>\n",
       "      <td>-0.058824</td>\n",
       "      <td>-1.010582</td>\n",
       "      <td>0.0</td>\n",
       "      <td>4</td>\n",
       "    </tr>\n",
       "  </tbody>\n",
       "</table>\n",
       "<p>2105259 rows × 8 columns</p>\n",
       "</div>"
      ],
      "text/plain": [
       "          10분평균풍향   10분평균풍속   10분평균기온  10분평균상대습도   10분일사량합  10분평균지면온도  강수유무  \\\n",
       "0       -1.095089 -0.857143 -1.254545  -0.892216 -0.058824  -0.994709   0.0   \n",
       "1       -1.095089 -0.857143 -1.248485  -0.922156 -0.058824  -0.989418   0.0   \n",
       "2       -1.095089 -0.857143 -1.248485  -0.859281 -0.058824  -0.984127   0.0   \n",
       "3       -0.949843 -0.666667 -1.242424  -0.874251 -0.058824  -0.984127   0.0   \n",
       "4       -0.783177 -0.619048 -1.236364  -0.865269 -0.058824  -0.978836   0.0   \n",
       "...           ...       ...       ...        ...       ...        ...   ...   \n",
       "2998774  0.539185  2.523810 -1.006061  -0.637725 -0.058824  -1.000000   0.0   \n",
       "2998775  0.552247  2.571429 -1.006061  -0.670659 -0.058824  -1.005291   0.0   \n",
       "2998776  0.553814  2.571429 -1.006061  -0.694611 -0.058824  -1.000000   0.0   \n",
       "2998777  0.536573  2.571429 -1.006061  -0.721557 -0.058824  -1.005291   0.0   \n",
       "2998778  0.544410  2.523810 -1.012121  -0.742515 -0.058824  -1.010582   0.0   \n",
       "\n",
       "         시정구간  \n",
       "0           4  \n",
       "1           4  \n",
       "2           4  \n",
       "3           4  \n",
       "4           4  \n",
       "...       ...  \n",
       "2998774     4  \n",
       "2998775     4  \n",
       "2998776     4  \n",
       "2998777     4  \n",
       "2998778     4  \n",
       "\n",
       "[2105259 rows x 8 columns]"
      ]
     },
     "execution_count": 15,
     "metadata": {},
     "output_type": "execute_result"
    }
   ],
   "source": [
    "train_data"
   ]
  },
  {
   "cell_type": "code",
   "execution_count": 16,
   "metadata": {},
   "outputs": [
    {
     "data": {
      "text/html": [
       "<div>\n",
       "<style scoped>\n",
       "    .dataframe tbody tr th:only-of-type {\n",
       "        vertical-align: middle;\n",
       "    }\n",
       "\n",
       "    .dataframe tbody tr th {\n",
       "        vertical-align: top;\n",
       "    }\n",
       "\n",
       "    .dataframe thead th {\n",
       "        text-align: right;\n",
       "    }\n",
       "</style>\n",
       "<table border=\"1\" class=\"dataframe\">\n",
       "  <thead>\n",
       "    <tr style=\"text-align: right;\">\n",
       "      <th></th>\n",
       "      <th>10분평균풍향</th>\n",
       "      <th>10분평균풍속</th>\n",
       "      <th>10분평균기온</th>\n",
       "      <th>10분평균상대습도</th>\n",
       "      <th>10분일사량합</th>\n",
       "      <th>10분평균지면온도</th>\n",
       "      <th>강수유무</th>\n",
       "      <th>시정구간</th>\n",
       "    </tr>\n",
       "  </thead>\n",
       "  <tbody>\n",
       "    <tr>\n",
       "      <th>842104</th>\n",
       "      <td>0.563741</td>\n",
       "      <td>0.047619</td>\n",
       "      <td>-1.381818</td>\n",
       "      <td>-0.826347</td>\n",
       "      <td>-0.058824</td>\n",
       "      <td>0.290123</td>\n",
       "      <td>0.0</td>\n",
       "      <td>4</td>\n",
       "    </tr>\n",
       "    <tr>\n",
       "      <th>842105</th>\n",
       "      <td>0.495298</td>\n",
       "      <td>0.047619</td>\n",
       "      <td>-1.387879</td>\n",
       "      <td>-0.835329</td>\n",
       "      <td>0.441176</td>\n",
       "      <td>0.268078</td>\n",
       "      <td>0.0</td>\n",
       "      <td>4</td>\n",
       "    </tr>\n",
       "    <tr>\n",
       "      <th>842106</th>\n",
       "      <td>0.332288</td>\n",
       "      <td>0.190476</td>\n",
       "      <td>-1.393939</td>\n",
       "      <td>-0.835329</td>\n",
       "      <td>-0.058824</td>\n",
       "      <td>0.246032</td>\n",
       "      <td>0.0</td>\n",
       "      <td>4</td>\n",
       "    </tr>\n",
       "    <tr>\n",
       "      <th>842107</th>\n",
       "      <td>0.277952</td>\n",
       "      <td>0.142857</td>\n",
       "      <td>-1.406061</td>\n",
       "      <td>-0.814371</td>\n",
       "      <td>-0.058824</td>\n",
       "      <td>0.512346</td>\n",
       "      <td>0.0</td>\n",
       "      <td>4</td>\n",
       "    </tr>\n",
       "    <tr>\n",
       "      <th>842108</th>\n",
       "      <td>0.249739</td>\n",
       "      <td>0.238095</td>\n",
       "      <td>-1.412121</td>\n",
       "      <td>-0.820359</td>\n",
       "      <td>-0.058824</td>\n",
       "      <td>0.338624</td>\n",
       "      <td>0.0</td>\n",
       "      <td>4</td>\n",
       "    </tr>\n",
       "    <tr>\n",
       "      <th>...</th>\n",
       "      <td>...</td>\n",
       "      <td>...</td>\n",
       "      <td>...</td>\n",
       "      <td>...</td>\n",
       "      <td>...</td>\n",
       "      <td>...</td>\n",
       "      <td>...</td>\n",
       "      <td>...</td>\n",
       "    </tr>\n",
       "    <tr>\n",
       "      <th>3156454</th>\n",
       "      <td>0.500000</td>\n",
       "      <td>2.809524</td>\n",
       "      <td>-0.715152</td>\n",
       "      <td>-0.553892</td>\n",
       "      <td>-0.058824</td>\n",
       "      <td>-0.894180</td>\n",
       "      <td>0.0</td>\n",
       "      <td>4</td>\n",
       "    </tr>\n",
       "    <tr>\n",
       "      <th>3156455</th>\n",
       "      <td>0.439916</td>\n",
       "      <td>1.857143</td>\n",
       "      <td>-0.727273</td>\n",
       "      <td>-0.556886</td>\n",
       "      <td>-0.058824</td>\n",
       "      <td>-0.915344</td>\n",
       "      <td>0.0</td>\n",
       "      <td>4</td>\n",
       "    </tr>\n",
       "    <tr>\n",
       "      <th>3156456</th>\n",
       "      <td>0.337513</td>\n",
       "      <td>1.476190</td>\n",
       "      <td>-0.733333</td>\n",
       "      <td>-0.529940</td>\n",
       "      <td>-0.058824</td>\n",
       "      <td>-0.920635</td>\n",
       "      <td>0.0</td>\n",
       "      <td>4</td>\n",
       "    </tr>\n",
       "    <tr>\n",
       "      <th>3156457</th>\n",
       "      <td>0.317137</td>\n",
       "      <td>1.333333</td>\n",
       "      <td>-0.739394</td>\n",
       "      <td>-0.508982</td>\n",
       "      <td>-0.058824</td>\n",
       "      <td>-0.931217</td>\n",
       "      <td>0.0</td>\n",
       "      <td>4</td>\n",
       "    </tr>\n",
       "    <tr>\n",
       "      <th>3156458</th>\n",
       "      <td>0.236155</td>\n",
       "      <td>1.095238</td>\n",
       "      <td>-0.739394</td>\n",
       "      <td>-0.461078</td>\n",
       "      <td>-0.058824</td>\n",
       "      <td>-0.936508</td>\n",
       "      <td>0.0</td>\n",
       "      <td>4</td>\n",
       "    </tr>\n",
       "  </tbody>\n",
       "</table>\n",
       "<p>1051200 rows × 8 columns</p>\n",
       "</div>"
      ],
      "text/plain": [
       "          10분평균풍향   10분평균풍속   10분평균기온  10분평균상대습도   10분일사량합  10분평균지면온도  강수유무  \\\n",
       "842104   0.563741  0.047619 -1.381818  -0.826347 -0.058824   0.290123   0.0   \n",
       "842105   0.495298  0.047619 -1.387879  -0.835329  0.441176   0.268078   0.0   \n",
       "842106   0.332288  0.190476 -1.393939  -0.835329 -0.058824   0.246032   0.0   \n",
       "842107   0.277952  0.142857 -1.406061  -0.814371 -0.058824   0.512346   0.0   \n",
       "842108   0.249739  0.238095 -1.412121  -0.820359 -0.058824   0.338624   0.0   \n",
       "...           ...       ...       ...        ...       ...        ...   ...   \n",
       "3156454  0.500000  2.809524 -0.715152  -0.553892 -0.058824  -0.894180   0.0   \n",
       "3156455  0.439916  1.857143 -0.727273  -0.556886 -0.058824  -0.915344   0.0   \n",
       "3156456  0.337513  1.476190 -0.733333  -0.529940 -0.058824  -0.920635   0.0   \n",
       "3156457  0.317137  1.333333 -0.739394  -0.508982 -0.058824  -0.931217   0.0   \n",
       "3156458  0.236155  1.095238 -0.739394  -0.461078 -0.058824  -0.936508   0.0   \n",
       "\n",
       "         시정구간  \n",
       "842104      4  \n",
       "842105      4  \n",
       "842106      4  \n",
       "842107      4  \n",
       "842108      4  \n",
       "...       ...  \n",
       "3156454     4  \n",
       "3156455     4  \n",
       "3156456     4  \n",
       "3156457     4  \n",
       "3156458     4  \n",
       "\n",
       "[1051200 rows x 8 columns]"
      ]
     },
     "execution_count": 16,
     "metadata": {},
     "output_type": "execute_result"
    }
   ],
   "source": [
    "valid_data"
   ]
  },
  {
   "cell_type": "code",
   "execution_count": 17,
   "metadata": {},
   "outputs": [],
   "source": [
    "pre_val_data = valid_data.iloc[:6, :].rolling(window=6, min_periods=1).mean().reset_index(drop=True)\n",
    "valid_data = pd.concat([pre_val_data, valid_data.reset_index(drop=True)], axis=0).reset_index(drop=True)"
   ]
  },
  {
   "cell_type": "code",
   "execution_count": 18,
   "metadata": {},
   "outputs": [
    {
     "data": {
      "text/html": [
       "<div>\n",
       "<style scoped>\n",
       "    .dataframe tbody tr th:only-of-type {\n",
       "        vertical-align: middle;\n",
       "    }\n",
       "\n",
       "    .dataframe tbody tr th {\n",
       "        vertical-align: top;\n",
       "    }\n",
       "\n",
       "    .dataframe thead th {\n",
       "        text-align: right;\n",
       "    }\n",
       "</style>\n",
       "<table border=\"1\" class=\"dataframe\">\n",
       "  <thead>\n",
       "    <tr style=\"text-align: right;\">\n",
       "      <th></th>\n",
       "      <th>10분평균풍향</th>\n",
       "      <th>10분평균풍속</th>\n",
       "      <th>10분평균기온</th>\n",
       "      <th>10분평균상대습도</th>\n",
       "      <th>10분일사량합</th>\n",
       "      <th>10분평균지면온도</th>\n",
       "      <th>강수유무</th>\n",
       "      <th>시정구간</th>\n",
       "    </tr>\n",
       "  </thead>\n",
       "  <tbody>\n",
       "    <tr>\n",
       "      <th>0</th>\n",
       "      <td>0.563741</td>\n",
       "      <td>0.047619</td>\n",
       "      <td>-1.381818</td>\n",
       "      <td>-0.826347</td>\n",
       "      <td>-0.058824</td>\n",
       "      <td>0.290123</td>\n",
       "      <td>0.0</td>\n",
       "      <td>4.0</td>\n",
       "    </tr>\n",
       "    <tr>\n",
       "      <th>1</th>\n",
       "      <td>0.529519</td>\n",
       "      <td>0.047619</td>\n",
       "      <td>-1.384848</td>\n",
       "      <td>-0.830838</td>\n",
       "      <td>0.191176</td>\n",
       "      <td>0.279101</td>\n",
       "      <td>0.0</td>\n",
       "      <td>4.0</td>\n",
       "    </tr>\n",
       "    <tr>\n",
       "      <th>2</th>\n",
       "      <td>0.463776</td>\n",
       "      <td>0.095238</td>\n",
       "      <td>-1.387879</td>\n",
       "      <td>-0.832335</td>\n",
       "      <td>0.107843</td>\n",
       "      <td>0.268078</td>\n",
       "      <td>0.0</td>\n",
       "      <td>4.0</td>\n",
       "    </tr>\n",
       "    <tr>\n",
       "      <th>3</th>\n",
       "      <td>0.417320</td>\n",
       "      <td>0.107143</td>\n",
       "      <td>-1.392424</td>\n",
       "      <td>-0.827844</td>\n",
       "      <td>0.066176</td>\n",
       "      <td>0.329145</td>\n",
       "      <td>0.0</td>\n",
       "      <td>4.0</td>\n",
       "    </tr>\n",
       "    <tr>\n",
       "      <th>4</th>\n",
       "      <td>0.383804</td>\n",
       "      <td>0.133333</td>\n",
       "      <td>-1.396364</td>\n",
       "      <td>-0.826347</td>\n",
       "      <td>0.041176</td>\n",
       "      <td>0.331041</td>\n",
       "      <td>0.0</td>\n",
       "      <td>4.0</td>\n",
       "    </tr>\n",
       "    <tr>\n",
       "      <th>...</th>\n",
       "      <td>...</td>\n",
       "      <td>...</td>\n",
       "      <td>...</td>\n",
       "      <td>...</td>\n",
       "      <td>...</td>\n",
       "      <td>...</td>\n",
       "      <td>...</td>\n",
       "      <td>...</td>\n",
       "    </tr>\n",
       "    <tr>\n",
       "      <th>1051201</th>\n",
       "      <td>0.500000</td>\n",
       "      <td>2.809524</td>\n",
       "      <td>-0.715152</td>\n",
       "      <td>-0.553892</td>\n",
       "      <td>-0.058824</td>\n",
       "      <td>-0.894180</td>\n",
       "      <td>0.0</td>\n",
       "      <td>4.0</td>\n",
       "    </tr>\n",
       "    <tr>\n",
       "      <th>1051202</th>\n",
       "      <td>0.439916</td>\n",
       "      <td>1.857143</td>\n",
       "      <td>-0.727273</td>\n",
       "      <td>-0.556886</td>\n",
       "      <td>-0.058824</td>\n",
       "      <td>-0.915344</td>\n",
       "      <td>0.0</td>\n",
       "      <td>4.0</td>\n",
       "    </tr>\n",
       "    <tr>\n",
       "      <th>1051203</th>\n",
       "      <td>0.337513</td>\n",
       "      <td>1.476190</td>\n",
       "      <td>-0.733333</td>\n",
       "      <td>-0.529940</td>\n",
       "      <td>-0.058824</td>\n",
       "      <td>-0.920635</td>\n",
       "      <td>0.0</td>\n",
       "      <td>4.0</td>\n",
       "    </tr>\n",
       "    <tr>\n",
       "      <th>1051204</th>\n",
       "      <td>0.317137</td>\n",
       "      <td>1.333333</td>\n",
       "      <td>-0.739394</td>\n",
       "      <td>-0.508982</td>\n",
       "      <td>-0.058824</td>\n",
       "      <td>-0.931217</td>\n",
       "      <td>0.0</td>\n",
       "      <td>4.0</td>\n",
       "    </tr>\n",
       "    <tr>\n",
       "      <th>1051205</th>\n",
       "      <td>0.236155</td>\n",
       "      <td>1.095238</td>\n",
       "      <td>-0.739394</td>\n",
       "      <td>-0.461078</td>\n",
       "      <td>-0.058824</td>\n",
       "      <td>-0.936508</td>\n",
       "      <td>0.0</td>\n",
       "      <td>4.0</td>\n",
       "    </tr>\n",
       "  </tbody>\n",
       "</table>\n",
       "<p>1051206 rows × 8 columns</p>\n",
       "</div>"
      ],
      "text/plain": [
       "          10분평균풍향   10분평균풍속   10분평균기온  10분평균상대습도   10분일사량합  10분평균지면온도  강수유무  \\\n",
       "0        0.563741  0.047619 -1.381818  -0.826347 -0.058824   0.290123   0.0   \n",
       "1        0.529519  0.047619 -1.384848  -0.830838  0.191176   0.279101   0.0   \n",
       "2        0.463776  0.095238 -1.387879  -0.832335  0.107843   0.268078   0.0   \n",
       "3        0.417320  0.107143 -1.392424  -0.827844  0.066176   0.329145   0.0   \n",
       "4        0.383804  0.133333 -1.396364  -0.826347  0.041176   0.331041   0.0   \n",
       "...           ...       ...       ...        ...       ...        ...   ...   \n",
       "1051201  0.500000  2.809524 -0.715152  -0.553892 -0.058824  -0.894180   0.0   \n",
       "1051202  0.439916  1.857143 -0.727273  -0.556886 -0.058824  -0.915344   0.0   \n",
       "1051203  0.337513  1.476190 -0.733333  -0.529940 -0.058824  -0.920635   0.0   \n",
       "1051204  0.317137  1.333333 -0.739394  -0.508982 -0.058824  -0.931217   0.0   \n",
       "1051205  0.236155  1.095238 -0.739394  -0.461078 -0.058824  -0.936508   0.0   \n",
       "\n",
       "         시정구간  \n",
       "0         4.0  \n",
       "1         4.0  \n",
       "2         4.0  \n",
       "3         4.0  \n",
       "4         4.0  \n",
       "...       ...  \n",
       "1051201   4.0  \n",
       "1051202   4.0  \n",
       "1051203   4.0  \n",
       "1051204   4.0  \n",
       "1051205   4.0  \n",
       "\n",
       "[1051206 rows x 8 columns]"
      ]
     },
     "execution_count": 18,
     "metadata": {},
     "output_type": "execute_result"
    }
   ],
   "source": [
    "valid_data"
   ]
  },
  {
   "cell_type": "code",
   "execution_count": 19,
   "metadata": {},
   "outputs": [],
   "source": [
    "valid_data[\"시정구간\"] = valid_data[\"시정구간\"].astype(int)"
   ]
  },
  {
   "cell_type": "code",
   "execution_count": 20,
   "metadata": {},
   "outputs": [
    {
     "name": "stdout",
     "output_type": "stream",
     "text": [
      "<class 'pandas.core.frame.DataFrame'>\n",
      "RangeIndex: 1051206 entries, 0 to 1051205\n",
      "Data columns (total 8 columns):\n",
      " #   Column     Non-Null Count    Dtype  \n",
      "---  ------     --------------    -----  \n",
      " 0   10분평균풍향    1051206 non-null  float64\n",
      " 1   10분평균풍속    1051206 non-null  float64\n",
      " 2   10분평균기온    1051206 non-null  float64\n",
      " 3   10분평균상대습도  1051206 non-null  float64\n",
      " 4   10분일사량합    1051206 non-null  float64\n",
      " 5   10분평균지면온도  1051206 non-null  float64\n",
      " 6   강수유무       1051206 non-null  float64\n",
      " 7   시정구간       1051206 non-null  int64  \n",
      "dtypes: float64(7), int64(1)\n",
      "memory usage: 64.2 MB\n"
     ]
    }
   ],
   "source": [
    "valid_data.info()"
   ]
  },
  {
   "cell_type": "code",
   "execution_count": 21,
   "metadata": {},
   "outputs": [
    {
     "name": "stdout",
     "output_type": "stream",
     "text": [
      "<class 'pandas.core.frame.DataFrame'>\n",
      "Index: 2105259 entries, 0 to 2998778\n",
      "Data columns (total 8 columns):\n",
      " #   Column     Dtype  \n",
      "---  ------     -----  \n",
      " 0   10분평균풍향    float64\n",
      " 1   10분평균풍속    float64\n",
      " 2   10분평균기온    float64\n",
      " 3   10분평균상대습도  float64\n",
      " 4   10분일사량합    float64\n",
      " 5   10분평균지면온도  float64\n",
      " 6   강수유무       float64\n",
      " 7   시정구간       int64  \n",
      "dtypes: float64(7), int64(1)\n",
      "memory usage: 144.6 MB\n"
     ]
    }
   ],
   "source": [
    "train_data.info()"
   ]
  },
  {
   "cell_type": "code",
   "execution_count": 22,
   "metadata": {},
   "outputs": [
    {
     "name": "stdout",
     "output_type": "stream",
     "text": [
      "cpu is available\n"
     ]
    }
   ],
   "source": [
    "device = torch.device('cuda:0' if torch.cuda.is_available() else 'cpu')\n",
    "print(f\"{device} is available\")"
   ]
  },
  {
   "cell_type": "code",
   "execution_count": 23,
   "metadata": {},
   "outputs": [
    {
     "data": {
      "text/html": [
       "<div>\n",
       "<style scoped>\n",
       "    .dataframe tbody tr th:only-of-type {\n",
       "        vertical-align: middle;\n",
       "    }\n",
       "\n",
       "    .dataframe tbody tr th {\n",
       "        vertical-align: top;\n",
       "    }\n",
       "\n",
       "    .dataframe thead th {\n",
       "        text-align: right;\n",
       "    }\n",
       "</style>\n",
       "<table border=\"1\" class=\"dataframe\">\n",
       "  <thead>\n",
       "    <tr style=\"text-align: right;\">\n",
       "      <th></th>\n",
       "      <th>10분평균풍향</th>\n",
       "      <th>10분평균풍속</th>\n",
       "      <th>10분평균기온</th>\n",
       "      <th>10분평균상대습도</th>\n",
       "      <th>10분일사량합</th>\n",
       "      <th>10분평균지면온도</th>\n",
       "      <th>강수유무</th>\n",
       "      <th>시정구간</th>\n",
       "    </tr>\n",
       "  </thead>\n",
       "  <tbody>\n",
       "    <tr>\n",
       "      <th>0</th>\n",
       "      <td>-1.095089</td>\n",
       "      <td>-0.857143</td>\n",
       "      <td>-1.254545</td>\n",
       "      <td>-0.892216</td>\n",
       "      <td>-0.058824</td>\n",
       "      <td>-0.994709</td>\n",
       "      <td>0.0</td>\n",
       "      <td>4</td>\n",
       "    </tr>\n",
       "    <tr>\n",
       "      <th>1</th>\n",
       "      <td>-1.095089</td>\n",
       "      <td>-0.857143</td>\n",
       "      <td>-1.248485</td>\n",
       "      <td>-0.922156</td>\n",
       "      <td>-0.058824</td>\n",
       "      <td>-0.989418</td>\n",
       "      <td>0.0</td>\n",
       "      <td>4</td>\n",
       "    </tr>\n",
       "    <tr>\n",
       "      <th>2</th>\n",
       "      <td>-1.095089</td>\n",
       "      <td>-0.857143</td>\n",
       "      <td>-1.248485</td>\n",
       "      <td>-0.859281</td>\n",
       "      <td>-0.058824</td>\n",
       "      <td>-0.984127</td>\n",
       "      <td>0.0</td>\n",
       "      <td>4</td>\n",
       "    </tr>\n",
       "    <tr>\n",
       "      <th>3</th>\n",
       "      <td>-0.949843</td>\n",
       "      <td>-0.666667</td>\n",
       "      <td>-1.242424</td>\n",
       "      <td>-0.874251</td>\n",
       "      <td>-0.058824</td>\n",
       "      <td>-0.984127</td>\n",
       "      <td>0.0</td>\n",
       "      <td>4</td>\n",
       "    </tr>\n",
       "    <tr>\n",
       "      <th>4</th>\n",
       "      <td>-0.783177</td>\n",
       "      <td>-0.619048</td>\n",
       "      <td>-1.236364</td>\n",
       "      <td>-0.865269</td>\n",
       "      <td>-0.058824</td>\n",
       "      <td>-0.978836</td>\n",
       "      <td>0.0</td>\n",
       "      <td>4</td>\n",
       "    </tr>\n",
       "    <tr>\n",
       "      <th>...</th>\n",
       "      <td>...</td>\n",
       "      <td>...</td>\n",
       "      <td>...</td>\n",
       "      <td>...</td>\n",
       "      <td>...</td>\n",
       "      <td>...</td>\n",
       "      <td>...</td>\n",
       "      <td>...</td>\n",
       "    </tr>\n",
       "    <tr>\n",
       "      <th>2998774</th>\n",
       "      <td>0.539185</td>\n",
       "      <td>2.523810</td>\n",
       "      <td>-1.006061</td>\n",
       "      <td>-0.637725</td>\n",
       "      <td>-0.058824</td>\n",
       "      <td>-1.000000</td>\n",
       "      <td>0.0</td>\n",
       "      <td>4</td>\n",
       "    </tr>\n",
       "    <tr>\n",
       "      <th>2998775</th>\n",
       "      <td>0.552247</td>\n",
       "      <td>2.571429</td>\n",
       "      <td>-1.006061</td>\n",
       "      <td>-0.670659</td>\n",
       "      <td>-0.058824</td>\n",
       "      <td>-1.005291</td>\n",
       "      <td>0.0</td>\n",
       "      <td>4</td>\n",
       "    </tr>\n",
       "    <tr>\n",
       "      <th>2998776</th>\n",
       "      <td>0.553814</td>\n",
       "      <td>2.571429</td>\n",
       "      <td>-1.006061</td>\n",
       "      <td>-0.694611</td>\n",
       "      <td>-0.058824</td>\n",
       "      <td>-1.000000</td>\n",
       "      <td>0.0</td>\n",
       "      <td>4</td>\n",
       "    </tr>\n",
       "    <tr>\n",
       "      <th>2998777</th>\n",
       "      <td>0.536573</td>\n",
       "      <td>2.571429</td>\n",
       "      <td>-1.006061</td>\n",
       "      <td>-0.721557</td>\n",
       "      <td>-0.058824</td>\n",
       "      <td>-1.005291</td>\n",
       "      <td>0.0</td>\n",
       "      <td>4</td>\n",
       "    </tr>\n",
       "    <tr>\n",
       "      <th>2998778</th>\n",
       "      <td>0.544410</td>\n",
       "      <td>2.523810</td>\n",
       "      <td>-1.012121</td>\n",
       "      <td>-0.742515</td>\n",
       "      <td>-0.058824</td>\n",
       "      <td>-1.010582</td>\n",
       "      <td>0.0</td>\n",
       "      <td>4</td>\n",
       "    </tr>\n",
       "  </tbody>\n",
       "</table>\n",
       "<p>2105259 rows × 8 columns</p>\n",
       "</div>"
      ],
      "text/plain": [
       "          10분평균풍향   10분평균풍속   10분평균기온  10분평균상대습도   10분일사량합  10분평균지면온도  강수유무  \\\n",
       "0       -1.095089 -0.857143 -1.254545  -0.892216 -0.058824  -0.994709   0.0   \n",
       "1       -1.095089 -0.857143 -1.248485  -0.922156 -0.058824  -0.989418   0.0   \n",
       "2       -1.095089 -0.857143 -1.248485  -0.859281 -0.058824  -0.984127   0.0   \n",
       "3       -0.949843 -0.666667 -1.242424  -0.874251 -0.058824  -0.984127   0.0   \n",
       "4       -0.783177 -0.619048 -1.236364  -0.865269 -0.058824  -0.978836   0.0   \n",
       "...           ...       ...       ...        ...       ...        ...   ...   \n",
       "2998774  0.539185  2.523810 -1.006061  -0.637725 -0.058824  -1.000000   0.0   \n",
       "2998775  0.552247  2.571429 -1.006061  -0.670659 -0.058824  -1.005291   0.0   \n",
       "2998776  0.553814  2.571429 -1.006061  -0.694611 -0.058824  -1.000000   0.0   \n",
       "2998777  0.536573  2.571429 -1.006061  -0.721557 -0.058824  -1.005291   0.0   \n",
       "2998778  0.544410  2.523810 -1.012121  -0.742515 -0.058824  -1.010582   0.0   \n",
       "\n",
       "         시정구간  \n",
       "0           4  \n",
       "1           4  \n",
       "2           4  \n",
       "3           4  \n",
       "4           4  \n",
       "...       ...  \n",
       "2998774     4  \n",
       "2998775     4  \n",
       "2998776     4  \n",
       "2998777     4  \n",
       "2998778     4  \n",
       "\n",
       "[2105259 rows x 8 columns]"
      ]
     },
     "execution_count": 23,
     "metadata": {},
     "output_type": "execute_result"
    }
   ],
   "source": [
    "train_data"
   ]
  },
  {
   "cell_type": "code",
   "execution_count": 24,
   "metadata": {},
   "outputs": [],
   "source": [
    "from torch.utils.data import Dataset, DataLoader\n",
    "\n",
    "class CustomDataset(Dataset):\n",
    "    def __init__(self, data, window_size=6, kind: str = None):\n",
    "        self.data = np.array(data)\n",
    "        self.window_size = window_size\n",
    "        self.kind = kind\n",
    "        \n",
    "    def __len__(self):\n",
    "        return len(self.data) - self.window_size # 2105254\n",
    "    \n",
    "    def __getitem__(self, idx):\n",
    "        if self.kind == 'test':\n",
    "            X_data = self.data[idx:idx+self.window_size, :]\n",
    "            return torch.tensor(data=X_data, dtype=torch.float32)\n",
    "        else:\n",
    "            X_data = self.data[idx:idx+self.window_size, :-1]\n",
    "            y_data = self.data[idx+self.window_size, -1]\n",
    "            return torch.tensor(data=X_data, dtype=torch.float32), torch.tensor(data=y_data, dtype=torch.float32)"
   ]
  },
  {
   "cell_type": "code",
   "execution_count": 25,
   "metadata": {},
   "outputs": [],
   "source": [
    "batch_size = 6 * 24 # 배치 사이즈는 하루 단위로 설정\n",
    "window_size = 6 # 60분을 보고 다음 10분을 예측하므로 총 window_size는 6\n",
    "\n",
    "train_dataset = CustomDataset(data=train_data, window_size=window_size) # window_size는 default 6 (1시간 단위)\n",
    "valid_dataset = CustomDataset(data=valid_data, window_size=window_size)"
   ]
  },
  {
   "cell_type": "code",
   "execution_count": 26,
   "metadata": {},
   "outputs": [],
   "source": [
    "train_data_loader = DataLoader(train_dataset, batch_size=batch_size, shuffle=False) # 시계열 데이터라서 shuffle은 함부로 하면 안됨\n",
    "valid_data_loader = DataLoader(valid_dataset, batch_size=batch_size, shuffle=False) # 시계열 데이터라서 shuffle은 함부로 하면 안됨"
   ]
  },
  {
   "cell_type": "code",
   "execution_count": 27,
   "metadata": {},
   "outputs": [
    {
     "name": "stdout",
     "output_type": "stream",
     "text": [
      "torch.Size([144, 6, 7]) torch.Size([144])\n"
     ]
    }
   ],
   "source": [
    "for X, y in train_data_loader:\n",
    "    print(X.shape, y.shape)\n",
    "    break\n",
    "# (batch size, time step, feature dimension) "
   ]
  },
  {
   "cell_type": "code",
   "execution_count": 28,
   "metadata": {},
   "outputs": [
    {
     "name": "stdout",
     "output_type": "stream",
     "text": [
      "torch.Size([144, 6, 7]) torch.Size([144])\n"
     ]
    }
   ],
   "source": [
    "for X, y in valid_data_loader:\n",
    "    print(X.shape, y.shape)\n",
    "    break\n",
    "# (batch size, time step, feature dimension) "
   ]
  },
  {
   "cell_type": "code",
   "execution_count": 29,
   "metadata": {},
   "outputs": [],
   "source": [
    "# 모델링 파라미터 정의\n",
    "\n",
    "input_size = len(X_cols) # 입력 특성 개수(target columns 만큼 특성이 들어감)\n",
    "num_layers = 2 # Hidden Layer의 개수 간단하게 two-layer로 구현 (추후 더 복잡하게 변경할 수 있음)\n",
    "hidden_size = 32 # Hidden Layer의 크기 train 데이터의 개수가 대략 2백만개 정도이므로 512 정도로 세팅 (크면 모델의 표현력이 상승하지만 과적합의 위험이 존재함 -> 모델의 복잡성과 데이터의 복잡성을 고려해야함 = 실험적으로 찾아야함)\n",
    "output_size = 4 # output은 10분 단위로 1시간동안 6개의 데이터를 보고 6개의 예측을 뽑아낸 다음 fully connect를 진행함"
   ]
  },
  {
   "cell_type": "code",
   "execution_count": 31,
   "metadata": {},
   "outputs": [],
   "source": [
    "# 모델링\n",
    "from torch.autograd import Variable\n",
    "\n",
    "\"\"\"LSTM\"\"\"\n",
    "\n",
    "class VanillaLSTM(nn.Module):\n",
    "    def __init__(self, input_size, num_layers, hidden_size, window_size, device):\n",
    "        super(VanillaLSTM, self).__init__()\n",
    "        self.device = device\n",
    "        self.hidden_size = hidden_size\n",
    "        self.num_layers = num_layers\n",
    "        self.window_size = window_size\n",
    "        self.lstm = nn.LSTM(input_size=input_size,\n",
    "                            hidden_size=hidden_size,\n",
    "                            num_layers=num_layers,\n",
    "                            dropout=0.5,\n",
    "                            batch_first=True)\n",
    "        self.fc = nn.Sequential(nn.Linear(hidden_size, 16),\n",
    "                                nn.ELU(),\n",
    "                                nn.Linear(16, 7),\n",
    "                                nn.ELU(),\n",
    "                                nn.Linear(7, output_size))\n",
    "        self.batch_norm = nn.BatchNorm1d(hidden_size)\n",
    "        \n",
    "    def forward(self, x):\n",
    "        \n",
    "        # initalization\n",
    "        h0 = Variable(torch.zeros(self.num_layers, x.size()[0], self.hidden_size).to(device=device))\n",
    "        c0 = Variable(torch.zeros(self.num_layers, x.size()[0], self.hidden_size).to(device=device))\n",
    "        \n",
    "        out, _ = self.lstm(x, (h0, c0))\n",
    "        out = out.contiguous().view(-1, self.hidden_size) # [batch_size*sequence_length, hidden_size]\n",
    "        out = self.batch_norm(out) # 배치 정규화\n",
    "        out = out.view(-1, self.window_size, self.hidden_size) # [batch_size, sequence_length, hidden_size]\n",
    "        \n",
    "        # out = out.reshape(out.shape[0], -1)\n",
    "        out = self.fc(out[:, -1, :])\n",
    "        \n",
    "        return out"
   ]
  },
  {
   "cell_type": "code",
   "execution_count": 32,
   "metadata": {},
   "outputs": [],
   "source": [
    "model = VanillaLSTM(input_size=input_size,\n",
    "                   hidden_size=hidden_size,\n",
    "                   window_size=window_size,\n",
    "                   num_layers=num_layers,\n",
    "                   device=device).to(device=device)"
   ]
  },
  {
   "cell_type": "code",
   "execution_count": 33,
   "metadata": {},
   "outputs": [],
   "source": [
    "# RMSLELoss 구현 RMSLE는 outlier에 강건하며 상대적오차를 측정함 또한 예측값이 클 때보다 작을 때 더 큰 패널티 부여함\n",
    "\n",
    "class RMSLELoss(nn.Module):\n",
    "    def __init__(self):\n",
    "        super().__init__()\n",
    "        self.mse = nn.MSELoss()\n",
    "    \n",
    "    def forward(self, pred, actual):\n",
    "        return torch.sqrt(self.mse(torch.log(pred + 1), torch.log(actual + 1)))"
   ]
  },
  {
   "cell_type": "code",
   "execution_count": 39,
   "metadata": {},
   "outputs": [],
   "source": [
    "# 클래스 가중치 계산\n",
    "class_counts = np.bincount(train_y)[1:] # 라벨이 1부터 시작함\n",
    "total_samples = len(train_y)\n",
    "class_weights = [total_samples / class_counts[i] for i in range(len(class_counts))]\n",
    "class_weights_tensor = torch.tensor(class_weights, dtype=torch.float32, device=device)"
   ]
  },
  {
   "cell_type": "code",
   "execution_count": 94,
   "metadata": {},
   "outputs": [],
   "source": [
    "# 학습 파라미터 정의\n",
    "\n",
    "# criterion = nn.MSELoss()\n",
    "criterion = nn.CrossEntropyLoss(weight=class_weights_tensor)\n",
    "learning_rate = 0.0001 # 학습률은 0.001로 설정\n",
    "epoch = 100 # 학습 반복 횟수\n",
    "optimizer = optim.Adam(model.parameters(), lr=learning_rate)\n",
    "# scheduler = optim.lr_scheduler.ReduceLROnPlateau(optimizer=optimizer, mode=\"min\", patience=1) # 1에폭마다 Loss가 줄어들지 않으면 학습률을 감소시킴"
   ]
  },
  {
   "cell_type": "code",
   "execution_count": 95,
   "metadata": {},
   "outputs": [],
   "source": [
    "# # 기울기 클리핑 함수 : 기울기 소실, 폭발 문제를 해결하기 위해 기울기가 일정 값 범위에서 유지되도록 함 value clipping 과 norm clipping 두 가지 방법이 있음\n",
    "# def clip_gradient(model, clip_value):\n",
    "#     for param in model.parameters():\n",
    "#         param.grad.data.clamp_(-clip_value, clip_value)"
   ]
  },
  {
   "cell_type": "code",
   "execution_count": 96,
   "metadata": {},
   "outputs": [
    {
     "data": {
      "application/vnd.jupyter.widget-view+json": {
       "model_id": "2d41ef6f91f04f56aff3a4bd0b567395",
       "version_major": 2,
       "version_minor": 0
      },
      "text/plain": [
       "  0%|          | 0/100 [00:00<?, ?it/s]"
      ]
     },
     "metadata": {},
     "output_type": "display_data"
    },
    {
     "data": {
      "application/vnd.jupyter.widget-view+json": {
       "model_id": "b632fccd4bf9402994b8749a8d191c1c",
       "version_major": 2,
       "version_minor": 0
      },
      "text/plain": [
       "training epoch 1:   0%|          | 0/14620 [00:00<?, ?it/s]"
      ]
     },
     "metadata": {},
     "output_type": "display_data"
    },
    {
     "data": {
      "application/vnd.jupyter.widget-view+json": {
       "model_id": "9cbe54d8926245159b7c0c8ba1afb16c",
       "version_major": 2,
       "version_minor": 0
      },
      "text/plain": [
       "validation epoch 1:   0%|          | 0/7300 [00:00<?, ?it/s]"
      ]
     },
     "metadata": {},
     "output_type": "display_data"
    },
    {
     "data": {
      "application/vnd.jupyter.widget-view+json": {
       "model_id": "7657b9cf045d44d787aae4aa6e9c71ac",
       "version_major": 2,
       "version_minor": 0
      },
      "text/plain": [
       "training epoch 2:   0%|          | 0/14620 [00:00<?, ?it/s]"
      ]
     },
     "metadata": {},
     "output_type": "display_data"
    },
    {
     "data": {
      "application/vnd.jupyter.widget-view+json": {
       "model_id": "8a49d1ba782c41759e5ad05acd160293",
       "version_major": 2,
       "version_minor": 0
      },
      "text/plain": [
       "validation epoch 2:   0%|          | 0/7300 [00:00<?, ?it/s]"
      ]
     },
     "metadata": {},
     "output_type": "display_data"
    },
    {
     "data": {
      "application/vnd.jupyter.widget-view+json": {
       "model_id": "47b5b454265e400b92d104a574b97da8",
       "version_major": 2,
       "version_minor": 0
      },
      "text/plain": [
       "training epoch 3:   0%|          | 0/14620 [00:00<?, ?it/s]"
      ]
     },
     "metadata": {},
     "output_type": "display_data"
    },
    {
     "data": {
      "application/vnd.jupyter.widget-view+json": {
       "model_id": "7ff898df88e643aaa8a17f8db887c641",
       "version_major": 2,
       "version_minor": 0
      },
      "text/plain": [
       "validation epoch 3:   0%|          | 0/7300 [00:00<?, ?it/s]"
      ]
     },
     "metadata": {},
     "output_type": "display_data"
    },
    {
     "data": {
      "application/vnd.jupyter.widget-view+json": {
       "model_id": "652af3956e26456f97a942b803e590a1",
       "version_major": 2,
       "version_minor": 0
      },
      "text/plain": [
       "training epoch 4:   0%|          | 0/14620 [00:00<?, ?it/s]"
      ]
     },
     "metadata": {},
     "output_type": "display_data"
    },
    {
     "data": {
      "application/vnd.jupyter.widget-view+json": {
       "model_id": "8bceae67ac9f418aa0a21f8ff556767e",
       "version_major": 2,
       "version_minor": 0
      },
      "text/plain": [
       "validation epoch 4:   0%|          | 0/7300 [00:00<?, ?it/s]"
      ]
     },
     "metadata": {},
     "output_type": "display_data"
    },
    {
     "data": {
      "application/vnd.jupyter.widget-view+json": {
       "model_id": "1c8bc9305c6943488e2c0e5a95584dd6",
       "version_major": 2,
       "version_minor": 0
      },
      "text/plain": [
       "training epoch 5:   0%|          | 0/14620 [00:00<?, ?it/s]"
      ]
     },
     "metadata": {},
     "output_type": "display_data"
    },
    {
     "data": {
      "application/vnd.jupyter.widget-view+json": {
       "model_id": "0779523b863640c0bb413a397dff86bd",
       "version_major": 2,
       "version_minor": 0
      },
      "text/plain": [
       "validation epoch 5:   0%|          | 0/7300 [00:00<?, ?it/s]"
      ]
     },
     "metadata": {},
     "output_type": "display_data"
    },
    {
     "data": {
      "application/vnd.jupyter.widget-view+json": {
       "model_id": "f976fe4ad2b9461c8bc966ae2cc2a33c",
       "version_major": 2,
       "version_minor": 0
      },
      "text/plain": [
       "training epoch 6:   0%|          | 0/14620 [00:00<?, ?it/s]"
      ]
     },
     "metadata": {},
     "output_type": "display_data"
    },
    {
     "data": {
      "application/vnd.jupyter.widget-view+json": {
       "model_id": "ce6e5cd4afe74f959b7660e52fb30af4",
       "version_major": 2,
       "version_minor": 0
      },
      "text/plain": [
       "validation epoch 6:   0%|          | 0/7300 [00:00<?, ?it/s]"
      ]
     },
     "metadata": {},
     "output_type": "display_data"
    },
    {
     "data": {
      "application/vnd.jupyter.widget-view+json": {
       "model_id": "3cee2ef4734a4e64a378bb97af8d9d8c",
       "version_major": 2,
       "version_minor": 0
      },
      "text/plain": [
       "training epoch 7:   0%|          | 0/14620 [00:00<?, ?it/s]"
      ]
     },
     "metadata": {},
     "output_type": "display_data"
    },
    {
     "data": {
      "application/vnd.jupyter.widget-view+json": {
       "model_id": "147b79a53c6a40a595e259fe1d1e987a",
       "version_major": 2,
       "version_minor": 0
      },
      "text/plain": [
       "validation epoch 7:   0%|          | 0/7300 [00:00<?, ?it/s]"
      ]
     },
     "metadata": {},
     "output_type": "display_data"
    },
    {
     "data": {
      "application/vnd.jupyter.widget-view+json": {
       "model_id": "7ba58f3000e846cc899aa52bd38745ff",
       "version_major": 2,
       "version_minor": 0
      },
      "text/plain": [
       "training epoch 8:   0%|          | 0/14620 [00:00<?, ?it/s]"
      ]
     },
     "metadata": {},
     "output_type": "display_data"
    },
    {
     "data": {
      "application/vnd.jupyter.widget-view+json": {
       "model_id": "e9a52966e0934b8c96e11429c32cda2a",
       "version_major": 2,
       "version_minor": 0
      },
      "text/plain": [
       "validation epoch 8:   0%|          | 0/7300 [00:00<?, ?it/s]"
      ]
     },
     "metadata": {},
     "output_type": "display_data"
    },
    {
     "data": {
      "application/vnd.jupyter.widget-view+json": {
       "model_id": "3b69a667ad1f4b4799fb7c10c9551637",
       "version_major": 2,
       "version_minor": 0
      },
      "text/plain": [
       "training epoch 9:   0%|          | 0/14620 [00:00<?, ?it/s]"
      ]
     },
     "metadata": {},
     "output_type": "display_data"
    },
    {
     "data": {
      "application/vnd.jupyter.widget-view+json": {
       "model_id": "a845bc8074b842d6b50e0a37fb4d6fa5",
       "version_major": 2,
       "version_minor": 0
      },
      "text/plain": [
       "validation epoch 9:   0%|          | 0/7300 [00:00<?, ?it/s]"
      ]
     },
     "metadata": {},
     "output_type": "display_data"
    },
    {
     "data": {
      "application/vnd.jupyter.widget-view+json": {
       "model_id": "e183c267c9214a3a8b946c01b6333c37",
       "version_major": 2,
       "version_minor": 0
      },
      "text/plain": [
       "training epoch 10:   0%|          | 0/14620 [00:00<?, ?it/s]"
      ]
     },
     "metadata": {},
     "output_type": "display_data"
    },
    {
     "data": {
      "application/vnd.jupyter.widget-view+json": {
       "model_id": "3ea9d472664c438486920b1def1a4849",
       "version_major": 2,
       "version_minor": 0
      },
      "text/plain": [
       "validation epoch 10:   0%|          | 0/7300 [00:00<?, ?it/s]"
      ]
     },
     "metadata": {},
     "output_type": "display_data"
    },
    {
     "data": {
      "application/vnd.jupyter.widget-view+json": {
       "model_id": "c764d1fea60e44b596e7d33c1e6eb28c",
       "version_major": 2,
       "version_minor": 0
      },
      "text/plain": [
       "training epoch 11:   0%|          | 0/14620 [00:00<?, ?it/s]"
      ]
     },
     "metadata": {},
     "output_type": "display_data"
    },
    {
     "data": {
      "application/vnd.jupyter.widget-view+json": {
       "model_id": "1e78882b18a347f9b546398b53e5bcb0",
       "version_major": 2,
       "version_minor": 0
      },
      "text/plain": [
       "validation epoch 11:   0%|          | 0/7300 [00:00<?, ?it/s]"
      ]
     },
     "metadata": {},
     "output_type": "display_data"
    },
    {
     "data": {
      "application/vnd.jupyter.widget-view+json": {
       "model_id": "be4f9670766e4fce99203f28af439a10",
       "version_major": 2,
       "version_minor": 0
      },
      "text/plain": [
       "training epoch 12:   0%|          | 0/14620 [00:00<?, ?it/s]"
      ]
     },
     "metadata": {},
     "output_type": "display_data"
    },
    {
     "data": {
      "application/vnd.jupyter.widget-view+json": {
       "model_id": "5ae29fe0913049d386661287330f8816",
       "version_major": 2,
       "version_minor": 0
      },
      "text/plain": [
       "validation epoch 12:   0%|          | 0/7300 [00:00<?, ?it/s]"
      ]
     },
     "metadata": {},
     "output_type": "display_data"
    },
    {
     "data": {
      "application/vnd.jupyter.widget-view+json": {
       "model_id": "5b8bdd8d4a2f4979b08518a69a519327",
       "version_major": 2,
       "version_minor": 0
      },
      "text/plain": [
       "training epoch 13:   0%|          | 0/14620 [00:00<?, ?it/s]"
      ]
     },
     "metadata": {},
     "output_type": "display_data"
    },
    {
     "data": {
      "application/vnd.jupyter.widget-view+json": {
       "model_id": "f0b0c8c68ed14f66bab7ae34a65faf77",
       "version_major": 2,
       "version_minor": 0
      },
      "text/plain": [
       "validation epoch 13:   0%|          | 0/7300 [00:00<?, ?it/s]"
      ]
     },
     "metadata": {},
     "output_type": "display_data"
    },
    {
     "data": {
      "application/vnd.jupyter.widget-view+json": {
       "model_id": "0d36219f17a44d84b2b266c015566d22",
       "version_major": 2,
       "version_minor": 0
      },
      "text/plain": [
       "training epoch 14:   0%|          | 0/14620 [00:00<?, ?it/s]"
      ]
     },
     "metadata": {},
     "output_type": "display_data"
    },
    {
     "data": {
      "application/vnd.jupyter.widget-view+json": {
       "model_id": "c24cb95ae3f44640812e2bcd0192ece1",
       "version_major": 2,
       "version_minor": 0
      },
      "text/plain": [
       "validation epoch 14:   0%|          | 0/7300 [00:00<?, ?it/s]"
      ]
     },
     "metadata": {},
     "output_type": "display_data"
    },
    {
     "data": {
      "application/vnd.jupyter.widget-view+json": {
       "model_id": "8a312c0f52784a4ba859c7ea642f0216",
       "version_major": 2,
       "version_minor": 0
      },
      "text/plain": [
       "training epoch 15:   0%|          | 0/14620 [00:00<?, ?it/s]"
      ]
     },
     "metadata": {},
     "output_type": "display_data"
    },
    {
     "data": {
      "application/vnd.jupyter.widget-view+json": {
       "model_id": "7bdb2efd9d1d4e2b8b97a9ebb22f64ec",
       "version_major": 2,
       "version_minor": 0
      },
      "text/plain": [
       "validation epoch 15:   0%|          | 0/7300 [00:00<?, ?it/s]"
      ]
     },
     "metadata": {},
     "output_type": "display_data"
    },
    {
     "data": {
      "application/vnd.jupyter.widget-view+json": {
       "model_id": "4adeea10b74e4e6eb031f9391829848f",
       "version_major": 2,
       "version_minor": 0
      },
      "text/plain": [
       "training epoch 16:   0%|          | 0/14620 [00:00<?, ?it/s]"
      ]
     },
     "metadata": {},
     "output_type": "display_data"
    },
    {
     "data": {
      "application/vnd.jupyter.widget-view+json": {
       "model_id": "ca111b8c099444d2a77275fde116f008",
       "version_major": 2,
       "version_minor": 0
      },
      "text/plain": [
       "validation epoch 16:   0%|          | 0/7300 [00:00<?, ?it/s]"
      ]
     },
     "metadata": {},
     "output_type": "display_data"
    },
    {
     "data": {
      "application/vnd.jupyter.widget-view+json": {
       "model_id": "85f937d2cad14731bb65b1ea4d1a81b6",
       "version_major": 2,
       "version_minor": 0
      },
      "text/plain": [
       "training epoch 17:   0%|          | 0/14620 [00:00<?, ?it/s]"
      ]
     },
     "metadata": {},
     "output_type": "display_data"
    },
    {
     "data": {
      "application/vnd.jupyter.widget-view+json": {
       "model_id": "5519624b4fac48669fb101f7a3181734",
       "version_major": 2,
       "version_minor": 0
      },
      "text/plain": [
       "validation epoch 17:   0%|          | 0/7300 [00:00<?, ?it/s]"
      ]
     },
     "metadata": {},
     "output_type": "display_data"
    },
    {
     "data": {
      "application/vnd.jupyter.widget-view+json": {
       "model_id": "42b4d1e3b2c045829d85de8c5b3db0d2",
       "version_major": 2,
       "version_minor": 0
      },
      "text/plain": [
       "training epoch 18:   0%|          | 0/14620 [00:00<?, ?it/s]"
      ]
     },
     "metadata": {},
     "output_type": "display_data"
    },
    {
     "data": {
      "application/vnd.jupyter.widget-view+json": {
       "model_id": "743eb53b425242e98d823fa37c7fa86f",
       "version_major": 2,
       "version_minor": 0
      },
      "text/plain": [
       "validation epoch 18:   0%|          | 0/7300 [00:00<?, ?it/s]"
      ]
     },
     "metadata": {},
     "output_type": "display_data"
    },
    {
     "data": {
      "application/vnd.jupyter.widget-view+json": {
       "model_id": "6740b8054c644a9c93d3dc8681ca589b",
       "version_major": 2,
       "version_minor": 0
      },
      "text/plain": [
       "training epoch 19:   0%|          | 0/14620 [00:00<?, ?it/s]"
      ]
     },
     "metadata": {},
     "output_type": "display_data"
    },
    {
     "data": {
      "application/vnd.jupyter.widget-view+json": {
       "model_id": "1998c7dae2cc47f0837fa5ff7688a0ac",
       "version_major": 2,
       "version_minor": 0
      },
      "text/plain": [
       "validation epoch 19:   0%|          | 0/7300 [00:00<?, ?it/s]"
      ]
     },
     "metadata": {},
     "output_type": "display_data"
    },
    {
     "data": {
      "application/vnd.jupyter.widget-view+json": {
       "model_id": "d61e445abfc9438f88a160b16296f731",
       "version_major": 2,
       "version_minor": 0
      },
      "text/plain": [
       "training epoch 20:   0%|          | 0/14620 [00:00<?, ?it/s]"
      ]
     },
     "metadata": {},
     "output_type": "display_data"
    },
    {
     "data": {
      "application/vnd.jupyter.widget-view+json": {
       "model_id": "832121be9d904f099526c608a709aed2",
       "version_major": 2,
       "version_minor": 0
      },
      "text/plain": [
       "validation epoch 20:   0%|          | 0/7300 [00:00<?, ?it/s]"
      ]
     },
     "metadata": {},
     "output_type": "display_data"
    },
    {
     "data": {
      "application/vnd.jupyter.widget-view+json": {
       "model_id": "70ba260819614c00bd34daeebeae5043",
       "version_major": 2,
       "version_minor": 0
      },
      "text/plain": [
       "training epoch 21:   0%|          | 0/14620 [00:00<?, ?it/s]"
      ]
     },
     "metadata": {},
     "output_type": "display_data"
    },
    {
     "data": {
      "application/vnd.jupyter.widget-view+json": {
       "model_id": "edd5866734d7441fa6f0d2d398b37022",
       "version_major": 2,
       "version_minor": 0
      },
      "text/plain": [
       "validation epoch 21:   0%|          | 0/7300 [00:00<?, ?it/s]"
      ]
     },
     "metadata": {},
     "output_type": "display_data"
    },
    {
     "data": {
      "application/vnd.jupyter.widget-view+json": {
       "model_id": "a952be400b104d629599179d152a2da4",
       "version_major": 2,
       "version_minor": 0
      },
      "text/plain": [
       "training epoch 22:   0%|          | 0/14620 [00:00<?, ?it/s]"
      ]
     },
     "metadata": {},
     "output_type": "display_data"
    },
    {
     "data": {
      "application/vnd.jupyter.widget-view+json": {
       "model_id": "da45d2a1c0a54081baf0db3615742d8e",
       "version_major": 2,
       "version_minor": 0
      },
      "text/plain": [
       "validation epoch 22:   0%|          | 0/7300 [00:00<?, ?it/s]"
      ]
     },
     "metadata": {},
     "output_type": "display_data"
    },
    {
     "data": {
      "application/vnd.jupyter.widget-view+json": {
       "model_id": "2fd826e70b7d4978b7e53bf5b2a306f6",
       "version_major": 2,
       "version_minor": 0
      },
      "text/plain": [
       "training epoch 23:   0%|          | 0/14620 [00:00<?, ?it/s]"
      ]
     },
     "metadata": {},
     "output_type": "display_data"
    },
    {
     "data": {
      "application/vnd.jupyter.widget-view+json": {
       "model_id": "bcc58dba91e2404983b457eb0a71387c",
       "version_major": 2,
       "version_minor": 0
      },
      "text/plain": [
       "validation epoch 23:   0%|          | 0/7300 [00:00<?, ?it/s]"
      ]
     },
     "metadata": {},
     "output_type": "display_data"
    },
    {
     "data": {
      "application/vnd.jupyter.widget-view+json": {
       "model_id": "7e36a0abd0c54f8c8457129ef2e44981",
       "version_major": 2,
       "version_minor": 0
      },
      "text/plain": [
       "training epoch 24:   0%|          | 0/14620 [00:00<?, ?it/s]"
      ]
     },
     "metadata": {},
     "output_type": "display_data"
    },
    {
     "data": {
      "application/vnd.jupyter.widget-view+json": {
       "model_id": "831b4e3f8e384e8a98a2668929f2297d",
       "version_major": 2,
       "version_minor": 0
      },
      "text/plain": [
       "validation epoch 24:   0%|          | 0/7300 [00:00<?, ?it/s]"
      ]
     },
     "metadata": {},
     "output_type": "display_data"
    },
    {
     "data": {
      "application/vnd.jupyter.widget-view+json": {
       "model_id": "a166df1d59324e25b0826d1df0da9cef",
       "version_major": 2,
       "version_minor": 0
      },
      "text/plain": [
       "training epoch 25:   0%|          | 0/14620 [00:00<?, ?it/s]"
      ]
     },
     "metadata": {},
     "output_type": "display_data"
    },
    {
     "data": {
      "application/vnd.jupyter.widget-view+json": {
       "model_id": "650071ef83d84549be2c8f169335658d",
       "version_major": 2,
       "version_minor": 0
      },
      "text/plain": [
       "validation epoch 25:   0%|          | 0/7300 [00:00<?, ?it/s]"
      ]
     },
     "metadata": {},
     "output_type": "display_data"
    },
    {
     "data": {
      "application/vnd.jupyter.widget-view+json": {
       "model_id": "65c11717aaf74afdaad323970ac288f1",
       "version_major": 2,
       "version_minor": 0
      },
      "text/plain": [
       "training epoch 26:   0%|          | 0/14620 [00:00<?, ?it/s]"
      ]
     },
     "metadata": {},
     "output_type": "display_data"
    },
    {
     "data": {
      "application/vnd.jupyter.widget-view+json": {
       "model_id": "ef15d9e92eb9421e907a8e0296e15085",
       "version_major": 2,
       "version_minor": 0
      },
      "text/plain": [
       "validation epoch 26:   0%|          | 0/7300 [00:00<?, ?it/s]"
      ]
     },
     "metadata": {},
     "output_type": "display_data"
    },
    {
     "data": {
      "application/vnd.jupyter.widget-view+json": {
       "model_id": "4cf01af1bcf844db9af0ecfa1cb6efe6",
       "version_major": 2,
       "version_minor": 0
      },
      "text/plain": [
       "training epoch 27:   0%|          | 0/14620 [00:00<?, ?it/s]"
      ]
     },
     "metadata": {},
     "output_type": "display_data"
    },
    {
     "data": {
      "application/vnd.jupyter.widget-view+json": {
       "model_id": "f31b6e607c564ab38673d1ec2750eeb8",
       "version_major": 2,
       "version_minor": 0
      },
      "text/plain": [
       "validation epoch 27:   0%|          | 0/7300 [00:00<?, ?it/s]"
      ]
     },
     "metadata": {},
     "output_type": "display_data"
    },
    {
     "data": {
      "application/vnd.jupyter.widget-view+json": {
       "model_id": "94144d9dca2d4d60ab64e51e49eebe2f",
       "version_major": 2,
       "version_minor": 0
      },
      "text/plain": [
       "training epoch 28:   0%|          | 0/14620 [00:00<?, ?it/s]"
      ]
     },
     "metadata": {},
     "output_type": "display_data"
    },
    {
     "data": {
      "application/vnd.jupyter.widget-view+json": {
       "model_id": "0ae58b8101564d61882a6bb66ab46893",
       "version_major": 2,
       "version_minor": 0
      },
      "text/plain": [
       "validation epoch 28:   0%|          | 0/7300 [00:00<?, ?it/s]"
      ]
     },
     "metadata": {},
     "output_type": "display_data"
    },
    {
     "data": {
      "application/vnd.jupyter.widget-view+json": {
       "model_id": "8b4054ef64874399b2a94635a85ea626",
       "version_major": 2,
       "version_minor": 0
      },
      "text/plain": [
       "training epoch 29:   0%|          | 0/14620 [00:00<?, ?it/s]"
      ]
     },
     "metadata": {},
     "output_type": "display_data"
    },
    {
     "data": {
      "application/vnd.jupyter.widget-view+json": {
       "model_id": "31849ad24b394960a4e191e86d3a06ba",
       "version_major": 2,
       "version_minor": 0
      },
      "text/plain": [
       "validation epoch 29:   0%|          | 0/7300 [00:00<?, ?it/s]"
      ]
     },
     "metadata": {},
     "output_type": "display_data"
    },
    {
     "data": {
      "application/vnd.jupyter.widget-view+json": {
       "model_id": "48caa45be8a94e12972ef16e41a43eef",
       "version_major": 2,
       "version_minor": 0
      },
      "text/plain": [
       "training epoch 30:   0%|          | 0/14620 [00:00<?, ?it/s]"
      ]
     },
     "metadata": {},
     "output_type": "display_data"
    },
    {
     "data": {
      "application/vnd.jupyter.widget-view+json": {
       "model_id": "57d5e5d1b4fa46bd80492d8eb80df809",
       "version_major": 2,
       "version_minor": 0
      },
      "text/plain": [
       "validation epoch 30:   0%|          | 0/7300 [00:00<?, ?it/s]"
      ]
     },
     "metadata": {},
     "output_type": "display_data"
    },
    {
     "data": {
      "application/vnd.jupyter.widget-view+json": {
       "model_id": "d88508fc59b8453ea702a5a3320da326",
       "version_major": 2,
       "version_minor": 0
      },
      "text/plain": [
       "training epoch 31:   0%|          | 0/14620 [00:00<?, ?it/s]"
      ]
     },
     "metadata": {},
     "output_type": "display_data"
    },
    {
     "data": {
      "application/vnd.jupyter.widget-view+json": {
       "model_id": "3a41c4b2b015412fa7d6916d6f0605f7",
       "version_major": 2,
       "version_minor": 0
      },
      "text/plain": [
       "validation epoch 31:   0%|          | 0/7300 [00:00<?, ?it/s]"
      ]
     },
     "metadata": {},
     "output_type": "display_data"
    },
    {
     "data": {
      "application/vnd.jupyter.widget-view+json": {
       "model_id": "1536fcddf60043b58c053c80f7bbf58b",
       "version_major": 2,
       "version_minor": 0
      },
      "text/plain": [
       "training epoch 32:   0%|          | 0/14620 [00:00<?, ?it/s]"
      ]
     },
     "metadata": {},
     "output_type": "display_data"
    },
    {
     "data": {
      "application/vnd.jupyter.widget-view+json": {
       "model_id": "f45bf6db8ab6453581aa7ef3b9852758",
       "version_major": 2,
       "version_minor": 0
      },
      "text/plain": [
       "validation epoch 32:   0%|          | 0/7300 [00:00<?, ?it/s]"
      ]
     },
     "metadata": {},
     "output_type": "display_data"
    },
    {
     "data": {
      "application/vnd.jupyter.widget-view+json": {
       "model_id": "3e31a6a4c5204fdfb6f24aa4912b68c2",
       "version_major": 2,
       "version_minor": 0
      },
      "text/plain": [
       "training epoch 33:   0%|          | 0/14620 [00:00<?, ?it/s]"
      ]
     },
     "metadata": {},
     "output_type": "display_data"
    },
    {
     "data": {
      "application/vnd.jupyter.widget-view+json": {
       "model_id": "bcf05550b77742a78061eed8c3a077fc",
       "version_major": 2,
       "version_minor": 0
      },
      "text/plain": [
       "validation epoch 33:   0%|          | 0/7300 [00:00<?, ?it/s]"
      ]
     },
     "metadata": {},
     "output_type": "display_data"
    },
    {
     "data": {
      "application/vnd.jupyter.widget-view+json": {
       "model_id": "66090ef6264e4eb0a4412d4220d8b316",
       "version_major": 2,
       "version_minor": 0
      },
      "text/plain": [
       "training epoch 34:   0%|          | 0/14620 [00:00<?, ?it/s]"
      ]
     },
     "metadata": {},
     "output_type": "display_data"
    },
    {
     "data": {
      "application/vnd.jupyter.widget-view+json": {
       "model_id": "4d074c52aa01406fb80e35b13118c2bb",
       "version_major": 2,
       "version_minor": 0
      },
      "text/plain": [
       "validation epoch 34:   0%|          | 0/7300 [00:00<?, ?it/s]"
      ]
     },
     "metadata": {},
     "output_type": "display_data"
    },
    {
     "data": {
      "application/vnd.jupyter.widget-view+json": {
       "model_id": "89223269927f40d88fe7af2d76819f5d",
       "version_major": 2,
       "version_minor": 0
      },
      "text/plain": [
       "training epoch 35:   0%|          | 0/14620 [00:00<?, ?it/s]"
      ]
     },
     "metadata": {},
     "output_type": "display_data"
    },
    {
     "data": {
      "application/vnd.jupyter.widget-view+json": {
       "model_id": "ce82e792cf56454bb103e05a4f08f713",
       "version_major": 2,
       "version_minor": 0
      },
      "text/plain": [
       "validation epoch 35:   0%|          | 0/7300 [00:00<?, ?it/s]"
      ]
     },
     "metadata": {},
     "output_type": "display_data"
    },
    {
     "data": {
      "application/vnd.jupyter.widget-view+json": {
       "model_id": "af7ba43e1e214afe90edb6eafa8a0adb",
       "version_major": 2,
       "version_minor": 0
      },
      "text/plain": [
       "training epoch 36:   0%|          | 0/14620 [00:00<?, ?it/s]"
      ]
     },
     "metadata": {},
     "output_type": "display_data"
    },
    {
     "data": {
      "application/vnd.jupyter.widget-view+json": {
       "model_id": "4d82f23bf8b24f5284a35b7d9446ec17",
       "version_major": 2,
       "version_minor": 0
      },
      "text/plain": [
       "validation epoch 36:   0%|          | 0/7300 [00:00<?, ?it/s]"
      ]
     },
     "metadata": {},
     "output_type": "display_data"
    },
    {
     "data": {
      "application/vnd.jupyter.widget-view+json": {
       "model_id": "a15727af9a614daabdc1a98593672eb8",
       "version_major": 2,
       "version_minor": 0
      },
      "text/plain": [
       "training epoch 37:   0%|          | 0/14620 [00:00<?, ?it/s]"
      ]
     },
     "metadata": {},
     "output_type": "display_data"
    },
    {
     "data": {
      "application/vnd.jupyter.widget-view+json": {
       "model_id": "bfa8ce94ed8943d0bc2b8d5d98f07368",
       "version_major": 2,
       "version_minor": 0
      },
      "text/plain": [
       "validation epoch 37:   0%|          | 0/7300 [00:00<?, ?it/s]"
      ]
     },
     "metadata": {},
     "output_type": "display_data"
    },
    {
     "data": {
      "application/vnd.jupyter.widget-view+json": {
       "model_id": "7a10e6872f4542bf87490c93f107cc9f",
       "version_major": 2,
       "version_minor": 0
      },
      "text/plain": [
       "training epoch 38:   0%|          | 0/14620 [00:00<?, ?it/s]"
      ]
     },
     "metadata": {},
     "output_type": "display_data"
    },
    {
     "data": {
      "application/vnd.jupyter.widget-view+json": {
       "model_id": "df8110ba37954c96a6bb709d27eec1f0",
       "version_major": 2,
       "version_minor": 0
      },
      "text/plain": [
       "validation epoch 38:   0%|          | 0/7300 [00:00<?, ?it/s]"
      ]
     },
     "metadata": {},
     "output_type": "display_data"
    },
    {
     "data": {
      "application/vnd.jupyter.widget-view+json": {
       "model_id": "8daf8d5454f5435eaf62e9da2fbf5ed4",
       "version_major": 2,
       "version_minor": 0
      },
      "text/plain": [
       "training epoch 39:   0%|          | 0/14620 [00:00<?, ?it/s]"
      ]
     },
     "metadata": {},
     "output_type": "display_data"
    },
    {
     "data": {
      "application/vnd.jupyter.widget-view+json": {
       "model_id": "3c1afb3509d34d8aa7603fe6155493eb",
       "version_major": 2,
       "version_minor": 0
      },
      "text/plain": [
       "validation epoch 39:   0%|          | 0/7300 [00:00<?, ?it/s]"
      ]
     },
     "metadata": {},
     "output_type": "display_data"
    },
    {
     "data": {
      "application/vnd.jupyter.widget-view+json": {
       "model_id": "3c370d3bfb3f4c6a9d869e780b14ca2a",
       "version_major": 2,
       "version_minor": 0
      },
      "text/plain": [
       "training epoch 40:   0%|          | 0/14620 [00:00<?, ?it/s]"
      ]
     },
     "metadata": {},
     "output_type": "display_data"
    },
    {
     "data": {
      "application/vnd.jupyter.widget-view+json": {
       "model_id": "eeb7e47fe5e74f9cb9a8ae9adfa873c4",
       "version_major": 2,
       "version_minor": 0
      },
      "text/plain": [
       "validation epoch 40:   0%|          | 0/7300 [00:00<?, ?it/s]"
      ]
     },
     "metadata": {},
     "output_type": "display_data"
    },
    {
     "data": {
      "application/vnd.jupyter.widget-view+json": {
       "model_id": "0eddfae056874a5d88811a28a86bd9f1",
       "version_major": 2,
       "version_minor": 0
      },
      "text/plain": [
       "training epoch 41:   0%|          | 0/14620 [00:00<?, ?it/s]"
      ]
     },
     "metadata": {},
     "output_type": "display_data"
    },
    {
     "data": {
      "application/vnd.jupyter.widget-view+json": {
       "model_id": "004f62fbd8124e0f9ec87132345371df",
       "version_major": 2,
       "version_minor": 0
      },
      "text/plain": [
       "validation epoch 41:   0%|          | 0/7300 [00:00<?, ?it/s]"
      ]
     },
     "metadata": {},
     "output_type": "display_data"
    },
    {
     "data": {
      "application/vnd.jupyter.widget-view+json": {
       "model_id": "3cab6d7f44b74b34b0231f167af4e7af",
       "version_major": 2,
       "version_minor": 0
      },
      "text/plain": [
       "training epoch 42:   0%|          | 0/14620 [00:00<?, ?it/s]"
      ]
     },
     "metadata": {},
     "output_type": "display_data"
    },
    {
     "data": {
      "application/vnd.jupyter.widget-view+json": {
       "model_id": "d2071257d05b4a1483102bc9946acc0f",
       "version_major": 2,
       "version_minor": 0
      },
      "text/plain": [
       "validation epoch 42:   0%|          | 0/7300 [00:00<?, ?it/s]"
      ]
     },
     "metadata": {},
     "output_type": "display_data"
    },
    {
     "data": {
      "application/vnd.jupyter.widget-view+json": {
       "model_id": "859af898592143bfa9cab7faf003c8ff",
       "version_major": 2,
       "version_minor": 0
      },
      "text/plain": [
       "training epoch 43:   0%|          | 0/14620 [00:00<?, ?it/s]"
      ]
     },
     "metadata": {},
     "output_type": "display_data"
    },
    {
     "data": {
      "application/vnd.jupyter.widget-view+json": {
       "model_id": "178a76ccc54c43a9a4477c8e0fbc50db",
       "version_major": 2,
       "version_minor": 0
      },
      "text/plain": [
       "validation epoch 43:   0%|          | 0/7300 [00:00<?, ?it/s]"
      ]
     },
     "metadata": {},
     "output_type": "display_data"
    },
    {
     "data": {
      "application/vnd.jupyter.widget-view+json": {
       "model_id": "fbb99c7a45024353b4651f2a5473a430",
       "version_major": 2,
       "version_minor": 0
      },
      "text/plain": [
       "training epoch 44:   0%|          | 0/14620 [00:00<?, ?it/s]"
      ]
     },
     "metadata": {},
     "output_type": "display_data"
    },
    {
     "data": {
      "application/vnd.jupyter.widget-view+json": {
       "model_id": "38a789ec34d94ba9baa22e30bb9422c6",
       "version_major": 2,
       "version_minor": 0
      },
      "text/plain": [
       "validation epoch 44:   0%|          | 0/7300 [00:00<?, ?it/s]"
      ]
     },
     "metadata": {},
     "output_type": "display_data"
    },
    {
     "data": {
      "application/vnd.jupyter.widget-view+json": {
       "model_id": "d9c9b3de821a4d1ba947dc6a02686e5f",
       "version_major": 2,
       "version_minor": 0
      },
      "text/plain": [
       "training epoch 45:   0%|          | 0/14620 [00:00<?, ?it/s]"
      ]
     },
     "metadata": {},
     "output_type": "display_data"
    },
    {
     "data": {
      "application/vnd.jupyter.widget-view+json": {
       "model_id": "bdd9c1e7afa24d7fb76fb77cb951a809",
       "version_major": 2,
       "version_minor": 0
      },
      "text/plain": [
       "validation epoch 45:   0%|          | 0/7300 [00:00<?, ?it/s]"
      ]
     },
     "metadata": {},
     "output_type": "display_data"
    },
    {
     "data": {
      "application/vnd.jupyter.widget-view+json": {
       "model_id": "fd98028cbdcb4ac489516432ffadbd03",
       "version_major": 2,
       "version_minor": 0
      },
      "text/plain": [
       "training epoch 46:   0%|          | 0/14620 [00:00<?, ?it/s]"
      ]
     },
     "metadata": {},
     "output_type": "display_data"
    },
    {
     "data": {
      "application/vnd.jupyter.widget-view+json": {
       "model_id": "563ef9519d2545fb945da385c8cc93dd",
       "version_major": 2,
       "version_minor": 0
      },
      "text/plain": [
       "validation epoch 46:   0%|          | 0/7300 [00:00<?, ?it/s]"
      ]
     },
     "metadata": {},
     "output_type": "display_data"
    },
    {
     "data": {
      "application/vnd.jupyter.widget-view+json": {
       "model_id": "33a454acc96d4553aa46bec6ec18ba30",
       "version_major": 2,
       "version_minor": 0
      },
      "text/plain": [
       "training epoch 47:   0%|          | 0/14620 [00:00<?, ?it/s]"
      ]
     },
     "metadata": {},
     "output_type": "display_data"
    },
    {
     "data": {
      "application/vnd.jupyter.widget-view+json": {
       "model_id": "e762dac5af714f528034284303d1e2f2",
       "version_major": 2,
       "version_minor": 0
      },
      "text/plain": [
       "validation epoch 47:   0%|          | 0/7300 [00:00<?, ?it/s]"
      ]
     },
     "metadata": {},
     "output_type": "display_data"
    },
    {
     "data": {
      "application/vnd.jupyter.widget-view+json": {
       "model_id": "d84a1f491a884f24b8fa9e2852e6c597",
       "version_major": 2,
       "version_minor": 0
      },
      "text/plain": [
       "training epoch 48:   0%|          | 0/14620 [00:00<?, ?it/s]"
      ]
     },
     "metadata": {},
     "output_type": "display_data"
    },
    {
     "data": {
      "application/vnd.jupyter.widget-view+json": {
       "model_id": "3ff22f5bea7b49d685dd2a409601495c",
       "version_major": 2,
       "version_minor": 0
      },
      "text/plain": [
       "validation epoch 48:   0%|          | 0/7300 [00:00<?, ?it/s]"
      ]
     },
     "metadata": {},
     "output_type": "display_data"
    },
    {
     "data": {
      "application/vnd.jupyter.widget-view+json": {
       "model_id": "f08aa165dc0842b2af95aee433f298f6",
       "version_major": 2,
       "version_minor": 0
      },
      "text/plain": [
       "training epoch 49:   0%|          | 0/14620 [00:00<?, ?it/s]"
      ]
     },
     "metadata": {},
     "output_type": "display_data"
    },
    {
     "data": {
      "application/vnd.jupyter.widget-view+json": {
       "model_id": "2dc4d9f223cc41fca4c65c233e63222a",
       "version_major": 2,
       "version_minor": 0
      },
      "text/plain": [
       "validation epoch 49:   0%|          | 0/7300 [00:00<?, ?it/s]"
      ]
     },
     "metadata": {},
     "output_type": "display_data"
    },
    {
     "data": {
      "application/vnd.jupyter.widget-view+json": {
       "model_id": "b4d5038edeeb406f86a40f3a96216d28",
       "version_major": 2,
       "version_minor": 0
      },
      "text/plain": [
       "training epoch 50:   0%|          | 0/14620 [00:00<?, ?it/s]"
      ]
     },
     "metadata": {},
     "output_type": "display_data"
    },
    {
     "data": {
      "application/vnd.jupyter.widget-view+json": {
       "model_id": "fc02688c9243483498eb3190bdd8894e",
       "version_major": 2,
       "version_minor": 0
      },
      "text/plain": [
       "validation epoch 50:   0%|          | 0/7300 [00:00<?, ?it/s]"
      ]
     },
     "metadata": {},
     "output_type": "display_data"
    },
    {
     "data": {
      "application/vnd.jupyter.widget-view+json": {
       "model_id": "11b46514e2cc4774a14abad433aaecf7",
       "version_major": 2,
       "version_minor": 0
      },
      "text/plain": [
       "training epoch 51:   0%|          | 0/14620 [00:00<?, ?it/s]"
      ]
     },
     "metadata": {},
     "output_type": "display_data"
    },
    {
     "data": {
      "application/vnd.jupyter.widget-view+json": {
       "model_id": "a3e3e44d6c7a4a94aa62fb53dd893d46",
       "version_major": 2,
       "version_minor": 0
      },
      "text/plain": [
       "validation epoch 51:   0%|          | 0/7300 [00:00<?, ?it/s]"
      ]
     },
     "metadata": {},
     "output_type": "display_data"
    },
    {
     "data": {
      "application/vnd.jupyter.widget-view+json": {
       "model_id": "d1283911c702436bb55306eb8b6324dd",
       "version_major": 2,
       "version_minor": 0
      },
      "text/plain": [
       "training epoch 52:   0%|          | 0/14620 [00:00<?, ?it/s]"
      ]
     },
     "metadata": {},
     "output_type": "display_data"
    },
    {
     "data": {
      "application/vnd.jupyter.widget-view+json": {
       "model_id": "82ba14d8b7ec44aab08e8e4caa87b17b",
       "version_major": 2,
       "version_minor": 0
      },
      "text/plain": [
       "validation epoch 52:   0%|          | 0/7300 [00:00<?, ?it/s]"
      ]
     },
     "metadata": {},
     "output_type": "display_data"
    },
    {
     "data": {
      "application/vnd.jupyter.widget-view+json": {
       "model_id": "889157d76b9c4590a3188a30c8ec3c3c",
       "version_major": 2,
       "version_minor": 0
      },
      "text/plain": [
       "training epoch 53:   0%|          | 0/14620 [00:00<?, ?it/s]"
      ]
     },
     "metadata": {},
     "output_type": "display_data"
    },
    {
     "data": {
      "application/vnd.jupyter.widget-view+json": {
       "model_id": "55010ce07845481a94c35138cc0fa067",
       "version_major": 2,
       "version_minor": 0
      },
      "text/plain": [
       "validation epoch 53:   0%|          | 0/7300 [00:00<?, ?it/s]"
      ]
     },
     "metadata": {},
     "output_type": "display_data"
    },
    {
     "data": {
      "application/vnd.jupyter.widget-view+json": {
       "model_id": "b9f0400a00be4985817a781eb57ba03d",
       "version_major": 2,
       "version_minor": 0
      },
      "text/plain": [
       "training epoch 54:   0%|          | 0/14620 [00:00<?, ?it/s]"
      ]
     },
     "metadata": {},
     "output_type": "display_data"
    },
    {
     "data": {
      "application/vnd.jupyter.widget-view+json": {
       "model_id": "e7aefeca4a5440dc842031bf0b4ff027",
       "version_major": 2,
       "version_minor": 0
      },
      "text/plain": [
       "validation epoch 54:   0%|          | 0/7300 [00:00<?, ?it/s]"
      ]
     },
     "metadata": {},
     "output_type": "display_data"
    },
    {
     "data": {
      "application/vnd.jupyter.widget-view+json": {
       "model_id": "ecdcf52bd4ce41c483915fa6b0d5ee17",
       "version_major": 2,
       "version_minor": 0
      },
      "text/plain": [
       "training epoch 55:   0%|          | 0/14620 [00:00<?, ?it/s]"
      ]
     },
     "metadata": {},
     "output_type": "display_data"
    },
    {
     "data": {
      "application/vnd.jupyter.widget-view+json": {
       "model_id": "1f49ce04893f4ebbaae589af60db7bfa",
       "version_major": 2,
       "version_minor": 0
      },
      "text/plain": [
       "validation epoch 55:   0%|          | 0/7300 [00:00<?, ?it/s]"
      ]
     },
     "metadata": {},
     "output_type": "display_data"
    },
    {
     "data": {
      "application/vnd.jupyter.widget-view+json": {
       "model_id": "6e7a6c68ee0b48629a750306042bdae8",
       "version_major": 2,
       "version_minor": 0
      },
      "text/plain": [
       "training epoch 56:   0%|          | 0/14620 [00:00<?, ?it/s]"
      ]
     },
     "metadata": {},
     "output_type": "display_data"
    },
    {
     "data": {
      "application/vnd.jupyter.widget-view+json": {
       "model_id": "c9cf169997ca41c6a56be32141c4e4e2",
       "version_major": 2,
       "version_minor": 0
      },
      "text/plain": [
       "validation epoch 56:   0%|          | 0/7300 [00:00<?, ?it/s]"
      ]
     },
     "metadata": {},
     "output_type": "display_data"
    },
    {
     "data": {
      "application/vnd.jupyter.widget-view+json": {
       "model_id": "9840bfc7cde646728df4bc64dddb2e2c",
       "version_major": 2,
       "version_minor": 0
      },
      "text/plain": [
       "training epoch 57:   0%|          | 0/14620 [00:00<?, ?it/s]"
      ]
     },
     "metadata": {},
     "output_type": "display_data"
    },
    {
     "data": {
      "application/vnd.jupyter.widget-view+json": {
       "model_id": "adb1a9d73ccf4c589d94161bc0d2494e",
       "version_major": 2,
       "version_minor": 0
      },
      "text/plain": [
       "validation epoch 57:   0%|          | 0/7300 [00:00<?, ?it/s]"
      ]
     },
     "metadata": {},
     "output_type": "display_data"
    },
    {
     "data": {
      "application/vnd.jupyter.widget-view+json": {
       "model_id": "f38553281b134ad2972a3c7dc7ac3158",
       "version_major": 2,
       "version_minor": 0
      },
      "text/plain": [
       "training epoch 58:   0%|          | 0/14620 [00:00<?, ?it/s]"
      ]
     },
     "metadata": {},
     "output_type": "display_data"
    },
    {
     "data": {
      "application/vnd.jupyter.widget-view+json": {
       "model_id": "2f8efb5907f24c698049802b3ebb6de1",
       "version_major": 2,
       "version_minor": 0
      },
      "text/plain": [
       "validation epoch 58:   0%|          | 0/7300 [00:00<?, ?it/s]"
      ]
     },
     "metadata": {},
     "output_type": "display_data"
    },
    {
     "data": {
      "application/vnd.jupyter.widget-view+json": {
       "model_id": "92dd113a16624420a23f77b138ada76b",
       "version_major": 2,
       "version_minor": 0
      },
      "text/plain": [
       "training epoch 59:   0%|          | 0/14620 [00:00<?, ?it/s]"
      ]
     },
     "metadata": {},
     "output_type": "display_data"
    },
    {
     "data": {
      "application/vnd.jupyter.widget-view+json": {
       "model_id": "4656d814e5604315a1137b77ba1b6e29",
       "version_major": 2,
       "version_minor": 0
      },
      "text/plain": [
       "validation epoch 59:   0%|          | 0/7300 [00:00<?, ?it/s]"
      ]
     },
     "metadata": {},
     "output_type": "display_data"
    },
    {
     "data": {
      "application/vnd.jupyter.widget-view+json": {
       "model_id": "311cbf3334684d1882e6ab09c38e1eda",
       "version_major": 2,
       "version_minor": 0
      },
      "text/plain": [
       "training epoch 60:   0%|          | 0/14620 [00:00<?, ?it/s]"
      ]
     },
     "metadata": {},
     "output_type": "display_data"
    },
    {
     "data": {
      "application/vnd.jupyter.widget-view+json": {
       "model_id": "844b6007af44448f9e74befff34bb3d6",
       "version_major": 2,
       "version_minor": 0
      },
      "text/plain": [
       "validation epoch 60:   0%|          | 0/7300 [00:00<?, ?it/s]"
      ]
     },
     "metadata": {},
     "output_type": "display_data"
    },
    {
     "data": {
      "application/vnd.jupyter.widget-view+json": {
       "model_id": "cf92263a15764faeb1d412ea9f19edd9",
       "version_major": 2,
       "version_minor": 0
      },
      "text/plain": [
       "training epoch 61:   0%|          | 0/14620 [00:00<?, ?it/s]"
      ]
     },
     "metadata": {},
     "output_type": "display_data"
    },
    {
     "data": {
      "application/vnd.jupyter.widget-view+json": {
       "model_id": "ea0d23458439456d97c1199e63872b5f",
       "version_major": 2,
       "version_minor": 0
      },
      "text/plain": [
       "validation epoch 61:   0%|          | 0/7300 [00:00<?, ?it/s]"
      ]
     },
     "metadata": {},
     "output_type": "display_data"
    },
    {
     "data": {
      "application/vnd.jupyter.widget-view+json": {
       "model_id": "8d2bb12e75344220b2ad3eb5c7d157fe",
       "version_major": 2,
       "version_minor": 0
      },
      "text/plain": [
       "training epoch 62:   0%|          | 0/14620 [00:00<?, ?it/s]"
      ]
     },
     "metadata": {},
     "output_type": "display_data"
    },
    {
     "data": {
      "application/vnd.jupyter.widget-view+json": {
       "model_id": "ab1a83f466344e48a93bff201a87ca2f",
       "version_major": 2,
       "version_minor": 0
      },
      "text/plain": [
       "validation epoch 62:   0%|          | 0/7300 [00:00<?, ?it/s]"
      ]
     },
     "metadata": {},
     "output_type": "display_data"
    },
    {
     "data": {
      "application/vnd.jupyter.widget-view+json": {
       "model_id": "4ed4b0db83db46028eab8af015c43ffc",
       "version_major": 2,
       "version_minor": 0
      },
      "text/plain": [
       "training epoch 63:   0%|          | 0/14620 [00:00<?, ?it/s]"
      ]
     },
     "metadata": {},
     "output_type": "display_data"
    },
    {
     "data": {
      "application/vnd.jupyter.widget-view+json": {
       "model_id": "2cf05231e0e94afba81a6b1fa0cb64c9",
       "version_major": 2,
       "version_minor": 0
      },
      "text/plain": [
       "validation epoch 63:   0%|          | 0/7300 [00:00<?, ?it/s]"
      ]
     },
     "metadata": {},
     "output_type": "display_data"
    },
    {
     "data": {
      "application/vnd.jupyter.widget-view+json": {
       "model_id": "51b5d112af544221a1a21f34c8a28650",
       "version_major": 2,
       "version_minor": 0
      },
      "text/plain": [
       "training epoch 64:   0%|          | 0/14620 [00:00<?, ?it/s]"
      ]
     },
     "metadata": {},
     "output_type": "display_data"
    },
    {
     "data": {
      "application/vnd.jupyter.widget-view+json": {
       "model_id": "cacf9d589d944fe1a41ce6296b80de9e",
       "version_major": 2,
       "version_minor": 0
      },
      "text/plain": [
       "validation epoch 64:   0%|          | 0/7300 [00:00<?, ?it/s]"
      ]
     },
     "metadata": {},
     "output_type": "display_data"
    },
    {
     "data": {
      "application/vnd.jupyter.widget-view+json": {
       "model_id": "61d4e6051cf54a92a8b46e8e0d67cdbc",
       "version_major": 2,
       "version_minor": 0
      },
      "text/plain": [
       "training epoch 65:   0%|          | 0/14620 [00:00<?, ?it/s]"
      ]
     },
     "metadata": {},
     "output_type": "display_data"
    },
    {
     "data": {
      "application/vnd.jupyter.widget-view+json": {
       "model_id": "cba48bce87de44aca42a839251633c03",
       "version_major": 2,
       "version_minor": 0
      },
      "text/plain": [
       "validation epoch 65:   0%|          | 0/7300 [00:00<?, ?it/s]"
      ]
     },
     "metadata": {},
     "output_type": "display_data"
    },
    {
     "data": {
      "application/vnd.jupyter.widget-view+json": {
       "model_id": "816742759da9404b8138b3ceabf66503",
       "version_major": 2,
       "version_minor": 0
      },
      "text/plain": [
       "training epoch 66:   0%|          | 0/14620 [00:00<?, ?it/s]"
      ]
     },
     "metadata": {},
     "output_type": "display_data"
    },
    {
     "data": {
      "application/vnd.jupyter.widget-view+json": {
       "model_id": "dac1caf56655459687ef476d85af96cc",
       "version_major": 2,
       "version_minor": 0
      },
      "text/plain": [
       "validation epoch 66:   0%|          | 0/7300 [00:00<?, ?it/s]"
      ]
     },
     "metadata": {},
     "output_type": "display_data"
    },
    {
     "data": {
      "application/vnd.jupyter.widget-view+json": {
       "model_id": "283097a9fd08412d86e7965d889234bd",
       "version_major": 2,
       "version_minor": 0
      },
      "text/plain": [
       "training epoch 67:   0%|          | 0/14620 [00:00<?, ?it/s]"
      ]
     },
     "metadata": {},
     "output_type": "display_data"
    },
    {
     "data": {
      "application/vnd.jupyter.widget-view+json": {
       "model_id": "ef95b69ad28e47b4b5fad4e77df8e3f2",
       "version_major": 2,
       "version_minor": 0
      },
      "text/plain": [
       "validation epoch 67:   0%|          | 0/7300 [00:00<?, ?it/s]"
      ]
     },
     "metadata": {},
     "output_type": "display_data"
    },
    {
     "data": {
      "application/vnd.jupyter.widget-view+json": {
       "model_id": "7683fcd1a3ee446f8dd3f852fb5535a8",
       "version_major": 2,
       "version_minor": 0
      },
      "text/plain": [
       "training epoch 68:   0%|          | 0/14620 [00:00<?, ?it/s]"
      ]
     },
     "metadata": {},
     "output_type": "display_data"
    },
    {
     "data": {
      "application/vnd.jupyter.widget-view+json": {
       "model_id": "3a83e123ab7941d1ae83999facd4456a",
       "version_major": 2,
       "version_minor": 0
      },
      "text/plain": [
       "validation epoch 68:   0%|          | 0/7300 [00:00<?, ?it/s]"
      ]
     },
     "metadata": {},
     "output_type": "display_data"
    },
    {
     "data": {
      "application/vnd.jupyter.widget-view+json": {
       "model_id": "e69682faa5024413962c8e0bc20ebd15",
       "version_major": 2,
       "version_minor": 0
      },
      "text/plain": [
       "training epoch 69:   0%|          | 0/14620 [00:00<?, ?it/s]"
      ]
     },
     "metadata": {},
     "output_type": "display_data"
    },
    {
     "data": {
      "application/vnd.jupyter.widget-view+json": {
       "model_id": "83f24a19bdd04eb69cad1fc38c8d5458",
       "version_major": 2,
       "version_minor": 0
      },
      "text/plain": [
       "validation epoch 69:   0%|          | 0/7300 [00:00<?, ?it/s]"
      ]
     },
     "metadata": {},
     "output_type": "display_data"
    },
    {
     "data": {
      "application/vnd.jupyter.widget-view+json": {
       "model_id": "8746e630954b4a27b995972aec24d6f2",
       "version_major": 2,
       "version_minor": 0
      },
      "text/plain": [
       "training epoch 70:   0%|          | 0/14620 [00:00<?, ?it/s]"
      ]
     },
     "metadata": {},
     "output_type": "display_data"
    },
    {
     "data": {
      "application/vnd.jupyter.widget-view+json": {
       "model_id": "3b3715d6b18347748b7afdae690fe2f3",
       "version_major": 2,
       "version_minor": 0
      },
      "text/plain": [
       "validation epoch 70:   0%|          | 0/7300 [00:00<?, ?it/s]"
      ]
     },
     "metadata": {},
     "output_type": "display_data"
    },
    {
     "data": {
      "application/vnd.jupyter.widget-view+json": {
       "model_id": "25140d59cff04a92874726e1498fc64c",
       "version_major": 2,
       "version_minor": 0
      },
      "text/plain": [
       "training epoch 71:   0%|          | 0/14620 [00:00<?, ?it/s]"
      ]
     },
     "metadata": {},
     "output_type": "display_data"
    },
    {
     "data": {
      "application/vnd.jupyter.widget-view+json": {
       "model_id": "428ee4f72f644f48a8de2412470a3b99",
       "version_major": 2,
       "version_minor": 0
      },
      "text/plain": [
       "validation epoch 71:   0%|          | 0/7300 [00:00<?, ?it/s]"
      ]
     },
     "metadata": {},
     "output_type": "display_data"
    },
    {
     "data": {
      "application/vnd.jupyter.widget-view+json": {
       "model_id": "2ed263a09e254f18988039c7e4b260a4",
       "version_major": 2,
       "version_minor": 0
      },
      "text/plain": [
       "training epoch 72:   0%|          | 0/14620 [00:00<?, ?it/s]"
      ]
     },
     "metadata": {},
     "output_type": "display_data"
    },
    {
     "data": {
      "application/vnd.jupyter.widget-view+json": {
       "model_id": "868994cc9d944b098854b57407cb9372",
       "version_major": 2,
       "version_minor": 0
      },
      "text/plain": [
       "validation epoch 72:   0%|          | 0/7300 [00:00<?, ?it/s]"
      ]
     },
     "metadata": {},
     "output_type": "display_data"
    },
    {
     "data": {
      "application/vnd.jupyter.widget-view+json": {
       "model_id": "2814eca244b444ddb919d554de28589c",
       "version_major": 2,
       "version_minor": 0
      },
      "text/plain": [
       "training epoch 73:   0%|          | 0/14620 [00:00<?, ?it/s]"
      ]
     },
     "metadata": {},
     "output_type": "display_data"
    },
    {
     "data": {
      "application/vnd.jupyter.widget-view+json": {
       "model_id": "cb4d4fee9aff4df8af71f7d67b91a2d6",
       "version_major": 2,
       "version_minor": 0
      },
      "text/plain": [
       "validation epoch 73:   0%|          | 0/7300 [00:00<?, ?it/s]"
      ]
     },
     "metadata": {},
     "output_type": "display_data"
    },
    {
     "data": {
      "application/vnd.jupyter.widget-view+json": {
       "model_id": "c678046934b14545a40d48ef995d99e2",
       "version_major": 2,
       "version_minor": 0
      },
      "text/plain": [
       "training epoch 74:   0%|          | 0/14620 [00:00<?, ?it/s]"
      ]
     },
     "metadata": {},
     "output_type": "display_data"
    },
    {
     "data": {
      "application/vnd.jupyter.widget-view+json": {
       "model_id": "e549c79a24c9434a9430dcb9269c1d3c",
       "version_major": 2,
       "version_minor": 0
      },
      "text/plain": [
       "validation epoch 74:   0%|          | 0/7300 [00:00<?, ?it/s]"
      ]
     },
     "metadata": {},
     "output_type": "display_data"
    },
    {
     "data": {
      "application/vnd.jupyter.widget-view+json": {
       "model_id": "c001b5453d6b4eff805048d0c44452d3",
       "version_major": 2,
       "version_minor": 0
      },
      "text/plain": [
       "training epoch 75:   0%|          | 0/14620 [00:00<?, ?it/s]"
      ]
     },
     "metadata": {},
     "output_type": "display_data"
    },
    {
     "data": {
      "application/vnd.jupyter.widget-view+json": {
       "model_id": "d80eaf16ebd145f49718a3aeb6e31213",
       "version_major": 2,
       "version_minor": 0
      },
      "text/plain": [
       "validation epoch 75:   0%|          | 0/7300 [00:00<?, ?it/s]"
      ]
     },
     "metadata": {},
     "output_type": "display_data"
    },
    {
     "data": {
      "application/vnd.jupyter.widget-view+json": {
       "model_id": "3760a8a5a5bf411da5e75260bfaad83a",
       "version_major": 2,
       "version_minor": 0
      },
      "text/plain": [
       "training epoch 76:   0%|          | 0/14620 [00:00<?, ?it/s]"
      ]
     },
     "metadata": {},
     "output_type": "display_data"
    },
    {
     "data": {
      "application/vnd.jupyter.widget-view+json": {
       "model_id": "758125a5f54343eba58d9eb33d5a8a82",
       "version_major": 2,
       "version_minor": 0
      },
      "text/plain": [
       "validation epoch 76:   0%|          | 0/7300 [00:00<?, ?it/s]"
      ]
     },
     "metadata": {},
     "output_type": "display_data"
    },
    {
     "data": {
      "application/vnd.jupyter.widget-view+json": {
       "model_id": "c47f520362ed42ef87e0079748f82c56",
       "version_major": 2,
       "version_minor": 0
      },
      "text/plain": [
       "training epoch 77:   0%|          | 0/14620 [00:00<?, ?it/s]"
      ]
     },
     "metadata": {},
     "output_type": "display_data"
    },
    {
     "data": {
      "application/vnd.jupyter.widget-view+json": {
       "model_id": "816f26c8bf1a47df83c90551a8695713",
       "version_major": 2,
       "version_minor": 0
      },
      "text/plain": [
       "validation epoch 77:   0%|          | 0/7300 [00:00<?, ?it/s]"
      ]
     },
     "metadata": {},
     "output_type": "display_data"
    },
    {
     "data": {
      "application/vnd.jupyter.widget-view+json": {
       "model_id": "55e74e9cbdf24fbda94a8e059e58e03c",
       "version_major": 2,
       "version_minor": 0
      },
      "text/plain": [
       "training epoch 78:   0%|          | 0/14620 [00:00<?, ?it/s]"
      ]
     },
     "metadata": {},
     "output_type": "display_data"
    },
    {
     "data": {
      "application/vnd.jupyter.widget-view+json": {
       "model_id": "85af967203944b9e9d027cd4070c2d07",
       "version_major": 2,
       "version_minor": 0
      },
      "text/plain": [
       "validation epoch 78:   0%|          | 0/7300 [00:00<?, ?it/s]"
      ]
     },
     "metadata": {},
     "output_type": "display_data"
    },
    {
     "data": {
      "application/vnd.jupyter.widget-view+json": {
       "model_id": "7118757bb5454eadb4101db657e4a76d",
       "version_major": 2,
       "version_minor": 0
      },
      "text/plain": [
       "training epoch 79:   0%|          | 0/14620 [00:00<?, ?it/s]"
      ]
     },
     "metadata": {},
     "output_type": "display_data"
    },
    {
     "data": {
      "application/vnd.jupyter.widget-view+json": {
       "model_id": "8b224ddb33294bfbb9306c2762eb5e96",
       "version_major": 2,
       "version_minor": 0
      },
      "text/plain": [
       "validation epoch 79:   0%|          | 0/7300 [00:00<?, ?it/s]"
      ]
     },
     "metadata": {},
     "output_type": "display_data"
    },
    {
     "data": {
      "application/vnd.jupyter.widget-view+json": {
       "model_id": "9a2b63eb2e9543d599b4b9e82579a5fd",
       "version_major": 2,
       "version_minor": 0
      },
      "text/plain": [
       "training epoch 80:   0%|          | 0/14620 [00:00<?, ?it/s]"
      ]
     },
     "metadata": {},
     "output_type": "display_data"
    },
    {
     "data": {
      "application/vnd.jupyter.widget-view+json": {
       "model_id": "e21540bee8774083a88f5e85b8732f34",
       "version_major": 2,
       "version_minor": 0
      },
      "text/plain": [
       "validation epoch 80:   0%|          | 0/7300 [00:00<?, ?it/s]"
      ]
     },
     "metadata": {},
     "output_type": "display_data"
    },
    {
     "data": {
      "application/vnd.jupyter.widget-view+json": {
       "model_id": "b5a7e47a676e464bb9a3461a7f629133",
       "version_major": 2,
       "version_minor": 0
      },
      "text/plain": [
       "training epoch 81:   0%|          | 0/14620 [00:00<?, ?it/s]"
      ]
     },
     "metadata": {},
     "output_type": "display_data"
    },
    {
     "data": {
      "application/vnd.jupyter.widget-view+json": {
       "model_id": "322e2d3e74d34ef2af66364b62101767",
       "version_major": 2,
       "version_minor": 0
      },
      "text/plain": [
       "validation epoch 81:   0%|          | 0/7300 [00:00<?, ?it/s]"
      ]
     },
     "metadata": {},
     "output_type": "display_data"
    },
    {
     "data": {
      "application/vnd.jupyter.widget-view+json": {
       "model_id": "2db7f2890b8747239080cec8a412d7c3",
       "version_major": 2,
       "version_minor": 0
      },
      "text/plain": [
       "training epoch 82:   0%|          | 0/14620 [00:00<?, ?it/s]"
      ]
     },
     "metadata": {},
     "output_type": "display_data"
    },
    {
     "data": {
      "application/vnd.jupyter.widget-view+json": {
       "model_id": "3f065191376349f4b0fcffa49dfa8054",
       "version_major": 2,
       "version_minor": 0
      },
      "text/plain": [
       "validation epoch 82:   0%|          | 0/7300 [00:00<?, ?it/s]"
      ]
     },
     "metadata": {},
     "output_type": "display_data"
    },
    {
     "data": {
      "application/vnd.jupyter.widget-view+json": {
       "model_id": "8e7da3ff463a4c0b8227d23bda2c0b56",
       "version_major": 2,
       "version_minor": 0
      },
      "text/plain": [
       "training epoch 83:   0%|          | 0/14620 [00:00<?, ?it/s]"
      ]
     },
     "metadata": {},
     "output_type": "display_data"
    },
    {
     "data": {
      "application/vnd.jupyter.widget-view+json": {
       "model_id": "037ecc3faff3476e90fb73e06d79c0b7",
       "version_major": 2,
       "version_minor": 0
      },
      "text/plain": [
       "validation epoch 83:   0%|          | 0/7300 [00:00<?, ?it/s]"
      ]
     },
     "metadata": {},
     "output_type": "display_data"
    },
    {
     "data": {
      "application/vnd.jupyter.widget-view+json": {
       "model_id": "7c5d7f05568f457197ac552004ad2a6c",
       "version_major": 2,
       "version_minor": 0
      },
      "text/plain": [
       "training epoch 84:   0%|          | 0/14620 [00:00<?, ?it/s]"
      ]
     },
     "metadata": {},
     "output_type": "display_data"
    },
    {
     "data": {
      "application/vnd.jupyter.widget-view+json": {
       "model_id": "92d00735a1af4ada891a56e1eaf9d456",
       "version_major": 2,
       "version_minor": 0
      },
      "text/plain": [
       "validation epoch 84:   0%|          | 0/7300 [00:00<?, ?it/s]"
      ]
     },
     "metadata": {},
     "output_type": "display_data"
    },
    {
     "data": {
      "application/vnd.jupyter.widget-view+json": {
       "model_id": "6fa7985076844800b48d9c6eb70181ee",
       "version_major": 2,
       "version_minor": 0
      },
      "text/plain": [
       "training epoch 85:   0%|          | 0/14620 [00:00<?, ?it/s]"
      ]
     },
     "metadata": {},
     "output_type": "display_data"
    },
    {
     "data": {
      "application/vnd.jupyter.widget-view+json": {
       "model_id": "69ca68fcaa204c77b86395a7cace7d44",
       "version_major": 2,
       "version_minor": 0
      },
      "text/plain": [
       "validation epoch 85:   0%|          | 0/7300 [00:00<?, ?it/s]"
      ]
     },
     "metadata": {},
     "output_type": "display_data"
    },
    {
     "data": {
      "application/vnd.jupyter.widget-view+json": {
       "model_id": "5580bd5b636140c5bc4104d496e751df",
       "version_major": 2,
       "version_minor": 0
      },
      "text/plain": [
       "training epoch 86:   0%|          | 0/14620 [00:00<?, ?it/s]"
      ]
     },
     "metadata": {},
     "output_type": "display_data"
    },
    {
     "data": {
      "application/vnd.jupyter.widget-view+json": {
       "model_id": "6dd5f207683a431aadd02dea73f4d349",
       "version_major": 2,
       "version_minor": 0
      },
      "text/plain": [
       "validation epoch 86:   0%|          | 0/7300 [00:00<?, ?it/s]"
      ]
     },
     "metadata": {},
     "output_type": "display_data"
    },
    {
     "data": {
      "application/vnd.jupyter.widget-view+json": {
       "model_id": "0b3d733bdcbb4f6fb44e5038613014d4",
       "version_major": 2,
       "version_minor": 0
      },
      "text/plain": [
       "training epoch 87:   0%|          | 0/14620 [00:00<?, ?it/s]"
      ]
     },
     "metadata": {},
     "output_type": "display_data"
    },
    {
     "data": {
      "application/vnd.jupyter.widget-view+json": {
       "model_id": "a28022a4d69b49ba8da55e9b37487914",
       "version_major": 2,
       "version_minor": 0
      },
      "text/plain": [
       "validation epoch 87:   0%|          | 0/7300 [00:00<?, ?it/s]"
      ]
     },
     "metadata": {},
     "output_type": "display_data"
    },
    {
     "data": {
      "application/vnd.jupyter.widget-view+json": {
       "model_id": "ffead80c725b4e73b557db0f4c5e1df8",
       "version_major": 2,
       "version_minor": 0
      },
      "text/plain": [
       "training epoch 88:   0%|          | 0/14620 [00:00<?, ?it/s]"
      ]
     },
     "metadata": {},
     "output_type": "display_data"
    },
    {
     "data": {
      "application/vnd.jupyter.widget-view+json": {
       "model_id": "5e5f31f95d7647d5a7c7b574be866f2a",
       "version_major": 2,
       "version_minor": 0
      },
      "text/plain": [
       "validation epoch 88:   0%|          | 0/7300 [00:00<?, ?it/s]"
      ]
     },
     "metadata": {},
     "output_type": "display_data"
    },
    {
     "data": {
      "application/vnd.jupyter.widget-view+json": {
       "model_id": "30302e747d274a87996d6e1dc2f16c96",
       "version_major": 2,
       "version_minor": 0
      },
      "text/plain": [
       "training epoch 89:   0%|          | 0/14620 [00:00<?, ?it/s]"
      ]
     },
     "metadata": {},
     "output_type": "display_data"
    },
    {
     "data": {
      "application/vnd.jupyter.widget-view+json": {
       "model_id": "729a4651e24f4b78a44d74a5a2a56ccb",
       "version_major": 2,
       "version_minor": 0
      },
      "text/plain": [
       "validation epoch 89:   0%|          | 0/7300 [00:00<?, ?it/s]"
      ]
     },
     "metadata": {},
     "output_type": "display_data"
    },
    {
     "data": {
      "application/vnd.jupyter.widget-view+json": {
       "model_id": "258eccd838994429ba3ba882bfe82696",
       "version_major": 2,
       "version_minor": 0
      },
      "text/plain": [
       "training epoch 90:   0%|          | 0/14620 [00:00<?, ?it/s]"
      ]
     },
     "metadata": {},
     "output_type": "display_data"
    },
    {
     "data": {
      "application/vnd.jupyter.widget-view+json": {
       "model_id": "27c32fc08e1c409da00f46577dd1a35f",
       "version_major": 2,
       "version_minor": 0
      },
      "text/plain": [
       "validation epoch 90:   0%|          | 0/7300 [00:00<?, ?it/s]"
      ]
     },
     "metadata": {},
     "output_type": "display_data"
    },
    {
     "data": {
      "application/vnd.jupyter.widget-view+json": {
       "model_id": "24fb9105952e4483858691670cb9293b",
       "version_major": 2,
       "version_minor": 0
      },
      "text/plain": [
       "training epoch 91:   0%|          | 0/14620 [00:00<?, ?it/s]"
      ]
     },
     "metadata": {},
     "output_type": "display_data"
    },
    {
     "data": {
      "application/vnd.jupyter.widget-view+json": {
       "model_id": "13a9fa0f5c5d42bcab786ac17cb55b49",
       "version_major": 2,
       "version_minor": 0
      },
      "text/plain": [
       "validation epoch 91:   0%|          | 0/7300 [00:00<?, ?it/s]"
      ]
     },
     "metadata": {},
     "output_type": "display_data"
    },
    {
     "data": {
      "application/vnd.jupyter.widget-view+json": {
       "model_id": "9a7b660d05bc47eca4fb61e91a1b1572",
       "version_major": 2,
       "version_minor": 0
      },
      "text/plain": [
       "training epoch 92:   0%|          | 0/14620 [00:00<?, ?it/s]"
      ]
     },
     "metadata": {},
     "output_type": "display_data"
    },
    {
     "data": {
      "application/vnd.jupyter.widget-view+json": {
       "model_id": "aee9b1c45ec64d40b26bcde58cd64f34",
       "version_major": 2,
       "version_minor": 0
      },
      "text/plain": [
       "validation epoch 92:   0%|          | 0/7300 [00:00<?, ?it/s]"
      ]
     },
     "metadata": {},
     "output_type": "display_data"
    },
    {
     "data": {
      "application/vnd.jupyter.widget-view+json": {
       "model_id": "3d440a6ddfb74f95822b3ddbbeb776dd",
       "version_major": 2,
       "version_minor": 0
      },
      "text/plain": [
       "training epoch 93:   0%|          | 0/14620 [00:00<?, ?it/s]"
      ]
     },
     "metadata": {},
     "output_type": "display_data"
    },
    {
     "data": {
      "application/vnd.jupyter.widget-view+json": {
       "model_id": "e885e146e3d34f86b57b7d16f1d1bd41",
       "version_major": 2,
       "version_minor": 0
      },
      "text/plain": [
       "validation epoch 93:   0%|          | 0/7300 [00:00<?, ?it/s]"
      ]
     },
     "metadata": {},
     "output_type": "display_data"
    },
    {
     "data": {
      "application/vnd.jupyter.widget-view+json": {
       "model_id": "de47d28e52794112a86080fadb1ce7ef",
       "version_major": 2,
       "version_minor": 0
      },
      "text/plain": [
       "training epoch 94:   0%|          | 0/14620 [00:00<?, ?it/s]"
      ]
     },
     "metadata": {},
     "output_type": "display_data"
    },
    {
     "data": {
      "application/vnd.jupyter.widget-view+json": {
       "model_id": "16d60f93dc8244bbbd18db366a6fa338",
       "version_major": 2,
       "version_minor": 0
      },
      "text/plain": [
       "validation epoch 94:   0%|          | 0/7300 [00:00<?, ?it/s]"
      ]
     },
     "metadata": {},
     "output_type": "display_data"
    },
    {
     "data": {
      "application/vnd.jupyter.widget-view+json": {
       "model_id": "1b0e66ccee7743e3a5f651e594cabddc",
       "version_major": 2,
       "version_minor": 0
      },
      "text/plain": [
       "training epoch 95:   0%|          | 0/14620 [00:00<?, ?it/s]"
      ]
     },
     "metadata": {},
     "output_type": "display_data"
    },
    {
     "data": {
      "application/vnd.jupyter.widget-view+json": {
       "model_id": "a7063ed3147a4135967eb7a7b720e329",
       "version_major": 2,
       "version_minor": 0
      },
      "text/plain": [
       "validation epoch 95:   0%|          | 0/7300 [00:00<?, ?it/s]"
      ]
     },
     "metadata": {},
     "output_type": "display_data"
    },
    {
     "data": {
      "application/vnd.jupyter.widget-view+json": {
       "model_id": "fd3c59ff337e49f8be0f2972c026b5f5",
       "version_major": 2,
       "version_minor": 0
      },
      "text/plain": [
       "training epoch 96:   0%|          | 0/14620 [00:00<?, ?it/s]"
      ]
     },
     "metadata": {},
     "output_type": "display_data"
    },
    {
     "data": {
      "application/vnd.jupyter.widget-view+json": {
       "model_id": "1e3ad6a5f4e94c899f76f04681f558da",
       "version_major": 2,
       "version_minor": 0
      },
      "text/plain": [
       "validation epoch 96:   0%|          | 0/7300 [00:00<?, ?it/s]"
      ]
     },
     "metadata": {},
     "output_type": "display_data"
    },
    {
     "data": {
      "application/vnd.jupyter.widget-view+json": {
       "model_id": "c2e7bc68020743fcb55792554aac280e",
       "version_major": 2,
       "version_minor": 0
      },
      "text/plain": [
       "training epoch 97:   0%|          | 0/14620 [00:00<?, ?it/s]"
      ]
     },
     "metadata": {},
     "output_type": "display_data"
    },
    {
     "data": {
      "application/vnd.jupyter.widget-view+json": {
       "model_id": "8e446d00dd064a8b8ddd92ec30a9e3cb",
       "version_major": 2,
       "version_minor": 0
      },
      "text/plain": [
       "validation epoch 97:   0%|          | 0/7300 [00:00<?, ?it/s]"
      ]
     },
     "metadata": {},
     "output_type": "display_data"
    },
    {
     "data": {
      "application/vnd.jupyter.widget-view+json": {
       "model_id": "ce821a99d0844e0c873be9f996546f5c",
       "version_major": 2,
       "version_minor": 0
      },
      "text/plain": [
       "training epoch 98:   0%|          | 0/14620 [00:00<?, ?it/s]"
      ]
     },
     "metadata": {},
     "output_type": "display_data"
    },
    {
     "data": {
      "application/vnd.jupyter.widget-view+json": {
       "model_id": "df5351a0c2514b7999c3951e000943f2",
       "version_major": 2,
       "version_minor": 0
      },
      "text/plain": [
       "validation epoch 98:   0%|          | 0/7300 [00:00<?, ?it/s]"
      ]
     },
     "metadata": {},
     "output_type": "display_data"
    },
    {
     "data": {
      "application/vnd.jupyter.widget-view+json": {
       "model_id": "17bdf64a20414d1e8671a3f4d9d8f720",
       "version_major": 2,
       "version_minor": 0
      },
      "text/plain": [
       "training epoch 99:   0%|          | 0/14620 [00:00<?, ?it/s]"
      ]
     },
     "metadata": {},
     "output_type": "display_data"
    },
    {
     "data": {
      "application/vnd.jupyter.widget-view+json": {
       "model_id": "6cc58841e1c74ffe89547ae05be0966a",
       "version_major": 2,
       "version_minor": 0
      },
      "text/plain": [
       "validation epoch 99:   0%|          | 0/7300 [00:00<?, ?it/s]"
      ]
     },
     "metadata": {},
     "output_type": "display_data"
    },
    {
     "data": {
      "application/vnd.jupyter.widget-view+json": {
       "model_id": "76fe17e21afc4b32a8a7b54382a9ded6",
       "version_major": 2,
       "version_minor": 0
      },
      "text/plain": [
       "training epoch 100:   0%|          | 0/14620 [00:00<?, ?it/s]"
      ]
     },
     "metadata": {},
     "output_type": "display_data"
    },
    {
     "data": {
      "application/vnd.jupyter.widget-view+json": {
       "model_id": "5d1e009f85934e70bb0a3ac02f0ddcc1",
       "version_major": 2,
       "version_minor": 0
      },
      "text/plain": [
       "validation epoch 100:   0%|          | 0/7300 [00:00<?, ?it/s]"
      ]
     },
     "metadata": {},
     "output_type": "display_data"
    }
   ],
   "source": [
    "# 학습\n",
    "from tqdm.auto import tqdm\n",
    "import torch.nn.utils as utils\n",
    "\n",
    "train_loss_list = []\n",
    "valid_loss_list = []\n",
    "epoch_data_list = []\n",
    "train_n = len(train_data_loader)\n",
    "valid_n = len(valid_data_loader)\n",
    "actual_label = valid_data.iloc[:, -1]\n",
    "\n",
    "for e in tqdm(range(1, epoch+1)):\n",
    "    train_running_loss = 0.0\n",
    "    valid_running_loss = 0.0\n",
    "    train_iterator = tqdm(enumerate(train_data_loader), total=train_n, desc=f\"training epoch {e}\")\n",
    "    valid_iterator = tqdm(enumerate(valid_data_loader), total=valid_n, desc=f\"validation epoch {e}\")\n",
    "    pred_label = []\n",
    "    \n",
    "    # training\n",
    "    model.train()\n",
    "    for _, batch_data in train_iterator:\n",
    "        X, y = batch_data # 배치데이터\n",
    "        y = y.long() - 1\n",
    "        out = model(X) # 학습 데이터를 모델에 넣기\n",
    "        # pred_label = torch.argmax(out, dim=1)\n",
    "        loss = criterion(out, y) # output과 y 데이터로 loss 구하기\n",
    "        \n",
    "        optimizer.zero_grad() # 기울기 초기화\n",
    "        loss.backward() # 역전파 수행 -> loss function의 기울기 계산\n",
    "        \n",
    "        # clip_gradient(model, 1.0) # 기울기 클리핑(value)\n",
    "        # utils.clip_grad_norm_(model.parameters(), max_norm=1.0) # 기울기 클리핑(norm)\n",
    "        \n",
    "        optimizer.step() # 기울기를 이용해 가중치 업데이트\n",
    "        train_running_loss += loss.item() # 한 배치의 loss 더하기 (추후 평균 loss를 구하기 위함)\n",
    "        train_iterator.set_postfix({\n",
    "            'train_loss' : format(loss, 'f')\n",
    "        })\n",
    "    \n",
    "    train_loss_list.append(train_running_loss / train_n) # 한 epoch의 평균 loss\n",
    "    \n",
    "    # validation\n",
    "    model.eval()\n",
    "    with torch.no_grad():\n",
    "        for _, batch_data in valid_iterator:\n",
    "            X, y = batch_data\n",
    "            y=y.long() - 1\n",
    "            out = model(X)\n",
    "            loss = criterion(out, y)\n",
    "            pred_label.append(torch.argmax(out, dim=1) + 1) # label이 1부터 시작\n",
    "        \n",
    "            valid_running_loss += loss.item()\n",
    "            valid_iterator.set_postfix({\n",
    "                'valid_loss' : format(loss, 'f')\n",
    "            })\n",
    "            \n",
    "        pred_label = np.array(pred_label).flatten()\n",
    "        valid_loss_list.append(valid_running_loss / valid_n)\n",
    "        epoch_data_list.append(pd.DataFrame({\n",
    "            \"actual\" : actual_label[6:].reset_index(drop=True),\n",
    "            \"pred\" : pred_label\n",
    "        }))"
   ]
  },
  {
   "cell_type": "code",
   "execution_count": 97,
   "metadata": {},
   "outputs": [
    {
     "data": {
      "text/plain": [
       "[0.3589905840215253,\n",
       " 0.3576677154958415,\n",
       " 0.3568347780159598,\n",
       " 0.3549729590703607,\n",
       " 0.3541353316108407,\n",
       " 0.35315023727462436,\n",
       " 0.35396934343519765,\n",
       " 0.3519567253469093,\n",
       " 0.350797663890663,\n",
       " 0.3507149328819601,\n",
       " 0.3501814140268078,\n",
       " 0.34932524759098493,\n",
       " 0.3489942309684719,\n",
       " 0.34626942184655296,\n",
       " 0.34574180239922697,\n",
       " 0.34595696543179016,\n",
       " 0.3440035300604361,\n",
       " 0.3443188070633325,\n",
       " 0.3433959659140413,\n",
       " 0.34401923877117957,\n",
       " 0.3431212677967686,\n",
       " 0.34286581438600766,\n",
       " 0.3422169977435798,\n",
       " 0.3410514644676311,\n",
       " 0.34021518993240474,\n",
       " 0.33980878674412124,\n",
       " 0.33921683510744255,\n",
       " 0.3385765452338201,\n",
       " 0.3370265589428415,\n",
       " 0.3374167065919748,\n",
       " 0.33745307177804484,\n",
       " 0.33610018313041107,\n",
       " 0.33628745161777424,\n",
       " 0.3346030303520337,\n",
       " 0.3348318923744338,\n",
       " 0.33488069798193154,\n",
       " 0.33442840488815795,\n",
       " 0.33472717804210766,\n",
       " 0.33444349121055683,\n",
       " 0.3328486368444633,\n",
       " 0.33236302525971134,\n",
       " 0.33225341459146823,\n",
       " 0.3316374244035821,\n",
       " 0.33164879008552706,\n",
       " 0.3306575707726247,\n",
       " 0.33077407032183676,\n",
       " 0.33007151978699556,\n",
       " 0.32916969800886803,\n",
       " 0.32933164833901224,\n",
       " 0.3303221212559706,\n",
       " 0.32958963932730667,\n",
       " 0.3285003252952677,\n",
       " 0.32684118654969896,\n",
       " 0.32774052307965706,\n",
       " 0.3280708897175336,\n",
       " 0.32565754225884314,\n",
       " 0.3256353807072918,\n",
       " 0.326242882481164,\n",
       " 0.3256176219314143,\n",
       " 0.32586924586450744,\n",
       " 0.3253858080791359,\n",
       " 0.32469479217740344,\n",
       " 0.32514165026181846,\n",
       " 0.3230771024015685,\n",
       " 0.32371457856754526,\n",
       " 0.3230510865890562,\n",
       " 0.32261720818132444,\n",
       " 0.32451816766138464,\n",
       " 0.3231754634806535,\n",
       " 0.3221106148409949,\n",
       " 0.3230032349045792,\n",
       " 0.32274189119158514,\n",
       " 0.32133711483855476,\n",
       " 0.3221627903401644,\n",
       " 0.3213667162866948,\n",
       " 0.3205613776165732,\n",
       " 0.32090350684519975,\n",
       " 0.3202469820769427,\n",
       " 0.31941826049607597,\n",
       " 0.32052297364785926,\n",
       " 0.3210895820457335,\n",
       " 0.31912957938211534,\n",
       " 0.3198838601589331,\n",
       " 0.3200549081935615,\n",
       " 0.3191487407960482,\n",
       " 0.31890592510608856,\n",
       " 0.3187074467895244,\n",
       " 0.31888560919621345,\n",
       " 0.31927592024017126,\n",
       " 0.317642228452985,\n",
       " 0.3173735775069506,\n",
       " 0.3188204010982082,\n",
       " 0.31777584152627036,\n",
       " 0.3187503675028222,\n",
       " 0.31944885800901796,\n",
       " 0.3171106013237483,\n",
       " 0.3173243529674748,\n",
       " 0.316878735779444,\n",
       " 0.31708062971404166,\n",
       " 0.31711492456833223]"
      ]
     },
     "execution_count": 97,
     "metadata": {},
     "output_type": "execute_result"
    }
   ],
   "source": [
    "train_loss_list"
   ]
  },
  {
   "cell_type": "code",
   "execution_count": 98,
   "metadata": {},
   "outputs": [
    {
     "data": {
      "text/plain": [
       "[0.4979713657608237,\n",
       " 0.5004785625612338,\n",
       " 0.47093231866789237,\n",
       " 0.49194253781552855,\n",
       " 0.519796744219828,\n",
       " 0.5112240612518189,\n",
       " 0.5367874296749017,\n",
       " 0.5271155842738099,\n",
       " 0.5562702869570316,\n",
       " 0.5449576731507463,\n",
       " 0.5502551712338456,\n",
       " 0.5460248787043782,\n",
       " 0.5496227885563763,\n",
       " 0.5301521446275659,\n",
       " 0.5013383777781345,\n",
       " 0.5726125006440649,\n",
       " 0.5069404564914772,\n",
       " 0.5241142790381755,\n",
       " 0.5536759992157052,\n",
       " 0.5236495836689863,\n",
       " 0.562208390441071,\n",
       " 0.5328694652757936,\n",
       " 0.5110390039674351,\n",
       " 0.5259325017360651,\n",
       " 0.5130839837750194,\n",
       " 0.5427085767805493,\n",
       " 0.5218571018576,\n",
       " 0.522531116181117,\n",
       " 0.5056666295354658,\n",
       " 0.5503126649122804,\n",
       " 0.5283240668365671,\n",
       " 0.48543968774583224,\n",
       " 0.4927840633713082,\n",
       " 0.4568641164758895,\n",
       " 0.5014550718566608,\n",
       " 0.5023171068432546,\n",
       " 0.5220754845565055,\n",
       " 0.5035291482932102,\n",
       " 0.48948671747619377,\n",
       " 0.47405929963767035,\n",
       " 0.49205312407186436,\n",
       " 0.5174829944646885,\n",
       " 0.4902039236230704,\n",
       " 0.4965907715597869,\n",
       " 0.4648397102913052,\n",
       " 0.5111707911576457,\n",
       " 0.4903249725645882,\n",
       " 0.48879701379142393,\n",
       " 0.5170691538265246,\n",
       " 0.4992716641661676,\n",
       " 0.5102202700516879,\n",
       " 0.528448452494954,\n",
       " 0.5209889600841207,\n",
       " 0.5333618734965511,\n",
       " 0.5353717580583498,\n",
       " 0.5263249028154589,\n",
       " 0.4927157174430394,\n",
       " 0.5407060108108092,\n",
       " 0.527997106891263,\n",
       " 0.5081030604226414,\n",
       " 0.494438729264368,\n",
       " 0.5171554666978933,\n",
       " 0.5012503975325013,\n",
       " 0.5035982746913295,\n",
       " 0.5195637699177633,\n",
       " 0.537847427670096,\n",
       " 0.5482638568019419,\n",
       " 0.5529118486932496,\n",
       " 0.5543097296956095,\n",
       " 0.5166780684570095,\n",
       " 0.5654040807609012,\n",
       " 0.5622921520447313,\n",
       " 0.5425478844962953,\n",
       " 0.6127112426647017,\n",
       " 0.5171563821496408,\n",
       " 0.510686000952049,\n",
       " 0.5512178322386511,\n",
       " 0.534217943042026,\n",
       " 0.5452129062790642,\n",
       " 0.5563325507419419,\n",
       " 0.5304948568553006,\n",
       " 0.5551873943181301,\n",
       " 0.5232628572796458,\n",
       " 0.5497778732966303,\n",
       " 0.5589404606579584,\n",
       " 0.5311526437267308,\n",
       " 0.5246500120297184,\n",
       " 0.5825345865690488,\n",
       " 0.5724583329528005,\n",
       " 0.5343562145650822,\n",
       " 0.588205797277283,\n",
       " 0.5657832356229104,\n",
       " 0.5384230892491576,\n",
       " 0.539329697925991,\n",
       " 0.5523849531797368,\n",
       " 0.5899600689229516,\n",
       " 0.5634953156035921,\n",
       " 0.5728731868982121,\n",
       " 0.5301675397639397,\n",
       " 0.57612691868184]"
      ]
     },
     "execution_count": 98,
     "metadata": {},
     "output_type": "execute_result"
    }
   ],
   "source": [
    "valid_loss_list"
   ]
  },
  {
   "cell_type": "code",
   "execution_count": 99,
   "metadata": {},
   "outputs": [
    {
     "data": {
      "image/png": "[encoded data removed]",
      "text/plain": [
       "<Figure size 640x480 with 1 Axes>"
      ]
     },
     "metadata": {},
     "output_type": "display_data"
    }
   ],
   "source": [
    "ax = plt.subplots(1, 1)\n",
    "ax = sns.lineplot(train_loss_list)\n",
    "ax = sns.lineplot(valid_loss_list)"
   ]
  },
  {
   "cell_type": "code",
   "execution_count": 100,
   "metadata": {},
   "outputs": [],
   "source": [
    "def csi_score_class(pred, actual):\n",
    "    matrix = {i:{j:0 for j in range(1, 4+1)}for i in range(1, 4+1)}\n",
    "    df_matrix = pd.DataFrame(matrix)\n",
    "    # 길이가 같지 않으면 추론이 제대로 되지 않은 것이므로 에러 발생\n",
    "    if len(pred) != len(actual):\n",
    "        raise\n",
    "    \n",
    "    # 리스트로 들어온 pred와 actual을 순회하며 해당 class의 개수를 샘\n",
    "    # 행이 pred, 열이 actual\n",
    "    for i in range(len(pred)):\n",
    "        df_matrix[pred[i]][actual[i]] += 1\n",
    "    \n",
    "    # H, F, M 배분\n",
    "    H = df_matrix[1][1] + df_matrix[2][2] + df_matrix[3][3]\n",
    "    F = sum(df_matrix.iloc[:, :3]) - H\n",
    "    M = sum(df_matrix.iloc[:3, -1])\n",
    "    \n",
    "    return H / (H + F + M), df_matrix, (H, F, M)"
   ]
  },
  {
   "cell_type": "code",
   "execution_count": 101,
   "metadata": {},
   "outputs": [
    {
     "data": {
      "text/html": [
       "<div>\n",
       "<style scoped>\n",
       "    .dataframe tbody tr th:only-of-type {\n",
       "        vertical-align: middle;\n",
       "    }\n",
       "\n",
       "    .dataframe tbody tr th {\n",
       "        vertical-align: top;\n",
       "    }\n",
       "\n",
       "    .dataframe thead th {\n",
       "        text-align: right;\n",
       "    }\n",
       "</style>\n",
       "<table border=\"1\" class=\"dataframe\">\n",
       "  <thead>\n",
       "    <tr style=\"text-align: right;\">\n",
       "      <th></th>\n",
       "      <th>actual</th>\n",
       "      <th>pred</th>\n",
       "    </tr>\n",
       "  </thead>\n",
       "  <tbody>\n",
       "    <tr>\n",
       "      <th>0</th>\n",
       "      <td>4</td>\n",
       "      <td>4</td>\n",
       "    </tr>\n",
       "    <tr>\n",
       "      <th>1</th>\n",
       "      <td>4</td>\n",
       "      <td>4</td>\n",
       "    </tr>\n",
       "    <tr>\n",
       "      <th>2</th>\n",
       "      <td>4</td>\n",
       "      <td>4</td>\n",
       "    </tr>\n",
       "    <tr>\n",
       "      <th>3</th>\n",
       "      <td>4</td>\n",
       "      <td>4</td>\n",
       "    </tr>\n",
       "    <tr>\n",
       "      <th>4</th>\n",
       "      <td>4</td>\n",
       "      <td>4</td>\n",
       "    </tr>\n",
       "    <tr>\n",
       "      <th>...</th>\n",
       "      <td>...</td>\n",
       "      <td>...</td>\n",
       "    </tr>\n",
       "    <tr>\n",
       "      <th>1051195</th>\n",
       "      <td>4</td>\n",
       "      <td>4</td>\n",
       "    </tr>\n",
       "    <tr>\n",
       "      <th>1051196</th>\n",
       "      <td>4</td>\n",
       "      <td>4</td>\n",
       "    </tr>\n",
       "    <tr>\n",
       "      <th>1051197</th>\n",
       "      <td>4</td>\n",
       "      <td>4</td>\n",
       "    </tr>\n",
       "    <tr>\n",
       "      <th>1051198</th>\n",
       "      <td>4</td>\n",
       "      <td>4</td>\n",
       "    </tr>\n",
       "    <tr>\n",
       "      <th>1051199</th>\n",
       "      <td>4</td>\n",
       "      <td>4</td>\n",
       "    </tr>\n",
       "  </tbody>\n",
       "</table>\n",
       "<p>1051200 rows × 2 columns</p>\n",
       "</div>"
      ],
      "text/plain": [
       "         actual  pred\n",
       "0             4     4\n",
       "1             4     4\n",
       "2             4     4\n",
       "3             4     4\n",
       "4             4     4\n",
       "...         ...   ...\n",
       "1051195       4     4\n",
       "1051196       4     4\n",
       "1051197       4     4\n",
       "1051198       4     4\n",
       "1051199       4     4\n",
       "\n",
       "[1051200 rows x 2 columns]"
      ]
     },
     "execution_count": 101,
     "metadata": {},
     "output_type": "execute_result"
    }
   ],
   "source": [
    "epoch_data_list[-1]"
   ]
  },
  {
   "cell_type": "code",
   "execution_count": 102,
   "metadata": {},
   "outputs": [
    {
     "data": {
      "application/vnd.jupyter.widget-view+json": {
       "model_id": "93bd52d5878a4256ac38a2992522fcb6",
       "version_major": 2,
       "version_minor": 0
      },
      "text/plain": [
       "  0%|          | 0/100 [00:00<?, ?it/s]"
      ]
     },
     "metadata": {},
     "output_type": "display_data"
    },
    {
     "ename": "KeyboardInterrupt",
     "evalue": "",
     "output_type": "error",
     "traceback": [
      "\u001b[0;31m---------------------------------------------------------------------------\u001b[0m",
      "\u001b[0;31mKeyboardInterrupt\u001b[0m                         Traceback (most recent call last)",
      "Cell \u001b[0;32mIn[102], line 3\u001b[0m\n\u001b[1;32m      1\u001b[0m score_list \u001b[38;5;241m=\u001b[39m []\n\u001b[1;32m      2\u001b[0m \u001b[38;5;28;01mfor\u001b[39;00m df \u001b[38;5;129;01min\u001b[39;00m tqdm(epoch_data_list):\n\u001b[0;32m----> 3\u001b[0m     score, _, _ \u001b[38;5;241m=\u001b[39m \u001b[43mcsi_score_class\u001b[49m\u001b[43m(\u001b[49m\u001b[43mdf\u001b[49m\u001b[38;5;241;43m.\u001b[39;49m\u001b[43mreset_index\u001b[49m\u001b[43m(\u001b[49m\u001b[43mdrop\u001b[49m\u001b[38;5;241;43m=\u001b[39;49m\u001b[38;5;28;43;01mTrue\u001b[39;49;00m\u001b[43m)\u001b[49m\u001b[43m[\u001b[49m\u001b[38;5;124;43m\"\u001b[39;49m\u001b[38;5;124;43mpred\u001b[39;49m\u001b[38;5;124;43m\"\u001b[39;49m\u001b[43m]\u001b[49m\u001b[43m,\u001b[49m\u001b[43m \u001b[49m\u001b[43mdf\u001b[49m\u001b[38;5;241;43m.\u001b[39;49m\u001b[43mreset_index\u001b[49m\u001b[43m(\u001b[49m\u001b[43mdrop\u001b[49m\u001b[38;5;241;43m=\u001b[39;49m\u001b[38;5;28;43;01mTrue\u001b[39;49;00m\u001b[43m)\u001b[49m\u001b[43m[\u001b[49m\u001b[38;5;124;43m\"\u001b[39;49m\u001b[38;5;124;43mactual\u001b[39;49m\u001b[38;5;124;43m\"\u001b[39;49m\u001b[43m]\u001b[49m\u001b[43m)\u001b[49m\n\u001b[1;32m      4\u001b[0m     score_list\u001b[38;5;241m.\u001b[39mappend(score)\n",
      "Cell \u001b[0;32mIn[100], line 11\u001b[0m, in \u001b[0;36mcsi_score_class\u001b[0;34m(pred, actual)\u001b[0m\n\u001b[1;32m      8\u001b[0m \u001b[38;5;66;03m# 리스트로 들어온 pred와 actual을 순회하며 해당 class의 개수를 샘\u001b[39;00m\n\u001b[1;32m      9\u001b[0m \u001b[38;5;66;03m# 행이 pred, 열이 actual\u001b[39;00m\n\u001b[1;32m     10\u001b[0m \u001b[38;5;28;01mfor\u001b[39;00m i \u001b[38;5;129;01min\u001b[39;00m \u001b[38;5;28mrange\u001b[39m(\u001b[38;5;28mlen\u001b[39m(pred)):\n\u001b[0;32m---> 11\u001b[0m     \u001b[43mdf_matrix\u001b[49m\u001b[43m[\u001b[49m\u001b[43mpred\u001b[49m\u001b[43m[\u001b[49m\u001b[43mi\u001b[49m\u001b[43m]\u001b[49m\u001b[43m]\u001b[49m\u001b[43m[\u001b[49m\u001b[43mactual\u001b[49m\u001b[43m[\u001b[49m\u001b[43mi\u001b[49m\u001b[43m]\u001b[49m\u001b[43m]\u001b[49m \u001b[38;5;241m+\u001b[39m\u001b[38;5;241m=\u001b[39m \u001b[38;5;241m1\u001b[39m\n\u001b[1;32m     13\u001b[0m \u001b[38;5;66;03m# H, F, M 배분\u001b[39;00m\n\u001b[1;32m     14\u001b[0m H \u001b[38;5;241m=\u001b[39m df_matrix[\u001b[38;5;241m1\u001b[39m][\u001b[38;5;241m1\u001b[39m] \u001b[38;5;241m+\u001b[39m df_matrix[\u001b[38;5;241m2\u001b[39m][\u001b[38;5;241m2\u001b[39m] \u001b[38;5;241m+\u001b[39m df_matrix[\u001b[38;5;241m3\u001b[39m][\u001b[38;5;241m3\u001b[39m]\n",
      "File \u001b[0;32m/opt/homebrew/anaconda3/envs/anomaly/lib/python3.9/site-packages/pandas/core/series.py:1268\u001b[0m, in \u001b[0;36mSeries.__setitem__\u001b[0;34m(self, key, value)\u001b[0m\n\u001b[1;32m   1265\u001b[0m         \u001b[38;5;28mself\u001b[39m\u001b[38;5;241m.\u001b[39m_set_with(key, value)\n\u001b[1;32m   1267\u001b[0m \u001b[38;5;28;01mif\u001b[39;00m cacher_needs_updating:\n\u001b[0;32m-> 1268\u001b[0m     \u001b[38;5;28;43mself\u001b[39;49m\u001b[38;5;241;43m.\u001b[39;49m\u001b[43m_maybe_update_cacher\u001b[49m\u001b[43m(\u001b[49m\u001b[43minplace\u001b[49m\u001b[38;5;241;43m=\u001b[39;49m\u001b[38;5;28;43;01mTrue\u001b[39;49;00m\u001b[43m)\u001b[49m\n",
      "File \u001b[0;32m/opt/homebrew/anaconda3/envs/anomaly/lib/python3.9/site-packages/pandas/core/series.py:1418\u001b[0m, in \u001b[0;36mSeries._maybe_update_cacher\u001b[0;34m(self, clear, verify_is_copy, inplace)\u001b[0m\n\u001b[1;32m   1413\u001b[0m     \u001b[38;5;28;01mdel\u001b[39;00m \u001b[38;5;28mself\u001b[39m\u001b[38;5;241m.\u001b[39m_cacher\n\u001b[1;32m   1414\u001b[0m \u001b[38;5;28;01melif\u001b[39;00m \u001b[38;5;28mlen\u001b[39m(\u001b[38;5;28mself\u001b[39m) \u001b[38;5;241m==\u001b[39m \u001b[38;5;28mlen\u001b[39m(ref) \u001b[38;5;129;01mand\u001b[39;00m \u001b[38;5;28mself\u001b[39m\u001b[38;5;241m.\u001b[39mname \u001b[38;5;129;01min\u001b[39;00m ref\u001b[38;5;241m.\u001b[39mcolumns:\n\u001b[1;32m   1415\u001b[0m     \u001b[38;5;66;03m# GH#42530 self.name must be in ref.columns\u001b[39;00m\n\u001b[1;32m   1416\u001b[0m     \u001b[38;5;66;03m# to ensure column still in dataframe\u001b[39;00m\n\u001b[1;32m   1417\u001b[0m     \u001b[38;5;66;03m# otherwise, either self or ref has swapped in new arrays\u001b[39;00m\n\u001b[0;32m-> 1418\u001b[0m     \u001b[43mref\u001b[49m\u001b[38;5;241;43m.\u001b[39;49m\u001b[43m_maybe_cache_changed\u001b[49m\u001b[43m(\u001b[49m\u001b[43mcacher\u001b[49m\u001b[43m[\u001b[49m\u001b[38;5;241;43m0\u001b[39;49m\u001b[43m]\u001b[49m\u001b[43m,\u001b[49m\u001b[43m \u001b[49m\u001b[38;5;28;43mself\u001b[39;49m\u001b[43m,\u001b[49m\u001b[43m \u001b[49m\u001b[43minplace\u001b[49m\u001b[38;5;241;43m=\u001b[39;49m\u001b[43minplace\u001b[49m\u001b[43m)\u001b[49m\n\u001b[1;32m   1419\u001b[0m \u001b[38;5;28;01melse\u001b[39;00m:\n\u001b[1;32m   1420\u001b[0m     \u001b[38;5;66;03m# GH#33675 we have swapped in a new array, so parent\u001b[39;00m\n\u001b[1;32m   1421\u001b[0m     \u001b[38;5;66;03m#  reference to self is now invalid\u001b[39;00m\n\u001b[1;32m   1422\u001b[0m     ref\u001b[38;5;241m.\u001b[39m_item_cache\u001b[38;5;241m.\u001b[39mpop(cacher[\u001b[38;5;241m0\u001b[39m], \u001b[38;5;28;01mNone\u001b[39;00m)\n",
      "File \u001b[0;32m/opt/homebrew/anaconda3/envs/anomaly/lib/python3.9/site-packages/pandas/core/frame.py:4439\u001b[0m, in \u001b[0;36mDataFrame._maybe_cache_changed\u001b[0;34m(self, item, value, inplace)\u001b[0m\n\u001b[1;32m   4435\u001b[0m \u001b[38;5;28;01mif\u001b[39;00m old\u001b[38;5;241m.\u001b[39m_values \u001b[38;5;129;01mis\u001b[39;00m value\u001b[38;5;241m.\u001b[39m_values \u001b[38;5;129;01mand\u001b[39;00m inplace:\n\u001b[1;32m   4436\u001b[0m     \u001b[38;5;66;03m# GH#46149 avoid making unnecessary copies/block-splitting\u001b[39;00m\n\u001b[1;32m   4437\u001b[0m     \u001b[38;5;28;01mreturn\u001b[39;00m\n\u001b[0;32m-> 4439\u001b[0m \u001b[38;5;28;43mself\u001b[39;49m\u001b[38;5;241;43m.\u001b[39;49m\u001b[43m_mgr\u001b[49m\u001b[38;5;241;43m.\u001b[39;49m\u001b[43miset\u001b[49m\u001b[43m(\u001b[49m\u001b[43mloc\u001b[49m\u001b[43m,\u001b[49m\u001b[43m \u001b[49m\u001b[43marraylike\u001b[49m\u001b[43m,\u001b[49m\u001b[43m \u001b[49m\u001b[43minplace\u001b[49m\u001b[38;5;241;43m=\u001b[39;49m\u001b[43minplace\u001b[49m\u001b[43m)\u001b[49m\n",
      "File \u001b[0;32m/opt/homebrew/anaconda3/envs/anomaly/lib/python3.9/site-packages/pandas/core/internals/managers.py:1127\u001b[0m, in \u001b[0;36mBlockManager.iset\u001b[0;34m(self, loc, value, inplace, refs)\u001b[0m\n\u001b[1;32m   1123\u001b[0m         \u001b[38;5;28mself\u001b[39m\u001b[38;5;241m.\u001b[39m_iset_split_block(\n\u001b[1;32m   1124\u001b[0m             blkno_l, blk_locs, value_getitem(val_locs), refs\u001b[38;5;241m=\u001b[39mrefs\n\u001b[1;32m   1125\u001b[0m         )\n\u001b[1;32m   1126\u001b[0m     \u001b[38;5;28;01melse\u001b[39;00m:\n\u001b[0;32m-> 1127\u001b[0m         \u001b[43mblk\u001b[49m\u001b[38;5;241;43m.\u001b[39;49m\u001b[43mset_inplace\u001b[49m\u001b[43m(\u001b[49m\u001b[43mblk_locs\u001b[49m\u001b[43m,\u001b[49m\u001b[43m \u001b[49m\u001b[43mvalue_getitem\u001b[49m\u001b[43m(\u001b[49m\u001b[43mval_locs\u001b[49m\u001b[43m)\u001b[49m\u001b[43m)\u001b[49m\n\u001b[1;32m   1128\u001b[0m         \u001b[38;5;28;01mcontinue\u001b[39;00m\n\u001b[1;32m   1129\u001b[0m \u001b[38;5;28;01melse\u001b[39;00m:\n",
      "File \u001b[0;32m/opt/homebrew/anaconda3/envs/anomaly/lib/python3.9/site-packages/pandas/core/internals/blocks.py:1039\u001b[0m, in \u001b[0;36mBlock.set_inplace\u001b[0;34m(self, locs, values, copy)\u001b[0m\n\u001b[1;32m   1037\u001b[0m \u001b[38;5;28;01mif\u001b[39;00m copy:\n\u001b[1;32m   1038\u001b[0m     \u001b[38;5;28mself\u001b[39m\u001b[38;5;241m.\u001b[39mvalues \u001b[38;5;241m=\u001b[39m \u001b[38;5;28mself\u001b[39m\u001b[38;5;241m.\u001b[39mvalues\u001b[38;5;241m.\u001b[39mcopy()\n\u001b[0;32m-> 1039\u001b[0m \u001b[38;5;28;43mself\u001b[39;49m\u001b[38;5;241;43m.\u001b[39;49m\u001b[43mvalues\u001b[49m\u001b[43m[\u001b[49m\u001b[43mlocs\u001b[49m\u001b[43m]\u001b[49m \u001b[38;5;241m=\u001b[39m values\n",
      "\u001b[0;31mKeyboardInterrupt\u001b[0m: "
     ]
    }
   ],
   "source": [
    "score_list = []\n",
    "for df in tqdm(epoch_data_list):\n",
    "    score, _, _ = csi_score_class(df.reset_index(drop=True)[\"pred\"], df.reset_index(drop=True)[\"actual\"])\n",
    "    score_list.append(score)"
   ]
  },
  {
   "cell_type": "code",
   "execution_count": null,
   "metadata": {},
   "outputs": [],
   "source": [
    "score, csi_df, _ = csi_score_class(epoch_data_list[-1].reset_index(drop=True)[\"pred\"], epoch_data_list[-1].reset_index(drop=True)[\"actual\"])"
   ]
  },
  {
   "cell_type": "code",
   "execution_count": 104,
   "metadata": {},
   "outputs": [
    {
     "data": {
      "text/plain": [
       "0.0002462144527883787"
      ]
     },
     "execution_count": 104,
     "metadata": {},
     "output_type": "execute_result"
    }
   ],
   "source": [
    "score"
   ]
  },
  {
   "cell_type": "code",
   "execution_count": 105,
   "metadata": {},
   "outputs": [
    {
     "data": {
      "text/html": [
       "<div>\n",
       "<style scoped>\n",
       "    .dataframe tbody tr th:only-of-type {\n",
       "        vertical-align: middle;\n",
       "    }\n",
       "\n",
       "    .dataframe tbody tr th {\n",
       "        vertical-align: top;\n",
       "    }\n",
       "\n",
       "    .dataframe thead th {\n",
       "        text-align: right;\n",
       "    }\n",
       "</style>\n",
       "<table border=\"1\" class=\"dataframe\">\n",
       "  <thead>\n",
       "    <tr style=\"text-align: right;\">\n",
       "      <th></th>\n",
       "      <th>1</th>\n",
       "      <th>2</th>\n",
       "      <th>3</th>\n",
       "      <th>4</th>\n",
       "    </tr>\n",
       "  </thead>\n",
       "  <tbody>\n",
       "    <tr>\n",
       "      <th>1</th>\n",
       "      <td>22</td>\n",
       "      <td>0</td>\n",
       "      <td>0</td>\n",
       "      <td>1895</td>\n",
       "    </tr>\n",
       "    <tr>\n",
       "      <th>2</th>\n",
       "      <td>50</td>\n",
       "      <td>0</td>\n",
       "      <td>1</td>\n",
       "      <td>3161</td>\n",
       "    </tr>\n",
       "    <tr>\n",
       "      <th>3</th>\n",
       "      <td>21</td>\n",
       "      <td>0</td>\n",
       "      <td>1</td>\n",
       "      <td>2972</td>\n",
       "    </tr>\n",
       "    <tr>\n",
       "      <th>4</th>\n",
       "      <td>174</td>\n",
       "      <td>0</td>\n",
       "      <td>110</td>\n",
       "      <td>1042793</td>\n",
       "    </tr>\n",
       "  </tbody>\n",
       "</table>\n",
       "</div>"
      ],
      "text/plain": [
       "     1  2    3        4\n",
       "1   22  0    0     1895\n",
       "2   50  0    1     3161\n",
       "3   21  0    1     2972\n",
       "4  174  0  110  1042793"
      ]
     },
     "execution_count": 105,
     "metadata": {},
     "output_type": "execute_result"
    }
   ],
   "source": [
    "csi_df"
   ]
  },
  {
   "cell_type": "code",
   "execution_count": 42,
   "metadata": {},
   "outputs": [],
   "source": [
    "# torch.save(model, \"VanillaLSTM.pt\")"
   ]
  },
  {
   "cell_type": "code",
   "execution_count": 203,
   "metadata": {},
   "outputs": [],
   "source": [
    "# # 커널 재실행 시 모델 불러오기\n",
    "# import torch\n",
    "\n",
    "# model = torch.load(\"VanillaLSTM.pt\")\n"
   ]
  },
  {
   "cell_type": "code",
   "execution_count": 218,
   "metadata": {},
   "outputs": [
    {
     "data": {
      "application/vnd.jupyter.widget-view+json": {
       "model_id": "114e5046f7c14dd2a16e243ce49bf6a8",
       "version_major": 2,
       "version_minor": 0
      },
      "text/plain": [
       "validation:   0%|          | 0/7300 [00:00<?, ?it/s]"
      ]
     },
     "metadata": {},
     "output_type": "display_data"
    }
   ],
   "source": [
    "# Validation 검증\n",
    "from tqdm.auto import tqdm\n",
    "\n",
    "model.eval()\n",
    "with torch.no_grad():\n",
    "    valid = []\n",
    "    valid_label = []\n",
    "    running_loss = 0.0\n",
    "    n = len(valid_data_loader)\n",
    "    valid_iterator = tqdm(enumerate(valid_data_loader), total=n, desc=f\"validation\")\n",
    "    for _, batch_data in valid_iterator:\n",
    "        X, y = batch_data\n",
    "        y = y.long() - 1\n",
    "        valid_pred = model(X)\n",
    "        loss = criterion(valid_pred, y) # output과 y 데이터로 loss 구하기\n",
    "        valid.append(np.array(valid_pred))\n",
    "        valid_label.append(torch.argmax(valid_pred, dim=1) + 1)\n",
    "        running_loss += loss.item() # 한 배치의 loss 더하기 (추후 평균 loss를 구하기 위함)\n",
    "        train_iterator.set_postfix({\n",
    "            'valid_loss' : format(loss, 'f')\n",
    "        })\n",
    "    valid = np.array(valid).reshape(-1, 4).squeeze()\n",
    "    valid_label = np.array(valid_label).flatten()\n",
    "    y_valid = train.query(\"년도=='K'\")[\"시정구간\"].reset_index(drop=True)\n",
    "    \n",
    "    valid_df = pd.DataFrame({\"actual\" : y_valid,\n",
    "                             \"pred\" : valid_label})\n",
    "    \n",
    "    # loss\n",
    "    loss_list.append(running_loss / n) # 평균 loss"
   ]
  },
  {
   "cell_type": "code",
   "execution_count": 225,
   "metadata": {},
   "outputs": [],
   "source": [
    "score, csi_df, _ = csi_score_class(valid_df[\"pred\"], valid_df[\"actual\"])"
   ]
  },
  {
   "cell_type": "code",
   "execution_count": 226,
   "metadata": {},
   "outputs": [
    {
     "data": {
      "text/plain": [
       "0.0"
      ]
     },
     "execution_count": 226,
     "metadata": {},
     "output_type": "execute_result"
    }
   ],
   "source": [
    "score"
   ]
  },
  {
   "cell_type": "code",
   "execution_count": 227,
   "metadata": {},
   "outputs": [
    {
     "data": {
      "text/html": [
       "<div>\n",
       "<style scoped>\n",
       "    .dataframe tbody tr th:only-of-type {\n",
       "        vertical-align: middle;\n",
       "    }\n",
       "\n",
       "    .dataframe tbody tr th {\n",
       "        vertical-align: top;\n",
       "    }\n",
       "\n",
       "    .dataframe thead th {\n",
       "        text-align: right;\n",
       "    }\n",
       "</style>\n",
       "<table border=\"1\" class=\"dataframe\">\n",
       "  <thead>\n",
       "    <tr style=\"text-align: right;\">\n",
       "      <th></th>\n",
       "      <th>1</th>\n",
       "      <th>2</th>\n",
       "      <th>3</th>\n",
       "      <th>4</th>\n",
       "    </tr>\n",
       "  </thead>\n",
       "  <tbody>\n",
       "    <tr>\n",
       "      <th>1</th>\n",
       "      <td>0</td>\n",
       "      <td>0</td>\n",
       "      <td>0</td>\n",
       "      <td>1917</td>\n",
       "    </tr>\n",
       "    <tr>\n",
       "      <th>2</th>\n",
       "      <td>0</td>\n",
       "      <td>0</td>\n",
       "      <td>0</td>\n",
       "      <td>3212</td>\n",
       "    </tr>\n",
       "    <tr>\n",
       "      <th>3</th>\n",
       "      <td>0</td>\n",
       "      <td>0</td>\n",
       "      <td>0</td>\n",
       "      <td>2994</td>\n",
       "    </tr>\n",
       "    <tr>\n",
       "      <th>4</th>\n",
       "      <td>0</td>\n",
       "      <td>0</td>\n",
       "      <td>0</td>\n",
       "      <td>1043077</td>\n",
       "    </tr>\n",
       "  </tbody>\n",
       "</table>\n",
       "</div>"
      ],
      "text/plain": [
       "   1  2  3        4\n",
       "1  0  0  0     1917\n",
       "2  0  0  0     3212\n",
       "3  0  0  0     2994\n",
       "4  0  0  0  1043077"
      ]
     },
     "execution_count": 227,
     "metadata": {},
     "output_type": "execute_result"
    }
   ],
   "source": [
    "# 행 index가 정답, 열 index가 예측\n",
    "csi_df"
   ]
  },
  {
   "cell_type": "code",
   "execution_count": 56,
   "metadata": {},
   "outputs": [
    {
     "data": {
      "text/plain": [
       "<Axes: ylabel='loss'>"
      ]
     },
     "execution_count": 56,
     "metadata": {},
     "output_type": "execute_result"
    },
    {
     "data": {
      "image/png": "[encoded data removed]",
      "text/plain": [
       "<Figure size 640x480 with 1 Axes>"
      ]
     },
     "metadata": {},
     "output_type": "display_data"
    }
   ],
   "source": [
    "sns.lineplot(valid_df[\"loss\"].astype(float))"
   ]
  },
  {
   "cell_type": "code",
   "execution_count": 204,
   "metadata": {},
   "outputs": [
    {
     "data": {
      "text/html": [
       "<style>#sk-container-id-7 {\n",
       "  /* Definition of color scheme common for light and dark mode */\n",
       "  --sklearn-color-text: black;\n",
       "  --sklearn-color-line: gray;\n",
       "  /* Definition of color scheme for unfitted estimators */\n",
       "  --sklearn-color-unfitted-level-0: #fff5e6;\n",
       "  --sklearn-color-unfitted-level-1: #f6e4d2;\n",
       "  --sklearn-color-unfitted-level-2: #ffe0b3;\n",
       "  --sklearn-color-unfitted-level-3: chocolate;\n",
       "  /* Definition of color scheme for fitted estimators */\n",
       "  --sklearn-color-fitted-level-0: #f0f8ff;\n",
       "  --sklearn-color-fitted-level-1: #d4ebff;\n",
       "  --sklearn-color-fitted-level-2: #b3dbfd;\n",
       "  --sklearn-color-fitted-level-3: cornflowerblue;\n",
       "\n",
       "  /* Specific color for light theme */\n",
       "  --sklearn-color-text-on-default-background: var(--sg-text-color, var(--theme-code-foreground, var(--jp-content-font-color1, black)));\n",
       "  --sklearn-color-background: var(--sg-background-color, var(--theme-background, var(--jp-layout-color0, white)));\n",
       "  --sklearn-color-border-box: var(--sg-text-color, var(--theme-code-foreground, var(--jp-content-font-color1, black)));\n",
       "  --sklearn-color-icon: #696969;\n",
       "\n",
       "  @media (prefers-color-scheme: dark) {\n",
       "    /* Redefinition of color scheme for dark theme */\n",
       "    --sklearn-color-text-on-default-background: var(--sg-text-color, var(--theme-code-foreground, var(--jp-content-font-color1, white)));\n",
       "    --sklearn-color-background: var(--sg-background-color, var(--theme-background, var(--jp-layout-color0, #111)));\n",
       "    --sklearn-color-border-box: var(--sg-text-color, var(--theme-code-foreground, var(--jp-content-font-color1, white)));\n",
       "    --sklearn-color-icon: #878787;\n",
       "  }\n",
       "}\n",
       "\n",
       "#sk-container-id-7 {\n",
       "  color: var(--sklearn-color-text);\n",
       "}\n",
       "\n",
       "#sk-container-id-7 pre {\n",
       "  padding: 0;\n",
       "}\n",
       "\n",
       "#sk-container-id-7 input.sk-hidden--visually {\n",
       "  border: 0;\n",
       "  clip: rect(1px 1px 1px 1px);\n",
       "  clip: rect(1px, 1px, 1px, 1px);\n",
       "  height: 1px;\n",
       "  margin: -1px;\n",
       "  overflow: hidden;\n",
       "  padding: 0;\n",
       "  position: absolute;\n",
       "  width: 1px;\n",
       "}\n",
       "\n",
       "#sk-container-id-7 div.sk-dashed-wrapped {\n",
       "  border: 1px dashed var(--sklearn-color-line);\n",
       "  margin: 0 0.4em 0.5em 0.4em;\n",
       "  box-sizing: border-box;\n",
       "  padding-bottom: 0.4em;\n",
       "  background-color: var(--sklearn-color-background);\n",
       "}\n",
       "\n",
       "#sk-container-id-7 div.sk-container {\n",
       "  /* jupyter's `normalize.less` sets `[hidden] { display: none; }`\n",
       "     but bootstrap.min.css set `[hidden] { display: none !important; }`\n",
       "     so we also need the `!important` here to be able to override the\n",
       "     default hidden behavior on the sphinx rendered scikit-learn.org.\n",
       "     See: https://github.com/scikit-learn/scikit-learn/issues/21755 */\n",
       "  display: inline-block !important;\n",
       "  position: relative;\n",
       "}\n",
       "\n",
       "#sk-container-id-7 div.sk-text-repr-fallback {\n",
       "  display: none;\n",
       "}\n",
       "\n",
       "div.sk-parallel-item,\n",
       "div.sk-serial,\n",
       "div.sk-item {\n",
       "  /* draw centered vertical line to link estimators */\n",
       "  background-image: linear-gradient(var(--sklearn-color-text-on-default-background), var(--sklearn-color-text-on-default-background));\n",
       "  background-size: 2px 100%;\n",
       "  background-repeat: no-repeat;\n",
       "  background-position: center center;\n",
       "}\n",
       "\n",
       "/* Parallel-specific style estimator block */\n",
       "\n",
       "#sk-container-id-7 div.sk-parallel-item::after {\n",
       "  content: \"\";\n",
       "  width: 100%;\n",
       "  border-bottom: 2px solid var(--sklearn-color-text-on-default-background);\n",
       "  flex-grow: 1;\n",
       "}\n",
       "\n",
       "#sk-container-id-7 div.sk-parallel {\n",
       "  display: flex;\n",
       "  align-items: stretch;\n",
       "  justify-content: center;\n",
       "  background-color: var(--sklearn-color-background);\n",
       "  position: relative;\n",
       "}\n",
       "\n",
       "#sk-container-id-7 div.sk-parallel-item {\n",
       "  display: flex;\n",
       "  flex-direction: column;\n",
       "}\n",
       "\n",
       "#sk-container-id-7 div.sk-parallel-item:first-child::after {\n",
       "  align-self: flex-end;\n",
       "  width: 50%;\n",
       "}\n",
       "\n",
       "#sk-container-id-7 div.sk-parallel-item:last-child::after {\n",
       "  align-self: flex-start;\n",
       "  width: 50%;\n",
       "}\n",
       "\n",
       "#sk-container-id-7 div.sk-parallel-item:only-child::after {\n",
       "  width: 0;\n",
       "}\n",
       "\n",
       "/* Serial-specific style estimator block */\n",
       "\n",
       "#sk-container-id-7 div.sk-serial {\n",
       "  display: flex;\n",
       "  flex-direction: column;\n",
       "  align-items: center;\n",
       "  background-color: var(--sklearn-color-background);\n",
       "  padding-right: 1em;\n",
       "  padding-left: 1em;\n",
       "}\n",
       "\n",
       "\n",
       "/* Toggleable style: style used for estimator/Pipeline/ColumnTransformer box that is\n",
       "clickable and can be expanded/collapsed.\n",
       "- Pipeline and ColumnTransformer use this feature and define the default style\n",
       "- Estimators will overwrite some part of the style using the `sk-estimator` class\n",
       "*/\n",
       "\n",
       "/* Pipeline and ColumnTransformer style (default) */\n",
       "\n",
       "#sk-container-id-7 div.sk-toggleable {\n",
       "  /* Default theme specific background. It is overwritten whether we have a\n",
       "  specific estimator or a Pipeline/ColumnTransformer */\n",
       "  background-color: var(--sklearn-color-background);\n",
       "}\n",
       "\n",
       "/* Toggleable label */\n",
       "#sk-container-id-7 label.sk-toggleable__label {\n",
       "  cursor: pointer;\n",
       "  display: block;\n",
       "  width: 100%;\n",
       "  margin-bottom: 0;\n",
       "  padding: 0.5em;\n",
       "  box-sizing: border-box;\n",
       "  text-align: center;\n",
       "}\n",
       "\n",
       "#sk-container-id-7 label.sk-toggleable__label-arrow:before {\n",
       "  /* Arrow on the left of the label */\n",
       "  content: \"▸\";\n",
       "  float: left;\n",
       "  margin-right: 0.25em;\n",
       "  color: var(--sklearn-color-icon);\n",
       "}\n",
       "\n",
       "#sk-container-id-7 label.sk-toggleable__label-arrow:hover:before {\n",
       "  color: var(--sklearn-color-text);\n",
       "}\n",
       "\n",
       "/* Toggleable content - dropdown */\n",
       "\n",
       "#sk-container-id-7 div.sk-toggleable__content {\n",
       "  max-height: 0;\n",
       "  max-width: 0;\n",
       "  overflow: hidden;\n",
       "  text-align: left;\n",
       "  /* unfitted */\n",
       "  background-color: var(--sklearn-color-unfitted-level-0);\n",
       "}\n",
       "\n",
       "#sk-container-id-7 div.sk-toggleable__content.fitted {\n",
       "  /* fitted */\n",
       "  background-color: var(--sklearn-color-fitted-level-0);\n",
       "}\n",
       "\n",
       "#sk-container-id-7 div.sk-toggleable__content pre {\n",
       "  margin: 0.2em;\n",
       "  border-radius: 0.25em;\n",
       "  color: var(--sklearn-color-text);\n",
       "  /* unfitted */\n",
       "  background-color: var(--sklearn-color-unfitted-level-0);\n",
       "}\n",
       "\n",
       "#sk-container-id-7 div.sk-toggleable__content.fitted pre {\n",
       "  /* unfitted */\n",
       "  background-color: var(--sklearn-color-fitted-level-0);\n",
       "}\n",
       "\n",
       "#sk-container-id-7 input.sk-toggleable__control:checked~div.sk-toggleable__content {\n",
       "  /* Expand drop-down */\n",
       "  max-height: 200px;\n",
       "  max-width: 100%;\n",
       "  overflow: auto;\n",
       "}\n",
       "\n",
       "#sk-container-id-7 input.sk-toggleable__control:checked~label.sk-toggleable__label-arrow:before {\n",
       "  content: \"▾\";\n",
       "}\n",
       "\n",
       "/* Pipeline/ColumnTransformer-specific style */\n",
       "\n",
       "#sk-container-id-7 div.sk-label input.sk-toggleable__control:checked~label.sk-toggleable__label {\n",
       "  color: var(--sklearn-color-text);\n",
       "  background-color: var(--sklearn-color-unfitted-level-2);\n",
       "}\n",
       "\n",
       "#sk-container-id-7 div.sk-label.fitted input.sk-toggleable__control:checked~label.sk-toggleable__label {\n",
       "  background-color: var(--sklearn-color-fitted-level-2);\n",
       "}\n",
       "\n",
       "/* Estimator-specific style */\n",
       "\n",
       "/* Colorize estimator box */\n",
       "#sk-container-id-7 div.sk-estimator input.sk-toggleable__control:checked~label.sk-toggleable__label {\n",
       "  /* unfitted */\n",
       "  background-color: var(--sklearn-color-unfitted-level-2);\n",
       "}\n",
       "\n",
       "#sk-container-id-7 div.sk-estimator.fitted input.sk-toggleable__control:checked~label.sk-toggleable__label {\n",
       "  /* fitted */\n",
       "  background-color: var(--sklearn-color-fitted-level-2);\n",
       "}\n",
       "\n",
       "#sk-container-id-7 div.sk-label label.sk-toggleable__label,\n",
       "#sk-container-id-7 div.sk-label label {\n",
       "  /* The background is the default theme color */\n",
       "  color: var(--sklearn-color-text-on-default-background);\n",
       "}\n",
       "\n",
       "/* On hover, darken the color of the background */\n",
       "#sk-container-id-7 div.sk-label:hover label.sk-toggleable__label {\n",
       "  color: var(--sklearn-color-text);\n",
       "  background-color: var(--sklearn-color-unfitted-level-2);\n",
       "}\n",
       "\n",
       "/* Label box, darken color on hover, fitted */\n",
       "#sk-container-id-7 div.sk-label.fitted:hover label.sk-toggleable__label.fitted {\n",
       "  color: var(--sklearn-color-text);\n",
       "  background-color: var(--sklearn-color-fitted-level-2);\n",
       "}\n",
       "\n",
       "/* Estimator label */\n",
       "\n",
       "#sk-container-id-7 div.sk-label label {\n",
       "  font-family: monospace;\n",
       "  font-weight: bold;\n",
       "  display: inline-block;\n",
       "  line-height: 1.2em;\n",
       "}\n",
       "\n",
       "#sk-container-id-7 div.sk-label-container {\n",
       "  text-align: center;\n",
       "}\n",
       "\n",
       "/* Estimator-specific */\n",
       "#sk-container-id-7 div.sk-estimator {\n",
       "  font-family: monospace;\n",
       "  border: 1px dotted var(--sklearn-color-border-box);\n",
       "  border-radius: 0.25em;\n",
       "  box-sizing: border-box;\n",
       "  margin-bottom: 0.5em;\n",
       "  /* unfitted */\n",
       "  background-color: var(--sklearn-color-unfitted-level-0);\n",
       "}\n",
       "\n",
       "#sk-container-id-7 div.sk-estimator.fitted {\n",
       "  /* fitted */\n",
       "  background-color: var(--sklearn-color-fitted-level-0);\n",
       "}\n",
       "\n",
       "/* on hover */\n",
       "#sk-container-id-7 div.sk-estimator:hover {\n",
       "  /* unfitted */\n",
       "  background-color: var(--sklearn-color-unfitted-level-2);\n",
       "}\n",
       "\n",
       "#sk-container-id-7 div.sk-estimator.fitted:hover {\n",
       "  /* fitted */\n",
       "  background-color: var(--sklearn-color-fitted-level-2);\n",
       "}\n",
       "\n",
       "/* Specification for estimator info (e.g. \"i\" and \"?\") */\n",
       "\n",
       "/* Common style for \"i\" and \"?\" */\n",
       "\n",
       ".sk-estimator-doc-link,\n",
       "a:link.sk-estimator-doc-link,\n",
       "a:visited.sk-estimator-doc-link {\n",
       "  float: right;\n",
       "  font-size: smaller;\n",
       "  line-height: 1em;\n",
       "  font-family: monospace;\n",
       "  background-color: var(--sklearn-color-background);\n",
       "  border-radius: 1em;\n",
       "  height: 1em;\n",
       "  width: 1em;\n",
       "  text-decoration: none !important;\n",
       "  margin-left: 1ex;\n",
       "  /* unfitted */\n",
       "  border: var(--sklearn-color-unfitted-level-1) 1pt solid;\n",
       "  color: var(--sklearn-color-unfitted-level-1);\n",
       "}\n",
       "\n",
       ".sk-estimator-doc-link.fitted,\n",
       "a:link.sk-estimator-doc-link.fitted,\n",
       "a:visited.sk-estimator-doc-link.fitted {\n",
       "  /* fitted */\n",
       "  border: var(--sklearn-color-fitted-level-1) 1pt solid;\n",
       "  color: var(--sklearn-color-fitted-level-1);\n",
       "}\n",
       "\n",
       "/* On hover */\n",
       "div.sk-estimator:hover .sk-estimator-doc-link:hover,\n",
       ".sk-estimator-doc-link:hover,\n",
       "div.sk-label-container:hover .sk-estimator-doc-link:hover,\n",
       ".sk-estimator-doc-link:hover {\n",
       "  /* unfitted */\n",
       "  background-color: var(--sklearn-color-unfitted-level-3);\n",
       "  color: var(--sklearn-color-background);\n",
       "  text-decoration: none;\n",
       "}\n",
       "\n",
       "div.sk-estimator.fitted:hover .sk-estimator-doc-link.fitted:hover,\n",
       ".sk-estimator-doc-link.fitted:hover,\n",
       "div.sk-label-container:hover .sk-estimator-doc-link.fitted:hover,\n",
       ".sk-estimator-doc-link.fitted:hover {\n",
       "  /* fitted */\n",
       "  background-color: var(--sklearn-color-fitted-level-3);\n",
       "  color: var(--sklearn-color-background);\n",
       "  text-decoration: none;\n",
       "}\n",
       "\n",
       "/* Span, style for the box shown on hovering the info icon */\n",
       ".sk-estimator-doc-link span {\n",
       "  display: none;\n",
       "  z-index: 9999;\n",
       "  position: relative;\n",
       "  font-weight: normal;\n",
       "  right: .2ex;\n",
       "  padding: .5ex;\n",
       "  margin: .5ex;\n",
       "  width: min-content;\n",
       "  min-width: 20ex;\n",
       "  max-width: 50ex;\n",
       "  color: var(--sklearn-color-text);\n",
       "  box-shadow: 2pt 2pt 4pt #999;\n",
       "  /* unfitted */\n",
       "  background: var(--sklearn-color-unfitted-level-0);\n",
       "  border: .5pt solid var(--sklearn-color-unfitted-level-3);\n",
       "}\n",
       "\n",
       ".sk-estimator-doc-link.fitted span {\n",
       "  /* fitted */\n",
       "  background: var(--sklearn-color-fitted-level-0);\n",
       "  border: var(--sklearn-color-fitted-level-3);\n",
       "}\n",
       "\n",
       ".sk-estimator-doc-link:hover span {\n",
       "  display: block;\n",
       "}\n",
       "\n",
       "/* \"?\"-specific style due to the `<a>` HTML tag */\n",
       "\n",
       "#sk-container-id-7 a.estimator_doc_link {\n",
       "  float: right;\n",
       "  font-size: 1rem;\n",
       "  line-height: 1em;\n",
       "  font-family: monospace;\n",
       "  background-color: var(--sklearn-color-background);\n",
       "  border-radius: 1rem;\n",
       "  height: 1rem;\n",
       "  width: 1rem;\n",
       "  text-decoration: none;\n",
       "  /* unfitted */\n",
       "  color: var(--sklearn-color-unfitted-level-1);\n",
       "  border: var(--sklearn-color-unfitted-level-1) 1pt solid;\n",
       "}\n",
       "\n",
       "#sk-container-id-7 a.estimator_doc_link.fitted {\n",
       "  /* fitted */\n",
       "  border: var(--sklearn-color-fitted-level-1) 1pt solid;\n",
       "  color: var(--sklearn-color-fitted-level-1);\n",
       "}\n",
       "\n",
       "/* On hover */\n",
       "#sk-container-id-7 a.estimator_doc_link:hover {\n",
       "  /* unfitted */\n",
       "  background-color: var(--sklearn-color-unfitted-level-3);\n",
       "  color: var(--sklearn-color-background);\n",
       "  text-decoration: none;\n",
       "}\n",
       "\n",
       "#sk-container-id-7 a.estimator_doc_link.fitted:hover {\n",
       "  /* fitted */\n",
       "  background-color: var(--sklearn-color-fitted-level-3);\n",
       "}\n",
       "</style><div id=\"sk-container-id-7\" class=\"sk-top-container\"><div class=\"sk-text-repr-fallback\"><pre>KNNImputer(n_neighbors=6)</pre><b>In a Jupyter environment, please rerun this cell to show the HTML representation or trust the notebook. <br />On GitHub, the HTML representation is unable to render, please try loading this page with nbviewer.org.</b></div><div class=\"sk-container\" hidden><div class=\"sk-item\"><div class=\"sk-estimator fitted sk-toggleable\"><input class=\"sk-toggleable__control sk-hidden--visually\" id=\"sk-estimator-id-7\" type=\"checkbox\" checked><label for=\"sk-estimator-id-7\" class=\"sk-toggleable__label fitted sk-toggleable__label-arrow fitted\">&nbsp;&nbsp;KNNImputer<a class=\"sk-estimator-doc-link fitted\" rel=\"noreferrer\" target=\"_blank\" href=\"https://scikit-learn.org/1.4/modules/generated/sklearn.impute.KNNImputer.html\">?<span>Documentation for KNNImputer</span></a><span class=\"sk-estimator-doc-link fitted\">i<span>Fitted</span></span></label><div class=\"sk-toggleable__content fitted\"><pre>KNNImputer(n_neighbors=6)</pre></div> </div></div></div></div>"
      ],
      "text/plain": [
       "KNNImputer(n_neighbors=6)"
      ]
     },
     "execution_count": 204,
     "metadata": {},
     "output_type": "execute_result"
    }
   ],
   "source": [
    "# test 셋 forecasting\n",
    "\n",
    "## window 만큼 imputate로 채우기\n",
    "\n",
    "from sklearn.impute import KNNImputer\n",
    "\n",
    "imputer = KNNImputer(n_neighbors=6)\n",
    "impute_train = train_df.iloc[:, 1:-1]\n",
    "imputer.fit(impute_train)"
   ]
  },
  {
   "cell_type": "code",
   "execution_count": 205,
   "metadata": {},
   "outputs": [],
   "source": [
    "target_data = test_df.shift(window_size)[:144]\n",
    "cols = target_data.columns"
   ]
  },
  {
   "cell_type": "code",
   "execution_count": 206,
   "metadata": {},
   "outputs": [],
   "source": [
    "pre_test_data = pd.DataFrame(imputer.transform(target_data), columns=cols)[:6]"
   ]
  },
  {
   "cell_type": "code",
   "execution_count": 207,
   "metadata": {},
   "outputs": [],
   "source": [
    "def is_rain(rain):\n",
    "    if rain >= 0.5 :\n",
    "        return 1\n",
    "    elif rain < 0.5:\n",
    "        return 0\n",
    "    else:\n",
    "        return np.nan"
   ]
  },
  {
   "cell_type": "code",
   "execution_count": 208,
   "metadata": {},
   "outputs": [],
   "source": [
    "pre_test_data[\"강수유무\"] = pre_test_data[\"강수유무\"].apply(is_rain)"
   ]
  },
  {
   "cell_type": "code",
   "execution_count": 209,
   "metadata": {},
   "outputs": [
    {
     "data": {
      "text/html": [
       "<div>\n",
       "<style scoped>\n",
       "    .dataframe tbody tr th:only-of-type {\n",
       "        vertical-align: middle;\n",
       "    }\n",
       "\n",
       "    .dataframe tbody tr th {\n",
       "        vertical-align: top;\n",
       "    }\n",
       "\n",
       "    .dataframe thead th {\n",
       "        text-align: right;\n",
       "    }\n",
       "</style>\n",
       "<table border=\"1\" class=\"dataframe\">\n",
       "  <thead>\n",
       "    <tr style=\"text-align: right;\">\n",
       "      <th></th>\n",
       "      <th>10분평균풍향</th>\n",
       "      <th>10분평균풍속</th>\n",
       "      <th>10분평균기온</th>\n",
       "      <th>10분평균상대습도</th>\n",
       "      <th>10분일사량합</th>\n",
       "      <th>10분평균지면온도</th>\n",
       "      <th>강수유무</th>\n",
       "    </tr>\n",
       "  </thead>\n",
       "  <tbody>\n",
       "    <tr>\n",
       "      <th>0</th>\n",
       "      <td>0.515933</td>\n",
       "      <td>0.097242</td>\n",
       "      <td>0.607535</td>\n",
       "      <td>0.668693</td>\n",
       "      <td>0.003802</td>\n",
       "      <td>0.274966</td>\n",
       "      <td>0</td>\n",
       "    </tr>\n",
       "    <tr>\n",
       "      <th>1</th>\n",
       "      <td>0.515933</td>\n",
       "      <td>0.097242</td>\n",
       "      <td>0.607535</td>\n",
       "      <td>0.668693</td>\n",
       "      <td>0.003802</td>\n",
       "      <td>0.274966</td>\n",
       "      <td>0</td>\n",
       "    </tr>\n",
       "    <tr>\n",
       "      <th>2</th>\n",
       "      <td>0.515933</td>\n",
       "      <td>0.097242</td>\n",
       "      <td>0.607535</td>\n",
       "      <td>0.668693</td>\n",
       "      <td>0.003802</td>\n",
       "      <td>0.274966</td>\n",
       "      <td>0</td>\n",
       "    </tr>\n",
       "    <tr>\n",
       "      <th>3</th>\n",
       "      <td>0.515933</td>\n",
       "      <td>0.097242</td>\n",
       "      <td>0.607535</td>\n",
       "      <td>0.668693</td>\n",
       "      <td>0.003802</td>\n",
       "      <td>0.274966</td>\n",
       "      <td>0</td>\n",
       "    </tr>\n",
       "    <tr>\n",
       "      <th>4</th>\n",
       "      <td>0.515933</td>\n",
       "      <td>0.097242</td>\n",
       "      <td>0.607535</td>\n",
       "      <td>0.668693</td>\n",
       "      <td>0.003802</td>\n",
       "      <td>0.274966</td>\n",
       "      <td>0</td>\n",
       "    </tr>\n",
       "    <tr>\n",
       "      <th>5</th>\n",
       "      <td>0.515933</td>\n",
       "      <td>0.097242</td>\n",
       "      <td>0.607535</td>\n",
       "      <td>0.668693</td>\n",
       "      <td>0.003802</td>\n",
       "      <td>0.274966</td>\n",
       "      <td>0</td>\n",
       "    </tr>\n",
       "  </tbody>\n",
       "</table>\n",
       "</div>"
      ],
      "text/plain": [
       "    10분평균풍향   10분평균풍속   10분평균기온  10분평균상대습도   10분일사량합  10분평균지면온도  강수유무\n",
       "0  0.515933  0.097242  0.607535   0.668693  0.003802   0.274966     0\n",
       "1  0.515933  0.097242  0.607535   0.668693  0.003802   0.274966     0\n",
       "2  0.515933  0.097242  0.607535   0.668693  0.003802   0.274966     0\n",
       "3  0.515933  0.097242  0.607535   0.668693  0.003802   0.274966     0\n",
       "4  0.515933  0.097242  0.607535   0.668693  0.003802   0.274966     0\n",
       "5  0.515933  0.097242  0.607535   0.668693  0.003802   0.274966     0"
      ]
     },
     "execution_count": 209,
     "metadata": {},
     "output_type": "execute_result"
    }
   ],
   "source": [
    "pre_test_data"
   ]
  },
  {
   "cell_type": "code",
   "execution_count": 210,
   "metadata": {},
   "outputs": [],
   "source": [
    "test_data = pd.concat([pre_test_data, test_df], axis=0)"
   ]
  },
  {
   "cell_type": "code",
   "execution_count": 211,
   "metadata": {},
   "outputs": [
    {
     "data": {
      "text/html": [
       "<div>\n",
       "<style scoped>\n",
       "    .dataframe tbody tr th:only-of-type {\n",
       "        vertical-align: middle;\n",
       "    }\n",
       "\n",
       "    .dataframe tbody tr th {\n",
       "        vertical-align: top;\n",
       "    }\n",
       "\n",
       "    .dataframe thead th {\n",
       "        text-align: right;\n",
       "    }\n",
       "</style>\n",
       "<table border=\"1\" class=\"dataframe\">\n",
       "  <thead>\n",
       "    <tr style=\"text-align: right;\">\n",
       "      <th></th>\n",
       "      <th>10분평균풍향</th>\n",
       "      <th>10분평균풍속</th>\n",
       "      <th>10분평균기온</th>\n",
       "      <th>10분평균상대습도</th>\n",
       "      <th>10분일사량합</th>\n",
       "      <th>10분평균지면온도</th>\n",
       "      <th>강수유무</th>\n",
       "    </tr>\n",
       "  </thead>\n",
       "  <tbody>\n",
       "    <tr>\n",
       "      <th>0</th>\n",
       "      <td>0.515933</td>\n",
       "      <td>0.097242</td>\n",
       "      <td>0.607535</td>\n",
       "      <td>0.668693</td>\n",
       "      <td>0.003802</td>\n",
       "      <td>0.274966</td>\n",
       "      <td>0</td>\n",
       "    </tr>\n",
       "    <tr>\n",
       "      <th>1</th>\n",
       "      <td>0.515933</td>\n",
       "      <td>0.097242</td>\n",
       "      <td>0.607535</td>\n",
       "      <td>0.668693</td>\n",
       "      <td>0.003802</td>\n",
       "      <td>0.274966</td>\n",
       "      <td>0</td>\n",
       "    </tr>\n",
       "    <tr>\n",
       "      <th>2</th>\n",
       "      <td>0.515933</td>\n",
       "      <td>0.097242</td>\n",
       "      <td>0.607535</td>\n",
       "      <td>0.668693</td>\n",
       "      <td>0.003802</td>\n",
       "      <td>0.274966</td>\n",
       "      <td>0</td>\n",
       "    </tr>\n",
       "    <tr>\n",
       "      <th>3</th>\n",
       "      <td>0.515933</td>\n",
       "      <td>0.097242</td>\n",
       "      <td>0.607535</td>\n",
       "      <td>0.668693</td>\n",
       "      <td>0.003802</td>\n",
       "      <td>0.274966</td>\n",
       "      <td>0</td>\n",
       "    </tr>\n",
       "    <tr>\n",
       "      <th>4</th>\n",
       "      <td>0.515933</td>\n",
       "      <td>0.097242</td>\n",
       "      <td>0.607535</td>\n",
       "      <td>0.668693</td>\n",
       "      <td>0.003802</td>\n",
       "      <td>0.274966</td>\n",
       "      <td>0</td>\n",
       "    </tr>\n",
       "    <tr>\n",
       "      <th>...</th>\n",
       "      <td>...</td>\n",
       "      <td>...</td>\n",
       "      <td>...</td>\n",
       "      <td>...</td>\n",
       "      <td>...</td>\n",
       "      <td>...</td>\n",
       "      <td>...</td>\n",
       "    </tr>\n",
       "    <tr>\n",
       "      <th>262795</th>\n",
       "      <td>0.941111</td>\n",
       "      <td>0.271111</td>\n",
       "      <td>0.463768</td>\n",
       "      <td>0.713000</td>\n",
       "      <td>0.000000</td>\n",
       "      <td>0.090667</td>\n",
       "      <td>0</td>\n",
       "    </tr>\n",
       "    <tr>\n",
       "      <th>262796</th>\n",
       "      <td>0.931111</td>\n",
       "      <td>0.257778</td>\n",
       "      <td>0.465378</td>\n",
       "      <td>0.714000</td>\n",
       "      <td>0.000000</td>\n",
       "      <td>0.090667</td>\n",
       "      <td>0</td>\n",
       "    </tr>\n",
       "    <tr>\n",
       "      <th>262797</th>\n",
       "      <td>0.936389</td>\n",
       "      <td>0.235556</td>\n",
       "      <td>0.463768</td>\n",
       "      <td>0.721000</td>\n",
       "      <td>0.000000</td>\n",
       "      <td>0.089333</td>\n",
       "      <td>0</td>\n",
       "    </tr>\n",
       "    <tr>\n",
       "      <th>262798</th>\n",
       "      <td>0.894444</td>\n",
       "      <td>0.164444</td>\n",
       "      <td>0.460548</td>\n",
       "      <td>0.725000</td>\n",
       "      <td>0.000000</td>\n",
       "      <td>0.084000</td>\n",
       "      <td>0</td>\n",
       "    </tr>\n",
       "    <tr>\n",
       "      <th>262799</th>\n",
       "      <td>0.093333</td>\n",
       "      <td>0.124444</td>\n",
       "      <td>0.460548</td>\n",
       "      <td>0.737000</td>\n",
       "      <td>0.000000</td>\n",
       "      <td>0.082667</td>\n",
       "      <td>0</td>\n",
       "    </tr>\n",
       "  </tbody>\n",
       "</table>\n",
       "<p>262806 rows × 7 columns</p>\n",
       "</div>"
      ],
      "text/plain": [
       "         10분평균풍향   10분평균풍속   10분평균기온  10분평균상대습도   10분일사량합  10분평균지면온도  강수유무\n",
       "0       0.515933  0.097242  0.607535   0.668693  0.003802   0.274966     0\n",
       "1       0.515933  0.097242  0.607535   0.668693  0.003802   0.274966     0\n",
       "2       0.515933  0.097242  0.607535   0.668693  0.003802   0.274966     0\n",
       "3       0.515933  0.097242  0.607535   0.668693  0.003802   0.274966     0\n",
       "4       0.515933  0.097242  0.607535   0.668693  0.003802   0.274966     0\n",
       "...          ...       ...       ...        ...       ...        ...   ...\n",
       "262795  0.941111  0.271111  0.463768   0.713000  0.000000   0.090667     0\n",
       "262796  0.931111  0.257778  0.465378   0.714000  0.000000   0.090667     0\n",
       "262797  0.936389  0.235556  0.463768   0.721000  0.000000   0.089333     0\n",
       "262798  0.894444  0.164444  0.460548   0.725000  0.000000   0.084000     0\n",
       "262799  0.093333  0.124444  0.460548   0.737000  0.000000   0.082667     0\n",
       "\n",
       "[262806 rows x 7 columns]"
      ]
     },
     "execution_count": 211,
     "metadata": {},
     "output_type": "execute_result"
    }
   ],
   "source": [
    "test_data"
   ]
  },
  {
   "cell_type": "code",
   "execution_count": 231,
   "metadata": {},
   "outputs": [],
   "source": [
    "test_dataset = CustomDataset(data=test_data, window_size=6, kind='test')\n",
    "test_data_loader = DataLoader(test_dataset, batch_size=batch_size, shuffle=False)"
   ]
  },
  {
   "cell_type": "code",
   "execution_count": 232,
   "metadata": {},
   "outputs": [
    {
     "name": "stdout",
     "output_type": "stream",
     "text": [
      "tensor([[[0.5159, 0.0972, 0.6075,  ..., 0.0038, 0.2750, 0.0000],\n",
      "         [0.5159, 0.0972, 0.6075,  ..., 0.0038, 0.2750, 0.0000],\n",
      "         [0.5159, 0.0972, 0.6075,  ..., 0.0038, 0.2750, 0.0000],\n",
      "         [0.5159, 0.0972, 0.6075,  ..., 0.0038, 0.2750, 0.0000],\n",
      "         [0.5159, 0.0972, 0.6075,  ..., 0.0038, 0.2750, 0.0000],\n",
      "         [0.5159, 0.0972, 0.6075,  ..., 0.0038, 0.2750, 0.0000]],\n",
      "\n",
      "        [[0.5159, 0.0972, 0.6075,  ..., 0.0038, 0.2750, 0.0000],\n",
      "         [0.5159, 0.0972, 0.6075,  ..., 0.0038, 0.2750, 0.0000],\n",
      "         [0.5159, 0.0972, 0.6075,  ..., 0.0038, 0.2750, 0.0000],\n",
      "         [0.5159, 0.0972, 0.6075,  ..., 0.0038, 0.2750, 0.0000],\n",
      "         [0.5159, 0.0972, 0.6075,  ..., 0.0038, 0.2750, 0.0000],\n",
      "         [0.9153, 0.0267, 0.3510,  ..., 0.0000, 0.0440, 0.0000]],\n",
      "\n",
      "        [[0.5159, 0.0972, 0.6075,  ..., 0.0038, 0.2750, 0.0000],\n",
      "         [0.5159, 0.0972, 0.6075,  ..., 0.0038, 0.2750, 0.0000],\n",
      "         [0.5159, 0.0972, 0.6075,  ..., 0.0038, 0.2750, 0.0000],\n",
      "         [0.5159, 0.0972, 0.6075,  ..., 0.0038, 0.2750, 0.0000],\n",
      "         [0.9153, 0.0267, 0.3510,  ..., 0.0000, 0.0440, 0.0000],\n",
      "         [0.8939, 0.0533, 0.3510,  ..., 0.0000, 0.0440, 0.0000]],\n",
      "\n",
      "        ...,\n",
      "\n",
      "        [[0.8222, 0.0533, 0.2931,  ..., 0.0000, 0.0293, 0.0000],\n",
      "         [0.9989, 0.0489, 0.2915,  ..., 0.0000, 0.0280, 0.0000],\n",
      "         [0.4069, 0.0222, 0.2899,  ..., 0.0000, 0.0253, 0.0000],\n",
      "         [0.2833, 0.0311, 0.2866,  ..., 0.0000, 0.0240, 0.0000],\n",
      "         [0.1450, 0.0311, 0.2802,  ..., 0.0000, 0.0227, 0.0000],\n",
      "         [0.0528, 0.0178, 0.2738,  ..., 0.0000, 0.0213, 0.0000]],\n",
      "\n",
      "        [[0.9989, 0.0489, 0.2915,  ..., 0.0000, 0.0280, 0.0000],\n",
      "         [0.4069, 0.0222, 0.2899,  ..., 0.0000, 0.0253, 0.0000],\n",
      "         [0.2833, 0.0311, 0.2866,  ..., 0.0000, 0.0240, 0.0000],\n",
      "         [0.1450, 0.0311, 0.2802,  ..., 0.0000, 0.0227, 0.0000],\n",
      "         [0.0528, 0.0178, 0.2738,  ..., 0.0000, 0.0213, 0.0000],\n",
      "         [0.0936, 0.0400, 0.2721,  ..., 0.0000, 0.0200, 0.0000]],\n",
      "\n",
      "        [[0.4069, 0.0222, 0.2899,  ..., 0.0000, 0.0253, 0.0000],\n",
      "         [0.2833, 0.0311, 0.2866,  ..., 0.0000, 0.0240, 0.0000],\n",
      "         [0.1450, 0.0311, 0.2802,  ..., 0.0000, 0.0227, 0.0000],\n",
      "         [0.0528, 0.0178, 0.2738,  ..., 0.0000, 0.0213, 0.0000],\n",
      "         [0.0936, 0.0400, 0.2721,  ..., 0.0000, 0.0200, 0.0000],\n",
      "         [0.3564, 0.0267, 0.2689,  ..., 0.0000, 0.0187, 0.0000]]])\n"
     ]
    }
   ],
   "source": [
    "for X in test_data_loader:\n",
    "    print(X)\n",
    "    break"
   ]
  },
  {
   "cell_type": "code",
   "execution_count": 233,
   "metadata": {},
   "outputs": [
    {
     "data": {
      "application/vnd.jupyter.widget-view+json": {
       "model_id": "2038ba0044924b2b9f4a726c43b161da",
       "version_major": 2,
       "version_minor": 0
      },
      "text/plain": [
       "Test:   0%|          | 0/1825 [00:00<?, ?it/s]"
      ]
     },
     "metadata": {},
     "output_type": "display_data"
    }
   ],
   "source": [
    "# test forecast\n",
    "from tqdm.auto import tqdm\n",
    "\n",
    "model.eval()\n",
    "with torch.no_grad():\n",
    "    n = len(test_data_loader)\n",
    "    test_list = []\n",
    "    test_iterator = tqdm(enumerate(test_data_loader), total=n, desc=f\"Test\")\n",
    "    for _, X in test_iterator:\n",
    "        test_pred = model(X)\n",
    "        test_list += np.array(test_pred).flatten().tolist()\n",
    "    # inverse\n",
    "    pred_inverse = y_scaler.inverse_transform(np.array(test_list).reshape(-1, 1)).squeeze()\n",
    "    \n",
    "    test_pred_df = pd.DataFrame({\"pred\" : pred_inverse})"
   ]
  },
  {
   "cell_type": "code",
   "execution_count": 234,
   "metadata": {},
   "outputs": [
    {
     "data": {
      "text/plain": [
       "pred    0\n",
       "dtype: int64"
      ]
     },
     "execution_count": 234,
     "metadata": {},
     "output_type": "execute_result"
    }
   ],
   "source": [
    "test_pred_df.isna().sum()"
   ]
  },
  {
   "cell_type": "code",
   "execution_count": 235,
   "metadata": {},
   "outputs": [
    {
     "data": {
      "text/html": [
       "<div>\n",
       "<style scoped>\n",
       "    .dataframe tbody tr th:only-of-type {\n",
       "        vertical-align: middle;\n",
       "    }\n",
       "\n",
       "    .dataframe tbody tr th {\n",
       "        vertical-align: top;\n",
       "    }\n",
       "\n",
       "    .dataframe thead th {\n",
       "        text-align: right;\n",
       "    }\n",
       "</style>\n",
       "<table border=\"1\" class=\"dataframe\">\n",
       "  <thead>\n",
       "    <tr style=\"text-align: right;\">\n",
       "      <th></th>\n",
       "      <th>pred</th>\n",
       "    </tr>\n",
       "  </thead>\n",
       "  <tbody>\n",
       "    <tr>\n",
       "      <th>count</th>\n",
       "      <td>262800.000000</td>\n",
       "    </tr>\n",
       "    <tr>\n",
       "      <th>mean</th>\n",
       "      <td>15192.797320</td>\n",
       "    </tr>\n",
       "    <tr>\n",
       "      <th>std</th>\n",
       "      <td>3712.470791</td>\n",
       "    </tr>\n",
       "    <tr>\n",
       "      <th>min</th>\n",
       "      <td>1.000000</td>\n",
       "    </tr>\n",
       "    <tr>\n",
       "      <th>25%</th>\n",
       "      <td>13361.749454</td>\n",
       "    </tr>\n",
       "    <tr>\n",
       "      <th>50%</th>\n",
       "      <td>15625.940477</td>\n",
       "    </tr>\n",
       "    <tr>\n",
       "      <th>75%</th>\n",
       "      <td>18065.948535</td>\n",
       "    </tr>\n",
       "    <tr>\n",
       "      <th>max</th>\n",
       "      <td>23079.820463</td>\n",
       "    </tr>\n",
       "  </tbody>\n",
       "</table>\n",
       "</div>"
      ],
      "text/plain": [
       "                pred\n",
       "count  262800.000000\n",
       "mean    15192.797320\n",
       "std      3712.470791\n",
       "min         1.000000\n",
       "25%     13361.749454\n",
       "50%     15625.940477\n",
       "75%     18065.948535\n",
       "max     23079.820463"
      ]
     },
     "execution_count": 235,
     "metadata": {},
     "output_type": "execute_result"
    }
   ],
   "source": [
    "test_pred_df.describe()"
   ]
  },
  {
   "cell_type": "code",
   "execution_count": 236,
   "metadata": {},
   "outputs": [
    {
     "data": {
      "text/html": [
       "<div>\n",
       "<style scoped>\n",
       "    .dataframe tbody tr th:only-of-type {\n",
       "        vertical-align: middle;\n",
       "    }\n",
       "\n",
       "    .dataframe tbody tr th {\n",
       "        vertical-align: top;\n",
       "    }\n",
       "\n",
       "    .dataframe thead th {\n",
       "        text-align: right;\n",
       "    }\n",
       "</style>\n",
       "<table border=\"1\" class=\"dataframe\">\n",
       "  <thead>\n",
       "    <tr style=\"text-align: right;\">\n",
       "      <th></th>\n",
       "      <th>pred</th>\n",
       "    </tr>\n",
       "  </thead>\n",
       "  <tbody>\n",
       "    <tr>\n",
       "      <th>0</th>\n",
       "      <td>16982.521736</td>\n",
       "    </tr>\n",
       "    <tr>\n",
       "      <th>1</th>\n",
       "      <td>16289.599942</td>\n",
       "    </tr>\n",
       "    <tr>\n",
       "      <th>2</th>\n",
       "      <td>15359.792707</td>\n",
       "    </tr>\n",
       "    <tr>\n",
       "      <th>3</th>\n",
       "      <td>14549.874805</td>\n",
       "    </tr>\n",
       "    <tr>\n",
       "      <th>4</th>\n",
       "      <td>14054.095399</td>\n",
       "    </tr>\n",
       "    <tr>\n",
       "      <th>...</th>\n",
       "      <td>...</td>\n",
       "    </tr>\n",
       "    <tr>\n",
       "      <th>262795</th>\n",
       "      <td>17125.795860</td>\n",
       "    </tr>\n",
       "    <tr>\n",
       "      <th>262796</th>\n",
       "      <td>17186.622111</td>\n",
       "    </tr>\n",
       "    <tr>\n",
       "      <th>262797</th>\n",
       "      <td>17105.705628</td>\n",
       "    </tr>\n",
       "    <tr>\n",
       "      <th>262798</th>\n",
       "      <td>17024.614180</td>\n",
       "    </tr>\n",
       "    <tr>\n",
       "      <th>262799</th>\n",
       "      <td>17014.280463</td>\n",
       "    </tr>\n",
       "  </tbody>\n",
       "</table>\n",
       "<p>262800 rows × 1 columns</p>\n",
       "</div>"
      ],
      "text/plain": [
       "                pred\n",
       "0       16982.521736\n",
       "1       16289.599942\n",
       "2       15359.792707\n",
       "3       14549.874805\n",
       "4       14054.095399\n",
       "...              ...\n",
       "262795  17125.795860\n",
       "262796  17186.622111\n",
       "262797  17105.705628\n",
       "262798  17024.614180\n",
       "262799  17014.280463\n",
       "\n",
       "[262800 rows x 1 columns]"
      ]
     },
     "execution_count": 236,
     "metadata": {},
     "output_type": "execute_result"
    }
   ],
   "source": [
    "test_pred_df"
   ]
  },
  {
   "cell_type": "code",
   "execution_count": 237,
   "metadata": {},
   "outputs": [
    {
     "data": {
      "text/html": [
       "<div>\n",
       "<style scoped>\n",
       "    .dataframe tbody tr th:only-of-type {\n",
       "        vertical-align: middle;\n",
       "    }\n",
       "\n",
       "    .dataframe tbody tr th {\n",
       "        vertical-align: top;\n",
       "    }\n",
       "\n",
       "    .dataframe thead th {\n",
       "        text-align: right;\n",
       "    }\n",
       "</style>\n",
       "<table border=\"1\" class=\"dataframe\">\n",
       "  <thead>\n",
       "    <tr style=\"text-align: right;\">\n",
       "      <th></th>\n",
       "      <th>년도</th>\n",
       "      <th>월</th>\n",
       "      <th>일</th>\n",
       "      <th>시간</th>\n",
       "      <th>분</th>\n",
       "      <th>지점번호</th>\n",
       "      <th>10분평균풍향</th>\n",
       "      <th>10분평균풍속</th>\n",
       "      <th>10분평균기온</th>\n",
       "      <th>강수유무</th>\n",
       "      <th>10분평균상대습도</th>\n",
       "      <th>10분일사량합</th>\n",
       "      <th>10분평균지면온도</th>\n",
       "      <th>시정구간</th>\n",
       "      <th>ground</th>\n",
       "      <th>alpha</th>\n",
       "      <th>dew_point</th>\n",
       "    </tr>\n",
       "  </thead>\n",
       "  <tbody>\n",
       "    <tr>\n",
       "      <th>0</th>\n",
       "      <td>L</td>\n",
       "      <td>1.0</td>\n",
       "      <td>1.0</td>\n",
       "      <td>0.0</td>\n",
       "      <td>0.0</td>\n",
       "      <td>AI</td>\n",
       "      <td>329.5</td>\n",
       "      <td>0.6</td>\n",
       "      <td>-2.5</td>\n",
       "      <td>0</td>\n",
       "      <td>87.5</td>\n",
       "      <td>0.0</td>\n",
       "      <td>-1.6</td>\n",
       "      <td>4.0</td>\n",
       "      <td>A</td>\n",
       "      <td>-0.317099</td>\n",
       "      <td>-4.285774</td>\n",
       "    </tr>\n",
       "    <tr>\n",
       "      <th>1</th>\n",
       "      <td>L</td>\n",
       "      <td>1.0</td>\n",
       "      <td>1.0</td>\n",
       "      <td>0.0</td>\n",
       "      <td>10.0</td>\n",
       "      <td>AI</td>\n",
       "      <td>321.8</td>\n",
       "      <td>1.2</td>\n",
       "      <td>-2.5</td>\n",
       "      <td>0</td>\n",
       "      <td>88.2</td>\n",
       "      <td>0.0</td>\n",
       "      <td>-1.6</td>\n",
       "      <td>4.0</td>\n",
       "      <td>A</td>\n",
       "      <td>-0.309130</td>\n",
       "      <td>-4.179973</td>\n",
       "    </tr>\n",
       "    <tr>\n",
       "      <th>2</th>\n",
       "      <td>L</td>\n",
       "      <td>1.0</td>\n",
       "      <td>1.0</td>\n",
       "      <td>0.0</td>\n",
       "      <td>20.0</td>\n",
       "      <td>AI</td>\n",
       "      <td>0.4</td>\n",
       "      <td>0.4</td>\n",
       "      <td>-2.5</td>\n",
       "      <td>0</td>\n",
       "      <td>88.6</td>\n",
       "      <td>0.0</td>\n",
       "      <td>-1.7</td>\n",
       "      <td>4.0</td>\n",
       "      <td>A</td>\n",
       "      <td>-0.304606</td>\n",
       "      <td>-4.119849</td>\n",
       "    </tr>\n",
       "    <tr>\n",
       "      <th>3</th>\n",
       "      <td>L</td>\n",
       "      <td>1.0</td>\n",
       "      <td>1.0</td>\n",
       "      <td>0.0</td>\n",
       "      <td>30.0</td>\n",
       "      <td>AI</td>\n",
       "      <td>323.6</td>\n",
       "      <td>0.7</td>\n",
       "      <td>-2.6</td>\n",
       "      <td>0</td>\n",
       "      <td>88.7</td>\n",
       "      <td>0.0</td>\n",
       "      <td>-1.6</td>\n",
       "      <td>4.0</td>\n",
       "      <td>A</td>\n",
       "      <td>-0.310901</td>\n",
       "      <td>-4.203496</td>\n",
       "    </tr>\n",
       "    <tr>\n",
       "      <th>4</th>\n",
       "      <td>L</td>\n",
       "      <td>1.0</td>\n",
       "      <td>1.0</td>\n",
       "      <td>0.0</td>\n",
       "      <td>40.0</td>\n",
       "      <td>AI</td>\n",
       "      <td>208.4</td>\n",
       "      <td>0.2</td>\n",
       "      <td>-2.6</td>\n",
       "      <td>0</td>\n",
       "      <td>89.0</td>\n",
       "      <td>0.0</td>\n",
       "      <td>-1.6</td>\n",
       "      <td>4.0</td>\n",
       "      <td>A</td>\n",
       "      <td>-0.307525</td>\n",
       "      <td>-4.158644</td>\n",
       "    </tr>\n",
       "    <tr>\n",
       "      <th>...</th>\n",
       "      <td>...</td>\n",
       "      <td>...</td>\n",
       "      <td>...</td>\n",
       "      <td>...</td>\n",
       "      <td>...</td>\n",
       "      <td>...</td>\n",
       "      <td>...</td>\n",
       "      <td>...</td>\n",
       "      <td>...</td>\n",
       "      <td>...</td>\n",
       "      <td>...</td>\n",
       "      <td>...</td>\n",
       "      <td>...</td>\n",
       "      <td>...</td>\n",
       "      <td>...</td>\n",
       "      <td>...</td>\n",
       "      <td>...</td>\n",
       "    </tr>\n",
       "    <tr>\n",
       "      <th>262795</th>\n",
       "      <td>L</td>\n",
       "      <td>12.0</td>\n",
       "      <td>31.0</td>\n",
       "      <td>23.0</td>\n",
       "      <td>10.0</td>\n",
       "      <td>ED</td>\n",
       "      <td>338.8</td>\n",
       "      <td>6.1</td>\n",
       "      <td>4.5</td>\n",
       "      <td>0</td>\n",
       "      <td>71.3</td>\n",
       "      <td>0.0</td>\n",
       "      <td>1.9</td>\n",
       "      <td>NaN</td>\n",
       "      <td>E</td>\n",
       "      <td>-0.017403</td>\n",
       "      <td>-0.239285</td>\n",
       "    </tr>\n",
       "    <tr>\n",
       "      <th>262796</th>\n",
       "      <td>L</td>\n",
       "      <td>12.0</td>\n",
       "      <td>31.0</td>\n",
       "      <td>23.0</td>\n",
       "      <td>20.0</td>\n",
       "      <td>ED</td>\n",
       "      <td>335.2</td>\n",
       "      <td>5.8</td>\n",
       "      <td>4.6</td>\n",
       "      <td>0</td>\n",
       "      <td>71.4</td>\n",
       "      <td>0.0</td>\n",
       "      <td>1.9</td>\n",
       "      <td>NaN</td>\n",
       "      <td>E</td>\n",
       "      <td>-0.009006</td>\n",
       "      <td>-0.123892</td>\n",
       "    </tr>\n",
       "    <tr>\n",
       "      <th>262797</th>\n",
       "      <td>L</td>\n",
       "      <td>12.0</td>\n",
       "      <td>31.0</td>\n",
       "      <td>23.0</td>\n",
       "      <td>30.0</td>\n",
       "      <td>ED</td>\n",
       "      <td>337.1</td>\n",
       "      <td>5.3</td>\n",
       "      <td>4.5</td>\n",
       "      <td>0</td>\n",
       "      <td>72.1</td>\n",
       "      <td>0.0</td>\n",
       "      <td>1.8</td>\n",
       "      <td>NaN</td>\n",
       "      <td>E</td>\n",
       "      <td>-0.006245</td>\n",
       "      <td>-0.085923</td>\n",
       "    </tr>\n",
       "    <tr>\n",
       "      <th>262798</th>\n",
       "      <td>L</td>\n",
       "      <td>12.0</td>\n",
       "      <td>31.0</td>\n",
       "      <td>23.0</td>\n",
       "      <td>40.0</td>\n",
       "      <td>ED</td>\n",
       "      <td>322.0</td>\n",
       "      <td>3.7</td>\n",
       "      <td>4.3</td>\n",
       "      <td>0</td>\n",
       "      <td>72.5</td>\n",
       "      <td>0.0</td>\n",
       "      <td>1.4</td>\n",
       "      <td>NaN</td>\n",
       "      <td>E</td>\n",
       "      <td>-0.014720</td>\n",
       "      <td>-0.202430</td>\n",
       "    </tr>\n",
       "    <tr>\n",
       "      <th>262799</th>\n",
       "      <td>L</td>\n",
       "      <td>12.0</td>\n",
       "      <td>31.0</td>\n",
       "      <td>23.0</td>\n",
       "      <td>50.0</td>\n",
       "      <td>ED</td>\n",
       "      <td>33.6</td>\n",
       "      <td>2.8</td>\n",
       "      <td>4.3</td>\n",
       "      <td>0</td>\n",
       "      <td>73.7</td>\n",
       "      <td>0.0</td>\n",
       "      <td>1.3</td>\n",
       "      <td>NaN</td>\n",
       "      <td>E</td>\n",
       "      <td>0.001696</td>\n",
       "      <td>0.023349</td>\n",
       "    </tr>\n",
       "  </tbody>\n",
       "</table>\n",
       "<p>262800 rows × 17 columns</p>\n",
       "</div>"
      ],
      "text/plain": [
       "       년도     월     일    시간     분 지점번호  10분평균풍향  10분평균풍속  10분평균기온  강수유무  \\\n",
       "0       L   1.0   1.0   0.0   0.0   AI    329.5      0.6     -2.5     0   \n",
       "1       L   1.0   1.0   0.0  10.0   AI    321.8      1.2     -2.5     0   \n",
       "2       L   1.0   1.0   0.0  20.0   AI      0.4      0.4     -2.5     0   \n",
       "3       L   1.0   1.0   0.0  30.0   AI    323.6      0.7     -2.6     0   \n",
       "4       L   1.0   1.0   0.0  40.0   AI    208.4      0.2     -2.6     0   \n",
       "...    ..   ...   ...   ...   ...  ...      ...      ...      ...   ...   \n",
       "262795  L  12.0  31.0  23.0  10.0   ED    338.8      6.1      4.5     0   \n",
       "262796  L  12.0  31.0  23.0  20.0   ED    335.2      5.8      4.6     0   \n",
       "262797  L  12.0  31.0  23.0  30.0   ED    337.1      5.3      4.5     0   \n",
       "262798  L  12.0  31.0  23.0  40.0   ED    322.0      3.7      4.3     0   \n",
       "262799  L  12.0  31.0  23.0  50.0   ED     33.6      2.8      4.3     0   \n",
       "\n",
       "        10분평균상대습도  10분일사량합  10분평균지면온도  시정구간 ground     alpha  dew_point  \n",
       "0            87.5      0.0       -1.6   4.0      A -0.317099  -4.285774  \n",
       "1            88.2      0.0       -1.6   4.0      A -0.309130  -4.179973  \n",
       "2            88.6      0.0       -1.7   4.0      A -0.304606  -4.119849  \n",
       "3            88.7      0.0       -1.6   4.0      A -0.310901  -4.203496  \n",
       "4            89.0      0.0       -1.6   4.0      A -0.307525  -4.158644  \n",
       "...           ...      ...        ...   ...    ...       ...        ...  \n",
       "262795       71.3      0.0        1.9   NaN      E -0.017403  -0.239285  \n",
       "262796       71.4      0.0        1.9   NaN      E -0.009006  -0.123892  \n",
       "262797       72.1      0.0        1.8   NaN      E -0.006245  -0.085923  \n",
       "262798       72.5      0.0        1.4   NaN      E -0.014720  -0.202430  \n",
       "262799       73.7      0.0        1.3   NaN      E  0.001696   0.023349  \n",
       "\n",
       "[262800 rows x 17 columns]"
      ]
     },
     "execution_count": 237,
     "metadata": {},
     "output_type": "execute_result"
    }
   ],
   "source": [
    "test"
   ]
  },
  {
   "cell_type": "code",
   "execution_count": 238,
   "metadata": {},
   "outputs": [],
   "source": [
    "def make_class(vis):\n",
    "    if 0 <= vis and vis < 200 :\n",
    "        return 1\n",
    "    elif 200 <= vis and vis < 500 :\n",
    "        return 2\n",
    "    elif 500 <= vis and vis < 1000 :\n",
    "        return 3\n",
    "    elif 1000 <= vis :\n",
    "        return 4\n",
    "    else :\n",
    "        return np.nan"
   ]
  },
  {
   "cell_type": "code",
   "execution_count": 239,
   "metadata": {},
   "outputs": [],
   "source": [
    "test[\"시정구간\"] = test_pred_df[\"pred\"].apply(make_class)"
   ]
  },
  {
   "cell_type": "code",
   "execution_count": 240,
   "metadata": {},
   "outputs": [
    {
     "data": {
      "text/html": [
       "<div>\n",
       "<style scoped>\n",
       "    .dataframe tbody tr th:only-of-type {\n",
       "        vertical-align: middle;\n",
       "    }\n",
       "\n",
       "    .dataframe tbody tr th {\n",
       "        vertical-align: top;\n",
       "    }\n",
       "\n",
       "    .dataframe thead th {\n",
       "        text-align: right;\n",
       "    }\n",
       "</style>\n",
       "<table border=\"1\" class=\"dataframe\">\n",
       "  <thead>\n",
       "    <tr style=\"text-align: right;\">\n",
       "      <th></th>\n",
       "      <th>년도</th>\n",
       "      <th>월</th>\n",
       "      <th>일</th>\n",
       "      <th>시간</th>\n",
       "      <th>분</th>\n",
       "      <th>지점번호</th>\n",
       "      <th>10분평균풍향</th>\n",
       "      <th>10분평균풍속</th>\n",
       "      <th>10분평균기온</th>\n",
       "      <th>강수유무</th>\n",
       "      <th>10분평균상대습도</th>\n",
       "      <th>10분일사량합</th>\n",
       "      <th>10분평균지면온도</th>\n",
       "      <th>시정구간</th>\n",
       "      <th>ground</th>\n",
       "      <th>alpha</th>\n",
       "      <th>dew_point</th>\n",
       "    </tr>\n",
       "  </thead>\n",
       "  <tbody>\n",
       "  </tbody>\n",
       "</table>\n",
       "</div>"
      ],
      "text/plain": [
       "Empty DataFrame\n",
       "Columns: [년도, 월, 일, 시간, 분, 지점번호, 10분평균풍향, 10분평균풍속, 10분평균기온, 강수유무, 10분평균상대습도, 10분일사량합, 10분평균지면온도, 시정구간, ground, alpha, dew_point]\n",
       "Index: []"
      ]
     },
     "execution_count": 240,
     "metadata": {},
     "output_type": "execute_result"
    }
   ],
   "source": [
    "test[test[\"시정구간\"].isna()]"
   ]
  },
  {
   "cell_type": "code",
   "execution_count": 242,
   "metadata": {},
   "outputs": [
    {
     "data": {
      "text/plain": [
       "시정구간\n",
       "4    260225\n",
       "1      2222\n",
       "3       228\n",
       "2       125\n",
       "Name: count, dtype: int64"
      ]
     },
     "execution_count": 242,
     "metadata": {},
     "output_type": "execute_result"
    }
   ],
   "source": [
    "test[\"시정구간\"].value_counts()"
   ]
  },
  {
   "cell_type": "code",
   "execution_count": 243,
   "metadata": {},
   "outputs": [],
   "source": [
    "original_test = pd.read_csv(DATA / \"fog_test.csv\")"
   ]
  },
  {
   "cell_type": "code",
   "execution_count": 244,
   "metadata": {},
   "outputs": [],
   "source": [
    "original_test\n",
    "del original_test[\"Unnamed: 0\"]"
   ]
  },
  {
   "cell_type": "code",
   "execution_count": 245,
   "metadata": {},
   "outputs": [
    {
     "data": {
      "text/html": [
       "<div>\n",
       "<style scoped>\n",
       "    .dataframe tbody tr th:only-of-type {\n",
       "        vertical-align: middle;\n",
       "    }\n",
       "\n",
       "    .dataframe tbody tr th {\n",
       "        vertical-align: top;\n",
       "    }\n",
       "\n",
       "    .dataframe thead th {\n",
       "        text-align: right;\n",
       "    }\n",
       "</style>\n",
       "<table border=\"1\" class=\"dataframe\">\n",
       "  <thead>\n",
       "    <tr style=\"text-align: right;\">\n",
       "      <th></th>\n",
       "      <th>fog_test.year</th>\n",
       "      <th>fog_test.month</th>\n",
       "      <th>fog_test.day</th>\n",
       "      <th>fog_test.time</th>\n",
       "      <th>fog_test.minute</th>\n",
       "      <th>fog_test.stn_id</th>\n",
       "      <th>fog_test.ws10_deg</th>\n",
       "      <th>fog_test.ws10_ms</th>\n",
       "      <th>fog_test.ta</th>\n",
       "      <th>fog_test.re</th>\n",
       "      <th>fog_test.hm</th>\n",
       "      <th>fog_test.sun10</th>\n",
       "      <th>fog_test.ts</th>\n",
       "      <th>fog_test.class</th>\n",
       "    </tr>\n",
       "  </thead>\n",
       "  <tbody>\n",
       "    <tr>\n",
       "      <th>0</th>\n",
       "      <td>L</td>\n",
       "      <td>1</td>\n",
       "      <td>1</td>\n",
       "      <td>0</td>\n",
       "      <td>0</td>\n",
       "      <td>AI</td>\n",
       "      <td>329.5</td>\n",
       "      <td>0.6</td>\n",
       "      <td>-2.5</td>\n",
       "      <td>0.0</td>\n",
       "      <td>87.5</td>\n",
       "      <td>0.0</td>\n",
       "      <td>-1.6</td>\n",
       "      <td>NaN</td>\n",
       "    </tr>\n",
       "    <tr>\n",
       "      <th>1</th>\n",
       "      <td>L</td>\n",
       "      <td>1</td>\n",
       "      <td>1</td>\n",
       "      <td>0</td>\n",
       "      <td>10</td>\n",
       "      <td>AI</td>\n",
       "      <td>321.8</td>\n",
       "      <td>1.2</td>\n",
       "      <td>-2.5</td>\n",
       "      <td>0.0</td>\n",
       "      <td>88.2</td>\n",
       "      <td>0.0</td>\n",
       "      <td>-1.6</td>\n",
       "      <td>NaN</td>\n",
       "    </tr>\n",
       "    <tr>\n",
       "      <th>2</th>\n",
       "      <td>L</td>\n",
       "      <td>1</td>\n",
       "      <td>1</td>\n",
       "      <td>0</td>\n",
       "      <td>20</td>\n",
       "      <td>AI</td>\n",
       "      <td>0.4</td>\n",
       "      <td>0.4</td>\n",
       "      <td>-2.5</td>\n",
       "      <td>0.0</td>\n",
       "      <td>88.6</td>\n",
       "      <td>0.0</td>\n",
       "      <td>-1.7</td>\n",
       "      <td>NaN</td>\n",
       "    </tr>\n",
       "    <tr>\n",
       "      <th>3</th>\n",
       "      <td>L</td>\n",
       "      <td>1</td>\n",
       "      <td>1</td>\n",
       "      <td>0</td>\n",
       "      <td>30</td>\n",
       "      <td>AI</td>\n",
       "      <td>323.6</td>\n",
       "      <td>0.7</td>\n",
       "      <td>-2.6</td>\n",
       "      <td>0.0</td>\n",
       "      <td>88.7</td>\n",
       "      <td>0.0</td>\n",
       "      <td>-1.6</td>\n",
       "      <td>NaN</td>\n",
       "    </tr>\n",
       "    <tr>\n",
       "      <th>4</th>\n",
       "      <td>L</td>\n",
       "      <td>1</td>\n",
       "      <td>1</td>\n",
       "      <td>0</td>\n",
       "      <td>40</td>\n",
       "      <td>AI</td>\n",
       "      <td>208.4</td>\n",
       "      <td>0.2</td>\n",
       "      <td>-2.6</td>\n",
       "      <td>0.0</td>\n",
       "      <td>89.0</td>\n",
       "      <td>0.0</td>\n",
       "      <td>-1.6</td>\n",
       "      <td>NaN</td>\n",
       "    </tr>\n",
       "    <tr>\n",
       "      <th>...</th>\n",
       "      <td>...</td>\n",
       "      <td>...</td>\n",
       "      <td>...</td>\n",
       "      <td>...</td>\n",
       "      <td>...</td>\n",
       "      <td>...</td>\n",
       "      <td>...</td>\n",
       "      <td>...</td>\n",
       "      <td>...</td>\n",
       "      <td>...</td>\n",
       "      <td>...</td>\n",
       "      <td>...</td>\n",
       "      <td>...</td>\n",
       "      <td>...</td>\n",
       "    </tr>\n",
       "    <tr>\n",
       "      <th>262795</th>\n",
       "      <td>L</td>\n",
       "      <td>12</td>\n",
       "      <td>31</td>\n",
       "      <td>23</td>\n",
       "      <td>10</td>\n",
       "      <td>ED</td>\n",
       "      <td>338.8</td>\n",
       "      <td>6.1</td>\n",
       "      <td>4.5</td>\n",
       "      <td>0.0</td>\n",
       "      <td>71.3</td>\n",
       "      <td>0.0</td>\n",
       "      <td>1.9</td>\n",
       "      <td>NaN</td>\n",
       "    </tr>\n",
       "    <tr>\n",
       "      <th>262796</th>\n",
       "      <td>L</td>\n",
       "      <td>12</td>\n",
       "      <td>31</td>\n",
       "      <td>23</td>\n",
       "      <td>20</td>\n",
       "      <td>ED</td>\n",
       "      <td>335.2</td>\n",
       "      <td>5.8</td>\n",
       "      <td>4.6</td>\n",
       "      <td>0.0</td>\n",
       "      <td>71.4</td>\n",
       "      <td>0.0</td>\n",
       "      <td>1.9</td>\n",
       "      <td>NaN</td>\n",
       "    </tr>\n",
       "    <tr>\n",
       "      <th>262797</th>\n",
       "      <td>L</td>\n",
       "      <td>12</td>\n",
       "      <td>31</td>\n",
       "      <td>23</td>\n",
       "      <td>30</td>\n",
       "      <td>ED</td>\n",
       "      <td>337.1</td>\n",
       "      <td>5.3</td>\n",
       "      <td>4.5</td>\n",
       "      <td>0.0</td>\n",
       "      <td>72.1</td>\n",
       "      <td>0.0</td>\n",
       "      <td>1.8</td>\n",
       "      <td>NaN</td>\n",
       "    </tr>\n",
       "    <tr>\n",
       "      <th>262798</th>\n",
       "      <td>L</td>\n",
       "      <td>12</td>\n",
       "      <td>31</td>\n",
       "      <td>23</td>\n",
       "      <td>40</td>\n",
       "      <td>ED</td>\n",
       "      <td>322.0</td>\n",
       "      <td>3.7</td>\n",
       "      <td>4.3</td>\n",
       "      <td>0.0</td>\n",
       "      <td>72.5</td>\n",
       "      <td>0.0</td>\n",
       "      <td>1.4</td>\n",
       "      <td>NaN</td>\n",
       "    </tr>\n",
       "    <tr>\n",
       "      <th>262799</th>\n",
       "      <td>L</td>\n",
       "      <td>12</td>\n",
       "      <td>31</td>\n",
       "      <td>23</td>\n",
       "      <td>50</td>\n",
       "      <td>ED</td>\n",
       "      <td>33.6</td>\n",
       "      <td>2.8</td>\n",
       "      <td>4.3</td>\n",
       "      <td>0.0</td>\n",
       "      <td>73.7</td>\n",
       "      <td>0.0</td>\n",
       "      <td>1.3</td>\n",
       "      <td>NaN</td>\n",
       "    </tr>\n",
       "  </tbody>\n",
       "</table>\n",
       "<p>262800 rows × 14 columns</p>\n",
       "</div>"
      ],
      "text/plain": [
       "       fog_test.year  fog_test.month  fog_test.day  fog_test.time  \\\n",
       "0                  L               1             1              0   \n",
       "1                  L               1             1              0   \n",
       "2                  L               1             1              0   \n",
       "3                  L               1             1              0   \n",
       "4                  L               1             1              0   \n",
       "...              ...             ...           ...            ...   \n",
       "262795             L              12            31             23   \n",
       "262796             L              12            31             23   \n",
       "262797             L              12            31             23   \n",
       "262798             L              12            31             23   \n",
       "262799             L              12            31             23   \n",
       "\n",
       "        fog_test.minute fog_test.stn_id  fog_test.ws10_deg  fog_test.ws10_ms  \\\n",
       "0                     0              AI              329.5               0.6   \n",
       "1                    10              AI              321.8               1.2   \n",
       "2                    20              AI                0.4               0.4   \n",
       "3                    30              AI              323.6               0.7   \n",
       "4                    40              AI              208.4               0.2   \n",
       "...                 ...             ...                ...               ...   \n",
       "262795               10              ED              338.8               6.1   \n",
       "262796               20              ED              335.2               5.8   \n",
       "262797               30              ED              337.1               5.3   \n",
       "262798               40              ED              322.0               3.7   \n",
       "262799               50              ED               33.6               2.8   \n",
       "\n",
       "        fog_test.ta  fog_test.re  fog_test.hm  fog_test.sun10  fog_test.ts  \\\n",
       "0              -2.5          0.0         87.5             0.0         -1.6   \n",
       "1              -2.5          0.0         88.2             0.0         -1.6   \n",
       "2              -2.5          0.0         88.6             0.0         -1.7   \n",
       "3              -2.6          0.0         88.7             0.0         -1.6   \n",
       "4              -2.6          0.0         89.0             0.0         -1.6   \n",
       "...             ...          ...          ...             ...          ...   \n",
       "262795          4.5          0.0         71.3             0.0          1.9   \n",
       "262796          4.6          0.0         71.4             0.0          1.9   \n",
       "262797          4.5          0.0         72.1             0.0          1.8   \n",
       "262798          4.3          0.0         72.5             0.0          1.4   \n",
       "262799          4.3          0.0         73.7             0.0          1.3   \n",
       "\n",
       "        fog_test.class  \n",
       "0                  NaN  \n",
       "1                  NaN  \n",
       "2                  NaN  \n",
       "3                  NaN  \n",
       "4                  NaN  \n",
       "...                ...  \n",
       "262795             NaN  \n",
       "262796             NaN  \n",
       "262797             NaN  \n",
       "262798             NaN  \n",
       "262799             NaN  \n",
       "\n",
       "[262800 rows x 14 columns]"
      ]
     },
     "execution_count": 245,
     "metadata": {},
     "output_type": "execute_result"
    }
   ],
   "source": [
    "original_test"
   ]
  },
  {
   "cell_type": "code",
   "execution_count": 250,
   "metadata": {},
   "outputs": [],
   "source": [
    "test = test.iloc[:, :-3]"
   ]
  },
  {
   "cell_type": "code",
   "execution_count": 251,
   "metadata": {},
   "outputs": [],
   "source": [
    "test.columns = original_test.columns"
   ]
  },
  {
   "cell_type": "code",
   "execution_count": 252,
   "metadata": {},
   "outputs": [
    {
     "data": {
      "text/html": [
       "<div>\n",
       "<style scoped>\n",
       "    .dataframe tbody tr th:only-of-type {\n",
       "        vertical-align: middle;\n",
       "    }\n",
       "\n",
       "    .dataframe tbody tr th {\n",
       "        vertical-align: top;\n",
       "    }\n",
       "\n",
       "    .dataframe thead th {\n",
       "        text-align: right;\n",
       "    }\n",
       "</style>\n",
       "<table border=\"1\" class=\"dataframe\">\n",
       "  <thead>\n",
       "    <tr style=\"text-align: right;\">\n",
       "      <th></th>\n",
       "      <th>fog_test.year</th>\n",
       "      <th>fog_test.month</th>\n",
       "      <th>fog_test.day</th>\n",
       "      <th>fog_test.time</th>\n",
       "      <th>fog_test.minute</th>\n",
       "      <th>fog_test.stn_id</th>\n",
       "      <th>fog_test.ws10_deg</th>\n",
       "      <th>fog_test.ws10_ms</th>\n",
       "      <th>fog_test.ta</th>\n",
       "      <th>fog_test.re</th>\n",
       "      <th>fog_test.hm</th>\n",
       "      <th>fog_test.sun10</th>\n",
       "      <th>fog_test.ts</th>\n",
       "      <th>fog_test.class</th>\n",
       "    </tr>\n",
       "  </thead>\n",
       "  <tbody>\n",
       "    <tr>\n",
       "      <th>0</th>\n",
       "      <td>L</td>\n",
       "      <td>1.0</td>\n",
       "      <td>1.0</td>\n",
       "      <td>0.0</td>\n",
       "      <td>0.0</td>\n",
       "      <td>AI</td>\n",
       "      <td>329.5</td>\n",
       "      <td>0.6</td>\n",
       "      <td>-2.5</td>\n",
       "      <td>0</td>\n",
       "      <td>87.5</td>\n",
       "      <td>0.0</td>\n",
       "      <td>-1.6</td>\n",
       "      <td>4</td>\n",
       "    </tr>\n",
       "    <tr>\n",
       "      <th>1</th>\n",
       "      <td>L</td>\n",
       "      <td>1.0</td>\n",
       "      <td>1.0</td>\n",
       "      <td>0.0</td>\n",
       "      <td>10.0</td>\n",
       "      <td>AI</td>\n",
       "      <td>321.8</td>\n",
       "      <td>1.2</td>\n",
       "      <td>-2.5</td>\n",
       "      <td>0</td>\n",
       "      <td>88.2</td>\n",
       "      <td>0.0</td>\n",
       "      <td>-1.6</td>\n",
       "      <td>4</td>\n",
       "    </tr>\n",
       "    <tr>\n",
       "      <th>2</th>\n",
       "      <td>L</td>\n",
       "      <td>1.0</td>\n",
       "      <td>1.0</td>\n",
       "      <td>0.0</td>\n",
       "      <td>20.0</td>\n",
       "      <td>AI</td>\n",
       "      <td>0.4</td>\n",
       "      <td>0.4</td>\n",
       "      <td>-2.5</td>\n",
       "      <td>0</td>\n",
       "      <td>88.6</td>\n",
       "      <td>0.0</td>\n",
       "      <td>-1.7</td>\n",
       "      <td>4</td>\n",
       "    </tr>\n",
       "    <tr>\n",
       "      <th>3</th>\n",
       "      <td>L</td>\n",
       "      <td>1.0</td>\n",
       "      <td>1.0</td>\n",
       "      <td>0.0</td>\n",
       "      <td>30.0</td>\n",
       "      <td>AI</td>\n",
       "      <td>323.6</td>\n",
       "      <td>0.7</td>\n",
       "      <td>-2.6</td>\n",
       "      <td>0</td>\n",
       "      <td>88.7</td>\n",
       "      <td>0.0</td>\n",
       "      <td>-1.6</td>\n",
       "      <td>4</td>\n",
       "    </tr>\n",
       "    <tr>\n",
       "      <th>4</th>\n",
       "      <td>L</td>\n",
       "      <td>1.0</td>\n",
       "      <td>1.0</td>\n",
       "      <td>0.0</td>\n",
       "      <td>40.0</td>\n",
       "      <td>AI</td>\n",
       "      <td>208.4</td>\n",
       "      <td>0.2</td>\n",
       "      <td>-2.6</td>\n",
       "      <td>0</td>\n",
       "      <td>89.0</td>\n",
       "      <td>0.0</td>\n",
       "      <td>-1.6</td>\n",
       "      <td>4</td>\n",
       "    </tr>\n",
       "    <tr>\n",
       "      <th>...</th>\n",
       "      <td>...</td>\n",
       "      <td>...</td>\n",
       "      <td>...</td>\n",
       "      <td>...</td>\n",
       "      <td>...</td>\n",
       "      <td>...</td>\n",
       "      <td>...</td>\n",
       "      <td>...</td>\n",
       "      <td>...</td>\n",
       "      <td>...</td>\n",
       "      <td>...</td>\n",
       "      <td>...</td>\n",
       "      <td>...</td>\n",
       "      <td>...</td>\n",
       "    </tr>\n",
       "    <tr>\n",
       "      <th>262795</th>\n",
       "      <td>L</td>\n",
       "      <td>12.0</td>\n",
       "      <td>31.0</td>\n",
       "      <td>23.0</td>\n",
       "      <td>10.0</td>\n",
       "      <td>ED</td>\n",
       "      <td>338.8</td>\n",
       "      <td>6.1</td>\n",
       "      <td>4.5</td>\n",
       "      <td>0</td>\n",
       "      <td>71.3</td>\n",
       "      <td>0.0</td>\n",
       "      <td>1.9</td>\n",
       "      <td>4</td>\n",
       "    </tr>\n",
       "    <tr>\n",
       "      <th>262796</th>\n",
       "      <td>L</td>\n",
       "      <td>12.0</td>\n",
       "      <td>31.0</td>\n",
       "      <td>23.0</td>\n",
       "      <td>20.0</td>\n",
       "      <td>ED</td>\n",
       "      <td>335.2</td>\n",
       "      <td>5.8</td>\n",
       "      <td>4.6</td>\n",
       "      <td>0</td>\n",
       "      <td>71.4</td>\n",
       "      <td>0.0</td>\n",
       "      <td>1.9</td>\n",
       "      <td>4</td>\n",
       "    </tr>\n",
       "    <tr>\n",
       "      <th>262797</th>\n",
       "      <td>L</td>\n",
       "      <td>12.0</td>\n",
       "      <td>31.0</td>\n",
       "      <td>23.0</td>\n",
       "      <td>30.0</td>\n",
       "      <td>ED</td>\n",
       "      <td>337.1</td>\n",
       "      <td>5.3</td>\n",
       "      <td>4.5</td>\n",
       "      <td>0</td>\n",
       "      <td>72.1</td>\n",
       "      <td>0.0</td>\n",
       "      <td>1.8</td>\n",
       "      <td>4</td>\n",
       "    </tr>\n",
       "    <tr>\n",
       "      <th>262798</th>\n",
       "      <td>L</td>\n",
       "      <td>12.0</td>\n",
       "      <td>31.0</td>\n",
       "      <td>23.0</td>\n",
       "      <td>40.0</td>\n",
       "      <td>ED</td>\n",
       "      <td>322.0</td>\n",
       "      <td>3.7</td>\n",
       "      <td>4.3</td>\n",
       "      <td>0</td>\n",
       "      <td>72.5</td>\n",
       "      <td>0.0</td>\n",
       "      <td>1.4</td>\n",
       "      <td>4</td>\n",
       "    </tr>\n",
       "    <tr>\n",
       "      <th>262799</th>\n",
       "      <td>L</td>\n",
       "      <td>12.0</td>\n",
       "      <td>31.0</td>\n",
       "      <td>23.0</td>\n",
       "      <td>50.0</td>\n",
       "      <td>ED</td>\n",
       "      <td>33.6</td>\n",
       "      <td>2.8</td>\n",
       "      <td>4.3</td>\n",
       "      <td>0</td>\n",
       "      <td>73.7</td>\n",
       "      <td>0.0</td>\n",
       "      <td>1.3</td>\n",
       "      <td>4</td>\n",
       "    </tr>\n",
       "  </tbody>\n",
       "</table>\n",
       "<p>262800 rows × 14 columns</p>\n",
       "</div>"
      ],
      "text/plain": [
       "       fog_test.year  fog_test.month  fog_test.day  fog_test.time  \\\n",
       "0                  L             1.0           1.0            0.0   \n",
       "1                  L             1.0           1.0            0.0   \n",
       "2                  L             1.0           1.0            0.0   \n",
       "3                  L             1.0           1.0            0.0   \n",
       "4                  L             1.0           1.0            0.0   \n",
       "...              ...             ...           ...            ...   \n",
       "262795             L            12.0          31.0           23.0   \n",
       "262796             L            12.0          31.0           23.0   \n",
       "262797             L            12.0          31.0           23.0   \n",
       "262798             L            12.0          31.0           23.0   \n",
       "262799             L            12.0          31.0           23.0   \n",
       "\n",
       "        fog_test.minute fog_test.stn_id  fog_test.ws10_deg  fog_test.ws10_ms  \\\n",
       "0                   0.0              AI              329.5               0.6   \n",
       "1                  10.0              AI              321.8               1.2   \n",
       "2                  20.0              AI                0.4               0.4   \n",
       "3                  30.0              AI              323.6               0.7   \n",
       "4                  40.0              AI              208.4               0.2   \n",
       "...                 ...             ...                ...               ...   \n",
       "262795             10.0              ED              338.8               6.1   \n",
       "262796             20.0              ED              335.2               5.8   \n",
       "262797             30.0              ED              337.1               5.3   \n",
       "262798             40.0              ED              322.0               3.7   \n",
       "262799             50.0              ED               33.6               2.8   \n",
       "\n",
       "        fog_test.ta  fog_test.re  fog_test.hm  fog_test.sun10  fog_test.ts  \\\n",
       "0              -2.5            0         87.5             0.0         -1.6   \n",
       "1              -2.5            0         88.2             0.0         -1.6   \n",
       "2              -2.5            0         88.6             0.0         -1.7   \n",
       "3              -2.6            0         88.7             0.0         -1.6   \n",
       "4              -2.6            0         89.0             0.0         -1.6   \n",
       "...             ...          ...          ...             ...          ...   \n",
       "262795          4.5            0         71.3             0.0          1.9   \n",
       "262796          4.6            0         71.4             0.0          1.9   \n",
       "262797          4.5            0         72.1             0.0          1.8   \n",
       "262798          4.3            0         72.5             0.0          1.4   \n",
       "262799          4.3            0         73.7             0.0          1.3   \n",
       "\n",
       "        fog_test.class  \n",
       "0                    4  \n",
       "1                    4  \n",
       "2                    4  \n",
       "3                    4  \n",
       "4                    4  \n",
       "...                ...  \n",
       "262795               4  \n",
       "262796               4  \n",
       "262797               4  \n",
       "262798               4  \n",
       "262799               4  \n",
       "\n",
       "[262800 rows x 14 columns]"
      ]
     },
     "execution_count": 252,
     "metadata": {},
     "output_type": "execute_result"
    }
   ],
   "source": [
    "test"
   ]
  },
  {
   "cell_type": "code",
   "execution_count": 253,
   "metadata": {},
   "outputs": [],
   "source": [
    "test.to_csv(\"240253.csv\", index=False)"
   ]
  },
  {
   "cell_type": "code",
   "execution_count": null,
   "metadata": {},
   "outputs": [],
   "source": []
  }
 ],
 "metadata": {
  "kernelspec": {
   "display_name": "anomaly",
   "language": "python",
   "name": "python3"
  },
  "language_info": {
   "codemirror_mode": {
    "name": "ipython",
    "version": 3
   },
   "file_extension": ".py",
   "mimetype": "text/x-python",
   "name": "python",
   "nbconvert_exporter": "python",
   "pygments_lexer": "ipython3",
   "version": "3.9.18"
  }
 },
 "nbformat": 4,
 "nbformat_minor": 2
}
