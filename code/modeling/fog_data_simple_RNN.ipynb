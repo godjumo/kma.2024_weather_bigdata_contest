{
 "cells": [
  {
   "cell_type": "code",
   "execution_count": 1,
   "metadata": {},
   "outputs": [],
   "source": [
    "import pandas as pd\n",
    "import numpy as np\n",
    "import matplotlib.pyplot as plt\n",
    "import matplotlib.font_manager as fm\n",
    "fe = fm.FontEntry(\n",
    "    fname=r'/usr/share/fonts/truetype/nanum/NanumGothic.ttf',\n",
    "    name='NanumGothic'\n",
    ")\n",
    "fm.fontManager.ttflist.insert(0, fe)\n",
    "plt.rcParams.update({\"font.size\" : 10, \n",
    "                     \"font.family\" : 'NanumGothic',\n",
    "                     \"axes.unicode_minus\" : False})\n",
    "plt.rc(\"font\", family = 'NanumGothic')\n",
    "import seaborn as sns\n",
    "from pathlib import Path"
   ]
  },
  {
   "cell_type": "code",
   "execution_count": 2,
   "metadata": {},
   "outputs": [],
   "source": [
    "DATA = Path(\"../../data\")"
   ]
  },
  {
   "cell_type": "code",
   "execution_count": 3,
   "metadata": {},
   "outputs": [],
   "source": [
    "train = pd.read_csv(DATA / \"fog_train_knn-imputate.csv\")\n",
    "test = pd.read_csv(DATA / \"fog_test_01.csv\")"
   ]
  },
  {
   "cell_type": "code",
   "execution_count": 4,
   "metadata": {},
   "outputs": [
    {
     "data": {
      "text/html": [
       "<div>\n",
       "<style scoped>\n",
       "    .dataframe tbody tr th:only-of-type {\n",
       "        vertical-align: middle;\n",
       "    }\n",
       "\n",
       "    .dataframe tbody tr th {\n",
       "        vertical-align: top;\n",
       "    }\n",
       "\n",
       "    .dataframe thead th {\n",
       "        text-align: right;\n",
       "    }\n",
       "</style>\n",
       "<table border=\"1\" class=\"dataframe\">\n",
       "  <thead>\n",
       "    <tr style=\"text-align: right;\">\n",
       "      <th></th>\n",
       "      <th>년도</th>\n",
       "      <th>월</th>\n",
       "      <th>일</th>\n",
       "      <th>시간</th>\n",
       "      <th>분</th>\n",
       "      <th>년월일시분</th>\n",
       "      <th>지점번호</th>\n",
       "      <th>10분평균풍향</th>\n",
       "      <th>10분평균풍속</th>\n",
       "      <th>10분평균기온</th>\n",
       "      <th>10분평균상대습도</th>\n",
       "      <th>10분일사량합</th>\n",
       "      <th>10분평균지면온도</th>\n",
       "      <th>10분평균시정</th>\n",
       "      <th>시정구간</th>\n",
       "      <th>강수유무</th>\n",
       "      <th>NaN유무</th>\n",
       "    </tr>\n",
       "  </thead>\n",
       "  <tbody>\n",
       "    <tr>\n",
       "      <th>0</th>\n",
       "      <td>I</td>\n",
       "      <td>1</td>\n",
       "      <td>1</td>\n",
       "      <td>0</td>\n",
       "      <td>10</td>\n",
       "      <td>2020-01-01 00:10:00</td>\n",
       "      <td>AA</td>\n",
       "      <td>0.0</td>\n",
       "      <td>0.0</td>\n",
       "      <td>-6.4</td>\n",
       "      <td>38.9</td>\n",
       "      <td>0.0</td>\n",
       "      <td>-2.8</td>\n",
       "      <td>20000.0</td>\n",
       "      <td>4</td>\n",
       "      <td>0</td>\n",
       "      <td>0</td>\n",
       "    </tr>\n",
       "    <tr>\n",
       "      <th>1</th>\n",
       "      <td>I</td>\n",
       "      <td>1</td>\n",
       "      <td>1</td>\n",
       "      <td>0</td>\n",
       "      <td>20</td>\n",
       "      <td>2020-01-01 00:20:00</td>\n",
       "      <td>AA</td>\n",
       "      <td>0.0</td>\n",
       "      <td>0.0</td>\n",
       "      <td>-6.3</td>\n",
       "      <td>37.9</td>\n",
       "      <td>0.0</td>\n",
       "      <td>-2.7</td>\n",
       "      <td>20000.0</td>\n",
       "      <td>4</td>\n",
       "      <td>0</td>\n",
       "      <td>0</td>\n",
       "    </tr>\n",
       "    <tr>\n",
       "      <th>2</th>\n",
       "      <td>I</td>\n",
       "      <td>1</td>\n",
       "      <td>1</td>\n",
       "      <td>0</td>\n",
       "      <td>30</td>\n",
       "      <td>2020-01-01 00:30:00</td>\n",
       "      <td>AA</td>\n",
       "      <td>0.0</td>\n",
       "      <td>0.0</td>\n",
       "      <td>-6.3</td>\n",
       "      <td>40.0</td>\n",
       "      <td>0.0</td>\n",
       "      <td>-2.6</td>\n",
       "      <td>20000.0</td>\n",
       "      <td>4</td>\n",
       "      <td>0</td>\n",
       "      <td>0</td>\n",
       "    </tr>\n",
       "    <tr>\n",
       "      <th>3</th>\n",
       "      <td>I</td>\n",
       "      <td>1</td>\n",
       "      <td>1</td>\n",
       "      <td>0</td>\n",
       "      <td>40</td>\n",
       "      <td>2020-01-01 00:40:00</td>\n",
       "      <td>AA</td>\n",
       "      <td>27.8</td>\n",
       "      <td>0.4</td>\n",
       "      <td>-6.2</td>\n",
       "      <td>39.5</td>\n",
       "      <td>0.0</td>\n",
       "      <td>-2.6</td>\n",
       "      <td>20000.0</td>\n",
       "      <td>4</td>\n",
       "      <td>0</td>\n",
       "      <td>0</td>\n",
       "    </tr>\n",
       "    <tr>\n",
       "      <th>4</th>\n",
       "      <td>I</td>\n",
       "      <td>1</td>\n",
       "      <td>1</td>\n",
       "      <td>0</td>\n",
       "      <td>50</td>\n",
       "      <td>2020-01-01 00:50:00</td>\n",
       "      <td>AA</td>\n",
       "      <td>59.7</td>\n",
       "      <td>0.5</td>\n",
       "      <td>-6.1</td>\n",
       "      <td>39.8</td>\n",
       "      <td>0.0</td>\n",
       "      <td>-2.5</td>\n",
       "      <td>20000.0</td>\n",
       "      <td>4</td>\n",
       "      <td>0</td>\n",
       "      <td>0</td>\n",
       "    </tr>\n",
       "    <tr>\n",
       "      <th>...</th>\n",
       "      <td>...</td>\n",
       "      <td>...</td>\n",
       "      <td>...</td>\n",
       "      <td>...</td>\n",
       "      <td>...</td>\n",
       "      <td>...</td>\n",
       "      <td>...</td>\n",
       "      <td>...</td>\n",
       "      <td>...</td>\n",
       "      <td>...</td>\n",
       "      <td>...</td>\n",
       "      <td>...</td>\n",
       "      <td>...</td>\n",
       "      <td>...</td>\n",
       "      <td>...</td>\n",
       "      <td>...</td>\n",
       "      <td>...</td>\n",
       "    </tr>\n",
       "    <tr>\n",
       "      <th>3156455</th>\n",
       "      <td>K</td>\n",
       "      <td>12</td>\n",
       "      <td>31</td>\n",
       "      <td>23</td>\n",
       "      <td>10</td>\n",
       "      <td>2022-12-31 23:10:00</td>\n",
       "      <td>EC</td>\n",
       "      <td>305.3</td>\n",
       "      <td>7.7</td>\n",
       "      <td>2.5</td>\n",
       "      <td>50.2</td>\n",
       "      <td>0.0</td>\n",
       "      <td>-0.9</td>\n",
       "      <td>20000.0</td>\n",
       "      <td>4</td>\n",
       "      <td>0</td>\n",
       "      <td>0</td>\n",
       "    </tr>\n",
       "    <tr>\n",
       "      <th>3156456</th>\n",
       "      <td>K</td>\n",
       "      <td>12</td>\n",
       "      <td>31</td>\n",
       "      <td>23</td>\n",
       "      <td>20</td>\n",
       "      <td>2022-12-31 23:20:00</td>\n",
       "      <td>EC</td>\n",
       "      <td>293.8</td>\n",
       "      <td>5.7</td>\n",
       "      <td>2.3</td>\n",
       "      <td>50.1</td>\n",
       "      <td>0.0</td>\n",
       "      <td>-1.3</td>\n",
       "      <td>20000.0</td>\n",
       "      <td>4</td>\n",
       "      <td>0</td>\n",
       "      <td>0</td>\n",
       "    </tr>\n",
       "    <tr>\n",
       "      <th>3156457</th>\n",
       "      <td>K</td>\n",
       "      <td>12</td>\n",
       "      <td>31</td>\n",
       "      <td>23</td>\n",
       "      <td>30</td>\n",
       "      <td>2022-12-31 23:30:00</td>\n",
       "      <td>EC</td>\n",
       "      <td>274.2</td>\n",
       "      <td>4.9</td>\n",
       "      <td>2.2</td>\n",
       "      <td>51.0</td>\n",
       "      <td>0.0</td>\n",
       "      <td>-1.4</td>\n",
       "      <td>20000.0</td>\n",
       "      <td>4</td>\n",
       "      <td>0</td>\n",
       "      <td>0</td>\n",
       "    </tr>\n",
       "    <tr>\n",
       "      <th>3156458</th>\n",
       "      <td>K</td>\n",
       "      <td>12</td>\n",
       "      <td>31</td>\n",
       "      <td>23</td>\n",
       "      <td>40</td>\n",
       "      <td>2022-12-31 23:40:00</td>\n",
       "      <td>EC</td>\n",
       "      <td>270.3</td>\n",
       "      <td>4.6</td>\n",
       "      <td>2.1</td>\n",
       "      <td>51.7</td>\n",
       "      <td>0.0</td>\n",
       "      <td>-1.6</td>\n",
       "      <td>20000.0</td>\n",
       "      <td>4</td>\n",
       "      <td>0</td>\n",
       "      <td>0</td>\n",
       "    </tr>\n",
       "    <tr>\n",
       "      <th>3156459</th>\n",
       "      <td>K</td>\n",
       "      <td>12</td>\n",
       "      <td>31</td>\n",
       "      <td>23</td>\n",
       "      <td>50</td>\n",
       "      <td>2022-12-31 23:50:00</td>\n",
       "      <td>EC</td>\n",
       "      <td>254.8</td>\n",
       "      <td>4.1</td>\n",
       "      <td>2.1</td>\n",
       "      <td>53.3</td>\n",
       "      <td>0.0</td>\n",
       "      <td>-1.7</td>\n",
       "      <td>20000.0</td>\n",
       "      <td>4</td>\n",
       "      <td>0</td>\n",
       "      <td>0</td>\n",
       "    </tr>\n",
       "  </tbody>\n",
       "</table>\n",
       "<p>3156460 rows × 17 columns</p>\n",
       "</div>"
      ],
      "text/plain": [
       "        년도   월   일  시간   분                년월일시분 지점번호  10분평균풍향  10분평균풍속  \\\n",
       "0        I   1   1   0  10  2020-01-01 00:10:00   AA      0.0      0.0   \n",
       "1        I   1   1   0  20  2020-01-01 00:20:00   AA      0.0      0.0   \n",
       "2        I   1   1   0  30  2020-01-01 00:30:00   AA      0.0      0.0   \n",
       "3        I   1   1   0  40  2020-01-01 00:40:00   AA     27.8      0.4   \n",
       "4        I   1   1   0  50  2020-01-01 00:50:00   AA     59.7      0.5   \n",
       "...     ..  ..  ..  ..  ..                  ...  ...      ...      ...   \n",
       "3156455  K  12  31  23  10  2022-12-31 23:10:00   EC    305.3      7.7   \n",
       "3156456  K  12  31  23  20  2022-12-31 23:20:00   EC    293.8      5.7   \n",
       "3156457  K  12  31  23  30  2022-12-31 23:30:00   EC    274.2      4.9   \n",
       "3156458  K  12  31  23  40  2022-12-31 23:40:00   EC    270.3      4.6   \n",
       "3156459  K  12  31  23  50  2022-12-31 23:50:00   EC    254.8      4.1   \n",
       "\n",
       "         10분평균기온  10분평균상대습도  10분일사량합  10분평균지면온도  10분평균시정  시정구간  강수유무  NaN유무  \n",
       "0           -6.4       38.9      0.0       -2.8  20000.0     4     0      0  \n",
       "1           -6.3       37.9      0.0       -2.7  20000.0     4     0      0  \n",
       "2           -6.3       40.0      0.0       -2.6  20000.0     4     0      0  \n",
       "3           -6.2       39.5      0.0       -2.6  20000.0     4     0      0  \n",
       "4           -6.1       39.8      0.0       -2.5  20000.0     4     0      0  \n",
       "...          ...        ...      ...        ...      ...   ...   ...    ...  \n",
       "3156455      2.5       50.2      0.0       -0.9  20000.0     4     0      0  \n",
       "3156456      2.3       50.1      0.0       -1.3  20000.0     4     0      0  \n",
       "3156457      2.2       51.0      0.0       -1.4  20000.0     4     0      0  \n",
       "3156458      2.1       51.7      0.0       -1.6  20000.0     4     0      0  \n",
       "3156459      2.1       53.3      0.0       -1.7  20000.0     4     0      0  \n",
       "\n",
       "[3156460 rows x 17 columns]"
      ]
     },
     "execution_count": 4,
     "metadata": {},
     "output_type": "execute_result"
    }
   ],
   "source": [
    "train"
   ]
  },
  {
   "cell_type": "code",
   "execution_count": 5,
   "metadata": {},
   "outputs": [
    {
     "data": {
      "text/html": [
       "<div>\n",
       "<style scoped>\n",
       "    .dataframe tbody tr th:only-of-type {\n",
       "        vertical-align: middle;\n",
       "    }\n",
       "\n",
       "    .dataframe tbody tr th {\n",
       "        vertical-align: top;\n",
       "    }\n",
       "\n",
       "    .dataframe thead th {\n",
       "        text-align: right;\n",
       "    }\n",
       "</style>\n",
       "<table border=\"1\" class=\"dataframe\">\n",
       "  <thead>\n",
       "    <tr style=\"text-align: right;\">\n",
       "      <th></th>\n",
       "      <th>년도</th>\n",
       "      <th>월</th>\n",
       "      <th>일</th>\n",
       "      <th>시간</th>\n",
       "      <th>분</th>\n",
       "      <th>지점번호</th>\n",
       "      <th>10분평균풍향</th>\n",
       "      <th>10분평균풍속</th>\n",
       "      <th>10분평균기온</th>\n",
       "      <th>강수유무</th>\n",
       "      <th>10분평균상대습도</th>\n",
       "      <th>10분일사량합</th>\n",
       "      <th>10분평균지면온도</th>\n",
       "      <th>시정구간</th>\n",
       "    </tr>\n",
       "  </thead>\n",
       "  <tbody>\n",
       "    <tr>\n",
       "      <th>0</th>\n",
       "      <td>L</td>\n",
       "      <td>1</td>\n",
       "      <td>1</td>\n",
       "      <td>0</td>\n",
       "      <td>0</td>\n",
       "      <td>AI</td>\n",
       "      <td>329.5</td>\n",
       "      <td>0.6</td>\n",
       "      <td>-2.5</td>\n",
       "      <td>0.0</td>\n",
       "      <td>87.5</td>\n",
       "      <td>0.0</td>\n",
       "      <td>-1.6</td>\n",
       "      <td>NaN</td>\n",
       "    </tr>\n",
       "    <tr>\n",
       "      <th>1</th>\n",
       "      <td>L</td>\n",
       "      <td>1</td>\n",
       "      <td>1</td>\n",
       "      <td>0</td>\n",
       "      <td>10</td>\n",
       "      <td>AI</td>\n",
       "      <td>321.8</td>\n",
       "      <td>1.2</td>\n",
       "      <td>-2.5</td>\n",
       "      <td>0.0</td>\n",
       "      <td>88.2</td>\n",
       "      <td>0.0</td>\n",
       "      <td>-1.6</td>\n",
       "      <td>NaN</td>\n",
       "    </tr>\n",
       "    <tr>\n",
       "      <th>2</th>\n",
       "      <td>L</td>\n",
       "      <td>1</td>\n",
       "      <td>1</td>\n",
       "      <td>0</td>\n",
       "      <td>20</td>\n",
       "      <td>AI</td>\n",
       "      <td>0.4</td>\n",
       "      <td>0.4</td>\n",
       "      <td>-2.5</td>\n",
       "      <td>0.0</td>\n",
       "      <td>88.6</td>\n",
       "      <td>0.0</td>\n",
       "      <td>-1.7</td>\n",
       "      <td>NaN</td>\n",
       "    </tr>\n",
       "    <tr>\n",
       "      <th>3</th>\n",
       "      <td>L</td>\n",
       "      <td>1</td>\n",
       "      <td>1</td>\n",
       "      <td>0</td>\n",
       "      <td>30</td>\n",
       "      <td>AI</td>\n",
       "      <td>323.6</td>\n",
       "      <td>0.7</td>\n",
       "      <td>-2.6</td>\n",
       "      <td>0.0</td>\n",
       "      <td>88.7</td>\n",
       "      <td>0.0</td>\n",
       "      <td>-1.6</td>\n",
       "      <td>NaN</td>\n",
       "    </tr>\n",
       "    <tr>\n",
       "      <th>4</th>\n",
       "      <td>L</td>\n",
       "      <td>1</td>\n",
       "      <td>1</td>\n",
       "      <td>0</td>\n",
       "      <td>40</td>\n",
       "      <td>AI</td>\n",
       "      <td>208.4</td>\n",
       "      <td>0.2</td>\n",
       "      <td>-2.6</td>\n",
       "      <td>0.0</td>\n",
       "      <td>89.0</td>\n",
       "      <td>0.0</td>\n",
       "      <td>-1.6</td>\n",
       "      <td>NaN</td>\n",
       "    </tr>\n",
       "    <tr>\n",
       "      <th>...</th>\n",
       "      <td>...</td>\n",
       "      <td>...</td>\n",
       "      <td>...</td>\n",
       "      <td>...</td>\n",
       "      <td>...</td>\n",
       "      <td>...</td>\n",
       "      <td>...</td>\n",
       "      <td>...</td>\n",
       "      <td>...</td>\n",
       "      <td>...</td>\n",
       "      <td>...</td>\n",
       "      <td>...</td>\n",
       "      <td>...</td>\n",
       "      <td>...</td>\n",
       "    </tr>\n",
       "    <tr>\n",
       "      <th>262795</th>\n",
       "      <td>L</td>\n",
       "      <td>12</td>\n",
       "      <td>31</td>\n",
       "      <td>23</td>\n",
       "      <td>10</td>\n",
       "      <td>ED</td>\n",
       "      <td>338.8</td>\n",
       "      <td>6.1</td>\n",
       "      <td>4.5</td>\n",
       "      <td>0.0</td>\n",
       "      <td>71.3</td>\n",
       "      <td>0.0</td>\n",
       "      <td>1.9</td>\n",
       "      <td>NaN</td>\n",
       "    </tr>\n",
       "    <tr>\n",
       "      <th>262796</th>\n",
       "      <td>L</td>\n",
       "      <td>12</td>\n",
       "      <td>31</td>\n",
       "      <td>23</td>\n",
       "      <td>20</td>\n",
       "      <td>ED</td>\n",
       "      <td>335.2</td>\n",
       "      <td>5.8</td>\n",
       "      <td>4.6</td>\n",
       "      <td>0.0</td>\n",
       "      <td>71.4</td>\n",
       "      <td>0.0</td>\n",
       "      <td>1.9</td>\n",
       "      <td>NaN</td>\n",
       "    </tr>\n",
       "    <tr>\n",
       "      <th>262797</th>\n",
       "      <td>L</td>\n",
       "      <td>12</td>\n",
       "      <td>31</td>\n",
       "      <td>23</td>\n",
       "      <td>30</td>\n",
       "      <td>ED</td>\n",
       "      <td>337.1</td>\n",
       "      <td>5.3</td>\n",
       "      <td>4.5</td>\n",
       "      <td>0.0</td>\n",
       "      <td>72.1</td>\n",
       "      <td>0.0</td>\n",
       "      <td>1.8</td>\n",
       "      <td>NaN</td>\n",
       "    </tr>\n",
       "    <tr>\n",
       "      <th>262798</th>\n",
       "      <td>L</td>\n",
       "      <td>12</td>\n",
       "      <td>31</td>\n",
       "      <td>23</td>\n",
       "      <td>40</td>\n",
       "      <td>ED</td>\n",
       "      <td>322.0</td>\n",
       "      <td>3.7</td>\n",
       "      <td>4.3</td>\n",
       "      <td>0.0</td>\n",
       "      <td>72.5</td>\n",
       "      <td>0.0</td>\n",
       "      <td>1.4</td>\n",
       "      <td>NaN</td>\n",
       "    </tr>\n",
       "    <tr>\n",
       "      <th>262799</th>\n",
       "      <td>L</td>\n",
       "      <td>12</td>\n",
       "      <td>31</td>\n",
       "      <td>23</td>\n",
       "      <td>50</td>\n",
       "      <td>ED</td>\n",
       "      <td>33.6</td>\n",
       "      <td>2.8</td>\n",
       "      <td>4.3</td>\n",
       "      <td>0.0</td>\n",
       "      <td>73.7</td>\n",
       "      <td>0.0</td>\n",
       "      <td>1.3</td>\n",
       "      <td>NaN</td>\n",
       "    </tr>\n",
       "  </tbody>\n",
       "</table>\n",
       "<p>262800 rows × 14 columns</p>\n",
       "</div>"
      ],
      "text/plain": [
       "       년도   월   일  시간   분 지점번호  10분평균풍향  10분평균풍속  10분평균기온  강수유무  10분평균상대습도  \\\n",
       "0       L   1   1   0   0   AI    329.5      0.6     -2.5   0.0       87.5   \n",
       "1       L   1   1   0  10   AI    321.8      1.2     -2.5   0.0       88.2   \n",
       "2       L   1   1   0  20   AI      0.4      0.4     -2.5   0.0       88.6   \n",
       "3       L   1   1   0  30   AI    323.6      0.7     -2.6   0.0       88.7   \n",
       "4       L   1   1   0  40   AI    208.4      0.2     -2.6   0.0       89.0   \n",
       "...    ..  ..  ..  ..  ..  ...      ...      ...      ...   ...        ...   \n",
       "262795  L  12  31  23  10   ED    338.8      6.1      4.5   0.0       71.3   \n",
       "262796  L  12  31  23  20   ED    335.2      5.8      4.6   0.0       71.4   \n",
       "262797  L  12  31  23  30   ED    337.1      5.3      4.5   0.0       72.1   \n",
       "262798  L  12  31  23  40   ED    322.0      3.7      4.3   0.0       72.5   \n",
       "262799  L  12  31  23  50   ED     33.6      2.8      4.3   0.0       73.7   \n",
       "\n",
       "        10분일사량합  10분평균지면온도  시정구간  \n",
       "0           0.0       -1.6   NaN  \n",
       "1           0.0       -1.6   NaN  \n",
       "2           0.0       -1.7   NaN  \n",
       "3           0.0       -1.6   NaN  \n",
       "4           0.0       -1.6   NaN  \n",
       "...         ...        ...   ...  \n",
       "262795      0.0        1.9   NaN  \n",
       "262796      0.0        1.9   NaN  \n",
       "262797      0.0        1.8   NaN  \n",
       "262798      0.0        1.4   NaN  \n",
       "262799      0.0        1.3   NaN  \n",
       "\n",
       "[262800 rows x 14 columns]"
      ]
     },
     "execution_count": 5,
     "metadata": {},
     "output_type": "execute_result"
    }
   ],
   "source": [
    "test"
   ]
  },
  {
   "cell_type": "code",
   "execution_count": 6,
   "metadata": {},
   "outputs": [],
   "source": [
    "import torch\n",
    "import torch.nn as nn\n",
    "import torch.optim as optim"
   ]
  },
  {
   "cell_type": "code",
   "execution_count": 7,
   "metadata": {},
   "outputs": [],
   "source": [
    "train_df = train.loc[:, [\"년도\", \"10분평균풍향\", \"10분평균풍속\", \"10분평균기온\", \"10분평균상대습도\", \"10분일사량합\", \"10분평균지면온도\", \"강수유무\", \"10분평균시정\"]]\n",
    "test_df = test.loc[:, [\"10분평균풍향\", \"10분평균풍속\", \"10분평균기온\", \"10분평균상대습도\", \"10분일사량합\", \"10분평균지면온도\", \"강수유무\"]]"
   ]
  },
  {
   "cell_type": "code",
   "execution_count": 8,
   "metadata": {},
   "outputs": [
    {
     "data": {
      "text/html": [
       "<div>\n",
       "<style scoped>\n",
       "    .dataframe tbody tr th:only-of-type {\n",
       "        vertical-align: middle;\n",
       "    }\n",
       "\n",
       "    .dataframe tbody tr th {\n",
       "        vertical-align: top;\n",
       "    }\n",
       "\n",
       "    .dataframe thead th {\n",
       "        text-align: right;\n",
       "    }\n",
       "</style>\n",
       "<table border=\"1\" class=\"dataframe\">\n",
       "  <thead>\n",
       "    <tr style=\"text-align: right;\">\n",
       "      <th></th>\n",
       "      <th>년도</th>\n",
       "      <th>10분평균풍향</th>\n",
       "      <th>10분평균풍속</th>\n",
       "      <th>10분평균기온</th>\n",
       "      <th>10분평균상대습도</th>\n",
       "      <th>10분일사량합</th>\n",
       "      <th>10분평균지면온도</th>\n",
       "      <th>강수유무</th>\n",
       "      <th>10분평균시정</th>\n",
       "    </tr>\n",
       "  </thead>\n",
       "  <tbody>\n",
       "    <tr>\n",
       "      <th>0</th>\n",
       "      <td>I</td>\n",
       "      <td>0.0</td>\n",
       "      <td>0.0</td>\n",
       "      <td>-6.4</td>\n",
       "      <td>38.9</td>\n",
       "      <td>0.0</td>\n",
       "      <td>-2.8</td>\n",
       "      <td>0</td>\n",
       "      <td>20000.0</td>\n",
       "    </tr>\n",
       "    <tr>\n",
       "      <th>1</th>\n",
       "      <td>I</td>\n",
       "      <td>0.0</td>\n",
       "      <td>0.0</td>\n",
       "      <td>-6.3</td>\n",
       "      <td>37.9</td>\n",
       "      <td>0.0</td>\n",
       "      <td>-2.7</td>\n",
       "      <td>0</td>\n",
       "      <td>20000.0</td>\n",
       "    </tr>\n",
       "    <tr>\n",
       "      <th>2</th>\n",
       "      <td>I</td>\n",
       "      <td>0.0</td>\n",
       "      <td>0.0</td>\n",
       "      <td>-6.3</td>\n",
       "      <td>40.0</td>\n",
       "      <td>0.0</td>\n",
       "      <td>-2.6</td>\n",
       "      <td>0</td>\n",
       "      <td>20000.0</td>\n",
       "    </tr>\n",
       "    <tr>\n",
       "      <th>3</th>\n",
       "      <td>I</td>\n",
       "      <td>27.8</td>\n",
       "      <td>0.4</td>\n",
       "      <td>-6.2</td>\n",
       "      <td>39.5</td>\n",
       "      <td>0.0</td>\n",
       "      <td>-2.6</td>\n",
       "      <td>0</td>\n",
       "      <td>20000.0</td>\n",
       "    </tr>\n",
       "    <tr>\n",
       "      <th>4</th>\n",
       "      <td>I</td>\n",
       "      <td>59.7</td>\n",
       "      <td>0.5</td>\n",
       "      <td>-6.1</td>\n",
       "      <td>39.8</td>\n",
       "      <td>0.0</td>\n",
       "      <td>-2.5</td>\n",
       "      <td>0</td>\n",
       "      <td>20000.0</td>\n",
       "    </tr>\n",
       "    <tr>\n",
       "      <th>...</th>\n",
       "      <td>...</td>\n",
       "      <td>...</td>\n",
       "      <td>...</td>\n",
       "      <td>...</td>\n",
       "      <td>...</td>\n",
       "      <td>...</td>\n",
       "      <td>...</td>\n",
       "      <td>...</td>\n",
       "      <td>...</td>\n",
       "    </tr>\n",
       "    <tr>\n",
       "      <th>3156455</th>\n",
       "      <td>K</td>\n",
       "      <td>305.3</td>\n",
       "      <td>7.7</td>\n",
       "      <td>2.5</td>\n",
       "      <td>50.2</td>\n",
       "      <td>0.0</td>\n",
       "      <td>-0.9</td>\n",
       "      <td>0</td>\n",
       "      <td>20000.0</td>\n",
       "    </tr>\n",
       "    <tr>\n",
       "      <th>3156456</th>\n",
       "      <td>K</td>\n",
       "      <td>293.8</td>\n",
       "      <td>5.7</td>\n",
       "      <td>2.3</td>\n",
       "      <td>50.1</td>\n",
       "      <td>0.0</td>\n",
       "      <td>-1.3</td>\n",
       "      <td>0</td>\n",
       "      <td>20000.0</td>\n",
       "    </tr>\n",
       "    <tr>\n",
       "      <th>3156457</th>\n",
       "      <td>K</td>\n",
       "      <td>274.2</td>\n",
       "      <td>4.9</td>\n",
       "      <td>2.2</td>\n",
       "      <td>51.0</td>\n",
       "      <td>0.0</td>\n",
       "      <td>-1.4</td>\n",
       "      <td>0</td>\n",
       "      <td>20000.0</td>\n",
       "    </tr>\n",
       "    <tr>\n",
       "      <th>3156458</th>\n",
       "      <td>K</td>\n",
       "      <td>270.3</td>\n",
       "      <td>4.6</td>\n",
       "      <td>2.1</td>\n",
       "      <td>51.7</td>\n",
       "      <td>0.0</td>\n",
       "      <td>-1.6</td>\n",
       "      <td>0</td>\n",
       "      <td>20000.0</td>\n",
       "    </tr>\n",
       "    <tr>\n",
       "      <th>3156459</th>\n",
       "      <td>K</td>\n",
       "      <td>254.8</td>\n",
       "      <td>4.1</td>\n",
       "      <td>2.1</td>\n",
       "      <td>53.3</td>\n",
       "      <td>0.0</td>\n",
       "      <td>-1.7</td>\n",
       "      <td>0</td>\n",
       "      <td>20000.0</td>\n",
       "    </tr>\n",
       "  </tbody>\n",
       "</table>\n",
       "<p>3156460 rows × 9 columns</p>\n",
       "</div>"
      ],
      "text/plain": [
       "        년도  10분평균풍향  10분평균풍속  10분평균기온  10분평균상대습도  10분일사량합  10분평균지면온도  강수유무  \\\n",
       "0        I      0.0      0.0     -6.4       38.9      0.0       -2.8     0   \n",
       "1        I      0.0      0.0     -6.3       37.9      0.0       -2.7     0   \n",
       "2        I      0.0      0.0     -6.3       40.0      0.0       -2.6     0   \n",
       "3        I     27.8      0.4     -6.2       39.5      0.0       -2.6     0   \n",
       "4        I     59.7      0.5     -6.1       39.8      0.0       -2.5     0   \n",
       "...     ..      ...      ...      ...        ...      ...        ...   ...   \n",
       "3156455  K    305.3      7.7      2.5       50.2      0.0       -0.9     0   \n",
       "3156456  K    293.8      5.7      2.3       50.1      0.0       -1.3     0   \n",
       "3156457  K    274.2      4.9      2.2       51.0      0.0       -1.4     0   \n",
       "3156458  K    270.3      4.6      2.1       51.7      0.0       -1.6     0   \n",
       "3156459  K    254.8      4.1      2.1       53.3      0.0       -1.7     0   \n",
       "\n",
       "         10분평균시정  \n",
       "0        20000.0  \n",
       "1        20000.0  \n",
       "2        20000.0  \n",
       "3        20000.0  \n",
       "4        20000.0  \n",
       "...          ...  \n",
       "3156455  20000.0  \n",
       "3156456  20000.0  \n",
       "3156457  20000.0  \n",
       "3156458  20000.0  \n",
       "3156459  20000.0  \n",
       "\n",
       "[3156460 rows x 9 columns]"
      ]
     },
     "execution_count": 8,
     "metadata": {},
     "output_type": "execute_result"
    }
   ],
   "source": [
    "train_df"
   ]
  },
  {
   "cell_type": "code",
   "execution_count": 9,
   "metadata": {},
   "outputs": [
    {
     "data": {
      "text/html": [
       "<div>\n",
       "<style scoped>\n",
       "    .dataframe tbody tr th:only-of-type {\n",
       "        vertical-align: middle;\n",
       "    }\n",
       "\n",
       "    .dataframe tbody tr th {\n",
       "        vertical-align: top;\n",
       "    }\n",
       "\n",
       "    .dataframe thead th {\n",
       "        text-align: right;\n",
       "    }\n",
       "</style>\n",
       "<table border=\"1\" class=\"dataframe\">\n",
       "  <thead>\n",
       "    <tr style=\"text-align: right;\">\n",
       "      <th></th>\n",
       "      <th>10분평균풍향</th>\n",
       "      <th>10분평균풍속</th>\n",
       "      <th>10분평균기온</th>\n",
       "      <th>10분평균상대습도</th>\n",
       "      <th>10분일사량합</th>\n",
       "      <th>10분평균지면온도</th>\n",
       "      <th>강수유무</th>\n",
       "    </tr>\n",
       "  </thead>\n",
       "  <tbody>\n",
       "    <tr>\n",
       "      <th>0</th>\n",
       "      <td>329.5</td>\n",
       "      <td>0.6</td>\n",
       "      <td>-2.5</td>\n",
       "      <td>87.5</td>\n",
       "      <td>0.0</td>\n",
       "      <td>-1.6</td>\n",
       "      <td>0.0</td>\n",
       "    </tr>\n",
       "    <tr>\n",
       "      <th>1</th>\n",
       "      <td>321.8</td>\n",
       "      <td>1.2</td>\n",
       "      <td>-2.5</td>\n",
       "      <td>88.2</td>\n",
       "      <td>0.0</td>\n",
       "      <td>-1.6</td>\n",
       "      <td>0.0</td>\n",
       "    </tr>\n",
       "    <tr>\n",
       "      <th>2</th>\n",
       "      <td>0.4</td>\n",
       "      <td>0.4</td>\n",
       "      <td>-2.5</td>\n",
       "      <td>88.6</td>\n",
       "      <td>0.0</td>\n",
       "      <td>-1.7</td>\n",
       "      <td>0.0</td>\n",
       "    </tr>\n",
       "    <tr>\n",
       "      <th>3</th>\n",
       "      <td>323.6</td>\n",
       "      <td>0.7</td>\n",
       "      <td>-2.6</td>\n",
       "      <td>88.7</td>\n",
       "      <td>0.0</td>\n",
       "      <td>-1.6</td>\n",
       "      <td>0.0</td>\n",
       "    </tr>\n",
       "    <tr>\n",
       "      <th>4</th>\n",
       "      <td>208.4</td>\n",
       "      <td>0.2</td>\n",
       "      <td>-2.6</td>\n",
       "      <td>89.0</td>\n",
       "      <td>0.0</td>\n",
       "      <td>-1.6</td>\n",
       "      <td>0.0</td>\n",
       "    </tr>\n",
       "    <tr>\n",
       "      <th>...</th>\n",
       "      <td>...</td>\n",
       "      <td>...</td>\n",
       "      <td>...</td>\n",
       "      <td>...</td>\n",
       "      <td>...</td>\n",
       "      <td>...</td>\n",
       "      <td>...</td>\n",
       "    </tr>\n",
       "    <tr>\n",
       "      <th>262795</th>\n",
       "      <td>338.8</td>\n",
       "      <td>6.1</td>\n",
       "      <td>4.5</td>\n",
       "      <td>71.3</td>\n",
       "      <td>0.0</td>\n",
       "      <td>1.9</td>\n",
       "      <td>0.0</td>\n",
       "    </tr>\n",
       "    <tr>\n",
       "      <th>262796</th>\n",
       "      <td>335.2</td>\n",
       "      <td>5.8</td>\n",
       "      <td>4.6</td>\n",
       "      <td>71.4</td>\n",
       "      <td>0.0</td>\n",
       "      <td>1.9</td>\n",
       "      <td>0.0</td>\n",
       "    </tr>\n",
       "    <tr>\n",
       "      <th>262797</th>\n",
       "      <td>337.1</td>\n",
       "      <td>5.3</td>\n",
       "      <td>4.5</td>\n",
       "      <td>72.1</td>\n",
       "      <td>0.0</td>\n",
       "      <td>1.8</td>\n",
       "      <td>0.0</td>\n",
       "    </tr>\n",
       "    <tr>\n",
       "      <th>262798</th>\n",
       "      <td>322.0</td>\n",
       "      <td>3.7</td>\n",
       "      <td>4.3</td>\n",
       "      <td>72.5</td>\n",
       "      <td>0.0</td>\n",
       "      <td>1.4</td>\n",
       "      <td>0.0</td>\n",
       "    </tr>\n",
       "    <tr>\n",
       "      <th>262799</th>\n",
       "      <td>33.6</td>\n",
       "      <td>2.8</td>\n",
       "      <td>4.3</td>\n",
       "      <td>73.7</td>\n",
       "      <td>0.0</td>\n",
       "      <td>1.3</td>\n",
       "      <td>0.0</td>\n",
       "    </tr>\n",
       "  </tbody>\n",
       "</table>\n",
       "<p>262800 rows × 7 columns</p>\n",
       "</div>"
      ],
      "text/plain": [
       "        10분평균풍향  10분평균풍속  10분평균기온  10분평균상대습도  10분일사량합  10분평균지면온도  강수유무\n",
       "0         329.5      0.6     -2.5       87.5      0.0       -1.6   0.0\n",
       "1         321.8      1.2     -2.5       88.2      0.0       -1.6   0.0\n",
       "2           0.4      0.4     -2.5       88.6      0.0       -1.7   0.0\n",
       "3         323.6      0.7     -2.6       88.7      0.0       -1.6   0.0\n",
       "4         208.4      0.2     -2.6       89.0      0.0       -1.6   0.0\n",
       "...         ...      ...      ...        ...      ...        ...   ...\n",
       "262795    338.8      6.1      4.5       71.3      0.0        1.9   0.0\n",
       "262796    335.2      5.8      4.6       71.4      0.0        1.9   0.0\n",
       "262797    337.1      5.3      4.5       72.1      0.0        1.8   0.0\n",
       "262798    322.0      3.7      4.3       72.5      0.0        1.4   0.0\n",
       "262799     33.6      2.8      4.3       73.7      0.0        1.3   0.0\n",
       "\n",
       "[262800 rows x 7 columns]"
      ]
     },
     "execution_count": 9,
     "metadata": {},
     "output_type": "execute_result"
    }
   ],
   "source": [
    "test_df"
   ]
  },
  {
   "cell_type": "code",
   "execution_count": 10,
   "metadata": {},
   "outputs": [],
   "source": [
    "# min-max scaler\n",
    "\n",
    "from sklearn.preprocessing import MinMaxScaler\n",
    "\n",
    "X_scaler = MinMaxScaler()\n",
    "y_scaler = MinMaxScaler()\n",
    "X_cols = [\"10분평균풍향\", \"10분평균풍속\", \"10분평균기온\", \"10분평균상대습도\", \"10분일사량합\", \"10분평균지면온도\", \"강수유무\"]\n",
    "y_col = \"10분평균시정\"\n",
    "\n",
    "train_df.loc[:, X_cols] = X_scaler.fit_transform(train_df[X_cols])\n",
    "train_df.loc[:, y_col] = y_scaler.fit_transform(train_df[y_col].to_frame())\n",
    "test_df.loc[:, X_cols] = X_scaler.transform(test_df[X_cols])"
   ]
  },
  {
   "cell_type": "code",
   "execution_count": 11,
   "metadata": {},
   "outputs": [
    {
     "data": {
      "text/html": [
       "<div>\n",
       "<style scoped>\n",
       "    .dataframe tbody tr th:only-of-type {\n",
       "        vertical-align: middle;\n",
       "    }\n",
       "\n",
       "    .dataframe tbody tr th {\n",
       "        vertical-align: top;\n",
       "    }\n",
       "\n",
       "    .dataframe thead th {\n",
       "        text-align: right;\n",
       "    }\n",
       "</style>\n",
       "<table border=\"1\" class=\"dataframe\">\n",
       "  <thead>\n",
       "    <tr style=\"text-align: right;\">\n",
       "      <th></th>\n",
       "      <th>년도</th>\n",
       "      <th>10분평균풍향</th>\n",
       "      <th>10분평균풍속</th>\n",
       "      <th>10분평균기온</th>\n",
       "      <th>10분평균상대습도</th>\n",
       "      <th>10분일사량합</th>\n",
       "      <th>10분평균지면온도</th>\n",
       "      <th>강수유무</th>\n",
       "      <th>10분평균시정</th>\n",
       "    </tr>\n",
       "  </thead>\n",
       "  <tbody>\n",
       "    <tr>\n",
       "      <th>0</th>\n",
       "      <td>I</td>\n",
       "      <td>0.000000</td>\n",
       "      <td>0.000000</td>\n",
       "      <td>0.288245</td>\n",
       "      <td>0.389</td>\n",
       "      <td>0.0</td>\n",
       "      <td>0.028000</td>\n",
       "      <td>0</td>\n",
       "      <td>0.330431</td>\n",
       "    </tr>\n",
       "    <tr>\n",
       "      <th>1</th>\n",
       "      <td>I</td>\n",
       "      <td>0.000000</td>\n",
       "      <td>0.000000</td>\n",
       "      <td>0.289855</td>\n",
       "      <td>0.379</td>\n",
       "      <td>0.0</td>\n",
       "      <td>0.029333</td>\n",
       "      <td>0</td>\n",
       "      <td>0.330431</td>\n",
       "    </tr>\n",
       "    <tr>\n",
       "      <th>2</th>\n",
       "      <td>I</td>\n",
       "      <td>0.000000</td>\n",
       "      <td>0.000000</td>\n",
       "      <td>0.289855</td>\n",
       "      <td>0.400</td>\n",
       "      <td>0.0</td>\n",
       "      <td>0.030667</td>\n",
       "      <td>0</td>\n",
       "      <td>0.330431</td>\n",
       "    </tr>\n",
       "    <tr>\n",
       "      <th>3</th>\n",
       "      <td>I</td>\n",
       "      <td>0.077222</td>\n",
       "      <td>0.017778</td>\n",
       "      <td>0.291465</td>\n",
       "      <td>0.395</td>\n",
       "      <td>0.0</td>\n",
       "      <td>0.030667</td>\n",
       "      <td>0</td>\n",
       "      <td>0.330431</td>\n",
       "    </tr>\n",
       "    <tr>\n",
       "      <th>4</th>\n",
       "      <td>I</td>\n",
       "      <td>0.165833</td>\n",
       "      <td>0.022222</td>\n",
       "      <td>0.293076</td>\n",
       "      <td>0.398</td>\n",
       "      <td>0.0</td>\n",
       "      <td>0.032000</td>\n",
       "      <td>0</td>\n",
       "      <td>0.330431</td>\n",
       "    </tr>\n",
       "    <tr>\n",
       "      <th>...</th>\n",
       "      <td>...</td>\n",
       "      <td>...</td>\n",
       "      <td>...</td>\n",
       "      <td>...</td>\n",
       "      <td>...</td>\n",
       "      <td>...</td>\n",
       "      <td>...</td>\n",
       "      <td>...</td>\n",
       "      <td>...</td>\n",
       "    </tr>\n",
       "    <tr>\n",
       "      <th>3156455</th>\n",
       "      <td>K</td>\n",
       "      <td>0.848056</td>\n",
       "      <td>0.342222</td>\n",
       "      <td>0.431562</td>\n",
       "      <td>0.502</td>\n",
       "      <td>0.0</td>\n",
       "      <td>0.053333</td>\n",
       "      <td>0</td>\n",
       "      <td>0.330431</td>\n",
       "    </tr>\n",
       "    <tr>\n",
       "      <th>3156456</th>\n",
       "      <td>K</td>\n",
       "      <td>0.816111</td>\n",
       "      <td>0.253333</td>\n",
       "      <td>0.428341</td>\n",
       "      <td>0.501</td>\n",
       "      <td>0.0</td>\n",
       "      <td>0.048000</td>\n",
       "      <td>0</td>\n",
       "      <td>0.330431</td>\n",
       "    </tr>\n",
       "    <tr>\n",
       "      <th>3156457</th>\n",
       "      <td>K</td>\n",
       "      <td>0.761667</td>\n",
       "      <td>0.217778</td>\n",
       "      <td>0.426731</td>\n",
       "      <td>0.510</td>\n",
       "      <td>0.0</td>\n",
       "      <td>0.046667</td>\n",
       "      <td>0</td>\n",
       "      <td>0.330431</td>\n",
       "    </tr>\n",
       "    <tr>\n",
       "      <th>3156458</th>\n",
       "      <td>K</td>\n",
       "      <td>0.750833</td>\n",
       "      <td>0.204444</td>\n",
       "      <td>0.425121</td>\n",
       "      <td>0.517</td>\n",
       "      <td>0.0</td>\n",
       "      <td>0.044000</td>\n",
       "      <td>0</td>\n",
       "      <td>0.330431</td>\n",
       "    </tr>\n",
       "    <tr>\n",
       "      <th>3156459</th>\n",
       "      <td>K</td>\n",
       "      <td>0.707778</td>\n",
       "      <td>0.182222</td>\n",
       "      <td>0.425121</td>\n",
       "      <td>0.533</td>\n",
       "      <td>0.0</td>\n",
       "      <td>0.042667</td>\n",
       "      <td>0</td>\n",
       "      <td>0.330431</td>\n",
       "    </tr>\n",
       "  </tbody>\n",
       "</table>\n",
       "<p>3156460 rows × 9 columns</p>\n",
       "</div>"
      ],
      "text/plain": [
       "        년도   10분평균풍향   10분평균풍속   10분평균기온  10분평균상대습도  10분일사량합  10분평균지면온도  강수유무  \\\n",
       "0        I  0.000000  0.000000  0.288245      0.389      0.0   0.028000     0   \n",
       "1        I  0.000000  0.000000  0.289855      0.379      0.0   0.029333     0   \n",
       "2        I  0.000000  0.000000  0.289855      0.400      0.0   0.030667     0   \n",
       "3        I  0.077222  0.017778  0.291465      0.395      0.0   0.030667     0   \n",
       "4        I  0.165833  0.022222  0.293076      0.398      0.0   0.032000     0   \n",
       "...     ..       ...       ...       ...        ...      ...        ...   ...   \n",
       "3156455  K  0.848056  0.342222  0.431562      0.502      0.0   0.053333     0   \n",
       "3156456  K  0.816111  0.253333  0.428341      0.501      0.0   0.048000     0   \n",
       "3156457  K  0.761667  0.217778  0.426731      0.510      0.0   0.046667     0   \n",
       "3156458  K  0.750833  0.204444  0.425121      0.517      0.0   0.044000     0   \n",
       "3156459  K  0.707778  0.182222  0.425121      0.533      0.0   0.042667     0   \n",
       "\n",
       "          10분평균시정  \n",
       "0        0.330431  \n",
       "1        0.330431  \n",
       "2        0.330431  \n",
       "3        0.330431  \n",
       "4        0.330431  \n",
       "...           ...  \n",
       "3156455  0.330431  \n",
       "3156456  0.330431  \n",
       "3156457  0.330431  \n",
       "3156458  0.330431  \n",
       "3156459  0.330431  \n",
       "\n",
       "[3156460 rows x 9 columns]"
      ]
     },
     "execution_count": 11,
     "metadata": {},
     "output_type": "execute_result"
    }
   ],
   "source": [
    "train_df"
   ]
  },
  {
   "cell_type": "code",
   "execution_count": 12,
   "metadata": {},
   "outputs": [
    {
     "name": "stdout",
     "output_type": "stream",
     "text": [
      "<class 'pandas.core.frame.DataFrame'>\n",
      "RangeIndex: 3156460 entries, 0 to 3156459\n",
      "Data columns (total 9 columns):\n",
      " #   Column     Dtype  \n",
      "---  ------     -----  \n",
      " 0   년도         object \n",
      " 1   10분평균풍향    float64\n",
      " 2   10분평균풍속    float64\n",
      " 3   10분평균기온    float64\n",
      " 4   10분평균상대습도  float64\n",
      " 5   10분일사량합    float64\n",
      " 6   10분평균지면온도  float64\n",
      " 7   강수유무       int64  \n",
      " 8   10분평균시정    float64\n",
      "dtypes: float64(7), int64(1), object(1)\n",
      "memory usage: 216.7+ MB\n"
     ]
    }
   ],
   "source": [
    "train_df.info()"
   ]
  },
  {
   "cell_type": "code",
   "execution_count": 13,
   "metadata": {},
   "outputs": [
    {
     "data": {
      "text/html": [
       "<div>\n",
       "<style scoped>\n",
       "    .dataframe tbody tr th:only-of-type {\n",
       "        vertical-align: middle;\n",
       "    }\n",
       "\n",
       "    .dataframe tbody tr th {\n",
       "        vertical-align: top;\n",
       "    }\n",
       "\n",
       "    .dataframe thead th {\n",
       "        text-align: right;\n",
       "    }\n",
       "</style>\n",
       "<table border=\"1\" class=\"dataframe\">\n",
       "  <thead>\n",
       "    <tr style=\"text-align: right;\">\n",
       "      <th></th>\n",
       "      <th>10분평균풍향</th>\n",
       "      <th>10분평균풍속</th>\n",
       "      <th>10분평균기온</th>\n",
       "      <th>10분평균상대습도</th>\n",
       "      <th>10분일사량합</th>\n",
       "      <th>10분평균지면온도</th>\n",
       "      <th>강수유무</th>\n",
       "    </tr>\n",
       "  </thead>\n",
       "  <tbody>\n",
       "    <tr>\n",
       "      <th>0</th>\n",
       "      <td>0.915278</td>\n",
       "      <td>0.026667</td>\n",
       "      <td>0.351047</td>\n",
       "      <td>0.875</td>\n",
       "      <td>0.0</td>\n",
       "      <td>0.044000</td>\n",
       "      <td>0.0</td>\n",
       "    </tr>\n",
       "    <tr>\n",
       "      <th>1</th>\n",
       "      <td>0.893889</td>\n",
       "      <td>0.053333</td>\n",
       "      <td>0.351047</td>\n",
       "      <td>0.882</td>\n",
       "      <td>0.0</td>\n",
       "      <td>0.044000</td>\n",
       "      <td>0.0</td>\n",
       "    </tr>\n",
       "    <tr>\n",
       "      <th>2</th>\n",
       "      <td>0.001111</td>\n",
       "      <td>0.017778</td>\n",
       "      <td>0.351047</td>\n",
       "      <td>0.886</td>\n",
       "      <td>0.0</td>\n",
       "      <td>0.042667</td>\n",
       "      <td>0.0</td>\n",
       "    </tr>\n",
       "    <tr>\n",
       "      <th>3</th>\n",
       "      <td>0.898889</td>\n",
       "      <td>0.031111</td>\n",
       "      <td>0.349436</td>\n",
       "      <td>0.887</td>\n",
       "      <td>0.0</td>\n",
       "      <td>0.044000</td>\n",
       "      <td>0.0</td>\n",
       "    </tr>\n",
       "    <tr>\n",
       "      <th>4</th>\n",
       "      <td>0.578889</td>\n",
       "      <td>0.008889</td>\n",
       "      <td>0.349436</td>\n",
       "      <td>0.890</td>\n",
       "      <td>0.0</td>\n",
       "      <td>0.044000</td>\n",
       "      <td>0.0</td>\n",
       "    </tr>\n",
       "    <tr>\n",
       "      <th>...</th>\n",
       "      <td>...</td>\n",
       "      <td>...</td>\n",
       "      <td>...</td>\n",
       "      <td>...</td>\n",
       "      <td>...</td>\n",
       "      <td>...</td>\n",
       "      <td>...</td>\n",
       "    </tr>\n",
       "    <tr>\n",
       "      <th>262795</th>\n",
       "      <td>0.941111</td>\n",
       "      <td>0.271111</td>\n",
       "      <td>0.463768</td>\n",
       "      <td>0.713</td>\n",
       "      <td>0.0</td>\n",
       "      <td>0.090667</td>\n",
       "      <td>0.0</td>\n",
       "    </tr>\n",
       "    <tr>\n",
       "      <th>262796</th>\n",
       "      <td>0.931111</td>\n",
       "      <td>0.257778</td>\n",
       "      <td>0.465378</td>\n",
       "      <td>0.714</td>\n",
       "      <td>0.0</td>\n",
       "      <td>0.090667</td>\n",
       "      <td>0.0</td>\n",
       "    </tr>\n",
       "    <tr>\n",
       "      <th>262797</th>\n",
       "      <td>0.936389</td>\n",
       "      <td>0.235556</td>\n",
       "      <td>0.463768</td>\n",
       "      <td>0.721</td>\n",
       "      <td>0.0</td>\n",
       "      <td>0.089333</td>\n",
       "      <td>0.0</td>\n",
       "    </tr>\n",
       "    <tr>\n",
       "      <th>262798</th>\n",
       "      <td>0.894444</td>\n",
       "      <td>0.164444</td>\n",
       "      <td>0.460548</td>\n",
       "      <td>0.725</td>\n",
       "      <td>0.0</td>\n",
       "      <td>0.084000</td>\n",
       "      <td>0.0</td>\n",
       "    </tr>\n",
       "    <tr>\n",
       "      <th>262799</th>\n",
       "      <td>0.093333</td>\n",
       "      <td>0.124444</td>\n",
       "      <td>0.460548</td>\n",
       "      <td>0.737</td>\n",
       "      <td>0.0</td>\n",
       "      <td>0.082667</td>\n",
       "      <td>0.0</td>\n",
       "    </tr>\n",
       "  </tbody>\n",
       "</table>\n",
       "<p>262800 rows × 7 columns</p>\n",
       "</div>"
      ],
      "text/plain": [
       "         10분평균풍향   10분평균풍속   10분평균기온  10분평균상대습도  10분일사량합  10분평균지면온도  강수유무\n",
       "0       0.915278  0.026667  0.351047      0.875      0.0   0.044000   0.0\n",
       "1       0.893889  0.053333  0.351047      0.882      0.0   0.044000   0.0\n",
       "2       0.001111  0.017778  0.351047      0.886      0.0   0.042667   0.0\n",
       "3       0.898889  0.031111  0.349436      0.887      0.0   0.044000   0.0\n",
       "4       0.578889  0.008889  0.349436      0.890      0.0   0.044000   0.0\n",
       "...          ...       ...       ...        ...      ...        ...   ...\n",
       "262795  0.941111  0.271111  0.463768      0.713      0.0   0.090667   0.0\n",
       "262796  0.931111  0.257778  0.465378      0.714      0.0   0.090667   0.0\n",
       "262797  0.936389  0.235556  0.463768      0.721      0.0   0.089333   0.0\n",
       "262798  0.894444  0.164444  0.460548      0.725      0.0   0.084000   0.0\n",
       "262799  0.093333  0.124444  0.460548      0.737      0.0   0.082667   0.0\n",
       "\n",
       "[262800 rows x 7 columns]"
      ]
     },
     "execution_count": 13,
     "metadata": {},
     "output_type": "execute_result"
    }
   ],
   "source": [
    "test_df"
   ]
  },
  {
   "cell_type": "code",
   "execution_count": 14,
   "metadata": {},
   "outputs": [
    {
     "name": "stdout",
     "output_type": "stream",
     "text": [
      "<class 'pandas.core.frame.DataFrame'>\n",
      "RangeIndex: 262800 entries, 0 to 262799\n",
      "Data columns (total 7 columns):\n",
      " #   Column     Non-Null Count   Dtype  \n",
      "---  ------     --------------   -----  \n",
      " 0   10분평균풍향    262576 non-null  float64\n",
      " 1   10분평균풍속    262576 non-null  float64\n",
      " 2   10분평균기온    262709 non-null  float64\n",
      " 3   10분평균상대습도  262743 non-null  float64\n",
      " 4   10분일사량합    262685 non-null  float64\n",
      " 5   10분평균지면온도  255157 non-null  float64\n",
      " 6   강수유무       258297 non-null  float64\n",
      "dtypes: float64(7)\n",
      "memory usage: 14.0 MB\n"
     ]
    }
   ],
   "source": [
    "test_df.info()"
   ]
  },
  {
   "cell_type": "code",
   "execution_count": 15,
   "metadata": {},
   "outputs": [],
   "source": [
    "# Holdout (I,J : K)\n",
    "\n",
    "train_data = train_df.query(\"년도!='K'\").iloc[:, 1:]\n",
    "valid_data = train_df.query(\"년도=='K'\").iloc[:, 1:]"
   ]
  },
  {
   "cell_type": "code",
   "execution_count": 16,
   "metadata": {},
   "outputs": [
    {
     "data": {
      "text/html": [
       "<div>\n",
       "<style scoped>\n",
       "    .dataframe tbody tr th:only-of-type {\n",
       "        vertical-align: middle;\n",
       "    }\n",
       "\n",
       "    .dataframe tbody tr th {\n",
       "        vertical-align: top;\n",
       "    }\n",
       "\n",
       "    .dataframe thead th {\n",
       "        text-align: right;\n",
       "    }\n",
       "</style>\n",
       "<table border=\"1\" class=\"dataframe\">\n",
       "  <thead>\n",
       "    <tr style=\"text-align: right;\">\n",
       "      <th></th>\n",
       "      <th>10분평균풍향</th>\n",
       "      <th>10분평균풍속</th>\n",
       "      <th>10분평균기온</th>\n",
       "      <th>10분평균상대습도</th>\n",
       "      <th>10분일사량합</th>\n",
       "      <th>10분평균지면온도</th>\n",
       "      <th>강수유무</th>\n",
       "      <th>10분평균시정</th>\n",
       "    </tr>\n",
       "  </thead>\n",
       "  <tbody>\n",
       "    <tr>\n",
       "      <th>0</th>\n",
       "      <td>0.000000</td>\n",
       "      <td>0.000000</td>\n",
       "      <td>0.288245</td>\n",
       "      <td>0.389</td>\n",
       "      <td>0.0</td>\n",
       "      <td>0.028000</td>\n",
       "      <td>0</td>\n",
       "      <td>0.330431</td>\n",
       "    </tr>\n",
       "    <tr>\n",
       "      <th>1</th>\n",
       "      <td>0.000000</td>\n",
       "      <td>0.000000</td>\n",
       "      <td>0.289855</td>\n",
       "      <td>0.379</td>\n",
       "      <td>0.0</td>\n",
       "      <td>0.029333</td>\n",
       "      <td>0</td>\n",
       "      <td>0.330431</td>\n",
       "    </tr>\n",
       "    <tr>\n",
       "      <th>2</th>\n",
       "      <td>0.000000</td>\n",
       "      <td>0.000000</td>\n",
       "      <td>0.289855</td>\n",
       "      <td>0.400</td>\n",
       "      <td>0.0</td>\n",
       "      <td>0.030667</td>\n",
       "      <td>0</td>\n",
       "      <td>0.330431</td>\n",
       "    </tr>\n",
       "    <tr>\n",
       "      <th>3</th>\n",
       "      <td>0.077222</td>\n",
       "      <td>0.017778</td>\n",
       "      <td>0.291465</td>\n",
       "      <td>0.395</td>\n",
       "      <td>0.0</td>\n",
       "      <td>0.030667</td>\n",
       "      <td>0</td>\n",
       "      <td>0.330431</td>\n",
       "    </tr>\n",
       "    <tr>\n",
       "      <th>4</th>\n",
       "      <td>0.165833</td>\n",
       "      <td>0.022222</td>\n",
       "      <td>0.293076</td>\n",
       "      <td>0.398</td>\n",
       "      <td>0.0</td>\n",
       "      <td>0.032000</td>\n",
       "      <td>0</td>\n",
       "      <td>0.330431</td>\n",
       "    </tr>\n",
       "    <tr>\n",
       "      <th>...</th>\n",
       "      <td>...</td>\n",
       "      <td>...</td>\n",
       "      <td>...</td>\n",
       "      <td>...</td>\n",
       "      <td>...</td>\n",
       "      <td>...</td>\n",
       "      <td>...</td>\n",
       "      <td>...</td>\n",
       "    </tr>\n",
       "    <tr>\n",
       "      <th>3103895</th>\n",
       "      <td>0.868889</td>\n",
       "      <td>0.315556</td>\n",
       "      <td>0.354267</td>\n",
       "      <td>0.474</td>\n",
       "      <td>0.0</td>\n",
       "      <td>0.026667</td>\n",
       "      <td>0</td>\n",
       "      <td>0.330431</td>\n",
       "    </tr>\n",
       "    <tr>\n",
       "      <th>3103896</th>\n",
       "      <td>0.875833</td>\n",
       "      <td>0.320000</td>\n",
       "      <td>0.354267</td>\n",
       "      <td>0.463</td>\n",
       "      <td>0.0</td>\n",
       "      <td>0.025333</td>\n",
       "      <td>0</td>\n",
       "      <td>0.330431</td>\n",
       "    </tr>\n",
       "    <tr>\n",
       "      <th>3103897</th>\n",
       "      <td>0.876667</td>\n",
       "      <td>0.320000</td>\n",
       "      <td>0.354267</td>\n",
       "      <td>0.455</td>\n",
       "      <td>0.0</td>\n",
       "      <td>0.026667</td>\n",
       "      <td>0</td>\n",
       "      <td>0.330431</td>\n",
       "    </tr>\n",
       "    <tr>\n",
       "      <th>3103898</th>\n",
       "      <td>0.867500</td>\n",
       "      <td>0.320000</td>\n",
       "      <td>0.354267</td>\n",
       "      <td>0.446</td>\n",
       "      <td>0.0</td>\n",
       "      <td>0.025333</td>\n",
       "      <td>0</td>\n",
       "      <td>0.330431</td>\n",
       "    </tr>\n",
       "    <tr>\n",
       "      <th>3103899</th>\n",
       "      <td>0.871667</td>\n",
       "      <td>0.315556</td>\n",
       "      <td>0.352657</td>\n",
       "      <td>0.439</td>\n",
       "      <td>0.0</td>\n",
       "      <td>0.024000</td>\n",
       "      <td>0</td>\n",
       "      <td>0.330431</td>\n",
       "    </tr>\n",
       "  </tbody>\n",
       "</table>\n",
       "<p>2105260 rows × 8 columns</p>\n",
       "</div>"
      ],
      "text/plain": [
       "          10분평균풍향   10분평균풍속   10분평균기온  10분평균상대습도  10분일사량합  10분평균지면온도  강수유무  \\\n",
       "0        0.000000  0.000000  0.288245      0.389      0.0   0.028000     0   \n",
       "1        0.000000  0.000000  0.289855      0.379      0.0   0.029333     0   \n",
       "2        0.000000  0.000000  0.289855      0.400      0.0   0.030667     0   \n",
       "3        0.077222  0.017778  0.291465      0.395      0.0   0.030667     0   \n",
       "4        0.165833  0.022222  0.293076      0.398      0.0   0.032000     0   \n",
       "...           ...       ...       ...        ...      ...        ...   ...   \n",
       "3103895  0.868889  0.315556  0.354267      0.474      0.0   0.026667     0   \n",
       "3103896  0.875833  0.320000  0.354267      0.463      0.0   0.025333     0   \n",
       "3103897  0.876667  0.320000  0.354267      0.455      0.0   0.026667     0   \n",
       "3103898  0.867500  0.320000  0.354267      0.446      0.0   0.025333     0   \n",
       "3103899  0.871667  0.315556  0.352657      0.439      0.0   0.024000     0   \n",
       "\n",
       "          10분평균시정  \n",
       "0        0.330431  \n",
       "1        0.330431  \n",
       "2        0.330431  \n",
       "3        0.330431  \n",
       "4        0.330431  \n",
       "...           ...  \n",
       "3103895  0.330431  \n",
       "3103896  0.330431  \n",
       "3103897  0.330431  \n",
       "3103898  0.330431  \n",
       "3103899  0.330431  \n",
       "\n",
       "[2105260 rows x 8 columns]"
      ]
     },
     "execution_count": 16,
     "metadata": {},
     "output_type": "execute_result"
    }
   ],
   "source": [
    "train_data"
   ]
  },
  {
   "cell_type": "code",
   "execution_count": 17,
   "metadata": {},
   "outputs": [
    {
     "data": {
      "text/html": [
       "<div>\n",
       "<style scoped>\n",
       "    .dataframe tbody tr th:only-of-type {\n",
       "        vertical-align: middle;\n",
       "    }\n",
       "\n",
       "    .dataframe tbody tr th {\n",
       "        vertical-align: top;\n",
       "    }\n",
       "\n",
       "    .dataframe thead th {\n",
       "        text-align: right;\n",
       "    }\n",
       "</style>\n",
       "<table border=\"1\" class=\"dataframe\">\n",
       "  <thead>\n",
       "    <tr style=\"text-align: right;\">\n",
       "      <th></th>\n",
       "      <th>10분평균풍향</th>\n",
       "      <th>10분평균풍속</th>\n",
       "      <th>10분평균기온</th>\n",
       "      <th>10분평균상대습도</th>\n",
       "      <th>10분일사량합</th>\n",
       "      <th>10분평균지면온도</th>\n",
       "      <th>강수유무</th>\n",
       "      <th>10분평균시정</th>\n",
       "    </tr>\n",
       "  </thead>\n",
       "  <tbody>\n",
       "    <tr>\n",
       "      <th>105263</th>\n",
       "      <td>0.881944</td>\n",
       "      <td>0.084444</td>\n",
       "      <td>0.254428</td>\n",
       "      <td>0.411</td>\n",
       "      <td>0.000000</td>\n",
       "      <td>0.012444</td>\n",
       "      <td>0</td>\n",
       "      <td>0.330431</td>\n",
       "    </tr>\n",
       "    <tr>\n",
       "      <th>105264</th>\n",
       "      <td>0.845556</td>\n",
       "      <td>0.084444</td>\n",
       "      <td>0.252818</td>\n",
       "      <td>0.408</td>\n",
       "      <td>0.003349</td>\n",
       "      <td>0.024889</td>\n",
       "      <td>0</td>\n",
       "      <td>0.330431</td>\n",
       "    </tr>\n",
       "    <tr>\n",
       "      <th>105265</th>\n",
       "      <td>0.758889</td>\n",
       "      <td>0.097778</td>\n",
       "      <td>0.251208</td>\n",
       "      <td>0.408</td>\n",
       "      <td>0.000000</td>\n",
       "      <td>0.030444</td>\n",
       "      <td>0</td>\n",
       "      <td>0.330431</td>\n",
       "    </tr>\n",
       "    <tr>\n",
       "      <th>105266</th>\n",
       "      <td>0.730000</td>\n",
       "      <td>0.093333</td>\n",
       "      <td>0.247987</td>\n",
       "      <td>0.415</td>\n",
       "      <td>0.000000</td>\n",
       "      <td>0.037333</td>\n",
       "      <td>0</td>\n",
       "      <td>0.330431</td>\n",
       "    </tr>\n",
       "    <tr>\n",
       "      <th>105267</th>\n",
       "      <td>0.715000</td>\n",
       "      <td>0.102222</td>\n",
       "      <td>0.246377</td>\n",
       "      <td>0.413</td>\n",
       "      <td>0.000000</td>\n",
       "      <td>0.018667</td>\n",
       "      <td>0</td>\n",
       "      <td>0.330431</td>\n",
       "    </tr>\n",
       "    <tr>\n",
       "      <th>...</th>\n",
       "      <td>...</td>\n",
       "      <td>...</td>\n",
       "      <td>...</td>\n",
       "      <td>...</td>\n",
       "      <td>...</td>\n",
       "      <td>...</td>\n",
       "      <td>...</td>\n",
       "      <td>...</td>\n",
       "    </tr>\n",
       "    <tr>\n",
       "      <th>3156455</th>\n",
       "      <td>0.848056</td>\n",
       "      <td>0.342222</td>\n",
       "      <td>0.431562</td>\n",
       "      <td>0.502</td>\n",
       "      <td>0.000000</td>\n",
       "      <td>0.053333</td>\n",
       "      <td>0</td>\n",
       "      <td>0.330431</td>\n",
       "    </tr>\n",
       "    <tr>\n",
       "      <th>3156456</th>\n",
       "      <td>0.816111</td>\n",
       "      <td>0.253333</td>\n",
       "      <td>0.428341</td>\n",
       "      <td>0.501</td>\n",
       "      <td>0.000000</td>\n",
       "      <td>0.048000</td>\n",
       "      <td>0</td>\n",
       "      <td>0.330431</td>\n",
       "    </tr>\n",
       "    <tr>\n",
       "      <th>3156457</th>\n",
       "      <td>0.761667</td>\n",
       "      <td>0.217778</td>\n",
       "      <td>0.426731</td>\n",
       "      <td>0.510</td>\n",
       "      <td>0.000000</td>\n",
       "      <td>0.046667</td>\n",
       "      <td>0</td>\n",
       "      <td>0.330431</td>\n",
       "    </tr>\n",
       "    <tr>\n",
       "      <th>3156458</th>\n",
       "      <td>0.750833</td>\n",
       "      <td>0.204444</td>\n",
       "      <td>0.425121</td>\n",
       "      <td>0.517</td>\n",
       "      <td>0.000000</td>\n",
       "      <td>0.044000</td>\n",
       "      <td>0</td>\n",
       "      <td>0.330431</td>\n",
       "    </tr>\n",
       "    <tr>\n",
       "      <th>3156459</th>\n",
       "      <td>0.707778</td>\n",
       "      <td>0.182222</td>\n",
       "      <td>0.425121</td>\n",
       "      <td>0.533</td>\n",
       "      <td>0.000000</td>\n",
       "      <td>0.042667</td>\n",
       "      <td>0</td>\n",
       "      <td>0.330431</td>\n",
       "    </tr>\n",
       "  </tbody>\n",
       "</table>\n",
       "<p>1051200 rows × 8 columns</p>\n",
       "</div>"
      ],
      "text/plain": [
       "          10분평균풍향   10분평균풍속   10분평균기온  10분평균상대습도   10분일사량합  10분평균지면온도  강수유무  \\\n",
       "105263   0.881944  0.084444  0.254428      0.411  0.000000   0.012444     0   \n",
       "105264   0.845556  0.084444  0.252818      0.408  0.003349   0.024889     0   \n",
       "105265   0.758889  0.097778  0.251208      0.408  0.000000   0.030444     0   \n",
       "105266   0.730000  0.093333  0.247987      0.415  0.000000   0.037333     0   \n",
       "105267   0.715000  0.102222  0.246377      0.413  0.000000   0.018667     0   \n",
       "...           ...       ...       ...        ...       ...        ...   ...   \n",
       "3156455  0.848056  0.342222  0.431562      0.502  0.000000   0.053333     0   \n",
       "3156456  0.816111  0.253333  0.428341      0.501  0.000000   0.048000     0   \n",
       "3156457  0.761667  0.217778  0.426731      0.510  0.000000   0.046667     0   \n",
       "3156458  0.750833  0.204444  0.425121      0.517  0.000000   0.044000     0   \n",
       "3156459  0.707778  0.182222  0.425121      0.533  0.000000   0.042667     0   \n",
       "\n",
       "          10분평균시정  \n",
       "105263   0.330431  \n",
       "105264   0.330431  \n",
       "105265   0.330431  \n",
       "105266   0.330431  \n",
       "105267   0.330431  \n",
       "...           ...  \n",
       "3156455  0.330431  \n",
       "3156456  0.330431  \n",
       "3156457  0.330431  \n",
       "3156458  0.330431  \n",
       "3156459  0.330431  \n",
       "\n",
       "[1051200 rows x 8 columns]"
      ]
     },
     "execution_count": 17,
     "metadata": {},
     "output_type": "execute_result"
    }
   ],
   "source": [
    "valid_data"
   ]
  },
  {
   "cell_type": "code",
   "execution_count": 19,
   "metadata": {},
   "outputs": [],
   "source": [
    "pre_val_data = valid_data.iloc[:6, :].rolling(window=6, min_periods=1).mean().reset_index(drop=True)\n",
    "valid_data = pd.concat([pre_val_data, valid_data.reset_index(drop=True)], axis=0).reset_index(drop=True)"
   ]
  },
  {
   "cell_type": "code",
   "execution_count": 20,
   "metadata": {},
   "outputs": [
    {
     "data": {
      "text/html": [
       "<div>\n",
       "<style scoped>\n",
       "    .dataframe tbody tr th:only-of-type {\n",
       "        vertical-align: middle;\n",
       "    }\n",
       "\n",
       "    .dataframe tbody tr th {\n",
       "        vertical-align: top;\n",
       "    }\n",
       "\n",
       "    .dataframe thead th {\n",
       "        text-align: right;\n",
       "    }\n",
       "</style>\n",
       "<table border=\"1\" class=\"dataframe\">\n",
       "  <thead>\n",
       "    <tr style=\"text-align: right;\">\n",
       "      <th></th>\n",
       "      <th>10분평균풍향</th>\n",
       "      <th>10분평균풍속</th>\n",
       "      <th>10분평균기온</th>\n",
       "      <th>10분평균상대습도</th>\n",
       "      <th>10분일사량합</th>\n",
       "      <th>10분평균지면온도</th>\n",
       "      <th>강수유무</th>\n",
       "      <th>10분평균시정</th>\n",
       "    </tr>\n",
       "  </thead>\n",
       "  <tbody>\n",
       "    <tr>\n",
       "      <th>0</th>\n",
       "      <td>0.881944</td>\n",
       "      <td>0.084444</td>\n",
       "      <td>0.254428</td>\n",
       "      <td>0.4110</td>\n",
       "      <td>0.000000</td>\n",
       "      <td>0.012444</td>\n",
       "      <td>0.0</td>\n",
       "      <td>0.330431</td>\n",
       "    </tr>\n",
       "    <tr>\n",
       "      <th>1</th>\n",
       "      <td>0.863750</td>\n",
       "      <td>0.084444</td>\n",
       "      <td>0.253623</td>\n",
       "      <td>0.4095</td>\n",
       "      <td>0.001675</td>\n",
       "      <td>0.018667</td>\n",
       "      <td>0.0</td>\n",
       "      <td>0.330431</td>\n",
       "    </tr>\n",
       "    <tr>\n",
       "      <th>2</th>\n",
       "      <td>0.828796</td>\n",
       "      <td>0.088889</td>\n",
       "      <td>0.252818</td>\n",
       "      <td>0.4090</td>\n",
       "      <td>0.001116</td>\n",
       "      <td>0.022593</td>\n",
       "      <td>0.0</td>\n",
       "      <td>0.330431</td>\n",
       "    </tr>\n",
       "    <tr>\n",
       "      <th>3</th>\n",
       "      <td>0.804097</td>\n",
       "      <td>0.090000</td>\n",
       "      <td>0.251610</td>\n",
       "      <td>0.4105</td>\n",
       "      <td>0.000837</td>\n",
       "      <td>0.026278</td>\n",
       "      <td>0.0</td>\n",
       "      <td>0.330431</td>\n",
       "    </tr>\n",
       "    <tr>\n",
       "      <th>4</th>\n",
       "      <td>0.786278</td>\n",
       "      <td>0.092444</td>\n",
       "      <td>0.250564</td>\n",
       "      <td>0.4110</td>\n",
       "      <td>0.000670</td>\n",
       "      <td>0.024756</td>\n",
       "      <td>0.0</td>\n",
       "      <td>0.330431</td>\n",
       "    </tr>\n",
       "    <tr>\n",
       "      <th>...</th>\n",
       "      <td>...</td>\n",
       "      <td>...</td>\n",
       "      <td>...</td>\n",
       "      <td>...</td>\n",
       "      <td>...</td>\n",
       "      <td>...</td>\n",
       "      <td>...</td>\n",
       "      <td>...</td>\n",
       "    </tr>\n",
       "    <tr>\n",
       "      <th>1051201</th>\n",
       "      <td>0.848056</td>\n",
       "      <td>0.342222</td>\n",
       "      <td>0.431562</td>\n",
       "      <td>0.5020</td>\n",
       "      <td>0.000000</td>\n",
       "      <td>0.053333</td>\n",
       "      <td>0.0</td>\n",
       "      <td>0.330431</td>\n",
       "    </tr>\n",
       "    <tr>\n",
       "      <th>1051202</th>\n",
       "      <td>0.816111</td>\n",
       "      <td>0.253333</td>\n",
       "      <td>0.428341</td>\n",
       "      <td>0.5010</td>\n",
       "      <td>0.000000</td>\n",
       "      <td>0.048000</td>\n",
       "      <td>0.0</td>\n",
       "      <td>0.330431</td>\n",
       "    </tr>\n",
       "    <tr>\n",
       "      <th>1051203</th>\n",
       "      <td>0.761667</td>\n",
       "      <td>0.217778</td>\n",
       "      <td>0.426731</td>\n",
       "      <td>0.5100</td>\n",
       "      <td>0.000000</td>\n",
       "      <td>0.046667</td>\n",
       "      <td>0.0</td>\n",
       "      <td>0.330431</td>\n",
       "    </tr>\n",
       "    <tr>\n",
       "      <th>1051204</th>\n",
       "      <td>0.750833</td>\n",
       "      <td>0.204444</td>\n",
       "      <td>0.425121</td>\n",
       "      <td>0.5170</td>\n",
       "      <td>0.000000</td>\n",
       "      <td>0.044000</td>\n",
       "      <td>0.0</td>\n",
       "      <td>0.330431</td>\n",
       "    </tr>\n",
       "    <tr>\n",
       "      <th>1051205</th>\n",
       "      <td>0.707778</td>\n",
       "      <td>0.182222</td>\n",
       "      <td>0.425121</td>\n",
       "      <td>0.5330</td>\n",
       "      <td>0.000000</td>\n",
       "      <td>0.042667</td>\n",
       "      <td>0.0</td>\n",
       "      <td>0.330431</td>\n",
       "    </tr>\n",
       "  </tbody>\n",
       "</table>\n",
       "<p>1051206 rows × 8 columns</p>\n",
       "</div>"
      ],
      "text/plain": [
       "          10분평균풍향   10분평균풍속   10분평균기온  10분평균상대습도   10분일사량합  10분평균지면온도  강수유무  \\\n",
       "0        0.881944  0.084444  0.254428     0.4110  0.000000   0.012444   0.0   \n",
       "1        0.863750  0.084444  0.253623     0.4095  0.001675   0.018667   0.0   \n",
       "2        0.828796  0.088889  0.252818     0.4090  0.001116   0.022593   0.0   \n",
       "3        0.804097  0.090000  0.251610     0.4105  0.000837   0.026278   0.0   \n",
       "4        0.786278  0.092444  0.250564     0.4110  0.000670   0.024756   0.0   \n",
       "...           ...       ...       ...        ...       ...        ...   ...   \n",
       "1051201  0.848056  0.342222  0.431562     0.5020  0.000000   0.053333   0.0   \n",
       "1051202  0.816111  0.253333  0.428341     0.5010  0.000000   0.048000   0.0   \n",
       "1051203  0.761667  0.217778  0.426731     0.5100  0.000000   0.046667   0.0   \n",
       "1051204  0.750833  0.204444  0.425121     0.5170  0.000000   0.044000   0.0   \n",
       "1051205  0.707778  0.182222  0.425121     0.5330  0.000000   0.042667   0.0   \n",
       "\n",
       "          10분평균시정  \n",
       "0        0.330431  \n",
       "1        0.330431  \n",
       "2        0.330431  \n",
       "3        0.330431  \n",
       "4        0.330431  \n",
       "...           ...  \n",
       "1051201  0.330431  \n",
       "1051202  0.330431  \n",
       "1051203  0.330431  \n",
       "1051204  0.330431  \n",
       "1051205  0.330431  \n",
       "\n",
       "[1051206 rows x 8 columns]"
      ]
     },
     "execution_count": 20,
     "metadata": {},
     "output_type": "execute_result"
    }
   ],
   "source": [
    "valid_data"
   ]
  },
  {
   "cell_type": "code",
   "execution_count": 22,
   "metadata": {},
   "outputs": [
    {
     "name": "stdout",
     "output_type": "stream",
     "text": [
      "cpu is available\n"
     ]
    }
   ],
   "source": [
    "device = torch.device('cuda:0' if torch.cuda.is_available() else 'cpu')\n",
    "print(f\"{device} is available\")"
   ]
  },
  {
   "cell_type": "code",
   "execution_count": 23,
   "metadata": {},
   "outputs": [
    {
     "data": {
      "text/html": [
       "<div>\n",
       "<style scoped>\n",
       "    .dataframe tbody tr th:only-of-type {\n",
       "        vertical-align: middle;\n",
       "    }\n",
       "\n",
       "    .dataframe tbody tr th {\n",
       "        vertical-align: top;\n",
       "    }\n",
       "\n",
       "    .dataframe thead th {\n",
       "        text-align: right;\n",
       "    }\n",
       "</style>\n",
       "<table border=\"1\" class=\"dataframe\">\n",
       "  <thead>\n",
       "    <tr style=\"text-align: right;\">\n",
       "      <th></th>\n",
       "      <th>10분평균풍향</th>\n",
       "      <th>10분평균풍속</th>\n",
       "      <th>10분평균기온</th>\n",
       "      <th>10분평균상대습도</th>\n",
       "      <th>10분일사량합</th>\n",
       "      <th>10분평균지면온도</th>\n",
       "      <th>강수유무</th>\n",
       "      <th>10분평균시정</th>\n",
       "    </tr>\n",
       "  </thead>\n",
       "  <tbody>\n",
       "    <tr>\n",
       "      <th>0</th>\n",
       "      <td>0.000000</td>\n",
       "      <td>0.000000</td>\n",
       "      <td>0.288245</td>\n",
       "      <td>0.389</td>\n",
       "      <td>0.0</td>\n",
       "      <td>0.028000</td>\n",
       "      <td>0</td>\n",
       "      <td>0.330431</td>\n",
       "    </tr>\n",
       "    <tr>\n",
       "      <th>1</th>\n",
       "      <td>0.000000</td>\n",
       "      <td>0.000000</td>\n",
       "      <td>0.289855</td>\n",
       "      <td>0.379</td>\n",
       "      <td>0.0</td>\n",
       "      <td>0.029333</td>\n",
       "      <td>0</td>\n",
       "      <td>0.330431</td>\n",
       "    </tr>\n",
       "    <tr>\n",
       "      <th>2</th>\n",
       "      <td>0.000000</td>\n",
       "      <td>0.000000</td>\n",
       "      <td>0.289855</td>\n",
       "      <td>0.400</td>\n",
       "      <td>0.0</td>\n",
       "      <td>0.030667</td>\n",
       "      <td>0</td>\n",
       "      <td>0.330431</td>\n",
       "    </tr>\n",
       "    <tr>\n",
       "      <th>3</th>\n",
       "      <td>0.077222</td>\n",
       "      <td>0.017778</td>\n",
       "      <td>0.291465</td>\n",
       "      <td>0.395</td>\n",
       "      <td>0.0</td>\n",
       "      <td>0.030667</td>\n",
       "      <td>0</td>\n",
       "      <td>0.330431</td>\n",
       "    </tr>\n",
       "    <tr>\n",
       "      <th>4</th>\n",
       "      <td>0.165833</td>\n",
       "      <td>0.022222</td>\n",
       "      <td>0.293076</td>\n",
       "      <td>0.398</td>\n",
       "      <td>0.0</td>\n",
       "      <td>0.032000</td>\n",
       "      <td>0</td>\n",
       "      <td>0.330431</td>\n",
       "    </tr>\n",
       "    <tr>\n",
       "      <th>...</th>\n",
       "      <td>...</td>\n",
       "      <td>...</td>\n",
       "      <td>...</td>\n",
       "      <td>...</td>\n",
       "      <td>...</td>\n",
       "      <td>...</td>\n",
       "      <td>...</td>\n",
       "      <td>...</td>\n",
       "    </tr>\n",
       "    <tr>\n",
       "      <th>3103895</th>\n",
       "      <td>0.868889</td>\n",
       "      <td>0.315556</td>\n",
       "      <td>0.354267</td>\n",
       "      <td>0.474</td>\n",
       "      <td>0.0</td>\n",
       "      <td>0.026667</td>\n",
       "      <td>0</td>\n",
       "      <td>0.330431</td>\n",
       "    </tr>\n",
       "    <tr>\n",
       "      <th>3103896</th>\n",
       "      <td>0.875833</td>\n",
       "      <td>0.320000</td>\n",
       "      <td>0.354267</td>\n",
       "      <td>0.463</td>\n",
       "      <td>0.0</td>\n",
       "      <td>0.025333</td>\n",
       "      <td>0</td>\n",
       "      <td>0.330431</td>\n",
       "    </tr>\n",
       "    <tr>\n",
       "      <th>3103897</th>\n",
       "      <td>0.876667</td>\n",
       "      <td>0.320000</td>\n",
       "      <td>0.354267</td>\n",
       "      <td>0.455</td>\n",
       "      <td>0.0</td>\n",
       "      <td>0.026667</td>\n",
       "      <td>0</td>\n",
       "      <td>0.330431</td>\n",
       "    </tr>\n",
       "    <tr>\n",
       "      <th>3103898</th>\n",
       "      <td>0.867500</td>\n",
       "      <td>0.320000</td>\n",
       "      <td>0.354267</td>\n",
       "      <td>0.446</td>\n",
       "      <td>0.0</td>\n",
       "      <td>0.025333</td>\n",
       "      <td>0</td>\n",
       "      <td>0.330431</td>\n",
       "    </tr>\n",
       "    <tr>\n",
       "      <th>3103899</th>\n",
       "      <td>0.871667</td>\n",
       "      <td>0.315556</td>\n",
       "      <td>0.352657</td>\n",
       "      <td>0.439</td>\n",
       "      <td>0.0</td>\n",
       "      <td>0.024000</td>\n",
       "      <td>0</td>\n",
       "      <td>0.330431</td>\n",
       "    </tr>\n",
       "  </tbody>\n",
       "</table>\n",
       "<p>2105260 rows × 8 columns</p>\n",
       "</div>"
      ],
      "text/plain": [
       "          10분평균풍향   10분평균풍속   10분평균기온  10분평균상대습도  10분일사량합  10분평균지면온도  강수유무  \\\n",
       "0        0.000000  0.000000  0.288245      0.389      0.0   0.028000     0   \n",
       "1        0.000000  0.000000  0.289855      0.379      0.0   0.029333     0   \n",
       "2        0.000000  0.000000  0.289855      0.400      0.0   0.030667     0   \n",
       "3        0.077222  0.017778  0.291465      0.395      0.0   0.030667     0   \n",
       "4        0.165833  0.022222  0.293076      0.398      0.0   0.032000     0   \n",
       "...           ...       ...       ...        ...      ...        ...   ...   \n",
       "3103895  0.868889  0.315556  0.354267      0.474      0.0   0.026667     0   \n",
       "3103896  0.875833  0.320000  0.354267      0.463      0.0   0.025333     0   \n",
       "3103897  0.876667  0.320000  0.354267      0.455      0.0   0.026667     0   \n",
       "3103898  0.867500  0.320000  0.354267      0.446      0.0   0.025333     0   \n",
       "3103899  0.871667  0.315556  0.352657      0.439      0.0   0.024000     0   \n",
       "\n",
       "          10분평균시정  \n",
       "0        0.330431  \n",
       "1        0.330431  \n",
       "2        0.330431  \n",
       "3        0.330431  \n",
       "4        0.330431  \n",
       "...           ...  \n",
       "3103895  0.330431  \n",
       "3103896  0.330431  \n",
       "3103897  0.330431  \n",
       "3103898  0.330431  \n",
       "3103899  0.330431  \n",
       "\n",
       "[2105260 rows x 8 columns]"
      ]
     },
     "execution_count": 23,
     "metadata": {},
     "output_type": "execute_result"
    }
   ],
   "source": [
    "train_data"
   ]
  },
  {
   "cell_type": "code",
   "execution_count": 39,
   "metadata": {},
   "outputs": [],
   "source": [
    "from torch.utils.data import Dataset, DataLoader\n",
    "\n",
    "class CustomDataset(Dataset):\n",
    "    def __init__(self, data, window_size=6):\n",
    "        self.data = np.array(data)\n",
    "        self.window_size = window_size\n",
    "        \n",
    "    def __len__(self):\n",
    "        return len(self.data) - self.window_size # 2105254\n",
    "    \n",
    "    def __getitem__(self, idx):\n",
    "        X_data = self.data[idx:idx+self.window_size, :-1]\n",
    "        y_data = np.expand_dims(self.data[idx+self.window_size, -1], axis=-1)\n",
    "        return torch.tensor(data=X_data, dtype=torch.float32), torch.tensor(data=y_data, dtype=torch.float32)"
   ]
  },
  {
   "cell_type": "code",
   "execution_count": 40,
   "metadata": {},
   "outputs": [],
   "source": [
    "batch_size = 6 * 24 # 배치 사이즈는 하루 단위로 설정\n",
    "window_size = 6 # 60분을 보고 다음 10분을 예측하므로 총 window_size는 6\n",
    "\n",
    "train_dataset = CustomDataset(data=train_data, window_size=window_size) # window_size는 default 6 (1시간 단위)\n",
    "valid_dataset = CustomDataset(data=valid_data, window_size=window_size) # 검증을 위한 window_size는 보통 1로 두고 추론"
   ]
  },
  {
   "cell_type": "code",
   "execution_count": 41,
   "metadata": {},
   "outputs": [],
   "source": [
    "train_data_loader = DataLoader(train_dataset, batch_size=batch_size, shuffle=False) # 시계열 데이터라서 shuffle은 함부로 하면 안됨\n",
    "valid_data_loader = DataLoader(valid_dataset, batch_size=batch_size, shuffle=False) # 시계열 데이터라서 shuffle은 함부로 하면 안됨"
   ]
  },
  {
   "cell_type": "code",
   "execution_count": 112,
   "metadata": {},
   "outputs": [
    {
     "data": {
      "text/plain": [
       "14620"
      ]
     },
     "execution_count": 112,
     "metadata": {},
     "output_type": "execute_result"
    }
   ],
   "source": [
    "len(train_data_loader)"
   ]
  },
  {
   "cell_type": "code",
   "execution_count": 42,
   "metadata": {},
   "outputs": [
    {
     "name": "stdout",
     "output_type": "stream",
     "text": [
      "torch.Size([144, 6, 7]) torch.Size([144, 1])\n"
     ]
    }
   ],
   "source": [
    "for X, y in train_data_loader:\n",
    "    print(X.shape, y.shape)\n",
    "    break\n",
    "# (batch size, time step, feature dimension) "
   ]
  },
  {
   "cell_type": "code",
   "execution_count": 113,
   "metadata": {},
   "outputs": [
    {
     "name": "stdout",
     "output_type": "stream",
     "text": [
      "torch.Size([144, 6, 7]) torch.Size([144, 1])\n"
     ]
    }
   ],
   "source": [
    "for X, y in valid_data_loader:\n",
    "    print(X.shape, y.shape)\n",
    "    break\n",
    "# (batch size, time step, feature dimension) "
   ]
  },
  {
   "cell_type": "code",
   "execution_count": 29,
   "metadata": {},
   "outputs": [],
   "source": [
    "# 모델링 파라미터 정의\n",
    "\n",
    "input_size = len(X_cols) # 입력 특성 개수(target columns 만큼 특성이 들어감)\n",
    "num_layers = 2 # Hidden Layer의 개수 간단하게 two-layer로 구현 (추후 더 복잡하게 변경할 수 있음)\n",
    "hidden_size = 7 # Hidden Layer의 크기 (크면 모델의 표현력이 상승하지만 과적합의 위험이 존재함 -> 모델의 복잡성과 데이터의 복잡성을 고려해야함 = 실험적으로 찾아야함)"
   ]
  },
  {
   "cell_type": "code",
   "execution_count": 30,
   "metadata": {},
   "outputs": [],
   "source": [
    "# 모델링\n",
    "\n",
    "\"\"\" VanillaRNN \"\"\"\n",
    "\n",
    "class VanillaRNN(nn.Module):\n",
    "    def __init__(self, input_size, num_layers, hidden_size, window_size, device):\n",
    "        super(VanillaRNN, self).__init__()\n",
    "        self.device = device\n",
    "        self.hidden_size = hidden_size\n",
    "        self.num_layers = num_layers\n",
    "        self.window_size = window_size\n",
    "        self.rnn = nn.RNN(input_size=input_size, \n",
    "                          hidden_size=hidden_size, \n",
    "                          num_layers=num_layers, \n",
    "                          batch_first=True)\n",
    "        self.fc = nn.Sequential(nn.Linear(hidden_size * window_size, batch_size),\n",
    "                                nn.ReLU(),\n",
    "                                nn.Linear(batch_size, 1))\n",
    "        self.dropout = nn.Dropout(0.5)\n",
    "        self.batch_norm = nn.BatchNorm1d(hidden_size)\n",
    "        \n",
    "    def forward(self, x):\n",
    "        h0 = torch.zeros(self.num_layers, x.size()[0], self.hidden_size).to(self.device) # 초기 hidden state 설정\n",
    "        out, _ = self.rnn(x, h0) # rnn의 결과로는 해당 state의 output과 해당 hidden state를 지난 후의 상태인 hn을 반환함 여기서는 rnn을 한개만 사용했으므로 hn을 따로 할당할 필요는 없음\n",
    "        # out1, h1 = self.rnn(x, h0)\n",
    "        # out2, h2 = self.rnn(x, h1)\n",
    "        # out3, _ = self.rnn(x, h2) # 이런식으로 현재의 상태를 다음 hidden state에 넘기고 싶을 때 사용함\n",
    "        # print(out.shape) # torch.Size([144, 6, 512])\n",
    "        \n",
    "        out = out.contiguous().view(-1, self.hidden_size) # [batch_size*sequence_length, hidden_size]\n",
    "        out = self.batch_norm(out) # 배치 정규화\n",
    "        out = out.view(-1, self.window_size, self.hidden_size) # [batch_size, sequence_length, hidden_size]\n",
    "        out = self.dropout(out) # dropout 적용\n",
    "        \n",
    "        out = out.reshape(out.shape[0], -1)\n",
    "        # print(out ,out.shape) # torch.Size([144, 3072])\n",
    "        \n",
    "        out = self.fc(out)\n",
    "        return out"
   ]
  },
  {
   "cell_type": "code",
   "execution_count": 31,
   "metadata": {},
   "outputs": [],
   "source": [
    "model = VanillaRNN(input_size=input_size,\n",
    "                   hidden_size=hidden_size,\n",
    "                   window_size=window_size,\n",
    "                   num_layers=num_layers,\n",
    "                   device=device).to(device=device)"
   ]
  },
  {
   "cell_type": "code",
   "execution_count": 32,
   "metadata": {},
   "outputs": [],
   "source": [
    "# RMSLELoss 구현 RMSLE는 outlier에 강건하며 상대적오차를 측정함 또한 예측값이 클 때보다 작을 때 더 큰 패널티 부여함\n",
    "\n",
    "class RMSLELoss(nn.Module):\n",
    "    def __init__(self):\n",
    "        super().__init__()\n",
    "        self.mse = nn.MSELoss()\n",
    "    \n",
    "    def forward(self, pred, actual):\n",
    "        return torch.sqrt(self.mse(torch.log(pred + 1), torch.log(actual + 1)))"
   ]
  },
  {
   "cell_type": "code",
   "execution_count": 33,
   "metadata": {},
   "outputs": [],
   "source": [
    "# 학습 파라미터 정의\n",
    "\n",
    "criterion = nn.MSELoss()\n",
    "learning_rate = 0.0001 # 학습률은 0.001로 설정\n",
    "epoch = 100 # 학습 반복 횟수\n",
    "optimizer = optim.Adam(model.parameters(), lr=learning_rate)\n",
    "# scheduler = optim.lr_scheduler.ReduceLROnPlateau(optimizer=optimizer, mode=\"min\", patience=1) # 1에폭마다 Loss가 줄어들지 않으면 학습률을 감소시킴"
   ]
  },
  {
   "cell_type": "code",
   "execution_count": 34,
   "metadata": {},
   "outputs": [],
   "source": [
    "# 기울기 클리핑 함수 : 기울기 소실, 폭발 문제를 해결하기 위해 기울기가 일정 값 범위에서 유지되도록 함 value clipping 과 norm clipping 두 가지 방법이 있음\n",
    "def clip_gradient(model, clip_value):\n",
    "    for param in model.parameters():\n",
    "        param.grad.data.clamp_(-clip_value, clip_value)"
   ]
  },
  {
   "cell_type": "code",
   "execution_count": 30,
   "metadata": {},
   "outputs": [
    {
     "data": {
      "application/vnd.jupyter.widget-view+json": {
       "model_id": "e24d701b190047948af4042d263ca59f",
       "version_major": 2,
       "version_minor": 0
      },
      "text/plain": [
       "  0%|          | 0/100 [00:00<?, ?it/s]"
      ]
     },
     "metadata": {},
     "output_type": "display_data"
    },
    {
     "data": {
      "application/vnd.jupyter.widget-view+json": {
       "model_id": "e52b968150a6410abd3903b85c32f9e3",
       "version_major": 2,
       "version_minor": 0
      },
      "text/plain": [
       "training epoch 1:   0%|          | 0/14620 [00:00<?, ?it/s]"
      ]
     },
     "metadata": {},
     "output_type": "display_data"
    },
    {
     "data": {
      "application/vnd.jupyter.widget-view+json": {
       "model_id": "b07902130c7d4ebc90e5465d5d22f118",
       "version_major": 2,
       "version_minor": 0
      },
      "text/plain": [
       "training epoch 2:   0%|          | 0/14620 [00:00<?, ?it/s]"
      ]
     },
     "metadata": {},
     "output_type": "display_data"
    },
    {
     "data": {
      "application/vnd.jupyter.widget-view+json": {
       "model_id": "02986ec34c6e42b0af429e72312a80f9",
       "version_major": 2,
       "version_minor": 0
      },
      "text/plain": [
       "training epoch 3:   0%|          | 0/14620 [00:00<?, ?it/s]"
      ]
     },
     "metadata": {},
     "output_type": "display_data"
    },
    {
     "data": {
      "application/vnd.jupyter.widget-view+json": {
       "model_id": "a55d97d611d544cbab45c05e58da3bfd",
       "version_major": 2,
       "version_minor": 0
      },
      "text/plain": [
       "training epoch 4:   0%|          | 0/14620 [00:00<?, ?it/s]"
      ]
     },
     "metadata": {},
     "output_type": "display_data"
    },
    {
     "data": {
      "application/vnd.jupyter.widget-view+json": {
       "model_id": "a1ece0643a8641b89ce9d8fecaa83818",
       "version_major": 2,
       "version_minor": 0
      },
      "text/plain": [
       "training epoch 5:   0%|          | 0/14620 [00:00<?, ?it/s]"
      ]
     },
     "metadata": {},
     "output_type": "display_data"
    },
    {
     "data": {
      "application/vnd.jupyter.widget-view+json": {
       "model_id": "744a1dc6065845dfab26771132cf18de",
       "version_major": 2,
       "version_minor": 0
      },
      "text/plain": [
       "training epoch 6:   0%|          | 0/14620 [00:00<?, ?it/s]"
      ]
     },
     "metadata": {},
     "output_type": "display_data"
    },
    {
     "data": {
      "application/vnd.jupyter.widget-view+json": {
       "model_id": "bcfca675366b4dcfb47582481c52b370",
       "version_major": 2,
       "version_minor": 0
      },
      "text/plain": [
       "training epoch 7:   0%|          | 0/14620 [00:00<?, ?it/s]"
      ]
     },
     "metadata": {},
     "output_type": "display_data"
    },
    {
     "data": {
      "application/vnd.jupyter.widget-view+json": {
       "model_id": "f938c5d8e0e849d2b504c39550f68f1d",
       "version_major": 2,
       "version_minor": 0
      },
      "text/plain": [
       "training epoch 8:   0%|          | 0/14620 [00:00<?, ?it/s]"
      ]
     },
     "metadata": {},
     "output_type": "display_data"
    },
    {
     "data": {
      "application/vnd.jupyter.widget-view+json": {
       "model_id": "0b16ea3333884d438714f0b8a954f31b",
       "version_major": 2,
       "version_minor": 0
      },
      "text/plain": [
       "training epoch 9:   0%|          | 0/14620 [00:00<?, ?it/s]"
      ]
     },
     "metadata": {},
     "output_type": "display_data"
    },
    {
     "data": {
      "application/vnd.jupyter.widget-view+json": {
       "model_id": "13fb8b2d52dd49fea868f3cd16c446c7",
       "version_major": 2,
       "version_minor": 0
      },
      "text/plain": [
       "training epoch 10:   0%|          | 0/14620 [00:00<?, ?it/s]"
      ]
     },
     "metadata": {},
     "output_type": "display_data"
    },
    {
     "data": {
      "application/vnd.jupyter.widget-view+json": {
       "model_id": "6c1455bee956495b96c749e909dbf533",
       "version_major": 2,
       "version_minor": 0
      },
      "text/plain": [
       "training epoch 11:   0%|          | 0/14620 [00:00<?, ?it/s]"
      ]
     },
     "metadata": {},
     "output_type": "display_data"
    },
    {
     "data": {
      "application/vnd.jupyter.widget-view+json": {
       "model_id": "7e2233024e9d41fe9edc461fe37effbe",
       "version_major": 2,
       "version_minor": 0
      },
      "text/plain": [
       "training epoch 12:   0%|          | 0/14620 [00:00<?, ?it/s]"
      ]
     },
     "metadata": {},
     "output_type": "display_data"
    },
    {
     "data": {
      "application/vnd.jupyter.widget-view+json": {
       "model_id": "fbaf0e84c84b45fa981f70ae7479b2f2",
       "version_major": 2,
       "version_minor": 0
      },
      "text/plain": [
       "training epoch 13:   0%|          | 0/14620 [00:00<?, ?it/s]"
      ]
     },
     "metadata": {},
     "output_type": "display_data"
    },
    {
     "data": {
      "application/vnd.jupyter.widget-view+json": {
       "model_id": "59ad8f26001b47df90fdbd04c9f9c04b",
       "version_major": 2,
       "version_minor": 0
      },
      "text/plain": [
       "training epoch 14:   0%|          | 0/14620 [00:00<?, ?it/s]"
      ]
     },
     "metadata": {},
     "output_type": "display_data"
    },
    {
     "data": {
      "application/vnd.jupyter.widget-view+json": {
       "model_id": "14855d98f6ec45d1b43bba2a35a4b27a",
       "version_major": 2,
       "version_minor": 0
      },
      "text/plain": [
       "training epoch 15:   0%|          | 0/14620 [00:00<?, ?it/s]"
      ]
     },
     "metadata": {},
     "output_type": "display_data"
    },
    {
     "data": {
      "application/vnd.jupyter.widget-view+json": {
       "model_id": "f79f7c445c05411e87543d8a28c65ab2",
       "version_major": 2,
       "version_minor": 0
      },
      "text/plain": [
       "training epoch 16:   0%|          | 0/14620 [00:00<?, ?it/s]"
      ]
     },
     "metadata": {},
     "output_type": "display_data"
    },
    {
     "data": {
      "application/vnd.jupyter.widget-view+json": {
       "model_id": "4a3ec97e99e945ef92ea3ec6e6b5f359",
       "version_major": 2,
       "version_minor": 0
      },
      "text/plain": [
       "training epoch 17:   0%|          | 0/14620 [00:00<?, ?it/s]"
      ]
     },
     "metadata": {},
     "output_type": "display_data"
    },
    {
     "data": {
      "application/vnd.jupyter.widget-view+json": {
       "model_id": "a0d8a76d42614bddb0127ddd633231b6",
       "version_major": 2,
       "version_minor": 0
      },
      "text/plain": [
       "training epoch 18:   0%|          | 0/14620 [00:00<?, ?it/s]"
      ]
     },
     "metadata": {},
     "output_type": "display_data"
    },
    {
     "data": {
      "application/vnd.jupyter.widget-view+json": {
       "model_id": "4b5f302f7a704eb08490d89a29302dd7",
       "version_major": 2,
       "version_minor": 0
      },
      "text/plain": [
       "training epoch 19:   0%|          | 0/14620 [00:00<?, ?it/s]"
      ]
     },
     "metadata": {},
     "output_type": "display_data"
    },
    {
     "data": {
      "application/vnd.jupyter.widget-view+json": {
       "model_id": "263dab565ad445e29da5d7b7c8e8a7c3",
       "version_major": 2,
       "version_minor": 0
      },
      "text/plain": [
       "training epoch 20:   0%|          | 0/14620 [00:00<?, ?it/s]"
      ]
     },
     "metadata": {},
     "output_type": "display_data"
    },
    {
     "data": {
      "application/vnd.jupyter.widget-view+json": {
       "model_id": "4c00308f38d441e688e66fb2d1724dd9",
       "version_major": 2,
       "version_minor": 0
      },
      "text/plain": [
       "training epoch 21:   0%|          | 0/14620 [00:00<?, ?it/s]"
      ]
     },
     "metadata": {},
     "output_type": "display_data"
    },
    {
     "data": {
      "application/vnd.jupyter.widget-view+json": {
       "model_id": "3b81e35e99d2427080a7bdef3a2bd860",
       "version_major": 2,
       "version_minor": 0
      },
      "text/plain": [
       "training epoch 22:   0%|          | 0/14620 [00:00<?, ?it/s]"
      ]
     },
     "metadata": {},
     "output_type": "display_data"
    },
    {
     "data": {
      "application/vnd.jupyter.widget-view+json": {
       "model_id": "a817d44a0cf74a9a8cb348c214192902",
       "version_major": 2,
       "version_minor": 0
      },
      "text/plain": [
       "training epoch 23:   0%|          | 0/14620 [00:00<?, ?it/s]"
      ]
     },
     "metadata": {},
     "output_type": "display_data"
    },
    {
     "data": {
      "application/vnd.jupyter.widget-view+json": {
       "model_id": "c36e756ac4584d088daed6b6786e9852",
       "version_major": 2,
       "version_minor": 0
      },
      "text/plain": [
       "training epoch 24:   0%|          | 0/14620 [00:00<?, ?it/s]"
      ]
     },
     "metadata": {},
     "output_type": "display_data"
    },
    {
     "data": {
      "application/vnd.jupyter.widget-view+json": {
       "model_id": "048b0acc4aa5421a9d2a206b841a154d",
       "version_major": 2,
       "version_minor": 0
      },
      "text/plain": [
       "training epoch 25:   0%|          | 0/14620 [00:00<?, ?it/s]"
      ]
     },
     "metadata": {},
     "output_type": "display_data"
    },
    {
     "data": {
      "application/vnd.jupyter.widget-view+json": {
       "model_id": "5205e9ccdfb841da981c22d7dbc82563",
       "version_major": 2,
       "version_minor": 0
      },
      "text/plain": [
       "training epoch 26:   0%|          | 0/14620 [00:00<?, ?it/s]"
      ]
     },
     "metadata": {},
     "output_type": "display_data"
    },
    {
     "data": {
      "application/vnd.jupyter.widget-view+json": {
       "model_id": "d440dabc6600427e8a7cb6d8120d20b3",
       "version_major": 2,
       "version_minor": 0
      },
      "text/plain": [
       "training epoch 27:   0%|          | 0/14620 [00:00<?, ?it/s]"
      ]
     },
     "metadata": {},
     "output_type": "display_data"
    },
    {
     "data": {
      "application/vnd.jupyter.widget-view+json": {
       "model_id": "926dfa4d2fb548dc9e8358baf30b62a8",
       "version_major": 2,
       "version_minor": 0
      },
      "text/plain": [
       "training epoch 28:   0%|          | 0/14620 [00:00<?, ?it/s]"
      ]
     },
     "metadata": {},
     "output_type": "display_data"
    },
    {
     "data": {
      "application/vnd.jupyter.widget-view+json": {
       "model_id": "ad13ede2c23b46aaaca1ebe507defa35",
       "version_major": 2,
       "version_minor": 0
      },
      "text/plain": [
       "training epoch 29:   0%|          | 0/14620 [00:00<?, ?it/s]"
      ]
     },
     "metadata": {},
     "output_type": "display_data"
    },
    {
     "data": {
      "application/vnd.jupyter.widget-view+json": {
       "model_id": "da0839e34c924f62a6ff77c5b2019987",
       "version_major": 2,
       "version_minor": 0
      },
      "text/plain": [
       "training epoch 30:   0%|          | 0/14620 [00:00<?, ?it/s]"
      ]
     },
     "metadata": {},
     "output_type": "display_data"
    },
    {
     "data": {
      "application/vnd.jupyter.widget-view+json": {
       "model_id": "61e00cf64aeb40d793f3ae66a78c707b",
       "version_major": 2,
       "version_minor": 0
      },
      "text/plain": [
       "training epoch 31:   0%|          | 0/14620 [00:00<?, ?it/s]"
      ]
     },
     "metadata": {},
     "output_type": "display_data"
    },
    {
     "data": {
      "application/vnd.jupyter.widget-view+json": {
       "model_id": "054ff915b7f7460c96fdc5505f75d500",
       "version_major": 2,
       "version_minor": 0
      },
      "text/plain": [
       "training epoch 32:   0%|          | 0/14620 [00:00<?, ?it/s]"
      ]
     },
     "metadata": {},
     "output_type": "display_data"
    },
    {
     "data": {
      "application/vnd.jupyter.widget-view+json": {
       "model_id": "b2fb0a808a434855a5d84aa8dd382da3",
       "version_major": 2,
       "version_minor": 0
      },
      "text/plain": [
       "training epoch 33:   0%|          | 0/14620 [00:00<?, ?it/s]"
      ]
     },
     "metadata": {},
     "output_type": "display_data"
    },
    {
     "data": {
      "application/vnd.jupyter.widget-view+json": {
       "model_id": "f80364b4ae974ebab69e30e701c50f4c",
       "version_major": 2,
       "version_minor": 0
      },
      "text/plain": [
       "training epoch 34:   0%|          | 0/14620 [00:00<?, ?it/s]"
      ]
     },
     "metadata": {},
     "output_type": "display_data"
    },
    {
     "data": {
      "application/vnd.jupyter.widget-view+json": {
       "model_id": "3925bc2293264366aa02b56fc40e1791",
       "version_major": 2,
       "version_minor": 0
      },
      "text/plain": [
       "training epoch 35:   0%|          | 0/14620 [00:00<?, ?it/s]"
      ]
     },
     "metadata": {},
     "output_type": "display_data"
    },
    {
     "data": {
      "application/vnd.jupyter.widget-view+json": {
       "model_id": "f900ed11a8b44bcb9d3835b9460b504f",
       "version_major": 2,
       "version_minor": 0
      },
      "text/plain": [
       "training epoch 36:   0%|          | 0/14620 [00:00<?, ?it/s]"
      ]
     },
     "metadata": {},
     "output_type": "display_data"
    },
    {
     "data": {
      "application/vnd.jupyter.widget-view+json": {
       "model_id": "fb25bd0c715147ccb2eb5fa3e514b6a8",
       "version_major": 2,
       "version_minor": 0
      },
      "text/plain": [
       "training epoch 37:   0%|          | 0/14620 [00:00<?, ?it/s]"
      ]
     },
     "metadata": {},
     "output_type": "display_data"
    },
    {
     "data": {
      "application/vnd.jupyter.widget-view+json": {
       "model_id": "4b72165ebd7e4771be88129f4b6cb8ac",
       "version_major": 2,
       "version_minor": 0
      },
      "text/plain": [
       "training epoch 38:   0%|          | 0/14620 [00:00<?, ?it/s]"
      ]
     },
     "metadata": {},
     "output_type": "display_data"
    },
    {
     "data": {
      "application/vnd.jupyter.widget-view+json": {
       "model_id": "bbf5769aba664f2eaf4e4c94d963e11c",
       "version_major": 2,
       "version_minor": 0
      },
      "text/plain": [
       "training epoch 39:   0%|          | 0/14620 [00:00<?, ?it/s]"
      ]
     },
     "metadata": {},
     "output_type": "display_data"
    },
    {
     "data": {
      "application/vnd.jupyter.widget-view+json": {
       "model_id": "f940d16543db46139057ee4aacc354a3",
       "version_major": 2,
       "version_minor": 0
      },
      "text/plain": [
       "training epoch 40:   0%|          | 0/14620 [00:00<?, ?it/s]"
      ]
     },
     "metadata": {},
     "output_type": "display_data"
    },
    {
     "data": {
      "application/vnd.jupyter.widget-view+json": {
       "model_id": "df8113e104aa406fb2b5487e991a06dd",
       "version_major": 2,
       "version_minor": 0
      },
      "text/plain": [
       "training epoch 41:   0%|          | 0/14620 [00:00<?, ?it/s]"
      ]
     },
     "metadata": {},
     "output_type": "display_data"
    },
    {
     "data": {
      "application/vnd.jupyter.widget-view+json": {
       "model_id": "5d583d6c93be4977aaf3ecbd3583437c",
       "version_major": 2,
       "version_minor": 0
      },
      "text/plain": [
       "training epoch 42:   0%|          | 0/14620 [00:00<?, ?it/s]"
      ]
     },
     "metadata": {},
     "output_type": "display_data"
    },
    {
     "data": {
      "application/vnd.jupyter.widget-view+json": {
       "model_id": "33f1ef016b0648909a17f9d0f5b75c4e",
       "version_major": 2,
       "version_minor": 0
      },
      "text/plain": [
       "training epoch 43:   0%|          | 0/14620 [00:00<?, ?it/s]"
      ]
     },
     "metadata": {},
     "output_type": "display_data"
    },
    {
     "data": {
      "application/vnd.jupyter.widget-view+json": {
       "model_id": "c4f6ac1ff43c4f27b24b3dd9c236ff12",
       "version_major": 2,
       "version_minor": 0
      },
      "text/plain": [
       "training epoch 44:   0%|          | 0/14620 [00:00<?, ?it/s]"
      ]
     },
     "metadata": {},
     "output_type": "display_data"
    },
    {
     "data": {
      "application/vnd.jupyter.widget-view+json": {
       "model_id": "84a014268432484bb1174efbaaf269cd",
       "version_major": 2,
       "version_minor": 0
      },
      "text/plain": [
       "training epoch 45:   0%|          | 0/14620 [00:00<?, ?it/s]"
      ]
     },
     "metadata": {},
     "output_type": "display_data"
    },
    {
     "data": {
      "application/vnd.jupyter.widget-view+json": {
       "model_id": "5028b9c655e44dc8811c18b64eb05891",
       "version_major": 2,
       "version_minor": 0
      },
      "text/plain": [
       "training epoch 46:   0%|          | 0/14620 [00:00<?, ?it/s]"
      ]
     },
     "metadata": {},
     "output_type": "display_data"
    },
    {
     "data": {
      "application/vnd.jupyter.widget-view+json": {
       "model_id": "f5aa42f2b4f04937b71bbda94190c7ce",
       "version_major": 2,
       "version_minor": 0
      },
      "text/plain": [
       "training epoch 47:   0%|          | 0/14620 [00:00<?, ?it/s]"
      ]
     },
     "metadata": {},
     "output_type": "display_data"
    },
    {
     "data": {
      "application/vnd.jupyter.widget-view+json": {
       "model_id": "62c8192dbfa94413bc30c59f4cdc2c5a",
       "version_major": 2,
       "version_minor": 0
      },
      "text/plain": [
       "training epoch 48:   0%|          | 0/14620 [00:00<?, ?it/s]"
      ]
     },
     "metadata": {},
     "output_type": "display_data"
    },
    {
     "data": {
      "application/vnd.jupyter.widget-view+json": {
       "model_id": "6f57b997e1b94cdbada718008ec9cff0",
       "version_major": 2,
       "version_minor": 0
      },
      "text/plain": [
       "training epoch 49:   0%|          | 0/14620 [00:00<?, ?it/s]"
      ]
     },
     "metadata": {},
     "output_type": "display_data"
    },
    {
     "data": {
      "application/vnd.jupyter.widget-view+json": {
       "model_id": "8edc5f98054f4e71939f1f7685c3c644",
       "version_major": 2,
       "version_minor": 0
      },
      "text/plain": [
       "training epoch 50:   0%|          | 0/14620 [00:00<?, ?it/s]"
      ]
     },
     "metadata": {},
     "output_type": "display_data"
    },
    {
     "data": {
      "application/vnd.jupyter.widget-view+json": {
       "model_id": "fef3ebb41c2c4923a927c7beb511ba01",
       "version_major": 2,
       "version_minor": 0
      },
      "text/plain": [
       "training epoch 51:   0%|          | 0/14620 [00:00<?, ?it/s]"
      ]
     },
     "metadata": {},
     "output_type": "display_data"
    },
    {
     "data": {
      "application/vnd.jupyter.widget-view+json": {
       "model_id": "b05e1028db5e4947bb5bbb200ed0385b",
       "version_major": 2,
       "version_minor": 0
      },
      "text/plain": [
       "training epoch 52:   0%|          | 0/14620 [00:00<?, ?it/s]"
      ]
     },
     "metadata": {},
     "output_type": "display_data"
    },
    {
     "data": {
      "application/vnd.jupyter.widget-view+json": {
       "model_id": "b232a99d81094e0288b11cdfb83b5e65",
       "version_major": 2,
       "version_minor": 0
      },
      "text/plain": [
       "training epoch 53:   0%|          | 0/14620 [00:00<?, ?it/s]"
      ]
     },
     "metadata": {},
     "output_type": "display_data"
    },
    {
     "data": {
      "application/vnd.jupyter.widget-view+json": {
       "model_id": "96a322b3783e49bea59c14b17df516d4",
       "version_major": 2,
       "version_minor": 0
      },
      "text/plain": [
       "training epoch 54:   0%|          | 0/14620 [00:00<?, ?it/s]"
      ]
     },
     "metadata": {},
     "output_type": "display_data"
    },
    {
     "data": {
      "application/vnd.jupyter.widget-view+json": {
       "model_id": "a574695c51a5441ba11f1f2e636fee57",
       "version_major": 2,
       "version_minor": 0
      },
      "text/plain": [
       "training epoch 55:   0%|          | 0/14620 [00:00<?, ?it/s]"
      ]
     },
     "metadata": {},
     "output_type": "display_data"
    },
    {
     "data": {
      "application/vnd.jupyter.widget-view+json": {
       "model_id": "1956f6a17d0143ca9896b0dc6b85ab29",
       "version_major": 2,
       "version_minor": 0
      },
      "text/plain": [
       "training epoch 56:   0%|          | 0/14620 [00:00<?, ?it/s]"
      ]
     },
     "metadata": {},
     "output_type": "display_data"
    },
    {
     "data": {
      "application/vnd.jupyter.widget-view+json": {
       "model_id": "52b34157a62d49079fd1f06098dcdfe5",
       "version_major": 2,
       "version_minor": 0
      },
      "text/plain": [
       "training epoch 57:   0%|          | 0/14620 [00:00<?, ?it/s]"
      ]
     },
     "metadata": {},
     "output_type": "display_data"
    },
    {
     "data": {
      "application/vnd.jupyter.widget-view+json": {
       "model_id": "2d0ccca173cf4846a8ef2716d33bbec5",
       "version_major": 2,
       "version_minor": 0
      },
      "text/plain": [
       "training epoch 58:   0%|          | 0/14620 [00:00<?, ?it/s]"
      ]
     },
     "metadata": {},
     "output_type": "display_data"
    },
    {
     "data": {
      "application/vnd.jupyter.widget-view+json": {
       "model_id": "dde38b9b39414295a36d712f71d42cae",
       "version_major": 2,
       "version_minor": 0
      },
      "text/plain": [
       "training epoch 59:   0%|          | 0/14620 [00:00<?, ?it/s]"
      ]
     },
     "metadata": {},
     "output_type": "display_data"
    },
    {
     "data": {
      "application/vnd.jupyter.widget-view+json": {
       "model_id": "e6fd91d1d78144929dc2aa4068acd65a",
       "version_major": 2,
       "version_minor": 0
      },
      "text/plain": [
       "training epoch 60:   0%|          | 0/14620 [00:00<?, ?it/s]"
      ]
     },
     "metadata": {},
     "output_type": "display_data"
    },
    {
     "data": {
      "application/vnd.jupyter.widget-view+json": {
       "model_id": "dcda139c13704d6c84f7a8f788f508b8",
       "version_major": 2,
       "version_minor": 0
      },
      "text/plain": [
       "training epoch 61:   0%|          | 0/14620 [00:00<?, ?it/s]"
      ]
     },
     "metadata": {},
     "output_type": "display_data"
    },
    {
     "data": {
      "application/vnd.jupyter.widget-view+json": {
       "model_id": "da7c1ab63c9741e5b15a86aa2faf52ad",
       "version_major": 2,
       "version_minor": 0
      },
      "text/plain": [
       "training epoch 62:   0%|          | 0/14620 [00:00<?, ?it/s]"
      ]
     },
     "metadata": {},
     "output_type": "display_data"
    },
    {
     "data": {
      "application/vnd.jupyter.widget-view+json": {
       "model_id": "5a84604f89f24f4b8d0a9cba21c22654",
       "version_major": 2,
       "version_minor": 0
      },
      "text/plain": [
       "training epoch 63:   0%|          | 0/14620 [00:00<?, ?it/s]"
      ]
     },
     "metadata": {},
     "output_type": "display_data"
    },
    {
     "data": {
      "application/vnd.jupyter.widget-view+json": {
       "model_id": "d1f12c312b504194b8b02eb743aa1e31",
       "version_major": 2,
       "version_minor": 0
      },
      "text/plain": [
       "training epoch 64:   0%|          | 0/14620 [00:00<?, ?it/s]"
      ]
     },
     "metadata": {},
     "output_type": "display_data"
    },
    {
     "data": {
      "application/vnd.jupyter.widget-view+json": {
       "model_id": "3dc978f85eb244b59fd38feff6776600",
       "version_major": 2,
       "version_minor": 0
      },
      "text/plain": [
       "training epoch 65:   0%|          | 0/14620 [00:00<?, ?it/s]"
      ]
     },
     "metadata": {},
     "output_type": "display_data"
    },
    {
     "data": {
      "application/vnd.jupyter.widget-view+json": {
       "model_id": "7d726bb01c0e46a3a2e3f055e7639852",
       "version_major": 2,
       "version_minor": 0
      },
      "text/plain": [
       "training epoch 66:   0%|          | 0/14620 [00:00<?, ?it/s]"
      ]
     },
     "metadata": {},
     "output_type": "display_data"
    },
    {
     "data": {
      "application/vnd.jupyter.widget-view+json": {
       "model_id": "a77ed8e638ab4096bfd4ae2bfe665201",
       "version_major": 2,
       "version_minor": 0
      },
      "text/plain": [
       "training epoch 67:   0%|          | 0/14620 [00:00<?, ?it/s]"
      ]
     },
     "metadata": {},
     "output_type": "display_data"
    },
    {
     "data": {
      "application/vnd.jupyter.widget-view+json": {
       "model_id": "ea67d87a3cb04febb95e32a1dde42331",
       "version_major": 2,
       "version_minor": 0
      },
      "text/plain": [
       "training epoch 68:   0%|          | 0/14620 [00:00<?, ?it/s]"
      ]
     },
     "metadata": {},
     "output_type": "display_data"
    },
    {
     "data": {
      "application/vnd.jupyter.widget-view+json": {
       "model_id": "2c5ef017837a48f98055081245f2125e",
       "version_major": 2,
       "version_minor": 0
      },
      "text/plain": [
       "training epoch 69:   0%|          | 0/14620 [00:00<?, ?it/s]"
      ]
     },
     "metadata": {},
     "output_type": "display_data"
    },
    {
     "data": {
      "application/vnd.jupyter.widget-view+json": {
       "model_id": "99e0b9d0612040a48dc96afb13193273",
       "version_major": 2,
       "version_minor": 0
      },
      "text/plain": [
       "training epoch 70:   0%|          | 0/14620 [00:00<?, ?it/s]"
      ]
     },
     "metadata": {},
     "output_type": "display_data"
    },
    {
     "data": {
      "application/vnd.jupyter.widget-view+json": {
       "model_id": "6e316c8e495b44918a87aee0584d4b14",
       "version_major": 2,
       "version_minor": 0
      },
      "text/plain": [
       "training epoch 71:   0%|          | 0/14620 [00:00<?, ?it/s]"
      ]
     },
     "metadata": {},
     "output_type": "display_data"
    },
    {
     "data": {
      "application/vnd.jupyter.widget-view+json": {
       "model_id": "1215003a26cd45e3bcc123b0d70ff54d",
       "version_major": 2,
       "version_minor": 0
      },
      "text/plain": [
       "training epoch 72:   0%|          | 0/14620 [00:00<?, ?it/s]"
      ]
     },
     "metadata": {},
     "output_type": "display_data"
    },
    {
     "data": {
      "application/vnd.jupyter.widget-view+json": {
       "model_id": "13b7484a988f493aba14bec9107d4c84",
       "version_major": 2,
       "version_minor": 0
      },
      "text/plain": [
       "training epoch 73:   0%|          | 0/14620 [00:00<?, ?it/s]"
      ]
     },
     "metadata": {},
     "output_type": "display_data"
    },
    {
     "data": {
      "application/vnd.jupyter.widget-view+json": {
       "model_id": "721bf648e32543488abfa6db5708e085",
       "version_major": 2,
       "version_minor": 0
      },
      "text/plain": [
       "training epoch 74:   0%|          | 0/14620 [00:00<?, ?it/s]"
      ]
     },
     "metadata": {},
     "output_type": "display_data"
    },
    {
     "data": {
      "application/vnd.jupyter.widget-view+json": {
       "model_id": "fa0f49450f5c4abeb3cb2ba89cf387fa",
       "version_major": 2,
       "version_minor": 0
      },
      "text/plain": [
       "training epoch 75:   0%|          | 0/14620 [00:00<?, ?it/s]"
      ]
     },
     "metadata": {},
     "output_type": "display_data"
    },
    {
     "data": {
      "application/vnd.jupyter.widget-view+json": {
       "model_id": "4b59a344293f44128e14af4428cf8e97",
       "version_major": 2,
       "version_minor": 0
      },
      "text/plain": [
       "training epoch 76:   0%|          | 0/14620 [00:00<?, ?it/s]"
      ]
     },
     "metadata": {},
     "output_type": "display_data"
    },
    {
     "data": {
      "application/vnd.jupyter.widget-view+json": {
       "model_id": "2def0e1c29f4454a9093344ccedbfd22",
       "version_major": 2,
       "version_minor": 0
      },
      "text/plain": [
       "training epoch 77:   0%|          | 0/14620 [00:00<?, ?it/s]"
      ]
     },
     "metadata": {},
     "output_type": "display_data"
    },
    {
     "data": {
      "application/vnd.jupyter.widget-view+json": {
       "model_id": "4e2597c5e3364cd1bcac821a1584d39f",
       "version_major": 2,
       "version_minor": 0
      },
      "text/plain": [
       "training epoch 78:   0%|          | 0/14620 [00:00<?, ?it/s]"
      ]
     },
     "metadata": {},
     "output_type": "display_data"
    },
    {
     "data": {
      "application/vnd.jupyter.widget-view+json": {
       "model_id": "a8952424f4554e1fbc7cbc785c394e0c",
       "version_major": 2,
       "version_minor": 0
      },
      "text/plain": [
       "training epoch 79:   0%|          | 0/14620 [00:00<?, ?it/s]"
      ]
     },
     "metadata": {},
     "output_type": "display_data"
    },
    {
     "data": {
      "application/vnd.jupyter.widget-view+json": {
       "model_id": "31faf75ece5a43d598d548eb9a7f9d2f",
       "version_major": 2,
       "version_minor": 0
      },
      "text/plain": [
       "training epoch 80:   0%|          | 0/14620 [00:00<?, ?it/s]"
      ]
     },
     "metadata": {},
     "output_type": "display_data"
    },
    {
     "data": {
      "application/vnd.jupyter.widget-view+json": {
       "model_id": "8d6c6e5404224d6e836362d3b54a1087",
       "version_major": 2,
       "version_minor": 0
      },
      "text/plain": [
       "training epoch 81:   0%|          | 0/14620 [00:00<?, ?it/s]"
      ]
     },
     "metadata": {},
     "output_type": "display_data"
    },
    {
     "data": {
      "application/vnd.jupyter.widget-view+json": {
       "model_id": "8c8ed759a06b4d7b8b7b32d56db451e2",
       "version_major": 2,
       "version_minor": 0
      },
      "text/plain": [
       "training epoch 82:   0%|          | 0/14620 [00:00<?, ?it/s]"
      ]
     },
     "metadata": {},
     "output_type": "display_data"
    },
    {
     "data": {
      "application/vnd.jupyter.widget-view+json": {
       "model_id": "167c0bd86f6145f59d30c63e462c6c3d",
       "version_major": 2,
       "version_minor": 0
      },
      "text/plain": [
       "training epoch 83:   0%|          | 0/14620 [00:00<?, ?it/s]"
      ]
     },
     "metadata": {},
     "output_type": "display_data"
    },
    {
     "data": {
      "application/vnd.jupyter.widget-view+json": {
       "model_id": "08573ead2fc1471b9db24f0c9ae1d256",
       "version_major": 2,
       "version_minor": 0
      },
      "text/plain": [
       "training epoch 84:   0%|          | 0/14620 [00:00<?, ?it/s]"
      ]
     },
     "metadata": {},
     "output_type": "display_data"
    },
    {
     "data": {
      "application/vnd.jupyter.widget-view+json": {
       "model_id": "6d488bbfe4f94852a29b1ffa30977786",
       "version_major": 2,
       "version_minor": 0
      },
      "text/plain": [
       "training epoch 85:   0%|          | 0/14620 [00:00<?, ?it/s]"
      ]
     },
     "metadata": {},
     "output_type": "display_data"
    },
    {
     "data": {
      "application/vnd.jupyter.widget-view+json": {
       "model_id": "ff3902a3bf044a42ad9f6492f7820f9b",
       "version_major": 2,
       "version_minor": 0
      },
      "text/plain": [
       "training epoch 86:   0%|          | 0/14620 [00:00<?, ?it/s]"
      ]
     },
     "metadata": {},
     "output_type": "display_data"
    },
    {
     "data": {
      "application/vnd.jupyter.widget-view+json": {
       "model_id": "22cd53a6568f42aa8b2d789044aa01a0",
       "version_major": 2,
       "version_minor": 0
      },
      "text/plain": [
       "training epoch 87:   0%|          | 0/14620 [00:00<?, ?it/s]"
      ]
     },
     "metadata": {},
     "output_type": "display_data"
    },
    {
     "data": {
      "application/vnd.jupyter.widget-view+json": {
       "model_id": "0608a8e96caa4eeda998d35db7feb3d7",
       "version_major": 2,
       "version_minor": 0
      },
      "text/plain": [
       "training epoch 88:   0%|          | 0/14620 [00:00<?, ?it/s]"
      ]
     },
     "metadata": {},
     "output_type": "display_data"
    },
    {
     "data": {
      "application/vnd.jupyter.widget-view+json": {
       "model_id": "7640f411a8ae449ab3322cb76561a02c",
       "version_major": 2,
       "version_minor": 0
      },
      "text/plain": [
       "training epoch 89:   0%|          | 0/14620 [00:00<?, ?it/s]"
      ]
     },
     "metadata": {},
     "output_type": "display_data"
    },
    {
     "data": {
      "application/vnd.jupyter.widget-view+json": {
       "model_id": "1dbd02775dbc41eb9e96316ef15c766d",
       "version_major": 2,
       "version_minor": 0
      },
      "text/plain": [
       "training epoch 90:   0%|          | 0/14620 [00:00<?, ?it/s]"
      ]
     },
     "metadata": {},
     "output_type": "display_data"
    },
    {
     "data": {
      "application/vnd.jupyter.widget-view+json": {
       "model_id": "75d536e0a24842f6870c64374a37f44c",
       "version_major": 2,
       "version_minor": 0
      },
      "text/plain": [
       "training epoch 91:   0%|          | 0/14620 [00:00<?, ?it/s]"
      ]
     },
     "metadata": {},
     "output_type": "display_data"
    },
    {
     "data": {
      "application/vnd.jupyter.widget-view+json": {
       "model_id": "3b89d03f5d4b408ebf1afb77afcbb2f8",
       "version_major": 2,
       "version_minor": 0
      },
      "text/plain": [
       "training epoch 92:   0%|          | 0/14620 [00:00<?, ?it/s]"
      ]
     },
     "metadata": {},
     "output_type": "display_data"
    },
    {
     "data": {
      "application/vnd.jupyter.widget-view+json": {
       "model_id": "42c2775537da494bae6a97cd4c5604e1",
       "version_major": 2,
       "version_minor": 0
      },
      "text/plain": [
       "training epoch 93:   0%|          | 0/14620 [00:00<?, ?it/s]"
      ]
     },
     "metadata": {},
     "output_type": "display_data"
    },
    {
     "data": {
      "application/vnd.jupyter.widget-view+json": {
       "model_id": "9a111135e3d0435bbb60d20e5cee8e42",
       "version_major": 2,
       "version_minor": 0
      },
      "text/plain": [
       "training epoch 94:   0%|          | 0/14620 [00:00<?, ?it/s]"
      ]
     },
     "metadata": {},
     "output_type": "display_data"
    },
    {
     "data": {
      "application/vnd.jupyter.widget-view+json": {
       "model_id": "34b8e26ac36642209259ff95d589532c",
       "version_major": 2,
       "version_minor": 0
      },
      "text/plain": [
       "training epoch 95:   0%|          | 0/14620 [00:00<?, ?it/s]"
      ]
     },
     "metadata": {},
     "output_type": "display_data"
    },
    {
     "data": {
      "application/vnd.jupyter.widget-view+json": {
       "model_id": "d80c8d94a2a645508bb2ec706a6b65b7",
       "version_major": 2,
       "version_minor": 0
      },
      "text/plain": [
       "training epoch 96:   0%|          | 0/14620 [00:00<?, ?it/s]"
      ]
     },
     "metadata": {},
     "output_type": "display_data"
    },
    {
     "data": {
      "application/vnd.jupyter.widget-view+json": {
       "model_id": "d7c36661af9248de8bcd7ab8659927d5",
       "version_major": 2,
       "version_minor": 0
      },
      "text/plain": [
       "training epoch 97:   0%|          | 0/14620 [00:00<?, ?it/s]"
      ]
     },
     "metadata": {},
     "output_type": "display_data"
    },
    {
     "data": {
      "application/vnd.jupyter.widget-view+json": {
       "model_id": "2b4e774d767041ff81fcc5bee382dfdc",
       "version_major": 2,
       "version_minor": 0
      },
      "text/plain": [
       "training epoch 98:   0%|          | 0/14620 [00:00<?, ?it/s]"
      ]
     },
     "metadata": {},
     "output_type": "display_data"
    },
    {
     "data": {
      "application/vnd.jupyter.widget-view+json": {
       "model_id": "a2ef7f72accc4a60969518f2586e7314",
       "version_major": 2,
       "version_minor": 0
      },
      "text/plain": [
       "training epoch 99:   0%|          | 0/14620 [00:00<?, ?it/s]"
      ]
     },
     "metadata": {},
     "output_type": "display_data"
    },
    {
     "data": {
      "application/vnd.jupyter.widget-view+json": {
       "model_id": "c2aa19cbef4f471ebe9912cd799e9330",
       "version_major": 2,
       "version_minor": 0
      },
      "text/plain": [
       "training epoch 100:   0%|          | 0/14620 [00:00<?, ?it/s]"
      ]
     },
     "metadata": {},
     "output_type": "display_data"
    }
   ],
   "source": [
    "# 학습\n",
    "from tqdm.auto import tqdm\n",
    "import torch.nn.utils as utils\n",
    "\n",
    "loss_list = []\n",
    "n = len(train_data_loader)\n",
    "\n",
    "for e in tqdm(range(1, epoch+1)):\n",
    "    running_loss = 0.0\n",
    "    train_iterator = tqdm(enumerate(train_data_loader), total=n, desc=f\"training epoch {e}\")\n",
    "    \n",
    "    for _, batch_data in train_iterator:\n",
    "        X, y = batch_data # 배치데이터\n",
    "        out = model(X) # 학습 데이터를 모델에 넣기\n",
    "        loss = criterion(out, y) # output과 y 데이터로 loss 구하기\n",
    "        \n",
    "        optimizer.zero_grad() # 기울기 초기화\n",
    "        loss.backward() # 역전파 수행 -> loss function의 기울기 계산\n",
    "        \n",
    "        # clip_gradient(model, 1.0) # 기울기 클리핑(value)\n",
    "        utils.clip_grad_norm_(model.parameters(), max_norm=1.0) # 기울기 클리핑(norm)\n",
    "        \n",
    "        optimizer.step() # 기울기를 이용해 가중치 업데이트\n",
    "        running_loss += loss.item() # 한 배치의 loss 더하기 (추후 평균 loss를 구하기 위함)\n",
    "        train_iterator.set_postfix({\n",
    "            'train_loss' : format(loss, 'f')\n",
    "        })\n",
    "    \n",
    "    loss_list.append(running_loss / n) # 한 epoch의 평균 loss\n",
    "    # scheduler.step(metrics=loss) # 스케줄러 업데이트"
   ]
  },
  {
   "cell_type": "code",
   "execution_count": 31,
   "metadata": {},
   "outputs": [
    {
     "data": {
      "text/plain": [
       "[0.018891572431647373,\n",
       " 0.017953084116310438,\n",
       " 0.017493838763987656,\n",
       " 0.017785505681027464,\n",
       " 0.017779842429639217,\n",
       " 0.017805842771922372,\n",
       " 0.0175578093161036,\n",
       " 0.01743278786265446,\n",
       " 0.017423343972705927,\n",
       " 0.017542027006197183,\n",
       " 0.01770717199608053,\n",
       " 0.01726554756015377,\n",
       " 0.017326677591449163,\n",
       " 0.017547417066435488,\n",
       " 0.01727363270300811,\n",
       " 0.01734021897024823,\n",
       " 0.017199375535061005,\n",
       " 0.016919273888761854,\n",
       " 0.016870151729920655,\n",
       " 0.016804410585886685,\n",
       " 0.016812147633156197,\n",
       " 0.016573596446976237,\n",
       " 0.016625181133577974,\n",
       " 0.017114049616690868,\n",
       " 0.01686632668268495,\n",
       " 0.01703073248939324,\n",
       " 0.016791585068660124,\n",
       " 0.016710702191196875,\n",
       " 0.016720740618187294,\n",
       " 0.016699603511681826,\n",
       " 0.0168764004485261,\n",
       " 0.016754541091644152,\n",
       " 0.016939669978010972,\n",
       " 0.01695985225563769,\n",
       " 0.017091310963439545,\n",
       " 0.016832326176609184,\n",
       " 0.016677125226730104,\n",
       " 0.016744913547240132,\n",
       " 0.01663814011273778,\n",
       " 0.01662809318982466,\n",
       " 0.01642320065700681,\n",
       " 0.016263587690969056,\n",
       " 0.016586002107632426,\n",
       " 0.016524414897013243,\n",
       " 0.016367764163055996,\n",
       " 0.01629275065689895,\n",
       " 0.016187661340900102,\n",
       " 0.01602185818725637,\n",
       " 0.0160005946492657,\n",
       " 0.015772445627174503,\n",
       " 0.01569736232265454,\n",
       " 0.015616817376052316,\n",
       " 0.015578666394138877,\n",
       " 0.015482191259478126,\n",
       " 0.015410719683477285,\n",
       " 0.015350371171560195,\n",
       " 0.015296885814883346,\n",
       " 0.015222850633604892,\n",
       " 0.015402735783214185,\n",
       " 0.015766689505588686,\n",
       " 0.016252294633190036,\n",
       " 0.016226363196816366,\n",
       " 0.015961025799880027,\n",
       " 0.01595460747511127,\n",
       " 0.01568800075325475,\n",
       " 0.015591173148747748,\n",
       " 0.015606383559095155,\n",
       " 0.015485192180619693,\n",
       " 0.015443430399265207,\n",
       " 0.015378899545171576,\n",
       " 0.015327798715712292,\n",
       " 0.015228220632817717,\n",
       " 0.015206721401569348,\n",
       " 0.015288883123708224,\n",
       " 0.015340640338688828,\n",
       " 0.015475275904256541,\n",
       " 0.015267505902821887,\n",
       " 0.015333724324675564,\n",
       " 0.015149642397788456,\n",
       " 0.015054156728297659,\n",
       " 0.015141657438062818,\n",
       " 0.01514736750292851,\n",
       " 0.014894253935782004,\n",
       " 0.014880903890342507,\n",
       " 0.01497607167912513,\n",
       " 0.014999767344449329,\n",
       " 0.014930446218081527,\n",
       " 0.01485282809922882,\n",
       " 0.014811282142735291,\n",
       " 0.014858275958040556,\n",
       " 0.014787480580721216,\n",
       " 0.014775273664559746,\n",
       " 0.014684906683198972,\n",
       " 0.014929794092470403,\n",
       " 0.01471790643429946,\n",
       " 0.014762308933554883,\n",
       " 0.015065375360593646,\n",
       " 0.01473332378791657,\n",
       " 0.014792457282743227,\n",
       " 0.014762007660104503]"
      ]
     },
     "execution_count": 31,
     "metadata": {},
     "output_type": "execute_result"
    }
   ],
   "source": [
    "loss_list"
   ]
  },
  {
   "cell_type": "code",
   "execution_count": 32,
   "metadata": {},
   "outputs": [
    {
     "data": {
      "text/plain": [
       "<Axes: >"
      ]
     },
     "execution_count": 32,
     "metadata": {},
     "output_type": "execute_result"
    },
    {
     "data": {
      "image/png": "[encoded data removed]",
      "text/plain": [
       "<Figure size 640x480 with 1 Axes>"
      ]
     },
     "metadata": {},
     "output_type": "display_data"
    }
   ],
   "source": [
    "sns.lineplot(loss_list)"
   ]
  },
  {
   "cell_type": "code",
   "execution_count": null,
   "metadata": {},
   "outputs": [],
   "source": [
    "torch.save(model, \"VanillaRNN.pt\")"
   ]
  },
  {
   "cell_type": "code",
   "execution_count": 35,
   "metadata": {},
   "outputs": [],
   "source": [
    "# 커널 재실행 시 모델 불러오기\n",
    "import torch\n",
    "\n",
    "model = torch.load(\"VanillaRNN.pt\")\n"
   ]
  },
  {
   "cell_type": "code",
   "execution_count": 44,
   "metadata": {},
   "outputs": [
    {
     "data": {
      "application/vnd.jupyter.widget-view+json": {
       "model_id": "9f11561e2ec94e409a72ce70c32e01b0",
       "version_major": 2,
       "version_minor": 0
      },
      "text/plain": [
       "validation:   0%|          | 0/7300 [00:00<?, ?it/s]"
      ]
     },
     "metadata": {},
     "output_type": "display_data"
    }
   ],
   "source": [
    "# Validation 검증\n",
    "from tqdm.auto import tqdm\n",
    "\n",
    "model.eval()\n",
    "with torch.no_grad():\n",
    "    valid = []\n",
    "    running_loss = 0.0\n",
    "    n = len(valid_data_loader)\n",
    "    valid_iterator = tqdm(enumerate(valid_data_loader), total=n, desc=f\"validation\")\n",
    "    for _, batch_data in valid_iterator:\n",
    "        X, y = batch_data\n",
    "        valid_pred = model(X)\n",
    "        valid += np.array(valid_pred).flatten().tolist()\n",
    "    # inverse\n",
    "    pred_inverse = y_scaler.inverse_transform(np.array(valid).reshape(-1, 1)).squeeze()\n",
    "    y_valid = train.query(\"년도=='K'\")[\"10분평균시정\"].reset_index(drop=True)\n",
    "    \n",
    "    valid_df = pd.DataFrame({\"actual\" : y_valid,\n",
    "                             \"pred\" : pred_inverse})\n",
    "    \n",
    "    # loss\n",
    "    valid_df[\"loss\"] = valid_df.apply(lambda x: round(float(criterion(torch.tensor(x.iloc[1], dtype=torch.float32), torch.tensor(x.iloc[0], dtype=torch.float32))), 2), axis=1)"
   ]
  },
  {
   "cell_type": "code",
   "execution_count": 46,
   "metadata": {},
   "outputs": [
    {
     "data": {
      "text/html": [
       "<div>\n",
       "<style scoped>\n",
       "    .dataframe tbody tr th:only-of-type {\n",
       "        vertical-align: middle;\n",
       "    }\n",
       "\n",
       "    .dataframe tbody tr th {\n",
       "        vertical-align: top;\n",
       "    }\n",
       "\n",
       "    .dataframe thead th {\n",
       "        text-align: right;\n",
       "    }\n",
       "</style>\n",
       "<table border=\"1\" class=\"dataframe\">\n",
       "  <thead>\n",
       "    <tr style=\"text-align: right;\">\n",
       "      <th></th>\n",
       "      <th>actual</th>\n",
       "      <th>pred</th>\n",
       "      <th>loss</th>\n",
       "    </tr>\n",
       "  </thead>\n",
       "  <tbody>\n",
       "    <tr>\n",
       "      <th>0</th>\n",
       "      <td>20000.0</td>\n",
       "      <td>19968.606929</td>\n",
       "      <td>985.49</td>\n",
       "    </tr>\n",
       "    <tr>\n",
       "      <th>1</th>\n",
       "      <td>20000.0</td>\n",
       "      <td>19551.068135</td>\n",
       "      <td>201539.62</td>\n",
       "    </tr>\n",
       "    <tr>\n",
       "      <th>2</th>\n",
       "      <td>20000.0</td>\n",
       "      <td>19686.835027</td>\n",
       "      <td>98071.73</td>\n",
       "    </tr>\n",
       "    <tr>\n",
       "      <th>3</th>\n",
       "      <td>20000.0</td>\n",
       "      <td>19689.924860</td>\n",
       "      <td>96146.02</td>\n",
       "    </tr>\n",
       "    <tr>\n",
       "      <th>4</th>\n",
       "      <td>20000.0</td>\n",
       "      <td>19747.246415</td>\n",
       "      <td>63884.54</td>\n",
       "    </tr>\n",
       "    <tr>\n",
       "      <th>...</th>\n",
       "      <td>...</td>\n",
       "      <td>...</td>\n",
       "      <td>...</td>\n",
       "    </tr>\n",
       "    <tr>\n",
       "      <th>1051195</th>\n",
       "      <td>20000.0</td>\n",
       "      <td>19256.716840</td>\n",
       "      <td>552469.94</td>\n",
       "    </tr>\n",
       "    <tr>\n",
       "      <th>1051196</th>\n",
       "      <td>20000.0</td>\n",
       "      <td>19379.826778</td>\n",
       "      <td>384615.56</td>\n",
       "    </tr>\n",
       "    <tr>\n",
       "      <th>1051197</th>\n",
       "      <td>20000.0</td>\n",
       "      <td>19328.298887</td>\n",
       "      <td>451182.47</td>\n",
       "    </tr>\n",
       "    <tr>\n",
       "      <th>1051198</th>\n",
       "      <td>20000.0</td>\n",
       "      <td>19281.215450</td>\n",
       "      <td>516652.09</td>\n",
       "    </tr>\n",
       "    <tr>\n",
       "      <th>1051199</th>\n",
       "      <td>20000.0</td>\n",
       "      <td>19159.294187</td>\n",
       "      <td>706785.00</td>\n",
       "    </tr>\n",
       "  </tbody>\n",
       "</table>\n",
       "<p>1051200 rows × 3 columns</p>\n",
       "</div>"
      ],
      "text/plain": [
       "          actual          pred       loss\n",
       "0        20000.0  19968.606929     985.49\n",
       "1        20000.0  19551.068135  201539.62\n",
       "2        20000.0  19686.835027   98071.73\n",
       "3        20000.0  19689.924860   96146.02\n",
       "4        20000.0  19747.246415   63884.54\n",
       "...          ...           ...        ...\n",
       "1051195  20000.0  19256.716840  552469.94\n",
       "1051196  20000.0  19379.826778  384615.56\n",
       "1051197  20000.0  19328.298887  451182.47\n",
       "1051198  20000.0  19281.215450  516652.09\n",
       "1051199  20000.0  19159.294187  706785.00\n",
       "\n",
       "[1051200 rows x 3 columns]"
      ]
     },
     "execution_count": 46,
     "metadata": {},
     "output_type": "execute_result"
    }
   ],
   "source": [
    "valid_df"
   ]
  },
  {
   "cell_type": "code",
   "execution_count": 73,
   "metadata": {},
   "outputs": [],
   "source": [
    "# 음수로 예측된 값 절대값 취함\n",
    "\n",
    "valid_df[\"pred\"] = valid_df[\"pred\"].abs()"
   ]
  },
  {
   "cell_type": "code",
   "execution_count": 74,
   "metadata": {},
   "outputs": [],
   "source": [
    "def make_class(vis):\n",
    "    if 0 < vis and vis < 200 :\n",
    "        return 1\n",
    "    elif 200 <= vis and vis < 500 :\n",
    "        return 2\n",
    "    elif 500 <= vis and vis < 1000 :\n",
    "        return 3\n",
    "    elif 1000 <= vis :\n",
    "        return 4\n",
    "    else :\n",
    "        return np.nan"
   ]
  },
  {
   "cell_type": "code",
   "execution_count": 75,
   "metadata": {},
   "outputs": [],
   "source": [
    "valid_df[\"actual_target\"] = valid_df[\"actual\"].apply(make_class)\n",
    "valid_df[\"pred_target\"] = valid_df[\"pred\"].apply(make_class)"
   ]
  },
  {
   "cell_type": "code",
   "execution_count": 76,
   "metadata": {},
   "outputs": [
    {
     "data": {
      "text/html": [
       "<div>\n",
       "<style scoped>\n",
       "    .dataframe tbody tr th:only-of-type {\n",
       "        vertical-align: middle;\n",
       "    }\n",
       "\n",
       "    .dataframe tbody tr th {\n",
       "        vertical-align: top;\n",
       "    }\n",
       "\n",
       "    .dataframe thead th {\n",
       "        text-align: right;\n",
       "    }\n",
       "</style>\n",
       "<table border=\"1\" class=\"dataframe\">\n",
       "  <thead>\n",
       "    <tr style=\"text-align: right;\">\n",
       "      <th></th>\n",
       "      <th>actual</th>\n",
       "      <th>pred</th>\n",
       "      <th>loss</th>\n",
       "      <th>actual_target</th>\n",
       "      <th>pred_target</th>\n",
       "    </tr>\n",
       "  </thead>\n",
       "  <tbody>\n",
       "  </tbody>\n",
       "</table>\n",
       "</div>"
      ],
      "text/plain": [
       "Empty DataFrame\n",
       "Columns: [actual, pred, loss, actual_target, pred_target]\n",
       "Index: []"
      ]
     },
     "execution_count": 76,
     "metadata": {},
     "output_type": "execute_result"
    }
   ],
   "source": [
    "valid_df.query(\"pred < 0\")"
   ]
  },
  {
   "cell_type": "code",
   "execution_count": 93,
   "metadata": {},
   "outputs": [
    {
     "data": {
      "text/plain": [
       "pred_target\n",
       "4    1043029\n",
       "3         20\n",
       "2         14\n",
       "1          9\n",
       "Name: count, dtype: int64"
      ]
     },
     "execution_count": 93,
     "metadata": {},
     "output_type": "execute_result"
    }
   ],
   "source": [
    "valid_df.query(\"actual_target == 4\").value_counts(subset=\"pred_target\")"
   ]
  },
  {
   "cell_type": "code",
   "execution_count": 77,
   "metadata": {},
   "outputs": [
    {
     "data": {
      "text/plain": [
       "actual           0\n",
       "pred             0\n",
       "loss             0\n",
       "actual_target    0\n",
       "pred_target      0\n",
       "dtype: int64"
      ]
     },
     "execution_count": 77,
     "metadata": {},
     "output_type": "execute_result"
    }
   ],
   "source": [
    "valid_df.isna().sum()"
   ]
  },
  {
   "cell_type": "code",
   "execution_count": 83,
   "metadata": {},
   "outputs": [
    {
     "data": {
      "text/plain": [
       "actual_target\n",
       "4    1043072\n",
       "2       3215\n",
       "3       2996\n",
       "1       1917\n",
       "Name: count, dtype: int64"
      ]
     },
     "execution_count": 83,
     "metadata": {},
     "output_type": "execute_result"
    }
   ],
   "source": [
    "valid_df.value_counts(subset=\"actual_target\")"
   ]
  },
  {
   "cell_type": "code",
   "execution_count": 78,
   "metadata": {},
   "outputs": [],
   "source": [
    "def csi_score_class(pred, actual):\n",
    "    matrix = {i:{j:0 for j in range(1, 4+1)}for i in range(1, 4+1)}\n",
    "    df_matrix = pd.DataFrame(matrix)\n",
    "    # 길이가 같지 않으면 추론이 제대로 되지 않은 것이므로 에러 발생\n",
    "    if len(pred) != len(actual):\n",
    "        raise\n",
    "    \n",
    "    # 리스트로 들어온 pred와 actual을 순회하며 해당 class의 개수를 샘\n",
    "    # 행이 pred, 열이 actual\n",
    "    for i in range(len(pred)):\n",
    "        df_matrix[pred[i]][actual[i]] += 1\n",
    "    \n",
    "    # H, F, M 배분\n",
    "    H = df_matrix[1][1] + df_matrix[2][2] + df_matrix[3][3]\n",
    "    F = sum(df_matrix.iloc[:, :3]) - H\n",
    "    M = sum(df_matrix.iloc[:3, -1])\n",
    "    \n",
    "    return H / (H + F + M), df_matrix, (H, F, M)"
   ]
  },
  {
   "cell_type": "code",
   "execution_count": 79,
   "metadata": {},
   "outputs": [],
   "source": [
    "score, csi_df, _ = csi_score_class(valid_df[\"pred_target\"], valid_df[\"actual_target\"])"
   ]
  },
  {
   "cell_type": "code",
   "execution_count": 80,
   "metadata": {},
   "outputs": [
    {
     "data": {
      "text/plain": [
       "0.0"
      ]
     },
     "execution_count": 80,
     "metadata": {},
     "output_type": "execute_result"
    }
   ],
   "source": [
    "score"
   ]
  },
  {
   "cell_type": "code",
   "execution_count": 94,
   "metadata": {},
   "outputs": [
    {
     "data": {
      "text/html": [
       "<div>\n",
       "<style scoped>\n",
       "    .dataframe tbody tr th:only-of-type {\n",
       "        vertical-align: middle;\n",
       "    }\n",
       "\n",
       "    .dataframe tbody tr th {\n",
       "        vertical-align: top;\n",
       "    }\n",
       "\n",
       "    .dataframe thead th {\n",
       "        text-align: right;\n",
       "    }\n",
       "</style>\n",
       "<table border=\"1\" class=\"dataframe\">\n",
       "  <thead>\n",
       "    <tr style=\"text-align: right;\">\n",
       "      <th></th>\n",
       "      <th>1</th>\n",
       "      <th>2</th>\n",
       "      <th>3</th>\n",
       "      <th>4</th>\n",
       "    </tr>\n",
       "  </thead>\n",
       "  <tbody>\n",
       "    <tr>\n",
       "      <th>1</th>\n",
       "      <td>0</td>\n",
       "      <td>0</td>\n",
       "      <td>0</td>\n",
       "      <td>1917</td>\n",
       "    </tr>\n",
       "    <tr>\n",
       "      <th>2</th>\n",
       "      <td>0</td>\n",
       "      <td>0</td>\n",
       "      <td>0</td>\n",
       "      <td>3215</td>\n",
       "    </tr>\n",
       "    <tr>\n",
       "      <th>3</th>\n",
       "      <td>0</td>\n",
       "      <td>0</td>\n",
       "      <td>0</td>\n",
       "      <td>2996</td>\n",
       "    </tr>\n",
       "    <tr>\n",
       "      <th>4</th>\n",
       "      <td>9</td>\n",
       "      <td>14</td>\n",
       "      <td>20</td>\n",
       "      <td>1043029</td>\n",
       "    </tr>\n",
       "  </tbody>\n",
       "</table>\n",
       "</div>"
      ],
      "text/plain": [
       "   1   2   3        4\n",
       "1  0   0   0     1917\n",
       "2  0   0   0     3215\n",
       "3  0   0   0     2996\n",
       "4  9  14  20  1043029"
      ]
     },
     "execution_count": 94,
     "metadata": {},
     "output_type": "execute_result"
    }
   ],
   "source": [
    "# 행 index가 정답, 열 index가 예측\n",
    "# 정답이 4인데 1로 예측한 것이 9개, 정답이 4인데 2로 예측한 것이 14개, 정답이 4인데 3으로 예측한 것이 20개 => 다 틀림\n",
    "# 왜 이런 상황이 발생했을까? 1. Class imbalance 때문에?, \n",
    "csi_df"
   ]
  },
  {
   "cell_type": "code",
   "execution_count": 95,
   "metadata": {},
   "outputs": [
    {
     "data": {
      "text/plain": [
       "<Axes: ylabel='loss'>"
      ]
     },
     "execution_count": 95,
     "metadata": {},
     "output_type": "execute_result"
    },
    {
     "data": {
      "image/png": "[encoded data removed]",
      "text/plain": [
       "<Figure size 640x480 with 1 Axes>"
      ]
     },
     "metadata": {},
     "output_type": "display_data"
    }
   ],
   "source": [
    "sns.lineplot(valid_df[\"loss\"].astype(float))"
   ]
  },
  {
   "cell_type": "code",
   "execution_count": null,
   "metadata": {},
   "outputs": [],
   "source": []
  }
 ],
 "metadata": {
  "kernelspec": {
   "display_name": "anomaly",
   "language": "python",
   "name": "python3"
  },
  "language_info": {
   "codemirror_mode": {
    "name": "ipython",
    "version": 3
   },
   "file_extension": ".py",
   "mimetype": "text/x-python",
   "name": "python",
   "nbconvert_exporter": "python",
   "pygments_lexer": "ipython3",
   "version": "3.9.18"
  }
 },
 "nbformat": 4,
 "nbformat_minor": 2
}
